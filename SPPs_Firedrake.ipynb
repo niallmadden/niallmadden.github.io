{
 "cells": [
  {
   "cell_type": "markdown",
   "id": "46b14116",
   "metadata": {
    "toc": true
   },
   "source": [
    "<h1>Table of Contents<span class=\"tocSkip\"></span></h1>\n",
    "<div class=\"toc\"><ul class=\"toc-item\"><li><span><a href=\"#What-is-Firedrake?\" data-toc-modified-id=\"What-is-Firedrake?-1\"><span class=\"toc-item-num\">1&nbsp;&nbsp;</span>What is Firedrake?</a></span><ul class=\"toc-item\"><li><span><a href=\"#Background\" data-toc-modified-id=\"Background-1.1\"><span class=\"toc-item-num\">1.1&nbsp;&nbsp;</span>Background</a></span></li><li><span><a href=\"#Getting-started-on-Google's-colab\" data-toc-modified-id=\"Getting-started-on-Google's-colab-1.2\"><span class=\"toc-item-num\">1.2&nbsp;&nbsp;</span>Getting started on Google's colab</a></span></li></ul></li><li><span><a href=\"#A-one-dimensional-problem\" data-toc-modified-id=\"A-one-dimensional-problem-2\"><span class=\"toc-item-num\">2&nbsp;&nbsp;</span>A one-dimensional problem</a></span><ul class=\"toc-item\"><li><span><a href=\"#Problem-data\" data-toc-modified-id=\"Problem-data-2.1\"><span class=\"toc-item-num\">2.1&nbsp;&nbsp;</span>Problem data</a></span></li><li><span><a href=\"#Define-the-mesh\" data-toc-modified-id=\"Define-the-mesh-2.2\"><span class=\"toc-item-num\">2.2&nbsp;&nbsp;</span>Define the mesh</a></span></li><li><span><a href=\"#The-FEM-space\" data-toc-modified-id=\"The-FEM-space-2.3\"><span class=\"toc-item-num\">2.3&nbsp;&nbsp;</span>The FEM space</a></span></li><li><span><a href=\"#The-Weak-Form\" data-toc-modified-id=\"The-Weak-Form-2.4\"><span class=\"toc-item-num\">2.4&nbsp;&nbsp;</span>The Weak Form</a></span></li><li><span><a href=\"#Boundary-conditions\" data-toc-modified-id=\"Boundary-conditions-2.5\"><span class=\"toc-item-num\">2.5&nbsp;&nbsp;</span>Boundary conditions</a></span></li><li><span><a href=\"#Solve\" data-toc-modified-id=\"Solve-2.6\"><span class=\"toc-item-num\">2.6&nbsp;&nbsp;</span>Solve</a></span></li><li><span><a href=\"#Compute-errors\" data-toc-modified-id=\"Compute-errors-2.7\"><span class=\"toc-item-num\">2.7&nbsp;&nbsp;</span>Compute errors</a></span></li><li><span><a href=\"#Plot-solutions\" data-toc-modified-id=\"Plot-solutions-2.8\"><span class=\"toc-item-num\">2.8&nbsp;&nbsp;</span>Plot solutions</a></span></li></ul></li><li><span><a href=\"#A-fitted-mesh-in-1D\" data-toc-modified-id=\"A-fitted-mesh-in-1D-3\"><span class=\"toc-item-num\">3&nbsp;&nbsp;</span>A fitted mesh in 1D</a></span><ul class=\"toc-item\"><li><span><a href=\"#Solver-as-a-function\" data-toc-modified-id=\"Solver-as-a-function-3.1\"><span class=\"toc-item-num\">3.1&nbsp;&nbsp;</span>Solver as a function</a></span></li></ul></li><li><span><a href=\"#Other-things-Firedrake-can-and-cannot-do\" data-toc-modified-id=\"Other-things-Firedrake-can-and-cannot-do-4\"><span class=\"toc-item-num\">4&nbsp;&nbsp;</span>Other things Firedrake can and cannot do</a></span></li></ul></div>"
   ]
  },
  {
   "cell_type": "markdown",
   "id": "ff47678c",
   "metadata": {
    "slideshow": {
     "slide_type": "slide"
    }
   },
   "source": [
    "# A tutorial on solving singularly perturbed problems in Firedrake\n",
    "\n",
    "**21st Workshop on Numerical Methods for Problems with Layer Phenomena**\n",
    "   \n",
    "[Niall Madden](https://www.niallmadden.ie/) and Sean Tobin, April 2025\n",
    "\n",
    "You can access this notebook at:\n",
    "* Jupyter notebook: https://www.niallmadden.ie/SPPs_Firedrake.ipynb\n",
    "* HTML version: https://www.niallmadden.ie/SPPs_Firedrake.html"
   ]
  },
  {
   "cell_type": "markdown",
   "id": "04c10b1c",
   "metadata": {
    "slideshow": {
     "slide_type": "subslide"
    }
   },
   "source": [
    "In this session, we introduce how to solve one-dimensional and two-dimensional singularly perturbed differential equations (SPDEs) on $(0,1)^d$, $d=1,2$ in Firedrake.\n",
    "\n",
    "For a very basic introduction to **Firedrake**, see https://niallmadden.ie/IntroToFiredrake\n",
    "For more advanced topics, see https://www.firedrakeproject.org/documentation.html\n",
    "\n",
    "While this session will include the very fundamentals of using Firedrake for solving PDEs, there will be an emphasis on topics particular to SPDEs:\n",
    "* constructing layer-adapted meshes.\n",
    "* error estimation in various norms."
   ]
  },
  {
   "cell_type": "markdown",
   "id": "4b955393",
   "metadata": {
    "slideshow": {
     "slide_type": "subslide"
    }
   },
   "source": [
    "## What is Firedrake?\n",
    "\n",
    "According to the documentation: _Firedrake is an automated system for the solution of partial differential equations using the finite element method (FEM). Firedrake uses sophisticated code generation to provide mathematicians, scientists, and engineers with a very high productivity way to create sophisticated high performance simulations._\n",
    "\n",
    "Crucial:\n",
    "* You define a mesh, or use a standard mesh generator;\n",
    "* Define a elements, and a function space on that mesh;\n",
    "* **Express the weak form of a PDE**\n",
    "* Call a solver\n",
    "* Compute errors and/or visualise solutions.\n"
   ]
  },
  {
   "cell_type": "markdown",
   "id": "91331a42",
   "metadata": {
    "slideshow": {
     "slide_type": "subslide"
    }
   },
   "source": [
    "### Background\n",
    "\n",
    "Firedrake began in 2014 is as a \"reimagining\" of `FEniCS`. \n",
    "* It uses the FEniCS _Unified Form Language_ (UFL)  to express PDEs. \n",
    "\n",
    "* Boasts sophisticated, programmable solvers through \"_seamless_\" coupling with PETSc.\n",
    "\n",
    "* Triangular, quadrilateral, and tetrahedral unstructured meshes.\n",
    "\n",
    "* Vast array  of finite element spaces.\n",
    "\n",
    "Etc. \n",
    "\n",
    "(To the user, may seem a little closer the FEniCS than FEniCSx)."
   ]
  },
  {
   "cell_type": "markdown",
   "id": "a474dbff",
   "metadata": {
    "slideshow": {
     "slide_type": "subslide"
    }
   },
   "source": [
    "### Getting started on Google's colab\n",
    "\n",
    "For serious work, you should install Firedrake on your own system. That is not too hard to do: as of last month, there is a `pip install` approach.\n",
    "\n",
    "But to get started, we'll try Google colab: https://colab.google/\n",
    "\n",
    "Note the incantation needed to install Firedrake. Can take several minutes to run:"
   ]
  },
  {
   "cell_type": "code",
   "execution_count": 1,
   "id": "9cf89eda",
   "metadata": {},
   "outputs": [
    {
     "name": "stderr",
     "output_type": "stream",
     "text": [
      "firedrake:WARNING OMP_NUM_THREADS is not set or is set to a value greater than 1, we suggest setting OMP_NUM_THREADS=1 to improve performance\n"
     ]
    }
   ],
   "source": [
    "try:\n",
    "    from firedrake import *\n",
    "except ImportError:\n",
    "    !wget \"https://fem-on-colab.github.io/releases/firedrake-install-release-real.sh\" -O \"/tmp/firedrake-install.sh\" && bash \"/tmp/firedrake-install.sh\"\n",
    "    from firedrake import *"
   ]
  },
  {
   "cell_type": "markdown",
   "id": "769aef83",
   "metadata": {
    "slideshow": {
     "slide_type": "subslide"
    }
   },
   "source": [
    "We'll also use the `numpy` and `matplotlib` modules:"
   ]
  },
  {
   "cell_type": "code",
   "execution_count": 2,
   "id": "777ef1ab",
   "metadata": {},
   "outputs": [],
   "source": [
    "import numpy as np\n",
    "import matplotlib.pyplot as plt"
   ]
  },
  {
   "cell_type": "markdown",
   "id": "73903791",
   "metadata": {
    "slideshow": {
     "slide_type": "slide"
    }
   },
   "source": [
    "## A one-dimensional problem"
   ]
  },
  {
   "cell_type": "markdown",
   "id": "e325caa9",
   "metadata": {
    "slideshow": {
     "slide_type": "-"
    }
   },
   "source": [
    "The first problem we'll solve is this ODE: _find $u(x)$ such that_\n",
    "$$-\\varepsilon^2 u'' + r(x)u  = f(x) \\text{ on } (0,1), \\qquad\\text{ with } u(0)=u(1)=0.$$\n",
    "\n",
    "The weak $$\\varepsilon^2 (u',v') + (ru,v) = (f,v),$$\n",
    "where here $(u,v):=\\int_0^1 u(x)v(x) dx$, is the usual $L^2$ inner product.\n",
    "\n",
    "The specific example we'll consider will have $r(x) \\equiv 1$ and $f(x)=e^x$.\n",
    "\n",
    "We'll solve this problem using a stardard $P^1$ (continuous) Galerkin method.\n"
   ]
  },
  {
   "cell_type": "markdown",
   "id": "bb9ac524",
   "metadata": {
    "slideshow": {
     "slide_type": "subslide"
    }
   },
   "source": [
    "###  Problem data"
   ]
  },
  {
   "cell_type": "code",
   "execution_count": 15,
   "id": "b04162f8",
   "metadata": {},
   "outputs": [],
   "source": [
    "epsilon = Constant(0.1)\n",
    "r = Constant(\"1.0\")\n",
    "f = lambda x : exp(x)"
   ]
  },
  {
   "cell_type": "markdown",
   "id": "55f760f6",
   "metadata": {
    "slideshow": {
     "slide_type": "subslide"
    }
   },
   "source": [
    "### Define the mesh\n",
    "\n",
    "We'll use a uniform mesh with $N=16$ intervals."
   ]
  },
  {
   "cell_type": "code",
   "execution_count": 4,
   "id": "fc83b797",
   "metadata": {},
   "outputs": [],
   "source": [
    "N = 16 \n",
    "mesh1D = UnitIntervalMesh(N)"
   ]
  },
  {
   "cell_type": "markdown",
   "id": "acc5b172",
   "metadata": {
    "slideshow": {
     "slide_type": "-"
    }
   },
   "source": [
    "In higher dimensions, it can be a good idea to check the mesh properties:"
   ]
  },
  {
   "cell_type": "code",
   "execution_count": 5,
   "id": "5365c6c4",
   "metadata": {},
   "outputs": [
    {
     "name": "stdout",
     "output_type": "stream",
     "text": [
      "mesh1D has 17 vertices and 16 edges.\n"
     ]
    }
   ],
   "source": [
    "print(f\"mesh1D has {mesh1D.num_vertices()} vertices and {mesh1D.num_cells()} edges.\")"
   ]
  },
  {
   "cell_type": "markdown",
   "id": "bf7a859e",
   "metadata": {
    "slideshow": {
     "slide_type": "subslide"
    }
   },
   "source": [
    "### The FEM space\n",
    "\n",
    "We define a function space on our mesh. Basic syntax is \\\n",
    "`V = FunctionSpace( <name of mesh> , <element family>, <element degree>)`\n",
    "\n",
    "In the following example we'll use Continuous Galerkin (\"CG\" = \"Lagrange\") elements of degree 1.\n"
   ]
  },
  {
   "cell_type": "code",
   "execution_count": 6,
   "id": "2003e980",
   "metadata": {},
   "outputs": [],
   "source": [
    "V = FunctionSpace(mesh1D, \"CG\", 1)"
   ]
  },
  {
   "cell_type": "markdown",
   "id": "f31fc36b",
   "metadata": {
    "slideshow": {
     "slide_type": "subslide"
    }
   },
   "source": [
    "While eventually we want to solve the ODE on this space, we can also define functions on it. Here is the true solution. To do that we'll\n",
    "* extract the spatial coordinates, `x`, which has only one member: `x[0]`\n",
    "* express the solution in terms of that"
   ]
  },
  {
   "cell_type": "code",
   "execution_count": 7,
   "id": "82d91be2",
   "metadata": {},
   "outputs": [
    {
     "data": {
      "text/plain": [
       "Coefficient(WithGeometry(FunctionSpace(<firedrake.mesh.MeshTopology object at 0x7fe9a40ddf10>, FiniteElement('Lagrange', interval, 1), name=None), Mesh(VectorElement(FiniteElement('Lagrange', interval, 1), dim=1), 0)), 4)"
      ]
     },
     "execution_count": 7,
     "metadata": {},
     "output_type": "execute_result"
    }
   ],
   "source": [
    "u_true = Function(V)\n",
    "x = SpatialCoordinate(V)\n",
    "u_true.interpolate( exp(x[0])/(1-epsilon**2) + (exp((x[0]-1)/epsilon)*(exp(1.0)-exp(-1.0/epsilon)) + \\\n",
    "      exp(-x[0]/epsilon)*(1 - exp((epsilon-1)/epsilon)))/(1-epsilon**2)*(exp(-2/epsilon) -1) )"
   ]
  },
  {
   "cell_type": "code",
   "execution_count": 8,
   "id": "102c49a5",
   "metadata": {},
   "outputs": [
    {
     "data": {
      "text/plain": [
       "[<firedrake.pyplot.mpl._FiredrakeFunctionPath at 0x7fe92b8cb2d0>]"
      ]
     },
     "execution_count": 8,
     "metadata": {},
     "output_type": "execute_result"
    },
    {
     "data": {
      "image/png": "[encoded data removed]",
      "text/plain": [
       "<Figure size 640x480 with 1 Axes>"
      ]
     },
     "metadata": {},
     "output_type": "display_data"
    }
   ],
   "source": [
    "plot(u_true)"
   ]
  },
  {
   "cell_type": "markdown",
   "id": "84c1e7d4",
   "metadata": {
    "slideshow": {
     "slide_type": "slide"
    }
   },
   "source": [
    "### The Weak Form"
   ]
  },
  {
   "cell_type": "markdown",
   "id": "c2cee348",
   "metadata": {},
   "source": [
    "Define trial and test functions:"
   ]
  },
  {
   "cell_type": "code",
   "execution_count": 9,
   "id": "446899cc",
   "metadata": {},
   "outputs": [],
   "source": [
    "u = TrialFunction(V)\n",
    "v = TestFunction(V)"
   ]
  },
  {
   "cell_type": "markdown",
   "id": "87ac3e28",
   "metadata": {},
   "source": [
    "We now define the bilinear and linear forms\n",
    "$$ a(u,v) := \\varepsilon^2(u',v') + (ru,v) \n",
    "\\qquad and \\quad \n",
    "l(v) L= (f,v).\n",
    "$$\n",
    "Note that we can represent $u'(x)$ and $v'(x)$ as `u.dx(0)` and `v.dx(0)`, where here the index says we are differentiating with respect to the first (and only) dimension."
   ]
  },
  {
   "cell_type": "code",
   "execution_count": 10,
   "id": "761137f5",
   "metadata": {},
   "outputs": [],
   "source": [
    "a = (epsilon**2)*u.dx(0)*v.dx(0)*dx + r*u*v*dx\n",
    "l = f(x[0])*v*dx"
   ]
  },
  {
   "cell_type": "markdown",
   "id": "3667b129",
   "metadata": {
    "slideshow": {
     "slide_type": "subslide"
    }
   },
   "source": [
    "### Boundary conditions\n",
    "\n",
    "It is easy to impose any reasonable boundary conditions you can think of. Here we'll use set homogeneous Dirichlet: "
   ]
  },
  {
   "cell_type": "code",
   "execution_count": 11,
   "id": "a0aae0e3",
   "metadata": {},
   "outputs": [],
   "source": [
    "BCs = DirichletBC(V, 0.0, \"on_boundary\")"
   ]
  },
  {
   "cell_type": "markdown",
   "id": "e3a70ca7",
   "metadata": {
    "slideshow": {
     "slide_type": "subslide"
    }
   },
   "source": [
    "### Solve\n",
    "\n",
    "And we are ready to solve! Define a function to store the solution, and call the solver:"
   ]
  },
  {
   "cell_type": "code",
   "execution_count": 12,
   "id": "c4a05a6e",
   "metadata": {},
   "outputs": [
    {
     "data": {
      "text/plain": [
       "<matplotlib.legend.Legend at 0x7fe9295e6650>"
      ]
     },
     "execution_count": 12,
     "metadata": {},
     "output_type": "execute_result"
    },
    {
     "data": {
      "image/png": "[encoded data removed]",
      "text/plain": [
       "<Figure size 640x480 with 1 Axes>"
      ]
     },
     "metadata": {},
     "output_type": "display_data"
    }
   ],
   "source": [
    "uN = Function(V)\n",
    "solve(a == l, uN, bcs=BCs)\n",
    "plot(uN, label=\"$u^N$\")\n",
    "plt.legend()"
   ]
  },
  {
   "cell_type": "markdown",
   "id": "4f581bea",
   "metadata": {
    "slideshow": {
     "slide_type": "subslide"
    }
   },
   "source": [
    "### Compute errors\n",
    "\n",
    "We'll define a function $d(x)=u(x)-u^N(x)$ and compute the $L_2$, energy, and $\\max$ norms of that.\n",
    "* For $L_2$-type norms, apply the `dx` operator to form an integral, and then `assemble` that to evaluate.\n",
    "* For maximum pointwise error, choose a set of points (e.g., the mesh points) and evaluate `d` at those, using the `at` method. (There are other approaches)."
   ]
  },
  {
   "cell_type": "code",
   "execution_count": 13,
   "id": "224af739",
   "metadata": {},
   "outputs": [
    {
     "name": "stdout",
     "output_type": "stream",
     "text": [
      "Errors: L2= 1.181e-01, H1= 3.790e+00, Energy= 3.969e-01, Max= 5.608e-01\n"
     ]
    }
   ],
   "source": [
    "d = Function(V).interpolate(uN-u_true)\n",
    "\n",
    "L2_error = sqrt(assemble( d**2*dx)) # same as L2=\n",
    "H1_error = sqrt(assemble( d.dx(0)**2*dx))\n",
    "a_error  = sqrt( float(epsilon)*H1_error**2.0 + L2_error**2.0)\n",
    "\n",
    "xp = np.linspace(0,1,N+1) # points at which we compute errors\n",
    "max_pw_error = max(np.abs(d.at(xp)))\n",
    "\n",
    "print(f\"Errors: L2={L2_error : 8.3e}, H1={H1_error : 8.3e}, Energy={a_error : 8.3e}, Max={max_pw_error: 8.3e}\")"
   ]
  },
  {
   "cell_type": "markdown",
   "id": "1d5759cc",
   "metadata": {
    "slideshow": {
     "slide_type": "subslide"
    }
   },
   "source": [
    "### Plot solutions\n",
    "\n",
    "While we can plot solutions using the `plot()` function, which is an interface to `matplotlib`. But if you are familiar with `matplotlib` it might be better to use it directly:"
   ]
  },
  {
   "cell_type": "code",
   "execution_count": 14,
   "id": "62f2d2b1",
   "metadata": {},
   "outputs": [
    {
     "data": {
      "text/plain": [
       "<matplotlib.legend.Legend at 0x7fe929606c50>"
      ]
     },
     "execution_count": 14,
     "metadata": {},
     "output_type": "execute_result"
    },
    {
     "data": {
      "image/png": "[encoded data removed]",
      "text/plain": [
       "<Figure size 640x480 with 1 Axes>"
      ]
     },
     "metadata": {},
     "output_type": "display_data"
    }
   ],
   "source": [
    "x_vals = mesh1D.coordinates.dat.data[:]\n",
    "\n",
    "plot(u_true, label='$u(x)$') # true\n",
    "plt.plot(x_vals, uN.at(x_vals),'r--o', label='$u^N$')  # use for small N\n",
    "plt.xlabel(\"x\")\n",
    "plt.legend()"
   ]
  },
  {
   "cell_type": "markdown",
   "id": "6b4cab4d",
   "metadata": {
    "slideshow": {
     "slide_type": "slide"
    }
   },
   "source": [
    "## A fitted mesh in 1D\n",
    "\n",
    "We now what to compute solutions (and corresponding errors) on a fitted mesh. At this stage, it makes sense to wrap our solver in a function, so we can call it for different $\\varepsilon$ and meshes."
   ]
  },
  {
   "cell_type": "markdown",
   "id": "027c3861",
   "metadata": {
    "slideshow": {
     "slide_type": "subslide"
    }
   },
   "source": [
    "### Solver as a function"
   ]
  },
  {
   "cell_type": "code",
   "execution_count": 19,
   "id": "373950a6",
   "metadata": {},
   "outputs": [],
   "source": [
    "def Solve_1DRD(epsilon, my_mesh, my_degree):\n",
    "    V = FunctionSpace(my_mesh, \"CG\", my_degree)\n",
    "    x = SpatialCoordinate(V)\n",
    "    u = TrialFunction(V)\n",
    "    v = TestFunction(V)\n",
    "    a = (epsilon**2)*u.dx(0)*v.dx(0)*dx + r*u*v*dx\n",
    "    l = f(x[0])*v*dx\n",
    "    uN = Function(V)\n",
    "    BCs = DirichletBC(V, 0.0, \"on_boundary\")\n",
    "    solve(a == l, uN, bcs=BCs)\n",
    "    return(uN)"
   ]
  },
  {
   "cell_type": "markdown",
   "id": "d3b91831",
   "metadata": {
    "slideshow": {
     "slide_type": "subslide"
    }
   },
   "source": [
    "Let's check if that works"
   ]
  },
  {
   "cell_type": "code",
   "execution_count": 21,
   "id": "330af1b4",
   "metadata": {},
   "outputs": [
    {
     "data": {
      "text/plain": [
       "<matplotlib.legend.Legend at 0x7fe928203c10>"
      ]
     },
     "execution_count": 21,
     "metadata": {},
     "output_type": "execute_result"
    },
    {
     "data": {
      "image/png": "[encoded data removed]",
      "text/plain": [
       "<Figure size 640x480 with 1 Axes>"
      ]
     },
     "metadata": {},
     "output_type": "display_data"
    }
   ],
   "source": [
    "N = 16\n",
    "epsilon = 1.0e-2\n",
    "mesh1D = UnitIntervalMesh(N)\n",
    "uN = Solve_1DRD(epsilon, mesh1D, 1)\n",
    "x_vals = mesh1D.coordinates.dat.data[:]\n",
    "plot(u_true, label='$u(x)$') # true\n",
    "plt.plot(x_vals, uN.at(x_vals),'r--o', label='$u^N$')  # use for small N\n",
    "plt.legend()"
   ]
  },
  {
   "cell_type": "code",
   "execution_count": null,
   "id": "5e8718a1",
   "metadata": {},
   "outputs": [],
   "source": []
  },
  {
   "cell_type": "markdown",
   "id": "05c764fb",
   "metadata": {
    "slideshow": {
     "slide_type": "slide"
    }
   },
   "source": [
    "## Other things Firedrake can and cannot do\n",
    "\n",
    "1. Many other elements are implemented; see https://www.firedrakeproject.org/variational-problems.html#supported-finite-elements. These include elemenst on triangles, tets, quads, and hex elements. \n",
    "2. dG elements are implemented, but only on conforming meshes.\n",
    "3. The 'irksome' module adds support for RK-methods in time (and solver support).\n",
    "4. Geometric multigrid \n",
    "5. Visualisation is limited (just an interface to `matplotlib`: use of Paraview recommended).\n",
    "6. Nonlinear problems are represented in a natural way, but care is needed with solver options.\n"
   ]
  }
 ],
 "metadata": {
  "celltoolbar": "Slideshow",
  "kernelspec": {
   "display_name": "FD25i",
   "language": "python",
   "name": "fd25i"
  },
  "language_info": {
   "codemirror_mode": {
    "name": "ipython",
    "version": 3
   },
   "file_extension": ".py",
   "mimetype": "text/x-python",
   "name": "python",
   "nbconvert_exporter": "python",
   "pygments_lexer": "ipython3",
   "version": "3.11.6"
  },
  "toc": {
   "base_numbering": 1,
   "nav_menu": {},
   "number_sections": true,
   "sideBar": true,
   "skip_h1_title": true,
   "title_cell": "Table of Contents",
   "title_sidebar": "Contents",
   "toc_cell": true,
   "toc_position": {},
   "toc_section_display": true,
   "toc_window_display": false
  },
  "varInspector": {
   "cols": {
    "lenName": 16,
    "lenType": 16,
    "lenVar": 40
   },
   "kernels_config": {
    "python": {
     "delete_cmd_postfix": "",
     "delete_cmd_prefix": "del ",
     "library": "var_list.py",
     "varRefreshCmd": "print(var_dic_list())"
    },
    "r": {
     "delete_cmd_postfix": ") ",
     "delete_cmd_prefix": "rm(",
     "library": "var_list.r",
     "varRefreshCmd": "cat(var_dic_list()) "
    }
   },
   "types_to_exclude": [
    "module",
    "function",
    "builtin_function_or_method",
    "instance",
    "_Feature"
   ],
   "window_display": false
  }
 },
 "nbformat": 4,
 "nbformat_minor": 5
}
