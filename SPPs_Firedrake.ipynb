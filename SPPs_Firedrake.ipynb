{
 "cells": [
  {
   "cell_type": "markdown",
   "id": "46b14116",
   "metadata": {
    "toc": true
   },
   "source": [
    "<h1>Table of Contents<span class=\"tocSkip\"></span></h1>\n",
    "<div class=\"toc\"><ul class=\"toc-item\"><li><span><a href=\"#What-is-Firedrake?\" data-toc-modified-id=\"What-is-Firedrake?-1\"><span class=\"toc-item-num\">1&nbsp;&nbsp;</span>What is Firedrake?</a></span><ul class=\"toc-item\"><li><span><a href=\"#Background\" data-toc-modified-id=\"Background-1.1\"><span class=\"toc-item-num\">1.1&nbsp;&nbsp;</span>Background</a></span></li><li><span><a href=\"#Getting-started-on-Google's-colab\" data-toc-modified-id=\"Getting-started-on-Google's-colab-1.2\"><span class=\"toc-item-num\">1.2&nbsp;&nbsp;</span>Getting started on Google's colab</a></span></li></ul></li><li><span><a href=\"#A-one-dimensional-problem\" data-toc-modified-id=\"A-one-dimensional-problem-2\"><span class=\"toc-item-num\">2&nbsp;&nbsp;</span>A one-dimensional problem</a></span><ul class=\"toc-item\"><li><span><a href=\"#Problem-data\" data-toc-modified-id=\"Problem-data-2.1\"><span class=\"toc-item-num\">2.1&nbsp;&nbsp;</span>Problem data</a></span></li><li><span><a href=\"#Define-the-mesh\" data-toc-modified-id=\"Define-the-mesh-2.2\"><span class=\"toc-item-num\">2.2&nbsp;&nbsp;</span>Define the mesh</a></span></li><li><span><a href=\"#The-FEM-space\" data-toc-modified-id=\"The-FEM-space-2.3\"><span class=\"toc-item-num\">2.3&nbsp;&nbsp;</span>The FEM space</a></span></li><li><span><a href=\"#The-Weak-Form\" data-toc-modified-id=\"The-Weak-Form-2.4\"><span class=\"toc-item-num\">2.4&nbsp;&nbsp;</span>The Weak Form</a></span></li><li><span><a href=\"#Boundary-conditions\" data-toc-modified-id=\"Boundary-conditions-2.5\"><span class=\"toc-item-num\">2.5&nbsp;&nbsp;</span>Boundary conditions</a></span></li><li><span><a href=\"#Solve\" data-toc-modified-id=\"Solve-2.6\"><span class=\"toc-item-num\">2.6&nbsp;&nbsp;</span>Solve</a></span></li><li><span><a href=\"#Compute-errors\" data-toc-modified-id=\"Compute-errors-2.7\"><span class=\"toc-item-num\">2.7&nbsp;&nbsp;</span>Compute errors</a></span></li><li><span><a href=\"#Plot-solutions\" data-toc-modified-id=\"Plot-solutions-2.8\"><span class=\"toc-item-num\">2.8&nbsp;&nbsp;</span>Plot solutions</a></span></li></ul></li><li><span><a href=\"#A-fitted-mesh-in-1D\" data-toc-modified-id=\"A-fitted-mesh-in-1D-3\"><span class=\"toc-item-num\">3&nbsp;&nbsp;</span>A fitted mesh in 1D</a></span><ul class=\"toc-item\"><li><span><a href=\"#Solver-as-a-function\" data-toc-modified-id=\"Solver-as-a-function-3.1\"><span class=\"toc-item-num\">3.1&nbsp;&nbsp;</span>Solver as a function</a></span></li><li><span><a href=\"#A-1D-fitted-mesh\" data-toc-modified-id=\"A-1D-fitted-mesh-3.2\"><span class=\"toc-item-num\">3.2&nbsp;&nbsp;</span>A 1D fitted mesh</a></span></li></ul></li><li><span><a href=\"#Convergence-tables\" data-toc-modified-id=\"Convergence-tables-4\"><span class=\"toc-item-num\">4&nbsp;&nbsp;</span>Convergence tables</a></span></li><li><span><a href=\"#A-two-dimensional-problem\" data-toc-modified-id=\"A-two-dimensional-problem-5\"><span class=\"toc-item-num\">5&nbsp;&nbsp;</span>A two-dimensional problem</a></span></li><li><span><a href=\"#Other-things-Firedrake-can-and-cannot-do\" data-toc-modified-id=\"Other-things-Firedrake-can-and-cannot-do-6\"><span class=\"toc-item-num\">6&nbsp;&nbsp;</span>Other things Firedrake can and cannot do</a></span></li></ul></div>"
   ]
  },
  {
   "cell_type": "markdown",
   "id": "ff47678c",
   "metadata": {
    "slideshow": {
     "slide_type": "slide"
    }
   },
   "source": [
    "# A tutorial on solving singularly perturbed problems in Firedrake\n",
    "\n",
    "**21st Workshop on Numerical Methods for Problems with Layer Phenomena**\n",
    "   \n",
    "[Niall Madden](https://www.niallmadden.ie/) and Sean Tobin, April 2025\n",
    "\n",
    "You can access this notebook at:\n",
    "* Jupyter notebook: https://www.niallmadden.ie/SPPs_Firedrake.ipynb\n",
    "* HTML version: https://www.niallmadden.ie/SPPs_Firedrake.html"
   ]
  },
  {
   "cell_type": "markdown",
   "id": "04c10b1c",
   "metadata": {
    "slideshow": {
     "slide_type": "subslide"
    }
   },
   "source": [
    "In this session, we introduce how to solve one-dimensional and two-dimensional singularly perturbed differential equations (SPDEs) on $(0,1)^d$, $d=1,2$ in Firedrake.\n",
    "\n",
    "For a very basic introduction to **Firedrake**, see https://niallmadden.ie/IntroToFiredrake\n",
    "For more advanced topics, see https://www.firedrakeproject.org/documentation.html\n",
    "\n",
    "While this session will include the very fundamentals of using Firedrake for solving PDEs, there will be an emphasis on topics particular to SPDEs:\n",
    "* constructing layer-adapted meshes.\n",
    "* error estimation in various norms."
   ]
  },
  {
   "cell_type": "markdown",
   "id": "4b955393",
   "metadata": {
    "slideshow": {
     "slide_type": "subslide"
    }
   },
   "source": [
    "## What is Firedrake?\n",
    "\n",
    "According to the documentation: _Firedrake is an automated system for the solution of partial differential equations using the finite element method (FEM). Firedrake uses sophisticated code generation to provide mathematicians, scientists, and engineers with a very high productivity way to create sophisticated high performance simulations._\n",
    "\n",
    "Crucial:\n",
    "* You define a mesh, or use a standard mesh generator;\n",
    "* Define a elements, and a function space on that mesh;\n",
    "* **Express the weak form of a PDE**\n",
    "* Call a solver\n",
    "* Compute errors and/or visualise solutions.\n"
   ]
  },
  {
   "cell_type": "markdown",
   "id": "91331a42",
   "metadata": {
    "slideshow": {
     "slide_type": "subslide"
    }
   },
   "source": [
    "### Background\n",
    "\n",
    "Firedrake began in 2014 is as a \"reimagining\" of `FEniCS`. \n",
    "* It uses the FEniCS _Unified Form Language_ (UFL)  to express PDEs. \n",
    "\n",
    "* Boasts sophisticated, programmable solvers through \"_seamless_\" coupling with PETSc.\n",
    "\n",
    "* Triangular, quadrilateral, and tetrahedral unstructured meshes.\n",
    "\n",
    "* Vast array  of finite element spaces.\n",
    "\n",
    "Etc. \n",
    "\n",
    "(To the user, may seem a little closer the FEniCS than FEniCSx)."
   ]
  },
  {
   "cell_type": "markdown",
   "id": "a474dbff",
   "metadata": {
    "slideshow": {
     "slide_type": "subslide"
    }
   },
   "source": [
    "### Getting started on Google's colab\n",
    "\n",
    "For serious work, you should install Firedrake on your own system. That is not too hard to do: as of last month, there is a `pip install` approach.\n",
    "\n",
    "But to get started, we'll try Google colab: https://colab.google/\n",
    "\n",
    "Note the incantation needed to install Firedrake. Can take several minutes to run:"
   ]
  },
  {
   "cell_type": "code",
   "execution_count": 1,
   "id": "9cf89eda",
   "metadata": {},
   "outputs": [
    {
     "name": "stderr",
     "output_type": "stream",
     "text": [
      "firedrake:WARNING OMP_NUM_THREADS is not set or is set to a value greater than 1, we suggest setting OMP_NUM_THREADS=1 to improve performance\n"
     ]
    }
   ],
   "source": [
    "try:\n",
    "    from firedrake import *\n",
    "except ImportError:\n",
    "    !wget \"https://fem-on-colab.github.io/releases/firedrake-install-release-real.sh\" -O \"/tmp/firedrake-install.sh\" && bash \"/tmp/firedrake-install.sh\"\n",
    "    from firedrake import *"
   ]
  },
  {
   "cell_type": "markdown",
   "id": "769aef83",
   "metadata": {
    "slideshow": {
     "slide_type": "subslide"
    }
   },
   "source": [
    "We'll also use the `numpy`, `pandas`, and `matplotlib` modules:"
   ]
  },
  {
   "cell_type": "code",
   "execution_count": 49,
   "id": "777ef1ab",
   "metadata": {},
   "outputs": [],
   "source": [
    "import numpy as np\n",
    "import pandas as pd\n",
    "%matplotlib notebook \n",
    "import matplotlib.pyplot as plt"
   ]
  },
  {
   "cell_type": "markdown",
   "id": "73903791",
   "metadata": {
    "slideshow": {
     "slide_type": "slide"
    }
   },
   "source": [
    "## A one-dimensional problem"
   ]
  },
  {
   "cell_type": "markdown",
   "id": "e325caa9",
   "metadata": {
    "slideshow": {
     "slide_type": "-"
    }
   },
   "source": [
    "The first problem we'll solve is this ODE: _find $u(x)$ such that_\n",
    "$$-\\varepsilon^2 u'' + r(x)u  = f(x) \\text{ on } (0,1), \\qquad\\text{ with } u(0)=u(1)=0.$$\n",
    "\n",
    "The weak $$\\varepsilon^2 (u',v') + (ru,v) = (f,v),$$\n",
    "where here $(u,v):=\\int_0^1 u(x)v(x) dx$, is the usual $L^2$ inner product.\n",
    "\n",
    "The specific example we'll consider will have $r(x) \\equiv 1$ and $f(x)=e^x$.\n",
    "\n",
    "We'll solve this problem using a stardard $P^1$ (continuous) Galerkin method.\n"
   ]
  },
  {
   "cell_type": "markdown",
   "id": "bb9ac524",
   "metadata": {
    "slideshow": {
     "slide_type": "subslide"
    }
   },
   "source": [
    "###  Problem data\n",
    "I like to use `lambda` functions for defining functions"
   ]
  },
  {
   "cell_type": "code",
   "execution_count": 3,
   "id": "b04162f8",
   "metadata": {},
   "outputs": [],
   "source": [
    "epsilon = Constant(0.1)\n",
    "r = Constant(\"1.0\")\n",
    "f = lambda x : exp(x)\n",
    "u_e = lambda x : exp(x)/(1-epsilon**2) + (exp((x-1)/epsilon)*(exp(1.0)-exp(-1.0/epsilon)) + \\\n",
    "      exp(-x/epsilon)*(1 - exp((epsilon-1)/epsilon)))/(1-epsilon**2)*(exp(-2/epsilon) -1) "
   ]
  },
  {
   "cell_type": "markdown",
   "id": "55f760f6",
   "metadata": {
    "slideshow": {
     "slide_type": "subslide"
    }
   },
   "source": [
    "### Define the mesh\n",
    "\n",
    "We'll use a uniform mesh with $N=16$ intervals."
   ]
  },
  {
   "cell_type": "code",
   "execution_count": 4,
   "id": "fc83b797",
   "metadata": {},
   "outputs": [],
   "source": [
    "N = 16 \n",
    "mesh1D = UnitIntervalMesh(N)"
   ]
  },
  {
   "cell_type": "markdown",
   "id": "acc5b172",
   "metadata": {
    "slideshow": {
     "slide_type": "-"
    }
   },
   "source": [
    "In higher dimensions, it can be a good idea to check the mesh properties:"
   ]
  },
  {
   "cell_type": "code",
   "execution_count": 5,
   "id": "5365c6c4",
   "metadata": {},
   "outputs": [
    {
     "name": "stdout",
     "output_type": "stream",
     "text": [
      "mesh1D has 17 vertices and 16 edges.\n"
     ]
    }
   ],
   "source": [
    "print(f\"mesh1D has {mesh1D.num_vertices()} vertices and {mesh1D.num_cells()} edges.\")"
   ]
  },
  {
   "cell_type": "markdown",
   "id": "bf7a859e",
   "metadata": {
    "slideshow": {
     "slide_type": "subslide"
    }
   },
   "source": [
    "### The FEM space\n",
    "\n",
    "We define a function space on our mesh. Basic syntax is \\\n",
    "`V = FunctionSpace( <name of mesh> , <element family>, <element degree>)`\n",
    "\n",
    "In the following example we'll use Continuous Galerkin (\"CG\" = \"Lagrange\") elements of degree 1.\n"
   ]
  },
  {
   "cell_type": "code",
   "execution_count": 6,
   "id": "2003e980",
   "metadata": {},
   "outputs": [],
   "source": [
    "V = FunctionSpace(mesh1D, \"CG\", 1)"
   ]
  },
  {
   "cell_type": "markdown",
   "id": "f31fc36b",
   "metadata": {
    "slideshow": {
     "slide_type": "subslide"
    }
   },
   "source": [
    "While eventually we want to solve the ODE on this space, we can also define functions on it. Here is the true solution. To do that we'll\n",
    "* extract the spatial coordinates, `x`, which has only one member: `x[0]`\n",
    "* express the solution in terms of that. "
   ]
  },
  {
   "cell_type": "code",
   "execution_count": 7,
   "id": "82d91be2",
   "metadata": {},
   "outputs": [
    {
     "data": {
      "text/plain": [
       "[<firedrake.pyplot.mpl._FiredrakeFunctionPath at 0x7f4a3c7c3c50>]"
      ]
     },
     "execution_count": 7,
     "metadata": {},
     "output_type": "execute_result"
    },
    {
     "data": {
      "image/png": "[encoded data removed]",
      "text/plain": [
       "<Figure size 640x480 with 1 Axes>"
      ]
     },
     "metadata": {},
     "output_type": "display_data"
    }
   ],
   "source": [
    "u_true = Function(V)\n",
    "x = SpatialCoordinate(V)\n",
    "u_true.interpolate( u_e(x[0]) )\n",
    "plot(u_true)"
   ]
  },
  {
   "cell_type": "markdown",
   "id": "84c1e7d4",
   "metadata": {
    "slideshow": {
     "slide_type": "slide"
    }
   },
   "source": [
    "### The Weak Form"
   ]
  },
  {
   "cell_type": "markdown",
   "id": "c2cee348",
   "metadata": {},
   "source": [
    "Define trial and test functions:"
   ]
  },
  {
   "cell_type": "code",
   "execution_count": 8,
   "id": "446899cc",
   "metadata": {},
   "outputs": [],
   "source": [
    "u = TrialFunction(V)\n",
    "v = TestFunction(V)"
   ]
  },
  {
   "cell_type": "markdown",
   "id": "87ac3e28",
   "metadata": {},
   "source": [
    "We now define the bilinear and linear forms\n",
    "$$ a(u,v) := \\varepsilon^2(u',v') + (ru,v) \n",
    "\\qquad and \\quad \n",
    "l(v) L= (f,v).\n",
    "$$\n",
    "Note that we can represent $u'(x)$ and $v'(x)$ as `u.dx(0)` and `v.dx(0)`, where here the index says we are differentiating with respect to the first (and only) dimension."
   ]
  },
  {
   "cell_type": "code",
   "execution_count": 9,
   "id": "761137f5",
   "metadata": {},
   "outputs": [],
   "source": [
    "a = (epsilon**2)*u.dx(0)*v.dx(0)*dx + r*u*v*dx\n",
    "l = f(x[0])*v*dx"
   ]
  },
  {
   "cell_type": "markdown",
   "id": "3667b129",
   "metadata": {
    "slideshow": {
     "slide_type": "subslide"
    }
   },
   "source": [
    "### Boundary conditions\n",
    "\n",
    "It is easy to impose any reasonable boundary conditions you can think of. Here we'll use set homogeneous Dirichlet: "
   ]
  },
  {
   "cell_type": "code",
   "execution_count": 10,
   "id": "a0aae0e3",
   "metadata": {},
   "outputs": [],
   "source": [
    "BCs = DirichletBC(V, 0.0, \"on_boundary\")"
   ]
  },
  {
   "cell_type": "markdown",
   "id": "e3a70ca7",
   "metadata": {
    "slideshow": {
     "slide_type": "subslide"
    }
   },
   "source": [
    "### Solve\n",
    "\n",
    "And we are ready to solve! Define a function to store the solution, and call the solver:"
   ]
  },
  {
   "cell_type": "code",
   "execution_count": 11,
   "id": "c4a05a6e",
   "metadata": {},
   "outputs": [
    {
     "data": {
      "text/plain": [
       "<matplotlib.legend.Legend at 0x7f4a3c87bed0>"
      ]
     },
     "execution_count": 11,
     "metadata": {},
     "output_type": "execute_result"
    },
    {
     "data": {
      "image/png": "[encoded data removed]",
      "text/plain": [
       "<Figure size 640x480 with 1 Axes>"
      ]
     },
     "metadata": {},
     "output_type": "display_data"
    }
   ],
   "source": [
    "uN = Function(V)\n",
    "solve(a == l, uN, bcs=BCs)\n",
    "plot(uN, label=\"$u^N$\")\n",
    "plt.legend()"
   ]
  },
  {
   "cell_type": "markdown",
   "id": "4f581bea",
   "metadata": {
    "slideshow": {
     "slide_type": "subslide"
    }
   },
   "source": [
    "### Compute errors\n",
    "\n",
    "We'll define a function $d(x)=u(x)-u^N(x)$ and compute the $L_2$, energy, and $\\max$ norms of that.\n",
    "* For $L_2$-type norms, apply the `dx` operator to form an integral, and then `assemble` that to evaluate.\n",
    "* For maximum pointwise error, choose a set of points (e.g., the mesh points) and evaluate `d` at those, using the `at` method. (There are other approaches)."
   ]
  },
  {
   "cell_type": "code",
   "execution_count": 12,
   "id": "224af739",
   "metadata": {},
   "outputs": [
    {
     "name": "stdout",
     "output_type": "stream",
     "text": [
      "Errors: L2= 7.218e-03, H1= 7.047e-02, Energy= 2.342e-02, Max= 1.604e-02\n"
     ]
    }
   ],
   "source": [
    "d = Function(V).interpolate(uN-u_true)\n",
    "\n",
    "L2_error = sqrt(assemble( d**2*dx)) # same as L2=\n",
    "H1_error = sqrt(assemble( d.dx(0)**2*dx))\n",
    "a_error  = sqrt( float(epsilon)*H1_error**2.0 + L2_error**2.0)\n",
    "\n",
    "xp = np.linspace(0,1,N+1) # points at which we compute errors\n",
    "max_pw_error = max(np.abs(d.at(xp)))\n",
    "\n",
    "print(f\"Errors: L2={L2_error : 8.3e}, H1={H1_error : 8.3e}, Energy={a_error : 8.3e}, Max={max_pw_error: 8.3e}\")"
   ]
  },
  {
   "cell_type": "markdown",
   "id": "1d5759cc",
   "metadata": {
    "slideshow": {
     "slide_type": "subslide"
    }
   },
   "source": [
    "### Plot solutions\n",
    "\n",
    "While we can plot solutions using the `plot()` function, which is an interface to `matplotlib`. But if you are familiar with `matplotlib` it might be better to use it directly:"
   ]
  },
  {
   "cell_type": "code",
   "execution_count": 13,
   "id": "62f2d2b1",
   "metadata": {},
   "outputs": [
    {
     "data": {
      "text/plain": [
       "<matplotlib.legend.Legend at 0x7f4a3c03f190>"
      ]
     },
     "execution_count": 13,
     "metadata": {},
     "output_type": "execute_result"
    },
    {
     "data": {
      "image/png": "[encoded data removed]",
      "text/plain": [
       "<Figure size 640x480 with 1 Axes>"
      ]
     },
     "metadata": {},
     "output_type": "display_data"
    }
   ],
   "source": [
    "x_vals = mesh1D.coordinates.dat.data[:]\n",
    "\n",
    "plot(u_true, label='$u(x)$') # true\n",
    "plt.plot(x_vals, uN.at(x_vals),'r--o', label='$u^N$')  # use for small N\n",
    "plt.xlabel(\"x\")\n",
    "plt.legend()"
   ]
  },
  {
   "cell_type": "markdown",
   "id": "6b4cab4d",
   "metadata": {
    "slideshow": {
     "slide_type": "slide"
    }
   },
   "source": [
    "## A fitted mesh in 1D\n",
    "\n",
    "We now what to compute solutions (and corresponding errors) on a fitted mesh. At this stage, it makes sense to wrap our solver in a function, so we can call it for different $\\varepsilon$ and meshes."
   ]
  },
  {
   "cell_type": "markdown",
   "id": "027c3861",
   "metadata": {
    "slideshow": {
     "slide_type": "subslide"
    }
   },
   "source": [
    "### Solver as a function\n",
    "\n",
    "The function also returns the true solution for the provided `epsilon`"
   ]
  },
  {
   "cell_type": "code",
   "execution_count": 14,
   "id": "373950a6",
   "metadata": {},
   "outputs": [],
   "source": [
    "def Solve_1DRD(epsilon, my_mesh, my_degree):\n",
    "    V = FunctionSpace(my_mesh, \"CG\", my_degree)\n",
    "    x = SpatialCoordinate(V)\n",
    "    u_true = Function(V)\n",
    "    u_true.interpolate( u_e(x[0]) )\n",
    "    u = TrialFunction(V)\n",
    "    v = TestFunction(V)\n",
    "    a = (epsilon**2)*u.dx(0)*v.dx(0)*dx + r*u*v*dx\n",
    "    l = f(x[0])*v*dx\n",
    "    uN = Function(V)\n",
    "    BCs = DirichletBC(V, 0.0, \"on_boundary\")\n",
    "    solve(a == l, uN, bcs=BCs)\n",
    "    return(uN, u_true)"
   ]
  },
  {
   "cell_type": "markdown",
   "id": "d3b91831",
   "metadata": {
    "slideshow": {
     "slide_type": "subslide"
    }
   },
   "source": [
    "Let's check if that works"
   ]
  },
  {
   "cell_type": "code",
   "execution_count": 15,
   "id": "330af1b4",
   "metadata": {},
   "outputs": [
    {
     "data": {
      "text/plain": [
       "<matplotlib.legend.Legend at 0x7f4a3bf7bc90>"
      ]
     },
     "execution_count": 15,
     "metadata": {},
     "output_type": "execute_result"
    },
    {
     "data": {
      "image/png": "[encoded data removed]",
      "text/plain": [
       "<Figure size 640x480 with 1 Axes>"
      ]
     },
     "metadata": {},
     "output_type": "display_data"
    }
   ],
   "source": [
    "N = np.int32(16)\n",
    "epsilon = 1.0e-2\n",
    "mesh1D = UnitIntervalMesh(N)\n",
    "uN,uE = Solve_1DRD(epsilon, mesh1D, 1)\n",
    "x_vals = mesh1D.coordinates.dat.data[:]\n",
    "plot(uE, label='$u(x)$') # true\n",
    "plt.plot(x_vals, uN.at(x_vals),'r--o', label='$u^N$')  # use for small N\n",
    "plt.legend()"
   ]
  },
  {
   "cell_type": "markdown",
   "id": "ec4263c4",
   "metadata": {
    "slideshow": {
     "slide_type": "subslide"
    }
   },
   "source": [
    "### A 1D fitted mesh\n",
    "\n",
    "In this example we'll construct a simple mesh piecewise uniform (Shishkin) mesh, and solve on that. There are various ways to do this. In this example, we construct a uniform mesh, and then change the mesh values.\n",
    "\n",
    "First define the mesh point as a `numpy` array."
   ]
  },
  {
   "cell_type": "code",
   "execution_count": 16,
   "id": "de570ea6",
   "metadata": {},
   "outputs": [],
   "source": [
    "N=16\n",
    "p=2 # degree of the element\n",
    "tau = min( (p+1)*epsilon*np.log(float(N)), 0.25) # mesh transition point\n",
    "mesh1 = np.linspace(0.0, tau, int(N/4)+1) # left mesh; assuming N divisible by 4\n",
    "mesh2 = np.linspace(tau, 1-tau, int(N/2)+1) # interior\n",
    "mesh3 = np.linspace(1-tau, 1.0, int(N/4)+1) # right mesh\n",
    "\n",
    "Smesh_points = np.concatenate( (mesh1, mesh2[1:-1], mesh3) ) "
   ]
  },
  {
   "cell_type": "markdown",
   "id": "db588600",
   "metadata": {},
   "source": [
    "Now make a (Firedrake) mesh, and overwrite the mesh points"
   ]
  },
  {
   "cell_type": "code",
   "execution_count": 17,
   "id": "4ed6c01e",
   "metadata": {},
   "outputs": [],
   "source": [
    "Smesh1D= UnitIntervalMesh(N)\n",
    "Smesh1D.coordinates.dat.data[:]=Smesh_points"
   ]
  },
  {
   "cell_type": "markdown",
   "id": "850fab63",
   "metadata": {},
   "source": [
    "Let's test:"
   ]
  },
  {
   "cell_type": "code",
   "execution_count": 18,
   "id": "9bdd0944",
   "metadata": {},
   "outputs": [],
   "source": [
    "uN,uE = Solve_1DRD(epsilon, Smesh1D, p)"
   ]
  },
  {
   "cell_type": "code",
   "execution_count": 19,
   "id": "5fef8a62",
   "metadata": {},
   "outputs": [
    {
     "data": {
      "text/plain": [
       "<matplotlib.legend.Legend at 0x7f4a3bcd40d0>"
      ]
     },
     "execution_count": 19,
     "metadata": {},
     "output_type": "execute_result"
    },
    {
     "data": {
      "image/png": "[encoded data removed]",
      "text/plain": [
       "<Figure size 640x480 with 1 Axes>"
      ]
     },
     "metadata": {},
     "output_type": "display_data"
    }
   ],
   "source": [
    "plot(uE, label='$u(x)$') # true\n",
    "plt.plot(Smesh_points, uN.at(Smesh_points),'r--o', label='$u^N$')  # use for small N\n",
    "plt.legend()"
   ]
  },
  {
   "cell_type": "markdown",
   "id": "43219afa",
   "metadata": {
    "slideshow": {
     "slide_type": "subslide"
    }
   },
   "source": [
    "Of course, we'd like to check the errors. We'll define a function to do that:"
   ]
  },
  {
   "cell_type": "code",
   "execution_count": 20,
   "id": "f57b2e4e",
   "metadata": {},
   "outputs": [],
   "source": [
    "def ErrorNorms(u1, u2):\n",
    "    d = Function(V).interpolate(u1-u2)\n",
    "    L2 = sqrt(assemble( d**2*dx)) # same as L2=\n",
    "    H1 = sqrt(assemble( d.dx(0)**2*dx))\n",
    "    Energy  = sqrt( float(epsilon)*H1**2.0 + L2**2.0)\n",
    "    xp = np.linspace(0,1,N+1) # points at which we compute errors\n",
    "    Max = max(np.abs(d.at(xp)))\n",
    "    return (L2, H1, Energy, Max)"
   ]
  },
  {
   "cell_type": "code",
   "execution_count": 21,
   "id": "5553fab2",
   "metadata": {},
   "outputs": [
    {
     "name": "stdout",
     "output_type": "stream",
     "text": [
      "epsilon=1.00e-02, N=  16, Errors: L2=1.120e-04, H2=3.417e-03, Energy=3.596e-04, max=5.256e-04\n"
     ]
    }
   ],
   "source": [
    "L2, H1, Energy, Max = ErrorNorms(uN, uE)\n",
    "print(f\"epsilon={epsilon:0.2e}, N={N:4d}, Errors: L2={L2:.3e}, H2={H1:.3e}, Energy={Energy:.3e}, max={Max:.3e}\")"
   ]
  },
  {
   "cell_type": "markdown",
   "id": "034a3108",
   "metadata": {
    "slideshow": {
     "slide_type": "slide"
    }
   },
   "source": [
    "## Convergence tables"
   ]
  },
  {
   "cell_type": "code",
   "execution_count": 22,
   "id": "960f4e21",
   "metadata": {},
   "outputs": [],
   "source": [
    "def ShishkinMesh(epsilon, N, p):\n",
    "    tau = min( (p+1)*epsilon*np.log(float(N)), 0.25) # mesh transition point\n",
    "    mesh1 = np.linspace(0.0, tau, int(N/4)+1) # left mesh; assuming N divisible by 4\n",
    "    mesh2 = np.linspace(tau, 1-tau, int(N/2)+1) # interior\n",
    "    mesh3 = np.linspace(1-tau, 1.0, int(N/4)+1) # right mesh\n",
    "    Smesh_points = np.concatenate( (mesh1, mesh2[1:-1], mesh3) ) \n",
    "    mesh1d = UnitIntervalMesh(N)\n",
    "    mesh1d.coordinates.dat.data[:]=Smesh_points\n",
    "    return(mesh1d)"
   ]
  },
  {
   "cell_type": "code",
   "execution_count": 29,
   "id": "2551c62f",
   "metadata": {},
   "outputs": [],
   "source": [
    "p = 1\n",
    "Epsilons = 10.0**np.arange(-1,-7,-1)\n",
    "Ns = 2**np.arange(5,11)\n",
    "\n",
    "L2 = np.zeros( (len(Epsilons), len(Ns)) )\n",
    "Energy = np.zeros_like(L2)\n",
    "Max = np.zeros_like(L2)\n",
    "\n",
    "e=-1\n",
    "for epsilon in [1e-1, 1e-2, 1e-3, 1e-4, 1e-5, 1e-6]:\n",
    "    e+=1\n",
    "    n=-1\n",
    "    for N in Ns:\n",
    "        n+=1\n",
    "        Smesh1 = ShishkinMesh(epsilon, N, p)\n",
    "        uN, uE = Solve_1DRD(epsilon, Smesh1, p)\n",
    "        L2[e,n], H1, Energy[e,n], Max[e,n] = ErrorNorms(uN, uE)"
   ]
  },
  {
   "cell_type": "code",
   "execution_count": 25,
   "id": "c4741517",
   "metadata": {},
   "outputs": [],
   "source": [
    "pd.set_option('display.float_format', lambda x: '%10.2e' % x)"
   ]
  },
  {
   "cell_type": "code",
   "execution_count": 28,
   "id": "330ca46d",
   "metadata": {},
   "outputs": [
    {
     "name": "stdout",
     "output_type": "stream",
     "text": [
      "Maximum pointwise errors\n",
      "               32         64         128        256        512        1024\n",
      "1.00e-01   6.56e-06   4.11e-07   2.98e-08   1.13e-08   1.13e-08   1.13e-08\n",
      "1.00e-02   5.93e-05   8.65e-06   8.78e-07   1.02e-07   9.43e-09   9.66e-10\n",
      "1.00e-03   6.53e-06   1.62e-07   9.24e-10   2.46e-11   8.28e-13   4.17e-14\n",
      "1.00e-04   2.32e-06   1.35e-08   7.07e-10   4.38e-11   2.67e-12   1.64e-13\n",
      "1.00e-05   1.19e-06   1.68e-08   1.00e-09   6.27e-11   3.43e-12   1.74e-13\n",
      "1.00e-06   1.07e-06   1.79e-08   1.04e-09   6.87e-11   4.24e-12   2.57e-13\n"
     ]
    }
   ],
   "source": [
    "table = pd.DataFrame(Max, index=Epsilons, columns=Ns)\n",
    "print('Maximum pointwise errors')\n",
    "print(table)"
   ]
  },
  {
   "cell_type": "markdown",
   "id": "aaa7b881",
   "metadata": {},
   "source": [
    "## A two-dimensional problem\n",
    "\n",
    "We'll finish with the two-dimensional problem:  _find $u=u(x,y)$ such that_\n",
    "$$-\\varepsilon^2 \\Delta u + r(x,y)u  = f(x,y) \\text{ on } (0,1)^2,$$\n",
    "with homogeneous Dirichlet boundary conditions.\n",
    "\n",
    "The specific example we'll consider will have $r(x,y) = \\sqrt{1+x+y}$ \n",
    "and $f(x,y)=e^{x-y}$.\n",
    "\n",
    "We'll solve with quadrilateral elements, on an $N \\times N$ tensor product (Shishkin) mesh."
   ]
  },
  {
   "cell_type": "code",
   "execution_count": 59,
   "id": "a7b03ddf",
   "metadata": {},
   "outputs": [],
   "source": [
    "N = 32\n",
    "p = 1 # degree of the element\n",
    "\n",
    "tau = min( (p+1)*epsilon*np.log(float(N)), 0.25) # mesh transition point\n",
    "mesh1 = np.linspace(0.0, tau, int(N/4)+1) # left mesh; assuming N divisible by 4\n",
    "mesh2 = np.linspace(tau, 1-tau, int(N/2)+1) # interior\n",
    "mesh3 = np.linspace(1-tau, 1.0, int(N/4)+1) # right mesh\n",
    "xp = np.concatenate( (mesh1, mesh2[1:-1], mesh3) )\n",
    "yp = xp\n",
    "\n",
    "mesh2D = TensorRectangleMesh(xp, yp, quadrilateral=True)"
   ]
  },
  {
   "cell_type": "code",
   "execution_count": 46,
   "id": "bfdf66f5",
   "metadata": {},
   "outputs": [],
   "source": [
    "V = FunctionSpace(mesh2D, \"CG\", p)\n",
    "x,y = SpatialCoordinate(V)\n",
    "u = TrialFunction(V)\n",
    "v = TestFunction(V)\n",
    "\n",
    "a = (epsilon**2)*inner(grad(u), grad(v))*dx + inner(sqrt(1+x+y)*u,v)*dx\n",
    "l = exp(x+y)*v*dx\n",
    "uN = Function(V)\n",
    "BCs = DirichletBC(V, 0.0, \"on_boundary\")\n",
    "solve(a == l, uN, bcs=BCs)"
   ]
  },
  {
   "cell_type": "code",
   "execution_count": 47,
   "id": "c08caa82",
   "metadata": {},
   "outputs": [
    {
     "data": {
      "image/png": "[encoded data removed]",
      "text/plain": [
       "<Figure size 640x480 with 1 Axes>"
      ]
     },
     "metadata": {},
     "output_type": "display_data"
    }
   ],
   "source": [
    "fig = plt.figure()\n",
    "axes = fig.add_subplot(projection='3d')\n",
    "trisurf(uN, axes=axes);"
   ]
  },
  {
   "cell_type": "code",
   "execution_count": 68,
   "id": "b31f64f4",
   "metadata": {},
   "outputs": [
    {
     "data": {
      "text/plain": [
       "(33, 33)"
      ]
     },
     "execution_count": 68,
     "metadata": {},
     "output_type": "execute_result"
    }
   ],
   "source": [
    "uN_vals.shape"
   ]
  },
  {
   "cell_type": "code",
   "execution_count": 64,
   "id": "9de93c0e",
   "metadata": {},
   "outputs": [],
   "source": [
    "uN_vals = np.zeros( (N+1,N+1))\n",
    "for i in range(len(xp)):\n",
    "    for j in range(len(yp)):\n",
    "        uN_vals[i,j] = uN.at(xp[i],yp[j])"
   ]
  },
  {
   "cell_type": "code",
   "execution_count": 71,
   "id": "e11d6dcb",
   "metadata": {},
   "outputs": [
    {
     "data": {
      "application/javascript": [
       "/* Put everything inside the global mpl namespace */\n",
       "/* global mpl */\n",
       "window.mpl = {};\n",
       "\n",
       "mpl.get_websocket_type = function () {\n",
       "    if (typeof WebSocket !== 'undefined') {\n",
       "        return WebSocket;\n",
       "    } else if (typeof MozWebSocket !== 'undefined') {\n",
       "        return MozWebSocket;\n",
       "    } else {\n",
       "        alert(\n",
       "            'Your browser does not have WebSocket support. ' +\n",
       "                'Please try Chrome, Safari or Firefox ≥ 6. ' +\n",
       "                'Firefox 4 and 5 are also supported but you ' +\n",
       "                'have to enable WebSockets in about:config.'\n",
       "        );\n",
       "    }\n",
       "};\n",
       "\n",
       "mpl.figure = function (figure_id, websocket, ondownload, parent_element) {\n",
       "    this.id = figure_id;\n",
       "\n",
       "    this.ws = websocket;\n",
       "\n",
       "    this.supports_binary = this.ws.binaryType !== undefined;\n",
       "\n",
       "    if (!this.supports_binary) {\n",
       "        var warnings = document.getElementById('mpl-warnings');\n",
       "        if (warnings) {\n",
       "            warnings.style.display = 'block';\n",
       "            warnings.textContent =\n",
       "                'This browser does not support binary websocket messages. ' +\n",
       "                'Performance may be slow.';\n",
       "        }\n",
       "    }\n",
       "\n",
       "    this.imageObj = new Image();\n",
       "\n",
       "    this.context = undefined;\n",
       "    this.message = undefined;\n",
       "    this.canvas = undefined;\n",
       "    this.rubberband_canvas = undefined;\n",
       "    this.rubberband_context = undefined;\n",
       "    this.format_dropdown = undefined;\n",
       "\n",
       "    this.image_mode = 'full';\n",
       "\n",
       "    this.root = document.createElement('div');\n",
       "    this.root.setAttribute('style', 'display: inline-block');\n",
       "    this._root_extra_style(this.root);\n",
       "\n",
       "    parent_element.appendChild(this.root);\n",
       "\n",
       "    this._init_header(this);\n",
       "    this._init_canvas(this);\n",
       "    this._init_toolbar(this);\n",
       "\n",
       "    var fig = this;\n",
       "\n",
       "    this.waiting = false;\n",
       "\n",
       "    this.ws.onopen = function () {\n",
       "        fig.send_message('supports_binary', { value: fig.supports_binary });\n",
       "        fig.send_message('send_image_mode', {});\n",
       "        if (fig.ratio !== 1) {\n",
       "            fig.send_message('set_device_pixel_ratio', {\n",
       "                device_pixel_ratio: fig.ratio,\n",
       "            });\n",
       "        }\n",
       "        fig.send_message('refresh', {});\n",
       "    };\n",
       "\n",
       "    this.imageObj.onload = function () {\n",
       "        if (fig.image_mode === 'full') {\n",
       "            // Full images could contain transparency (where diff images\n",
       "            // almost always do), so we need to clear the canvas so that\n",
       "            // there is no ghosting.\n",
       "            fig.context.clearRect(0, 0, fig.canvas.width, fig.canvas.height);\n",
       "        }\n",
       "        fig.context.drawImage(fig.imageObj, 0, 0);\n",
       "    };\n",
       "\n",
       "    this.imageObj.onunload = function () {\n",
       "        fig.ws.close();\n",
       "    };\n",
       "\n",
       "    this.ws.onmessage = this._make_on_message_function(this);\n",
       "\n",
       "    this.ondownload = ondownload;\n",
       "};\n",
       "\n",
       "mpl.figure.prototype._init_header = function () {\n",
       "    var titlebar = document.createElement('div');\n",
       "    titlebar.classList =\n",
       "        'ui-dialog-titlebar ui-widget-header ui-corner-all ui-helper-clearfix';\n",
       "    var titletext = document.createElement('div');\n",
       "    titletext.classList = 'ui-dialog-title';\n",
       "    titletext.setAttribute(\n",
       "        'style',\n",
       "        'width: 100%; text-align: center; padding: 3px;'\n",
       "    );\n",
       "    titlebar.appendChild(titletext);\n",
       "    this.root.appendChild(titlebar);\n",
       "    this.header = titletext;\n",
       "};\n",
       "\n",
       "mpl.figure.prototype._canvas_extra_style = function (_canvas_div) {};\n",
       "\n",
       "mpl.figure.prototype._root_extra_style = function (_canvas_div) {};\n",
       "\n",
       "mpl.figure.prototype._init_canvas = function () {\n",
       "    var fig = this;\n",
       "\n",
       "    var canvas_div = (this.canvas_div = document.createElement('div'));\n",
       "    canvas_div.setAttribute('tabindex', '0');\n",
       "    canvas_div.setAttribute(\n",
       "        'style',\n",
       "        'border: 1px solid #ddd;' +\n",
       "            'box-sizing: content-box;' +\n",
       "            'clear: both;' +\n",
       "            'min-height: 1px;' +\n",
       "            'min-width: 1px;' +\n",
       "            'outline: 0;' +\n",
       "            'overflow: hidden;' +\n",
       "            'position: relative;' +\n",
       "            'resize: both;' +\n",
       "            'z-index: 2;'\n",
       "    );\n",
       "\n",
       "    function on_keyboard_event_closure(name) {\n",
       "        return function (event) {\n",
       "            return fig.key_event(event, name);\n",
       "        };\n",
       "    }\n",
       "\n",
       "    canvas_div.addEventListener(\n",
       "        'keydown',\n",
       "        on_keyboard_event_closure('key_press')\n",
       "    );\n",
       "    canvas_div.addEventListener(\n",
       "        'keyup',\n",
       "        on_keyboard_event_closure('key_release')\n",
       "    );\n",
       "\n",
       "    this._canvas_extra_style(canvas_div);\n",
       "    this.root.appendChild(canvas_div);\n",
       "\n",
       "    var canvas = (this.canvas = document.createElement('canvas'));\n",
       "    canvas.classList.add('mpl-canvas');\n",
       "    canvas.setAttribute(\n",
       "        'style',\n",
       "        'box-sizing: content-box;' +\n",
       "            'pointer-events: none;' +\n",
       "            'position: relative;' +\n",
       "            'z-index: 0;'\n",
       "    );\n",
       "\n",
       "    this.context = canvas.getContext('2d');\n",
       "\n",
       "    var backingStore =\n",
       "        this.context.backingStorePixelRatio ||\n",
       "        this.context.webkitBackingStorePixelRatio ||\n",
       "        this.context.mozBackingStorePixelRatio ||\n",
       "        this.context.msBackingStorePixelRatio ||\n",
       "        this.context.oBackingStorePixelRatio ||\n",
       "        this.context.backingStorePixelRatio ||\n",
       "        1;\n",
       "\n",
       "    this.ratio = (window.devicePixelRatio || 1) / backingStore;\n",
       "\n",
       "    var rubberband_canvas = (this.rubberband_canvas = document.createElement(\n",
       "        'canvas'\n",
       "    ));\n",
       "    rubberband_canvas.setAttribute(\n",
       "        'style',\n",
       "        'box-sizing: content-box;' +\n",
       "            'left: 0;' +\n",
       "            'pointer-events: none;' +\n",
       "            'position: absolute;' +\n",
       "            'top: 0;' +\n",
       "            'z-index: 1;'\n",
       "    );\n",
       "\n",
       "    // Apply a ponyfill if ResizeObserver is not implemented by browser.\n",
       "    if (this.ResizeObserver === undefined) {\n",
       "        if (window.ResizeObserver !== undefined) {\n",
       "            this.ResizeObserver = window.ResizeObserver;\n",
       "        } else {\n",
       "            var obs = _JSXTOOLS_RESIZE_OBSERVER({});\n",
       "            this.ResizeObserver = obs.ResizeObserver;\n",
       "        }\n",
       "    }\n",
       "\n",
       "    this.resizeObserverInstance = new this.ResizeObserver(function (entries) {\n",
       "        // There's no need to resize if the WebSocket is not connected:\n",
       "        // - If it is still connecting, then we will get an initial resize from\n",
       "        //   Python once it connects.\n",
       "        // - If it has disconnected, then resizing will clear the canvas and\n",
       "        //   never get anything back to refill it, so better to not resize and\n",
       "        //   keep something visible.\n",
       "        if (fig.ws.readyState != 1) {\n",
       "            return;\n",
       "        }\n",
       "        var nentries = entries.length;\n",
       "        for (var i = 0; i < nentries; i++) {\n",
       "            var entry = entries[i];\n",
       "            var width, height;\n",
       "            if (entry.contentBoxSize) {\n",
       "                if (entry.contentBoxSize instanceof Array) {\n",
       "                    // Chrome 84 implements new version of spec.\n",
       "                    width = entry.contentBoxSize[0].inlineSize;\n",
       "                    height = entry.contentBoxSize[0].blockSize;\n",
       "                } else {\n",
       "                    // Firefox implements old version of spec.\n",
       "                    width = entry.contentBoxSize.inlineSize;\n",
       "                    height = entry.contentBoxSize.blockSize;\n",
       "                }\n",
       "            } else {\n",
       "                // Chrome <84 implements even older version of spec.\n",
       "                width = entry.contentRect.width;\n",
       "                height = entry.contentRect.height;\n",
       "            }\n",
       "\n",
       "            // Keep the size of the canvas and rubber band canvas in sync with\n",
       "            // the canvas container.\n",
       "            if (entry.devicePixelContentBoxSize) {\n",
       "                // Chrome 84 implements new version of spec.\n",
       "                canvas.setAttribute(\n",
       "                    'width',\n",
       "                    entry.devicePixelContentBoxSize[0].inlineSize\n",
       "                );\n",
       "                canvas.setAttribute(\n",
       "                    'height',\n",
       "                    entry.devicePixelContentBoxSize[0].blockSize\n",
       "                );\n",
       "            } else {\n",
       "                canvas.setAttribute('width', width * fig.ratio);\n",
       "                canvas.setAttribute('height', height * fig.ratio);\n",
       "            }\n",
       "            /* This rescales the canvas back to display pixels, so that it\n",
       "             * appears correct on HiDPI screens. */\n",
       "            canvas.style.width = width + 'px';\n",
       "            canvas.style.height = height + 'px';\n",
       "\n",
       "            rubberband_canvas.setAttribute('width', width);\n",
       "            rubberband_canvas.setAttribute('height', height);\n",
       "\n",
       "            // And update the size in Python. We ignore the initial 0/0 size\n",
       "            // that occurs as the element is placed into the DOM, which should\n",
       "            // otherwise not happen due to the minimum size styling.\n",
       "            if (width != 0 && height != 0) {\n",
       "                fig.request_resize(width, height);\n",
       "            }\n",
       "        }\n",
       "    });\n",
       "    this.resizeObserverInstance.observe(canvas_div);\n",
       "\n",
       "    function on_mouse_event_closure(name) {\n",
       "        /* User Agent sniffing is bad, but WebKit is busted:\n",
       "         * https://bugs.webkit.org/show_bug.cgi?id=144526\n",
       "         * https://bugs.webkit.org/show_bug.cgi?id=181818\n",
       "         * The worst that happens here is that they get an extra browser\n",
       "         * selection when dragging, if this check fails to catch them.\n",
       "         */\n",
       "        var UA = navigator.userAgent;\n",
       "        var isWebKit = /AppleWebKit/.test(UA) && !/Chrome/.test(UA);\n",
       "        if(isWebKit) {\n",
       "            return function (event) {\n",
       "                /* This prevents the web browser from automatically changing to\n",
       "                 * the text insertion cursor when the button is pressed. We\n",
       "                 * want to control all of the cursor setting manually through\n",
       "                 * the 'cursor' event from matplotlib */\n",
       "                event.preventDefault()\n",
       "                return fig.mouse_event(event, name);\n",
       "            };\n",
       "        } else {\n",
       "            return function (event) {\n",
       "                return fig.mouse_event(event, name);\n",
       "            };\n",
       "        }\n",
       "    }\n",
       "\n",
       "    canvas_div.addEventListener(\n",
       "        'mousedown',\n",
       "        on_mouse_event_closure('button_press')\n",
       "    );\n",
       "    canvas_div.addEventListener(\n",
       "        'mouseup',\n",
       "        on_mouse_event_closure('button_release')\n",
       "    );\n",
       "    canvas_div.addEventListener(\n",
       "        'dblclick',\n",
       "        on_mouse_event_closure('dblclick')\n",
       "    );\n",
       "    // Throttle sequential mouse events to 1 every 20ms.\n",
       "    canvas_div.addEventListener(\n",
       "        'mousemove',\n",
       "        on_mouse_event_closure('motion_notify')\n",
       "    );\n",
       "\n",
       "    canvas_div.addEventListener(\n",
       "        'mouseenter',\n",
       "        on_mouse_event_closure('figure_enter')\n",
       "    );\n",
       "    canvas_div.addEventListener(\n",
       "        'mouseleave',\n",
       "        on_mouse_event_closure('figure_leave')\n",
       "    );\n",
       "\n",
       "    canvas_div.addEventListener('wheel', function (event) {\n",
       "        if (event.deltaY < 0) {\n",
       "            event.step = 1;\n",
       "        } else {\n",
       "            event.step = -1;\n",
       "        }\n",
       "        on_mouse_event_closure('scroll')(event);\n",
       "    });\n",
       "\n",
       "    canvas_div.appendChild(canvas);\n",
       "    canvas_div.appendChild(rubberband_canvas);\n",
       "\n",
       "    this.rubberband_context = rubberband_canvas.getContext('2d');\n",
       "    this.rubberband_context.strokeStyle = '#000000';\n",
       "\n",
       "    this._resize_canvas = function (width, height, forward) {\n",
       "        if (forward) {\n",
       "            canvas_div.style.width = width + 'px';\n",
       "            canvas_div.style.height = height + 'px';\n",
       "        }\n",
       "    };\n",
       "\n",
       "    // Disable right mouse context menu.\n",
       "    canvas_div.addEventListener('contextmenu', function (_e) {\n",
       "        event.preventDefault();\n",
       "        return false;\n",
       "    });\n",
       "\n",
       "    function set_focus() {\n",
       "        canvas.focus();\n",
       "        canvas_div.focus();\n",
       "    }\n",
       "\n",
       "    window.setTimeout(set_focus, 100);\n",
       "};\n",
       "\n",
       "mpl.figure.prototype._init_toolbar = function () {\n",
       "    var fig = this;\n",
       "\n",
       "    var toolbar = document.createElement('div');\n",
       "    toolbar.classList = 'mpl-toolbar';\n",
       "    this.root.appendChild(toolbar);\n",
       "\n",
       "    function on_click_closure(name) {\n",
       "        return function (_event) {\n",
       "            return fig.toolbar_button_onclick(name);\n",
       "        };\n",
       "    }\n",
       "\n",
       "    function on_mouseover_closure(tooltip) {\n",
       "        return function (event) {\n",
       "            if (!event.currentTarget.disabled) {\n",
       "                return fig.toolbar_button_onmouseover(tooltip);\n",
       "            }\n",
       "        };\n",
       "    }\n",
       "\n",
       "    fig.buttons = {};\n",
       "    var buttonGroup = document.createElement('div');\n",
       "    buttonGroup.classList = 'mpl-button-group';\n",
       "    for (var toolbar_ind in mpl.toolbar_items) {\n",
       "        var name = mpl.toolbar_items[toolbar_ind][0];\n",
       "        var tooltip = mpl.toolbar_items[toolbar_ind][1];\n",
       "        var image = mpl.toolbar_items[toolbar_ind][2];\n",
       "        var method_name = mpl.toolbar_items[toolbar_ind][3];\n",
       "\n",
       "        if (!name) {\n",
       "            /* Instead of a spacer, we start a new button group. */\n",
       "            if (buttonGroup.hasChildNodes()) {\n",
       "                toolbar.appendChild(buttonGroup);\n",
       "            }\n",
       "            buttonGroup = document.createElement('div');\n",
       "            buttonGroup.classList = 'mpl-button-group';\n",
       "            continue;\n",
       "        }\n",
       "\n",
       "        var button = (fig.buttons[name] = document.createElement('button'));\n",
       "        button.classList = 'mpl-widget';\n",
       "        button.setAttribute('role', 'button');\n",
       "        button.setAttribute('aria-disabled', 'false');\n",
       "        button.addEventListener('click', on_click_closure(method_name));\n",
       "        button.addEventListener('mouseover', on_mouseover_closure(tooltip));\n",
       "\n",
       "        var icon_img = document.createElement('img');\n",
       "        icon_img.src = '_images/' + image + '.png';\n",
       "        icon_img.srcset = '_images/' + image + '_large.png 2x';\n",
       "        icon_img.alt = tooltip;\n",
       "        button.appendChild(icon_img);\n",
       "\n",
       "        buttonGroup.appendChild(button);\n",
       "    }\n",
       "\n",
       "    if (buttonGroup.hasChildNodes()) {\n",
       "        toolbar.appendChild(buttonGroup);\n",
       "    }\n",
       "\n",
       "    var fmt_picker = document.createElement('select');\n",
       "    fmt_picker.classList = 'mpl-widget';\n",
       "    toolbar.appendChild(fmt_picker);\n",
       "    this.format_dropdown = fmt_picker;\n",
       "\n",
       "    for (var ind in mpl.extensions) {\n",
       "        var fmt = mpl.extensions[ind];\n",
       "        var option = document.createElement('option');\n",
       "        option.selected = fmt === mpl.default_extension;\n",
       "        option.innerHTML = fmt;\n",
       "        fmt_picker.appendChild(option);\n",
       "    }\n",
       "\n",
       "    var status_bar = document.createElement('span');\n",
       "    status_bar.classList = 'mpl-message';\n",
       "    toolbar.appendChild(status_bar);\n",
       "    this.message = status_bar;\n",
       "};\n",
       "\n",
       "mpl.figure.prototype.request_resize = function (x_pixels, y_pixels) {\n",
       "    // Request matplotlib to resize the figure. Matplotlib will then trigger a resize in the client,\n",
       "    // which will in turn request a refresh of the image.\n",
       "    this.send_message('resize', { width: x_pixels, height: y_pixels });\n",
       "};\n",
       "\n",
       "mpl.figure.prototype.send_message = function (type, properties) {\n",
       "    properties['type'] = type;\n",
       "    properties['figure_id'] = this.id;\n",
       "    this.ws.send(JSON.stringify(properties));\n",
       "};\n",
       "\n",
       "mpl.figure.prototype.send_draw_message = function () {\n",
       "    if (!this.waiting) {\n",
       "        this.waiting = true;\n",
       "        this.ws.send(JSON.stringify({ type: 'draw', figure_id: this.id }));\n",
       "    }\n",
       "};\n",
       "\n",
       "mpl.figure.prototype.handle_save = function (fig, _msg) {\n",
       "    var format_dropdown = fig.format_dropdown;\n",
       "    var format = format_dropdown.options[format_dropdown.selectedIndex].value;\n",
       "    fig.ondownload(fig, format);\n",
       "};\n",
       "\n",
       "mpl.figure.prototype.handle_resize = function (fig, msg) {\n",
       "    var size = msg['size'];\n",
       "    if (size[0] !== fig.canvas.width || size[1] !== fig.canvas.height) {\n",
       "        fig._resize_canvas(size[0], size[1], msg['forward']);\n",
       "        fig.send_message('refresh', {});\n",
       "    }\n",
       "};\n",
       "\n",
       "mpl.figure.prototype.handle_rubberband = function (fig, msg) {\n",
       "    var x0 = msg['x0'] / fig.ratio;\n",
       "    var y0 = (fig.canvas.height - msg['y0']) / fig.ratio;\n",
       "    var x1 = msg['x1'] / fig.ratio;\n",
       "    var y1 = (fig.canvas.height - msg['y1']) / fig.ratio;\n",
       "    x0 = Math.floor(x0) + 0.5;\n",
       "    y0 = Math.floor(y0) + 0.5;\n",
       "    x1 = Math.floor(x1) + 0.5;\n",
       "    y1 = Math.floor(y1) + 0.5;\n",
       "    var min_x = Math.min(x0, x1);\n",
       "    var min_y = Math.min(y0, y1);\n",
       "    var width = Math.abs(x1 - x0);\n",
       "    var height = Math.abs(y1 - y0);\n",
       "\n",
       "    fig.rubberband_context.clearRect(\n",
       "        0,\n",
       "        0,\n",
       "        fig.canvas.width / fig.ratio,\n",
       "        fig.canvas.height / fig.ratio\n",
       "    );\n",
       "\n",
       "    fig.rubberband_context.strokeRect(min_x, min_y, width, height);\n",
       "};\n",
       "\n",
       "mpl.figure.prototype.handle_figure_label = function (fig, msg) {\n",
       "    // Updates the figure title.\n",
       "    fig.header.textContent = msg['label'];\n",
       "};\n",
       "\n",
       "mpl.figure.prototype.handle_cursor = function (fig, msg) {\n",
       "    fig.canvas_div.style.cursor = msg['cursor'];\n",
       "};\n",
       "\n",
       "mpl.figure.prototype.handle_message = function (fig, msg) {\n",
       "    fig.message.textContent = msg['message'];\n",
       "};\n",
       "\n",
       "mpl.figure.prototype.handle_draw = function (fig, _msg) {\n",
       "    // Request the server to send over a new figure.\n",
       "    fig.send_draw_message();\n",
       "};\n",
       "\n",
       "mpl.figure.prototype.handle_image_mode = function (fig, msg) {\n",
       "    fig.image_mode = msg['mode'];\n",
       "};\n",
       "\n",
       "mpl.figure.prototype.handle_history_buttons = function (fig, msg) {\n",
       "    for (var key in msg) {\n",
       "        if (!(key in fig.buttons)) {\n",
       "            continue;\n",
       "        }\n",
       "        fig.buttons[key].disabled = !msg[key];\n",
       "        fig.buttons[key].setAttribute('aria-disabled', !msg[key]);\n",
       "    }\n",
       "};\n",
       "\n",
       "mpl.figure.prototype.handle_navigate_mode = function (fig, msg) {\n",
       "    if (msg['mode'] === 'PAN') {\n",
       "        fig.buttons['Pan'].classList.add('active');\n",
       "        fig.buttons['Zoom'].classList.remove('active');\n",
       "    } else if (msg['mode'] === 'ZOOM') {\n",
       "        fig.buttons['Pan'].classList.remove('active');\n",
       "        fig.buttons['Zoom'].classList.add('active');\n",
       "    } else {\n",
       "        fig.buttons['Pan'].classList.remove('active');\n",
       "        fig.buttons['Zoom'].classList.remove('active');\n",
       "    }\n",
       "};\n",
       "\n",
       "mpl.figure.prototype.updated_canvas_event = function () {\n",
       "    // Called whenever the canvas gets updated.\n",
       "    this.send_message('ack', {});\n",
       "};\n",
       "\n",
       "// A function to construct a web socket function for onmessage handling.\n",
       "// Called in the figure constructor.\n",
       "mpl.figure.prototype._make_on_message_function = function (fig) {\n",
       "    return function socket_on_message(evt) {\n",
       "        if (evt.data instanceof Blob) {\n",
       "            var img = evt.data;\n",
       "            if (img.type !== 'image/png') {\n",
       "                /* FIXME: We get \"Resource interpreted as Image but\n",
       "                 * transferred with MIME type text/plain:\" errors on\n",
       "                 * Chrome.  But how to set the MIME type?  It doesn't seem\n",
       "                 * to be part of the websocket stream */\n",
       "                img.type = 'image/png';\n",
       "            }\n",
       "\n",
       "            /* Free the memory for the previous frames */\n",
       "            if (fig.imageObj.src) {\n",
       "                (window.URL || window.webkitURL).revokeObjectURL(\n",
       "                    fig.imageObj.src\n",
       "                );\n",
       "            }\n",
       "\n",
       "            fig.imageObj.src = (window.URL || window.webkitURL).createObjectURL(\n",
       "                img\n",
       "            );\n",
       "            fig.updated_canvas_event();\n",
       "            fig.waiting = false;\n",
       "            return;\n",
       "        } else if (\n",
       "            typeof evt.data === 'string' &&\n",
       "            evt.data.slice(0, 21) === 'data:image/png;base64'\n",
       "        ) {\n",
       "            fig.imageObj.src = evt.data;\n",
       "            fig.updated_canvas_event();\n",
       "            fig.waiting = false;\n",
       "            return;\n",
       "        }\n",
       "\n",
       "        var msg = JSON.parse(evt.data);\n",
       "        var msg_type = msg['type'];\n",
       "\n",
       "        // Call the  \"handle_{type}\" callback, which takes\n",
       "        // the figure and JSON message as its only arguments.\n",
       "        try {\n",
       "            var callback = fig['handle_' + msg_type];\n",
       "        } catch (e) {\n",
       "            console.log(\n",
       "                \"No handler for the '\" + msg_type + \"' message type: \",\n",
       "                msg\n",
       "            );\n",
       "            return;\n",
       "        }\n",
       "\n",
       "        if (callback) {\n",
       "            try {\n",
       "                // console.log(\"Handling '\" + msg_type + \"' message: \", msg);\n",
       "                callback(fig, msg);\n",
       "            } catch (e) {\n",
       "                console.log(\n",
       "                    \"Exception inside the 'handler_\" + msg_type + \"' callback:\",\n",
       "                    e,\n",
       "                    e.stack,\n",
       "                    msg\n",
       "                );\n",
       "            }\n",
       "        }\n",
       "    };\n",
       "};\n",
       "\n",
       "function getModifiers(event) {\n",
       "    var mods = [];\n",
       "    if (event.ctrlKey) {\n",
       "        mods.push('ctrl');\n",
       "    }\n",
       "    if (event.altKey) {\n",
       "        mods.push('alt');\n",
       "    }\n",
       "    if (event.shiftKey) {\n",
       "        mods.push('shift');\n",
       "    }\n",
       "    if (event.metaKey) {\n",
       "        mods.push('meta');\n",
       "    }\n",
       "    return mods;\n",
       "}\n",
       "\n",
       "/*\n",
       " * return a copy of an object with only non-object keys\n",
       " * we need this to avoid circular references\n",
       " * https://stackoverflow.com/a/24161582/3208463\n",
       " */\n",
       "function simpleKeys(original) {\n",
       "    return Object.keys(original).reduce(function (obj, key) {\n",
       "        if (typeof original[key] !== 'object') {\n",
       "            obj[key] = original[key];\n",
       "        }\n",
       "        return obj;\n",
       "    }, {});\n",
       "}\n",
       "\n",
       "mpl.figure.prototype.mouse_event = function (event, name) {\n",
       "    if (name === 'button_press') {\n",
       "        this.canvas.focus();\n",
       "        this.canvas_div.focus();\n",
       "    }\n",
       "\n",
       "    // from https://stackoverflow.com/q/1114465\n",
       "    var boundingRect = this.canvas.getBoundingClientRect();\n",
       "    var x = (event.clientX - boundingRect.left) * this.ratio;\n",
       "    var y = (event.clientY - boundingRect.top) * this.ratio;\n",
       "\n",
       "    this.send_message(name, {\n",
       "        x: x,\n",
       "        y: y,\n",
       "        button: event.button,\n",
       "        step: event.step,\n",
       "        buttons: event.buttons,\n",
       "        modifiers: getModifiers(event),\n",
       "        guiEvent: simpleKeys(event),\n",
       "    });\n",
       "\n",
       "    return false;\n",
       "};\n",
       "\n",
       "mpl.figure.prototype._key_event_extra = function (_event, _name) {\n",
       "    // Handle any extra behaviour associated with a key event\n",
       "};\n",
       "\n",
       "mpl.figure.prototype.key_event = function (event, name) {\n",
       "    // Prevent repeat events\n",
       "    if (name === 'key_press') {\n",
       "        if (event.key === this._key) {\n",
       "            return;\n",
       "        } else {\n",
       "            this._key = event.key;\n",
       "        }\n",
       "    }\n",
       "    if (name === 'key_release') {\n",
       "        this._key = null;\n",
       "    }\n",
       "\n",
       "    var value = '';\n",
       "    if (event.ctrlKey && event.key !== 'Control') {\n",
       "        value += 'ctrl+';\n",
       "    }\n",
       "    else if (event.altKey && event.key !== 'Alt') {\n",
       "        value += 'alt+';\n",
       "    }\n",
       "    else if (event.shiftKey && event.key !== 'Shift') {\n",
       "        value += 'shift+';\n",
       "    }\n",
       "\n",
       "    value += 'k' + event.key;\n",
       "\n",
       "    this._key_event_extra(event, name);\n",
       "\n",
       "    this.send_message(name, { key: value, guiEvent: simpleKeys(event) });\n",
       "    return false;\n",
       "};\n",
       "\n",
       "mpl.figure.prototype.toolbar_button_onclick = function (name) {\n",
       "    if (name === 'download') {\n",
       "        this.handle_save(this, null);\n",
       "    } else {\n",
       "        this.send_message('toolbar_button', { name: name });\n",
       "    }\n",
       "};\n",
       "\n",
       "mpl.figure.prototype.toolbar_button_onmouseover = function (tooltip) {\n",
       "    this.message.textContent = tooltip;\n",
       "};\n",
       "\n",
       "///////////////// REMAINING CONTENT GENERATED BY embed_js.py /////////////////\n",
       "// prettier-ignore\n",
       "var _JSXTOOLS_RESIZE_OBSERVER=function(A){var t,i=new WeakMap,n=new WeakMap,a=new WeakMap,r=new WeakMap,o=new Set;function s(e){if(!(this instanceof s))throw new TypeError(\"Constructor requires 'new' operator\");i.set(this,e)}function h(){throw new TypeError(\"Function is not a constructor\")}function c(e,t,i,n){e=0 in arguments?Number(arguments[0]):0,t=1 in arguments?Number(arguments[1]):0,i=2 in arguments?Number(arguments[2]):0,n=3 in arguments?Number(arguments[3]):0,this.right=(this.x=this.left=e)+(this.width=i),this.bottom=(this.y=this.top=t)+(this.height=n),Object.freeze(this)}function d(){t=requestAnimationFrame(d);var s=new WeakMap,p=new Set;o.forEach((function(t){r.get(t).forEach((function(i){var r=t instanceof window.SVGElement,o=a.get(t),d=r?0:parseFloat(o.paddingTop),f=r?0:parseFloat(o.paddingRight),l=r?0:parseFloat(o.paddingBottom),u=r?0:parseFloat(o.paddingLeft),g=r?0:parseFloat(o.borderTopWidth),m=r?0:parseFloat(o.borderRightWidth),w=r?0:parseFloat(o.borderBottomWidth),b=u+f,F=d+l,v=(r?0:parseFloat(o.borderLeftWidth))+m,W=g+w,y=r?0:t.offsetHeight-W-t.clientHeight,E=r?0:t.offsetWidth-v-t.clientWidth,R=b+v,z=F+W,M=r?t.width:parseFloat(o.width)-R-E,O=r?t.height:parseFloat(o.height)-z-y;if(n.has(t)){var k=n.get(t);if(k[0]===M&&k[1]===O)return}n.set(t,[M,O]);var S=Object.create(h.prototype);S.target=t,S.contentRect=new c(u,d,M,O),s.has(i)||(s.set(i,[]),p.add(i)),s.get(i).push(S)}))})),p.forEach((function(e){i.get(e).call(e,s.get(e),e)}))}return s.prototype.observe=function(i){if(i instanceof window.Element){r.has(i)||(r.set(i,new Set),o.add(i),a.set(i,window.getComputedStyle(i)));var n=r.get(i);n.has(this)||n.add(this),cancelAnimationFrame(t),t=requestAnimationFrame(d)}},s.prototype.unobserve=function(i){if(i instanceof window.Element&&r.has(i)){var n=r.get(i);n.has(this)&&(n.delete(this),n.size||(r.delete(i),o.delete(i))),n.size||r.delete(i),o.size||cancelAnimationFrame(t)}},A.DOMRectReadOnly=c,A.ResizeObserver=s,A.ResizeObserverEntry=h,A}; // eslint-disable-line\n",
       "mpl.toolbar_items = [[\"Home\", \"Reset original view\", \"fa fa-home\", \"home\"], [\"Back\", \"Back to previous view\", \"fa fa-arrow-left\", \"back\"], [\"Forward\", \"Forward to next view\", \"fa fa-arrow-right\", \"forward\"], [\"\", \"\", \"\", \"\"], [\"Pan\", \"Left button pans, Right button zooms\\nx/y fixes axis, CTRL fixes aspect\", \"fa fa-arrows\", \"pan\"], [\"Zoom\", \"Zoom to rectangle\\nx/y fixes axis\", \"fa fa-square-o\", \"zoom\"], [\"\", \"\", \"\", \"\"], [\"Download\", \"Download plot\", \"fa fa-floppy-o\", \"download\"]];\n",
       "\n",
       "mpl.extensions = [\"eps\", \"jpeg\", \"pgf\", \"pdf\", \"png\", \"ps\", \"raw\", \"svg\", \"tif\", \"webp\"];\n",
       "\n",
       "mpl.default_extension = \"png\";/* global mpl */\n",
       "\n",
       "var comm_websocket_adapter = function (comm) {\n",
       "    // Create a \"websocket\"-like object which calls the given IPython comm\n",
       "    // object with the appropriate methods. Currently this is a non binary\n",
       "    // socket, so there is still some room for performance tuning.\n",
       "    var ws = {};\n",
       "\n",
       "    ws.binaryType = comm.kernel.ws.binaryType;\n",
       "    ws.readyState = comm.kernel.ws.readyState;\n",
       "    function updateReadyState(_event) {\n",
       "        if (comm.kernel.ws) {\n",
       "            ws.readyState = comm.kernel.ws.readyState;\n",
       "        } else {\n",
       "            ws.readyState = 3; // Closed state.\n",
       "        }\n",
       "    }\n",
       "    comm.kernel.ws.addEventListener('open', updateReadyState);\n",
       "    comm.kernel.ws.addEventListener('close', updateReadyState);\n",
       "    comm.kernel.ws.addEventListener('error', updateReadyState);\n",
       "\n",
       "    ws.close = function () {\n",
       "        comm.close();\n",
       "    };\n",
       "    ws.send = function (m) {\n",
       "        //console.log('sending', m);\n",
       "        comm.send(m);\n",
       "    };\n",
       "    // Register the callback with on_msg.\n",
       "    comm.on_msg(function (msg) {\n",
       "        //console.log('receiving', msg['content']['data'], msg);\n",
       "        var data = msg['content']['data'];\n",
       "        if (data['blob'] !== undefined) {\n",
       "            data = {\n",
       "                data: new Blob(msg['buffers'], { type: data['blob'] }),\n",
       "            };\n",
       "        }\n",
       "        // Pass the mpl event to the overridden (by mpl) onmessage function.\n",
       "        ws.onmessage(data);\n",
       "    });\n",
       "    return ws;\n",
       "};\n",
       "\n",
       "mpl.mpl_figure_comm = function (comm, msg) {\n",
       "    // This is the function which gets called when the mpl process\n",
       "    // starts-up an IPython Comm through the \"matplotlib\" channel.\n",
       "\n",
       "    var id = msg.content.data.id;\n",
       "    // Get hold of the div created by the display call when the Comm\n",
       "    // socket was opened in Python.\n",
       "    var element = document.getElementById(id);\n",
       "    var ws_proxy = comm_websocket_adapter(comm);\n",
       "\n",
       "    function ondownload(figure, _format) {\n",
       "        window.open(figure.canvas.toDataURL());\n",
       "    }\n",
       "\n",
       "    var fig = new mpl.figure(id, ws_proxy, ondownload, element);\n",
       "\n",
       "    // Call onopen now - mpl needs it, as it is assuming we've passed it a real\n",
       "    // web socket which is closed, not our websocket->open comm proxy.\n",
       "    ws_proxy.onopen();\n",
       "\n",
       "    fig.parent_element = element;\n",
       "    fig.cell_info = mpl.find_output_cell(\"<div id='\" + id + \"'></div>\");\n",
       "    if (!fig.cell_info) {\n",
       "        console.error('Failed to find cell for figure', id, fig);\n",
       "        return;\n",
       "    }\n",
       "    fig.cell_info[0].output_area.element.on(\n",
       "        'cleared',\n",
       "        { fig: fig },\n",
       "        fig._remove_fig_handler\n",
       "    );\n",
       "};\n",
       "\n",
       "mpl.figure.prototype.handle_close = function (fig, msg) {\n",
       "    var width = fig.canvas.width / fig.ratio;\n",
       "    fig.cell_info[0].output_area.element.off(\n",
       "        'cleared',\n",
       "        fig._remove_fig_handler\n",
       "    );\n",
       "    fig.resizeObserverInstance.unobserve(fig.canvas_div);\n",
       "\n",
       "    // Update the output cell to use the data from the current canvas.\n",
       "    fig.push_to_output();\n",
       "    var dataURL = fig.canvas.toDataURL();\n",
       "    // Re-enable the keyboard manager in IPython - without this line, in FF,\n",
       "    // the notebook keyboard shortcuts fail.\n",
       "    IPython.keyboard_manager.enable();\n",
       "    fig.parent_element.innerHTML =\n",
       "        '<img src=\"' + dataURL + '\" width=\"' + width + '\">';\n",
       "    fig.close_ws(fig, msg);\n",
       "};\n",
       "\n",
       "mpl.figure.prototype.close_ws = function (fig, msg) {\n",
       "    fig.send_message('closing', msg);\n",
       "    // fig.ws.close()\n",
       "};\n",
       "\n",
       "mpl.figure.prototype.push_to_output = function (_remove_interactive) {\n",
       "    // Turn the data on the canvas into data in the output cell.\n",
       "    var width = this.canvas.width / this.ratio;\n",
       "    var dataURL = this.canvas.toDataURL();\n",
       "    this.cell_info[1]['text/html'] =\n",
       "        '<img src=\"' + dataURL + '\" width=\"' + width + '\">';\n",
       "};\n",
       "\n",
       "mpl.figure.prototype.updated_canvas_event = function () {\n",
       "    // Tell IPython that the notebook contents must change.\n",
       "    IPython.notebook.set_dirty(true);\n",
       "    this.send_message('ack', {});\n",
       "    var fig = this;\n",
       "    // Wait a second, then push the new image to the DOM so\n",
       "    // that it is saved nicely (might be nice to debounce this).\n",
       "    setTimeout(function () {\n",
       "        fig.push_to_output();\n",
       "    }, 1000);\n",
       "};\n",
       "\n",
       "mpl.figure.prototype._init_toolbar = function () {\n",
       "    var fig = this;\n",
       "\n",
       "    var toolbar = document.createElement('div');\n",
       "    toolbar.classList = 'btn-toolbar';\n",
       "    this.root.appendChild(toolbar);\n",
       "\n",
       "    function on_click_closure(name) {\n",
       "        return function (_event) {\n",
       "            return fig.toolbar_button_onclick(name);\n",
       "        };\n",
       "    }\n",
       "\n",
       "    function on_mouseover_closure(tooltip) {\n",
       "        return function (event) {\n",
       "            if (!event.currentTarget.disabled) {\n",
       "                return fig.toolbar_button_onmouseover(tooltip);\n",
       "            }\n",
       "        };\n",
       "    }\n",
       "\n",
       "    fig.buttons = {};\n",
       "    var buttonGroup = document.createElement('div');\n",
       "    buttonGroup.classList = 'btn-group';\n",
       "    var button;\n",
       "    for (var toolbar_ind in mpl.toolbar_items) {\n",
       "        var name = mpl.toolbar_items[toolbar_ind][0];\n",
       "        var tooltip = mpl.toolbar_items[toolbar_ind][1];\n",
       "        var image = mpl.toolbar_items[toolbar_ind][2];\n",
       "        var method_name = mpl.toolbar_items[toolbar_ind][3];\n",
       "\n",
       "        if (!name) {\n",
       "            /* Instead of a spacer, we start a new button group. */\n",
       "            if (buttonGroup.hasChildNodes()) {\n",
       "                toolbar.appendChild(buttonGroup);\n",
       "            }\n",
       "            buttonGroup = document.createElement('div');\n",
       "            buttonGroup.classList = 'btn-group';\n",
       "            continue;\n",
       "        }\n",
       "\n",
       "        button = fig.buttons[name] = document.createElement('button');\n",
       "        button.classList = 'btn btn-default';\n",
       "        button.href = '#';\n",
       "        button.title = name;\n",
       "        button.innerHTML = '<i class=\"fa ' + image + ' fa-lg\"></i>';\n",
       "        button.addEventListener('click', on_click_closure(method_name));\n",
       "        button.addEventListener('mouseover', on_mouseover_closure(tooltip));\n",
       "        buttonGroup.appendChild(button);\n",
       "    }\n",
       "\n",
       "    if (buttonGroup.hasChildNodes()) {\n",
       "        toolbar.appendChild(buttonGroup);\n",
       "    }\n",
       "\n",
       "    // Add the status bar.\n",
       "    var status_bar = document.createElement('span');\n",
       "    status_bar.classList = 'mpl-message pull-right';\n",
       "    toolbar.appendChild(status_bar);\n",
       "    this.message = status_bar;\n",
       "\n",
       "    // Add the close button to the window.\n",
       "    var buttongrp = document.createElement('div');\n",
       "    buttongrp.classList = 'btn-group inline pull-right';\n",
       "    button = document.createElement('button');\n",
       "    button.classList = 'btn btn-mini btn-primary';\n",
       "    button.href = '#';\n",
       "    button.title = 'Stop Interaction';\n",
       "    button.innerHTML = '<i class=\"fa fa-power-off icon-remove icon-large\"></i>';\n",
       "    button.addEventListener('click', function (_evt) {\n",
       "        fig.handle_close(fig, {});\n",
       "    });\n",
       "    button.addEventListener(\n",
       "        'mouseover',\n",
       "        on_mouseover_closure('Stop Interaction')\n",
       "    );\n",
       "    buttongrp.appendChild(button);\n",
       "    var titlebar = this.root.querySelector('.ui-dialog-titlebar');\n",
       "    titlebar.insertBefore(buttongrp, titlebar.firstChild);\n",
       "};\n",
       "\n",
       "mpl.figure.prototype._remove_fig_handler = function (event) {\n",
       "    var fig = event.data.fig;\n",
       "    if (event.target !== this) {\n",
       "        // Ignore bubbled events from children.\n",
       "        return;\n",
       "    }\n",
       "    fig.close_ws(fig, {});\n",
       "};\n",
       "\n",
       "mpl.figure.prototype._root_extra_style = function (el) {\n",
       "    el.style.boxSizing = 'content-box'; // override notebook setting of border-box.\n",
       "};\n",
       "\n",
       "mpl.figure.prototype._canvas_extra_style = function (el) {\n",
       "    // this is important to make the div 'focusable\n",
       "    el.setAttribute('tabindex', 0);\n",
       "    // reach out to IPython and tell the keyboard manager to turn it's self\n",
       "    // off when our div gets focus\n",
       "\n",
       "    // location in version 3\n",
       "    if (IPython.notebook.keyboard_manager) {\n",
       "        IPython.notebook.keyboard_manager.register_events(el);\n",
       "    } else {\n",
       "        // location in version 2\n",
       "        IPython.keyboard_manager.register_events(el);\n",
       "    }\n",
       "};\n",
       "\n",
       "mpl.figure.prototype._key_event_extra = function (event, _name) {\n",
       "    // Check for shift+enter\n",
       "    if (event.shiftKey && event.which === 13) {\n",
       "        this.canvas_div.blur();\n",
       "        // select the cell after this one\n",
       "        var index = IPython.notebook.find_cell_index(this.cell_info[0]);\n",
       "        IPython.notebook.select(index + 1);\n",
       "    }\n",
       "};\n",
       "\n",
       "mpl.figure.prototype.handle_save = function (fig, _msg) {\n",
       "    fig.ondownload(fig, null);\n",
       "};\n",
       "\n",
       "mpl.find_output_cell = function (html_output) {\n",
       "    // Return the cell and output element which can be found *uniquely* in the notebook.\n",
       "    // Note - this is a bit hacky, but it is done because the \"notebook_saving.Notebook\"\n",
       "    // IPython event is triggered only after the cells have been serialised, which for\n",
       "    // our purposes (turning an active figure into a static one), is too late.\n",
       "    var cells = IPython.notebook.get_cells();\n",
       "    var ncells = cells.length;\n",
       "    for (var i = 0; i < ncells; i++) {\n",
       "        var cell = cells[i];\n",
       "        if (cell.cell_type === 'code') {\n",
       "            for (var j = 0; j < cell.output_area.outputs.length; j++) {\n",
       "                var data = cell.output_area.outputs[j];\n",
       "                if (data.data) {\n",
       "                    // IPython >= 3 moved mimebundle to data attribute of output\n",
       "                    data = data.data;\n",
       "                }\n",
       "                if (data['text/html'] === html_output) {\n",
       "                    return [cell, data, j];\n",
       "                }\n",
       "            }\n",
       "        }\n",
       "    }\n",
       "};\n",
       "\n",
       "// Register the function which deals with the matplotlib target/channel.\n",
       "// The kernel may be null if the page has been refreshed.\n",
       "if (IPython.notebook.kernel !== null) {\n",
       "    IPython.notebook.kernel.comm_manager.register_target(\n",
       "        'matplotlib',\n",
       "        mpl.mpl_figure_comm\n",
       "    );\n",
       "}\n"
      ],
      "text/plain": [
       "<IPython.core.display.Javascript object>"
      ]
     },
     "metadata": {},
     "output_type": "display_data"
    },
    {
     "data": {
      "text/html": [
       "<img src=\"data:image/png;base64,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\" width=\"799.9999826604674\">"
      ],
      "text/plain": [
       "<IPython.core.display.HTML object>"
      ]
     },
     "metadata": {},
     "output_type": "display_data"
    }
   ],
   "source": [
    "[X,Y] = np.meshgrid(xp,yp)\n",
    "fig = plt.figure(figsize=(8, 6))\n",
    "ax = fig.add_subplot(111, projection='3d')\n",
    "\n",
    "surf = ax.plot_surface(X,Y, uN_vals, cmap='viridis')\n",
    "\n",
    "fig.colorbar(surf)\n",
    "ax.view_init(elev=20, azim=110)\n",
    "ax.set_xlabel('x', labelpad=20)\n",
    "ax.set_ylabel('y', labelpad=20)\n",
    "\n",
    "#plt.savefig('simple_F_stressfunction.jpg', bbox_inches='tight')\n",
    "\n",
    "plt.show()"
   ]
  },
  {
   "cell_type": "markdown",
   "id": "05c764fb",
   "metadata": {
    "slideshow": {
     "slide_type": "slide"
    }
   },
   "source": [
    "## Other things Firedrake can and cannot do\n",
    "\n",
    "1. Many other elements are implemented; see https://www.firedrakeproject.org/variational-problems.html#supported-finite-elements. These include elemenst on triangles, tets, quads, and hex elements. \n",
    "2. dG elements are implemented, but only on conforming meshes.\n",
    "3. The 'irksome' module adds support for RK-methods in time (and solver support).\n",
    "4. Geometric multigrid \n",
    "5. Visualisation is limited (just an interface to `matplotlib`: use of Paraview recommended).\n",
    "6. Nonlinear problems are represented in a natural way, but care is needed with solver options.\n"
   ]
  }
 ],
 "metadata": {
  "celltoolbar": "Slideshow",
  "kernelspec": {
   "display_name": "FD25i",
   "language": "python",
   "name": "fd25i"
  },
  "language_info": {
   "codemirror_mode": {
    "name": "ipython",
    "version": 3
   },
   "file_extension": ".py",
   "mimetype": "text/x-python",
   "name": "python",
   "nbconvert_exporter": "python",
   "pygments_lexer": "ipython3",
   "version": "3.11.6"
  },
  "toc": {
   "base_numbering": 1,
   "nav_menu": {},
   "number_sections": true,
   "sideBar": true,
   "skip_h1_title": true,
   "title_cell": "Table of Contents",
   "title_sidebar": "Contents",
   "toc_cell": true,
   "toc_position": {},
   "toc_section_display": true,
   "toc_window_display": false
  },
  "varInspector": {
   "cols": {
    "lenName": 16,
    "lenType": 16,
    "lenVar": 40
   },
   "kernels_config": {
    "python": {
     "delete_cmd_postfix": "",
     "delete_cmd_prefix": "del ",
     "library": "var_list.py",
     "varRefreshCmd": "print(var_dic_list())"
    },
    "r": {
     "delete_cmd_postfix": ") ",
     "delete_cmd_prefix": "rm(",
     "library": "var_list.r",
     "varRefreshCmd": "cat(var_dic_list()) "
    }
   },
   "types_to_exclude": [
    "module",
    "function",
    "builtin_function_or_method",
    "instance",
    "_Feature"
   ],
   "window_display": false
  }
 },
 "nbformat": 4,
 "nbformat_minor": 5
}
