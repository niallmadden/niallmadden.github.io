{
 "cells": [
  {
   "cell_type": "markdown",
   "id": "46b14116",
   "metadata": {
    "toc": true
   },
   "source": [
    "<h1>Table of Contents<span class=\"tocSkip\"></span></h1>\n",
    "<div class=\"toc\"><ul class=\"toc-item\"><li><span><a href=\"#What-this-notebook-does\" data-toc-modified-id=\"What-this-notebook-does-1\"><span class=\"toc-item-num\">1&nbsp;&nbsp;</span>What this notebook does</a></span></li><li><span><a href=\"#Usual-Firedrake-and-Jupyter-preliminaries\" data-toc-modified-id=\"Usual-Firedrake-and-Jupyter-preliminaries-2\"><span class=\"toc-item-num\">2&nbsp;&nbsp;</span>Usual Firedrake and Jupyter preliminaries</a></span></li><li><span><a href=\"#Problem-Data\" data-toc-modified-id=\"Problem-Data-3\"><span class=\"toc-item-num\">3&nbsp;&nbsp;</span>Problem Data</a></span></li><li><span><a href=\"#The-mesh-and-FEM-space\" data-toc-modified-id=\"The-mesh-and-FEM-space-4\"><span class=\"toc-item-num\">4&nbsp;&nbsp;</span>The mesh and FEM space</a></span></li><li><span><a href=\"#Plot-solutions\" data-toc-modified-id=\"Plot-solutions-5\"><span class=\"toc-item-num\">5&nbsp;&nbsp;</span>Plot solutions</a></span></li><li><span><a href=\"#Exercises\" data-toc-modified-id=\"Exercises-6\"><span class=\"toc-item-num\">6&nbsp;&nbsp;</span>Exercises</a></span></li></ul></div>"
   ]
  },
  {
   "cell_type": "markdown",
   "id": "51f1b8ab",
   "metadata": {},
   "source": [
    "# Example 7: A coupled system of two equations\n",
    "\n",
    "[Niall Madden](https://www.niallmadden.ie/) _Feb 2025_\n",
    "\n",
    "This notebook discusses how to solve a coupled system of two equations.\n",
    "\n"
   ]
  },
  {
   "cell_type": "markdown",
   "id": "e325caa9",
   "metadata": {},
   "source": [
    "## What this notebook does \n",
    "We'll consider methods for solving Poisson's Equation: _find $u_1(x)$ and $u_2(x)$ such that_\n",
    "$$-\\varepsilon_1 u_1''(x) + a_{11} u_1(x) + a_{12} u_2(x) = f_1(x),$$\n",
    "$$-\\varepsilon_2 u_2''(x) + a_{21} u_1(x) + a_{22} u_2(x) = f_2(x),$$\n",
    "for $x \\in \\Omega :=(0,1),$$\n",
    "and subject to homogeneous Dirichlet boundary condition.\n",
    "\n",
    "The specific example we'll study is:\n",
    "$$-(0.1)u_1''(x) + 2 u_1(x) - u_2(x) = 1,$$\n",
    "$$-(0.01)u_2''(x) - 2 u_1(x) + 3u_2(x) = 2,$$\n",
    "for $x \\in \\Omega :=(0,1),$$\n",
    "and subject to homogeneous Dirichlet boundary condition."
   ]
  },
  {
   "cell_type": "markdown",
   "id": "4945a3d1",
   "metadata": {},
   "source": [
    "## Usual Firedrake and Jupyter preliminaries"
   ]
  },
  {
   "cell_type": "code",
   "execution_count": null,
   "id": "62c59af3",
   "metadata": {},
   "outputs": [],
   "source": [
    "import os\n",
    "if \"OMP_NUM_THREADS\" not in os.environ:\n",
    "    os.environ[\"OMP_NUM_THREADS\"] = \"1\"  \n",
    "from firedrake import *\n",
    "import numpy as np\n",
    "import matplotlib.pyplot as plt"
   ]
  },
  {
   "cell_type": "markdown",
   "id": "1e195923",
   "metadata": {},
   "source": [
    "## Problem Data"
   ]
  },
  {
   "cell_type": "code",
   "execution_count": null,
   "id": "31e782ce",
   "metadata": {},
   "outputs": [],
   "source": [
    "epsilon1,epsilon2  = Constant(0.01), Constant(.01)\n",
    "a11,a12 = Constant(2.0), Constant(-1.0)\n",
    "a21,a22 = Constant(-2.0), Constant(3.0)\n",
    "f1,f2 = Constant(2.0), Constant(3.0)"
   ]
  },
  {
   "cell_type": "markdown",
   "id": "51036dc9",
   "metadata": {},
   "source": [
    "## The mesh and FEM space"
   ]
  },
  {
   "cell_type": "code",
   "execution_count": null,
   "id": "3899b9cc",
   "metadata": {},
   "outputs": [],
   "source": [
    "N = 64   # number of mesh intervals in space\n",
    "mesh1D = UnitIntervalMesh(N)"
   ]
  },
  {
   "cell_type": "markdown",
   "id": "22320005",
   "metadata": {},
   "source": [
    "To create our FEM space, we'll first define a scalar space, $V$, and then $W=V^2$."
   ]
  },
  {
   "cell_type": "code",
   "execution_count": null,
   "id": "893328ed",
   "metadata": {},
   "outputs": [],
   "source": [
    "Ue = FiniteElement(\"CG\", mesh1D.ufl_cell(), 1)\n",
    "V = FunctionSpace(mesh1D, Ue)\n",
    "W = V*V"
   ]
  },
  {
   "cell_type": "markdown",
   "id": "7319988a",
   "metadata": {},
   "source": [
    "Now create a pair of trail and test functions:"
   ]
  },
  {
   "cell_type": "code",
   "execution_count": null,
   "id": "1200e731",
   "metadata": {},
   "outputs": [],
   "source": [
    "u1,u2 = TrialFunction(W)    \n",
    "v1,v2 = TestFunction(W)"
   ]
  },
  {
   "cell_type": "markdown",
   "id": "30079322",
   "metadata": {},
   "source": [
    "The bilinear form is \n",
    "$$\n",
    "a = \\varepsilon_1 (u_1',v_1') + (a_{11}u_1 + a_{12}u_2, v_1) + \\varepsilon_2 (u_2',v_2') + (a_{21}u_1 + a_{22}u_2, v_2).\n",
    "$$\n",
    "The linear form is \n",
    "$$ l = (f_1,v_1) + (f_2,v_2)$$."
   ]
  },
  {
   "cell_type": "code",
   "execution_count": null,
   "id": "fef828cf",
   "metadata": {},
   "outputs": [],
   "source": [
    "a =   epsilon1*u1.dx(0)*v1.dx(0)*dx + (a11*u1 + a12*u2)*v1*dx\n",
    "a +=  epsilon2*u2.dx(0)*v2.dx(0)*dx + (a21*u1 + a22*u2)*v2*dx\n",
    "L = f1*v1*dx  + f2*v2*dx  "
   ]
  },
  {
   "cell_type": "markdown",
   "id": "24057bf6",
   "metadata": {},
   "source": [
    "There is a minor technicality on how the boundary conditions are implemented. We need to apply them to each component, using the `sub()` method. \n",
    "\n",
    "Then we solve. And then use `subfunctions` to extract the components."
   ]
  },
  {
   "cell_type": "code",
   "execution_count": null,
   "id": "a7863df8",
   "metadata": {},
   "outputs": [],
   "source": [
    "a =   epsilon1*u1.dx(0)*v1.dx(0)*dx + (a11*u1 + a12*u2)*v1*dx\n",
    "a +=  epsilon2*u2.dx(0)*v2.dx(0)*dx + (a21*u1 + a22*u2)*v2*dx\n",
    "L = f1*v1*dx  + f2*v2*dx  \n",
    "    \n",
    "BC1 = DirichletBC(W.sub(0), 0.0, \"on_boundary\")\n",
    "BC2 = DirichletBC(W.sub(1), 0.0, \"on_boundary\")\n",
    "\n",
    "UN = Function(W)\n",
    "#prob = LinearVariationalProblem(a, L, UN, bcs=[BC1,BC2])\n",
    "#solver =  LinearVariationalSolver(prob)\n",
    "#solver.solve()\n",
    "\n",
    "solve(a == L, UN, bcs=[BC1,BC2])\n",
    "\n",
    "uN1, uN2 = UN.subfunctions"
   ]
  },
  {
   "cell_type": "markdown",
   "id": "0fb2de9a",
   "metadata": {},
   "source": [
    "## Plot solutions"
   ]
  },
  {
   "cell_type": "code",
   "execution_count": null,
   "id": "0535675e",
   "metadata": {},
   "outputs": [],
   "source": [
    "fig, axes = plt.subplots()\n",
    "plot(uN1, axes=axes, label='$u_1$')\n",
    "plot(uN2, axes=axes, label='$u_2$')\n",
    "# x_vals = mesh1D.coordinates.dat.data[:]\n",
    "# plt.plot(x_vals, u1.dat.data[:],'r--o', label='$u^N$')  # use for small N\n",
    "plt.xlabel(\"x\")\n",
    "plt.legend()"
   ]
  },
  {
   "cell_type": "markdown",
   "id": "05c764fb",
   "metadata": {},
   "source": [
    "##  Exercises\n",
    "\n",
    "1. Re-do this for a two-dimensional problem"
   ]
  }
 ],
 "metadata": {
  "kernelspec": {
   "display_name": "FD24",
   "language": "python",
   "name": "fd24"
  },
  "language_info": {
   "codemirror_mode": {
    "name": "ipython",
    "version": 3
   },
   "file_extension": ".py",
   "mimetype": "text/x-python",
   "name": "python",
   "nbconvert_exporter": "python",
   "pygments_lexer": "ipython3",
   "version": "3.11.8"
  },
  "toc": {
   "base_numbering": 1,
   "nav_menu": {},
   "number_sections": true,
   "sideBar": true,
   "skip_h1_title": true,
   "title_cell": "Table of Contents",
   "title_sidebar": "Contents",
   "toc_cell": true,
   "toc_position": {},
   "toc_section_display": true,
   "toc_window_display": false
  },
  "varInspector": {
   "cols": {
    "lenName": 16,
    "lenType": 16,
    "lenVar": 40
   },
   "kernels_config": {
    "python": {
     "delete_cmd_postfix": "",
     "delete_cmd_prefix": "del ",
     "library": "var_list.py",
     "varRefreshCmd": "print(var_dic_list())"
    },
    "r": {
     "delete_cmd_postfix": ") ",
     "delete_cmd_prefix": "rm(",
     "library": "var_list.r",
     "varRefreshCmd": "cat(var_dic_list()) "
    }
   },
   "types_to_exclude": [
    "module",
    "function",
    "builtin_function_or_method",
    "instance",
    "_Feature"
   ],
   "window_display": false
  }
 },
 "nbformat": 4,
 "nbformat_minor": 5
}
