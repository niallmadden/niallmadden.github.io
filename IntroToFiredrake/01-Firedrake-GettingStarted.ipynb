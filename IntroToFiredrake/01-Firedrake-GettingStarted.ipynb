{
 "cells": [
  {
   "cell_type": "markdown",
   "id": "46b14116",
   "metadata": {
    "toc": true
   },
   "source": [
    "<h1>Table of Contents<span class=\"tocSkip\"></span></h1>\n",
    "<div class=\"toc\"><ul class=\"toc-item\"><li><span><a href=\"#Some-Firedrake-preliminaries\" data-toc-modified-id=\"Some-Firedrake-preliminaries-1\"><span class=\"toc-item-num\">1&nbsp;&nbsp;</span>Some Firedrake preliminaries</a></span></li><li><span><a href=\"#ODE-data-and-Discretization-Data\" data-toc-modified-id=\"ODE-data-and-Discretization-Data-2\"><span class=\"toc-item-num\">2&nbsp;&nbsp;</span>ODE data and Discretization Data</a></span></li><li><span><a href=\"#Solve-a-1DRD-problem-with-a--Galerkin-method:\" data-toc-modified-id=\"Solve-a-1DRD-problem-with-a--Galerkin-method:-3\"><span class=\"toc-item-num\">3&nbsp;&nbsp;</span>Solve a 1DRD problem with a  Galerkin method:</a></span><ul class=\"toc-item\"><li><span><a href=\"#Formulate-the-problem\" data-toc-modified-id=\"Formulate-the-problem-3.1\"><span class=\"toc-item-num\">3.1&nbsp;&nbsp;</span>Formulate the problem</a></span></li><li><span><a href=\"#Solve\" data-toc-modified-id=\"Solve-3.2\"><span class=\"toc-item-num\">3.2&nbsp;&nbsp;</span>Solve</a></span></li><li><span><a href=\"#Compute-errors\" data-toc-modified-id=\"Compute-errors-3.3\"><span class=\"toc-item-num\">3.3&nbsp;&nbsp;</span>Compute errors</a></span></li><li><span><a href=\"#Plot-solutions\" data-toc-modified-id=\"Plot-solutions-3.4\"><span class=\"toc-item-num\">3.4&nbsp;&nbsp;</span>Plot solutions</a></span></li></ul></li><li><span><a href=\"#Exercises\" data-toc-modified-id=\"Exercises-4\"><span class=\"toc-item-num\">4&nbsp;&nbsp;</span>Exercises</a></span></li></ul></div>"
   ]
  },
  {
   "cell_type": "markdown",
   "id": "e325caa9",
   "metadata": {},
   "source": [
    "# 1. Getting started with Firedrake: solve a simple  1D problem\n",
    "\n",
    "This notebook outlines how to solve a very simple, linear one-dimensional problem with Firedrake. \n",
    "It is part of Niall's [Introduction to Firedrake](https://niallmadden.ie/IntroToFiredrake)\n",
    "\n",
    "The ODE we will solve is \n",
    "$$-\\varepsilon u'' + r(x)u  = f(x) \\text{ on } (0,1), \\qquad\\text{ with } u(0)=u(1)=0.$$\n",
    "\n",
    "We'll solve this problem using a stardard $P^1$ (continuous) Galerkin method.\n",
    "The actual problem we'll solve is \n",
    "$-\\frac{1}{10} u''(x) + e^{-x}u(x)  = f(x)$\n",
    "where we take $f(x)=\\sin(\\pi x)(\\epsilon^2 \\pi^2+e^{-x})$, which is chosen so that $u(x)=\\sin(\\pi x)$.\n",
    "\n",
    "\n",
    "[Niall Madden](https://www.niallmadden.ie/) _Nov 2024_"
   ]
  },
  {
   "cell_type": "markdown",
   "id": "4945a3d1",
   "metadata": {},
   "source": [
    "## Some Firedrake preliminaries"
   ]
  },
  {
   "cell_type": "code",
   "execution_count": 1,
   "id": "62c59af3",
   "metadata": {},
   "outputs": [],
   "source": [
    "import os\n",
    "if \"OMP_NUM_THREADS\" not in os.environ:\n",
    "    os.environ[\"OMP_NUM_THREADS\"] = \"1\"  "
   ]
  },
  {
   "cell_type": "code",
   "execution_count": 2,
   "id": "26de23d3",
   "metadata": {
    "scrolled": true
   },
   "outputs": [],
   "source": [
    "from firedrake import *\n",
    "import numpy as np\n",
    "import matplotlib.pyplot as plt"
   ]
  },
  {
   "cell_type": "markdown",
   "id": "bb9ac524",
   "metadata": {},
   "source": [
    "##  ODE data and Discretization Data"
   ]
  },
  {
   "cell_type": "code",
   "execution_count": 3,
   "id": "b04162f8",
   "metadata": {},
   "outputs": [],
   "source": [
    "epsilon = 1.0e-1\n",
    "r = lambda x : exp(-x)\n",
    "f = lambda x : sin(pi*x)*(epsilon*pi**2.0 + exp(-x)) \n",
    "u_true = lambda x : sin(pi*x)\n",
    "N = 16 \n",
    "mesh1D = UnitIntervalMesh(N)"
   ]
  },
  {
   "cell_type": "markdown",
   "id": "bf7a859e",
   "metadata": {},
   "source": [
    "## Solve a 1DRD problem with a  Galerkin method:\n",
    "\n",
    "### Formulate the problem\n",
    "The weak for of the ODE is $$\\varepsilon (u',v') + (ru,v) = (f,v),$$\n",
    "where here $(u,v):=\\int_0^1 u(x)v(x) dx$, is the usual $L^2$ inner product.\n",
    "\n",
    "Set up the finite element space"
   ]
  },
  {
   "cell_type": "code",
   "execution_count": 4,
   "id": "2003e980",
   "metadata": {},
   "outputs": [],
   "source": [
    "Ue = FiniteElement(\"CG\", mesh1D.ufl_cell(), 1)\n",
    "V = FunctionSpace(mesh1D, Ue)"
   ]
  },
  {
   "cell_type": "markdown",
   "id": "c2cee348",
   "metadata": {},
   "source": [
    "The weak form of the ODE is $$\\varepsilon (u',v') + (ru,v) = (f,v).$$ \n",
    "\n",
    "Define trial and test functions:"
   ]
  },
  {
   "cell_type": "code",
   "execution_count": 5,
   "id": "446899cc",
   "metadata": {},
   "outputs": [],
   "source": [
    "u = TrialFunction(V)\n",
    "v = TestFunction(V)"
   ]
  },
  {
   "cell_type": "markdown",
   "id": "87ac3e28",
   "metadata": {},
   "source": [
    "We'll define `x` to be the spatial coordinate associated with the mesh. It is index by the dimension, but this is a one-dimensional problem, so only `x[0]` is defined.\n",
    "\n",
    "In a slightly analogous way, we can represent the derivatives of $u$ and $v$ as `u.dx(0)` and `v.dx(0)`, where here the index says we are differentiating with respect to the first (and only) dimension."
   ]
  },
  {
   "cell_type": "code",
   "execution_count": 6,
   "id": "761137f5",
   "metadata": {},
   "outputs": [],
   "source": [
    "x = SpatialCoordinate(mesh1D)\n",
    "a = epsilon*u.dx(0)*v.dx(0)*dx + r(x[0])*u*v*dx\n",
    "L = f(x[0])*v*dx    "
   ]
  },
  {
   "cell_type": "markdown",
   "id": "3667b129",
   "metadata": {},
   "source": [
    "Define the boundary conditions"
   ]
  },
  {
   "cell_type": "code",
   "execution_count": 7,
   "id": "a0aae0e3",
   "metadata": {},
   "outputs": [],
   "source": [
    "BCs = DirichletBC(V, 0.0, \"on_boundary\")"
   ]
  },
  {
   "cell_type": "markdown",
   "id": "e3a70ca7",
   "metadata": {},
   "source": [
    "### Solve"
   ]
  },
  {
   "cell_type": "code",
   "execution_count": 8,
   "id": "c4a05a6e",
   "metadata": {},
   "outputs": [],
   "source": [
    "uN = Function(V)\n",
    "solve(a == L, uN, bcs=BCs)"
   ]
  },
  {
   "cell_type": "markdown",
   "id": "4f581bea",
   "metadata": {},
   "source": [
    "### Compute errors"
   ]
  },
  {
   "cell_type": "code",
   "execution_count": 9,
   "id": "224af739",
   "metadata": {},
   "outputs": [
    {
     "name": "stdout",
     "output_type": "stream",
     "text": [
      "Errors: L2= 8.684e-04, H1= 2.739e-03, Energy= 1.226e-03, Max= 1.229e-03\n"
     ]
    }
   ],
   "source": [
    "Diff = Function(V)\n",
    "Diff.interpolate(uN-u_true(x[0]))\n",
    "L2 = sqrt(assemble(inner(Diff, Diff)*dx))\n",
    "H1  = sqrt(assemble(inner(grad(Diff), grad(Diff))*dx))\n",
    "Energy = sqrt( float(epsilon)*H1**2.0 + L2**2.0)\n",
    "\n",
    "Diff_vec = np.abs(Diff.dat.data_ro)\n",
    "Max  = Diff_vec.max()\n",
    "\n",
    "print(f\"Errors: L2={L2 : 8.3e}, H1={H1 : 8.3e}, Energy={Energy : 8.3e}, Max={Max : 8.3e}\")"
   ]
  },
  {
   "cell_type": "markdown",
   "id": "1d5759cc",
   "metadata": {},
   "source": [
    "### Plot solutions"
   ]
  },
  {
   "cell_type": "code",
   "execution_count": 10,
   "id": "62f2d2b1",
   "metadata": {},
   "outputs": [
    {
     "data": {
      "text/plain": [
       "<matplotlib.legend.Legend at 0x7fb3bbcfd9d0>"
      ]
     },
     "execution_count": 10,
     "metadata": {},
     "output_type": "execute_result"
    },
    {
     "data": {
      "image/png": "[encoded data removed]",
      "text/plain": [
       "<Figure size 640x480 with 1 Axes>"
      ]
     },
     "metadata": {},
     "output_type": "display_data"
    }
   ],
   "source": [
    "x_vals = mesh1D.coordinates.dat.data[:]\n",
    "uE = Function(V); uE.interpolate(u_true(x[0]))  \n",
    "\n",
    "plot(uE, label='$u(x)$') # true\n",
    "# plot(uN, axes=axes, label='uN')   # Use this for large N\n",
    "plt.plot(x_vals, uN.dat.data[:],'r--o', label='$u^N$')  # use for small N\n",
    "plt.xlabel(\"x\")\n",
    "plt.legend()"
   ]
  },
  {
   "cell_type": "markdown",
   "id": "05c764fb",
   "metadata": {},
   "source": [
    "## Exercises\n",
    "\n",
    "1. Alter this code to add a function which takes as its inputs (say), a mesh, epsilon, r and f, and returns the computed solution.\n",
    "2. Also write a function that computes the various errors, which are returned as a tupple.\n",
    "3. Verify convergence by solving for various $N$, and computing errors in various norms.\n"
   ]
  }
 ],
 "metadata": {
  "kernelspec": {
   "display_name": "FD24",
   "language": "python",
   "name": "fd24"
  },
  "language_info": {
   "codemirror_mode": {
    "name": "ipython",
    "version": 3
   },
   "file_extension": ".py",
   "mimetype": "text/x-python",
   "name": "python",
   "nbconvert_exporter": "python",
   "pygments_lexer": "ipython3",
   "version": "3.11.8"
  },
  "toc": {
   "base_numbering": 1,
   "nav_menu": {},
   "number_sections": true,
   "sideBar": true,
   "skip_h1_title": true,
   "title_cell": "Table of Contents",
   "title_sidebar": "Contents",
   "toc_cell": true,
   "toc_position": {},
   "toc_section_display": true,
   "toc_window_display": false
  },
  "varInspector": {
   "cols": {
    "lenName": 16,
    "lenType": 16,
    "lenVar": 40
   },
   "kernels_config": {
    "python": {
     "delete_cmd_postfix": "",
     "delete_cmd_prefix": "del ",
     "library": "var_list.py",
     "varRefreshCmd": "print(var_dic_list())"
    },
    "r": {
     "delete_cmd_postfix": ") ",
     "delete_cmd_prefix": "rm(",
     "library": "var_list.r",
     "varRefreshCmd": "cat(var_dic_list()) "
    }
   },
   "types_to_exclude": [
    "module",
    "function",
    "builtin_function_or_method",
    "instance",
    "_Feature"
   ],
   "window_display": false
  }
 },
 "nbformat": 4,
 "nbformat_minor": 5
}
