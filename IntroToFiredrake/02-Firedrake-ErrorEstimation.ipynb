{
 "cells": [
  {
   "cell_type": "markdown",
   "id": "46b14116",
   "metadata": {
    "toc": true
   },
   "source": [
    "<h1>Table of Contents<span class=\"tocSkip\"></span></h1>\n",
    "<div class=\"toc\"><ul class=\"toc-item\"><li><span><a href=\"#Warnings\" data-toc-modified-id=\"Warnings-1\"><span class=\"toc-item-num\">1&nbsp;&nbsp;</span><strong>Warnings</strong></a></span></li><li><span><a href=\"#What-this-notebook-does\" data-toc-modified-id=\"What-this-notebook-does-2\"><span class=\"toc-item-num\">2&nbsp;&nbsp;</span>What this notebook does</a></span></li><li><span><a href=\"#Usual-Firedrake-preliminaries\" data-toc-modified-id=\"Usual-Firedrake-preliminaries-3\"><span class=\"toc-item-num\">3&nbsp;&nbsp;</span>Usual Firedrake preliminaries</a></span></li><li><span><a href=\"#ODE-data-and-Discretization-Data\" data-toc-modified-id=\"ODE-data-and-Discretization-Data-4\"><span class=\"toc-item-num\">4&nbsp;&nbsp;</span>ODE data and Discretization Data</a></span></li><li><span><a href=\"#The-solver\" data-toc-modified-id=\"The-solver-5\"><span class=\"toc-item-num\">5&nbsp;&nbsp;</span>The solver</a></span></li><li><span><a href=\"#Test-and-compare-errors\" data-toc-modified-id=\"Test-and-compare-errors-6\"><span class=\"toc-item-num\">6&nbsp;&nbsp;</span>Test and compare errors</a></span><ul class=\"toc-item\"><li><span><a href=\"#Plot-solutions\" data-toc-modified-id=\"Plot-solutions-6.1\"><span class=\"toc-item-num\">6.1&nbsp;&nbsp;</span>Plot solutions</a></span></li></ul></li><li><span><a href=\"#Exercises\" data-toc-modified-id=\"Exercises-7\"><span class=\"toc-item-num\">7&nbsp;&nbsp;</span>Exercises</a></span></li></ul></div>"
   ]
  },
  {
   "cell_type": "markdown",
   "id": "6482a9c3",
   "metadata": {},
   "source": [
    "# Example 2: Estimating errors in Firedrake\n",
    "\n",
    "\n",
    "[Niall Madden](https://www.niallmadden.ie/) _Dec 2024_\n",
    "\n",
    "This notebook outlines a simple approach to error estimation,  by comparing the computed solution with one obtained with a higher-order method (sometimes called a _hierarchical error estimator_).\n",
    "It also presents the solver as a function, so that it is easy to call for different meshes, or different degree elements. It is part of Niall's [Introduction to Firedrake](https://niallmadden.ie/IntroToFiredrake)\n",
    "\n",
    "\n",
    "\n",
    "## **Warnings**\n",
    "1. If there is a bug in your code, and you are actually solving the wrong problem, this approach will not tell you that. However, if you are, it can help you determine the order of convergence, for example.\n",
    "2. This approach can be expensive in higher dimensions."
   ]
  },
  {
   "cell_type": "markdown",
   "id": "e325caa9",
   "metadata": {},
   "source": [
    "## What this notebook does\n",
    "We solve the ODE \n",
    "$$-\\varepsilon u'' + r(x)u  = f(x) \\text{ on } (0,1), \\qquad\\text{ with } u(0)=u(1)=0.$$\n",
    "and then compare the solution with one obtained using a higher-order method.\n",
    "\n",
    "You can choose $r$ and $f$ to be anything you like, within reason."
   ]
  },
  {
   "cell_type": "markdown",
   "id": "4945a3d1",
   "metadata": {},
   "source": [
    "## Usual Firedrake preliminaries"
   ]
  },
  {
   "cell_type": "code",
   "execution_count": 1,
   "id": "62c59af3",
   "metadata": {},
   "outputs": [],
   "source": [
    "import os\n",
    "if \"OMP_NUM_THREADS\" not in os.environ:\n",
    "    os.environ[\"OMP_NUM_THREADS\"] = \"1\"  \n",
    "%matplotlib inline"
   ]
  },
  {
   "cell_type": "code",
   "execution_count": 2,
   "id": "26de23d3",
   "metadata": {
    "scrolled": true
   },
   "outputs": [],
   "source": [
    "from firedrake import *\n",
    "import numpy as np\n",
    "import matplotlib.pyplot as plt"
   ]
  },
  {
   "cell_type": "markdown",
   "id": "bb9ac524",
   "metadata": {},
   "source": [
    "##  ODE data and Discretization Data"
   ]
  },
  {
   "cell_type": "code",
   "execution_count": 3,
   "id": "b04162f8",
   "metadata": {},
   "outputs": [],
   "source": [
    "epsilon = 1.0e-1\n",
    "# A choice of r and f\n",
    "r = lambda x : 1+cos(pi*x)\n",
    "f = lambda x : exp(-x)\n",
    "## Use the following ones to compare with 01-Firedrake-GettingStarted.ipynb \n",
    "#r = lambda x : exp(-x)\n",
    "#f = lambda x : sin(pi*x)*(epsilon*pi**2.0 + exp(-x)) \n",
    "N = 16"
   ]
  },
  {
   "cell_type": "markdown",
   "id": "2ec7e265",
   "metadata": {},
   "source": [
    "## The solver "
   ]
  },
  {
   "cell_type": "code",
   "execution_count": 4,
   "id": "c83b86f7",
   "metadata": {},
   "outputs": [],
   "source": [
    "def RD1D_solver(epsilon, r, f, my_mesh, deg):\n",
    "    Ue = FiniteElement(\"CG\", my_mesh.ufl_cell(), deg)\n",
    "    V = FunctionSpace(my_mesh, Ue)\n",
    "\n",
    "    u = TrialFunction(V)\n",
    "    v = TestFunction(V)\n",
    "    x = SpatialCoordinate(my_mesh)\n",
    "    a = epsilon*u.dx(0)*v.dx(0)*dx + r(x[0])*u*v*dx\n",
    "    L = f(x[0])*v*dx   \n",
    "    \n",
    "    BCs = DirichletBC(V, 0.0, \"on_boundary\")\n",
    "    \n",
    "    uN = Function(V)\n",
    "    solve(a == L, uN, bcs=BCs)\n",
    "    return uN"
   ]
  },
  {
   "cell_type": "markdown",
   "id": "bf7a859e",
   "metadata": {},
   "source": [
    "## Test and compare errors\n"
   ]
  },
  {
   "cell_type": "code",
   "execution_count": 8,
   "id": "3ca1bbcc",
   "metadata": {},
   "outputs": [
    {
     "name": "stdout",
     "output_type": "stream",
     "text": [
      "Errors: L2= 4.425e-04, H1= 1.702e-03, Energy= 6.968e-04, Max= 5.882e-04\n"
     ]
    }
   ],
   "source": [
    "mesh1D = UnitIntervalMesh(N)\n",
    "deg = 1 # The degree of the elements used\n",
    "u1 = RD1D_solver(epsilon, r, f, mesh1D, deg)\n",
    "u2 = RD1D_solver(epsilon, r, f, mesh1D, deg+1)  # benchmark\n",
    "\n",
    "V = u1.function_space()  # get the function space from the solution\n",
    "\n",
    "Diff = Function(V)\n",
    "Diff.interpolate(u1-u2)\n",
    "L2 = sqrt(assemble(Diff*Diff*dx))\n",
    "H1  = sqrt(assemble(Diff.dx(0)*Diff.dx(0)*dx))\n",
    "Energy = sqrt( float(epsilon)*H1**2.0 + L2**2.0)\n",
    "\n",
    "Diff_vec = np.abs(Diff.dat.data_ro)\n",
    "Max  = Diff_vec.max()\n",
    "\n",
    "print(f\"Errors: L2={L2 : 8.3e}, H1={H1 : 8.3e}, Energy={Energy : 8.3e}, Max={Max : 8.3e}\")"
   ]
  },
  {
   "cell_type": "markdown",
   "id": "1d5759cc",
   "metadata": {},
   "source": [
    "### Plot solutions"
   ]
  },
  {
   "cell_type": "code",
   "execution_count": 6,
   "id": "62f2d2b1",
   "metadata": {},
   "outputs": [
    {
     "data": {
      "text/plain": [
       "<matplotlib.legend.Legend at 0x7f47ec6d7b50>"
      ]
     },
     "execution_count": 6,
     "metadata": {},
     "output_type": "execute_result"
    },
    {
     "data": {
      "image/png": "[encoded data removed]",
      "text/plain": [
       "<Figure size 640x480 with 1 Axes>"
      ]
     },
     "metadata": {},
     "output_type": "display_data"
    }
   ],
   "source": [
    "x_vals = mesh1D.coordinates.dat.data[:]\n",
    "\n",
    "fig, axes = plt.subplots()\n",
    "plot(u2, axes=axes, label='$u_2$') # true\n",
    "plot(u1, axes=axes, label='$u_1$') # Use this for large N\n",
    "#plt.plot(x_vals, u1.dat.data[:],'r--o', label='$u^N$')  # use for small N\n",
    "plt.xlabel(\"x\")\n",
    "plt.legend()"
   ]
  },
  {
   "cell_type": "markdown",
   "id": "05c764fb",
   "metadata": {},
   "source": [
    "## Exercises\n",
    "\n",
    "1. Try using higher order elements. Note that accuracy improves, but the code runs more slowly.\n",
    "1. Extend to solve convection-diffusion problem.\n",
    "2. Instead of using a benchmark solution computed using the same mesh, but $p+1$ elements, try  computing it on a mesh with twice as many intervals, but the same degree elements.\n"
   ]
  }
 ],
 "metadata": {
  "kernelspec": {
   "display_name": "FD24",
   "language": "python",
   "name": "fd24"
  },
  "language_info": {
   "codemirror_mode": {
    "name": "ipython",
    "version": 3
   },
   "file_extension": ".py",
   "mimetype": "text/x-python",
   "name": "python",
   "nbconvert_exporter": "python",
   "pygments_lexer": "ipython3",
   "version": "3.11.8"
  },
  "toc": {
   "base_numbering": 1,
   "nav_menu": {},
   "number_sections": true,
   "sideBar": true,
   "skip_h1_title": true,
   "title_cell": "Table of Contents",
   "title_sidebar": "Contents",
   "toc_cell": true,
   "toc_position": {},
   "toc_section_display": true,
   "toc_window_display": false
  },
  "varInspector": {
   "cols": {
    "lenName": 16,
    "lenType": 16,
    "lenVar": 40
   },
   "kernels_config": {
    "python": {
     "delete_cmd_postfix": "",
     "delete_cmd_prefix": "del ",
     "library": "var_list.py",
     "varRefreshCmd": "print(var_dic_list())"
    },
    "r": {
     "delete_cmd_postfix": ") ",
     "delete_cmd_prefix": "rm(",
     "library": "var_list.r",
     "varRefreshCmd": "cat(var_dic_list()) "
    }
   },
   "types_to_exclude": [
    "module",
    "function",
    "builtin_function_or_method",
    "instance",
    "_Feature"
   ],
   "window_display": false
  }
 },
 "nbformat": 4,
 "nbformat_minor": 5
}
