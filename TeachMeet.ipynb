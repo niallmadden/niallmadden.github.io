{
 "cells": [
  {
   "cell_type": "code",
   "execution_count": 1,
   "id": "2e87667c",
   "metadata": {
    "slideshow": {
     "slide_type": "skip"
    }
   },
   "outputs": [],
   "source": [
    "from IPython.display import Image\n",
    "from IPython.core.display import HTML "
   ]
  },
  {
   "cell_type": "markdown",
   "id": "644d5547",
   "metadata": {
    "slideshow": {
     "slide_type": "slide"
    }
   },
   "source": [
    "# TeachMeet: Teaching & Assessing with Jupyter\n",
    "Niall Madden and Anthony  Walters, School of Maths, April 2025\n",
    "\n",
    "1. What is Jupyter \n",
    "2. Using Jupyter in class; RISE\n",
    "3. Automated assessments with Jupyter"
   ]
  },
  {
   "cell_type": "markdown",
   "id": "73ddc826",
   "metadata": {
    "slideshow": {
     "slide_type": "slide"
    }
   },
   "source": [
    "## Welcome! \n",
    "\n",
    "Thanks for coming! In this session we'll help you get started with Jupyter, including giving presentations using the `RISE` extension. \n",
    "\n",
    "Rough plan:\n",
    "1. Niall: Short presentation on \"Getting Started\"\n",
    "2. You: write a notebook\n",
    "3. Niall: Automated assessment with `nbgrader`\n",
    "4. Anthony: How this actually works\n"
   ]
  },
  {
   "cell_type": "markdown",
   "id": "58c3b573",
   "metadata": {
    "slideshow": {
     "slide_type": "slide"
    }
   },
   "source": [
    "## What Jupyter is\n",
    "\n",
    "[Jupyter](https://en.wikipedia.org/wiki/Project_Jupyter) is a web-based _notebook_ system for mixing code in formatted text. \n",
    "\n",
    "The name comes from the three programming languages originally supported: `Ju`lia, `py`thon and `R`. However, the name also honours Galileo's discovery of the moons of Jupiter, and his notebooks on the topic.\n",
    "\n",
    "Although most associated with Python, Jupyter works with many other languages, inclduinh Octave (=free MATLAB), Haskell, Ruby, SageMath, Go, etc, etc.\n",
    "\n",
    "Roughly: Jupyter provides a system for mixing text cells with code cells; the latter are actually run by a separte `kernel`, spoecific to that language you are using. "
   ]
  },
  {
   "cell_type": "code",
   "execution_count": 2,
   "id": "a5f5e0e3",
   "metadata": {
    "slideshow": {
     "slide_type": "subslide"
    }
   },
   "outputs": [
    {
     "data": {
      "text/html": [
       "<img src=\"https://upload.wikimedia.org/wikipedia/commons/b/b3/Galileo_Galilei_%281564_-_1642%29_-_Serenissimo_Principe_-_manuscript_with_observations_of_Jupiter_and_four_of_its_moons%2C_1610.png\"/>"
      ],
      "text/plain": [
       "<IPython.core.display.Image object>"
      ]
     },
     "execution_count": 2,
     "metadata": {},
     "output_type": "execute_result"
    }
   ],
   "source": [
    "Image(url= \"https://upload.wikimedia.org/wikipedia/commons/b/b3/Galileo_Galilei_%281564_-_1642%29_-_Serenissimo_Principe_-_manuscript_with_observations_of_Jupiter_and_four_of_its_moons%2C_1610.png\")"
   ]
  },
  {
   "cell_type": "markdown",
   "id": "9e2e5975",
   "metadata": {
    "slideshow": {
     "slide_type": "slide"
    }
   },
   "source": [
    "## Why we use Jupyter\n",
    "\n",
    "1. For users/students, all they need to start coding is a web browser and a network connection: they don't have to install any software.\n",
    "2. The skills they develop are *transferrable*: Jupyter is the front-end for many cloud-based serices, such as Amazon `SageMaker`,  Google `Colab` and Microsoft's `Azure`. \n",
    "3. It combines documentation, code and output, making it excellent for writing reports.\n",
    "4. Documentation is written in `markdown` cells, which offers a simple syntax for formatted text."
   ]
  },
  {
   "cell_type": "markdown",
   "id": "93ce5ea1",
   "metadata": {
    "slideshow": {
     "slide_type": "slide"
    }
   },
   "source": [
    "## Getting Started with Jupyter\n",
    "\n",
    "1. Go to https://cloudjupyter.universityofgalway.ie/ and log on with the details you are provided.\n",
    "2. In `Launcher` Select 'Python 3 (ipykernel)`\n",
    "3. You are now in a notebook: let's write some Markdown!"
   ]
  },
  {
   "cell_type": "markdown",
   "id": "75800980",
   "metadata": {
    "slideshow": {
     "slide_type": "slide"
    }
   },
   "source": [
    "### Markdown\n",
    "Click on a cell. In the menu just above the cell, change `code` to `Markdown`. \n",
    "Now type something like this:"
   ]
  },
  {
   "cell_type": "raw",
   "id": "69aca816",
   "metadata": {},
   "source": [
    "# Notebook's title\n",
    "## A new section\n",
    "\n",
    "Some plain text.\n",
    "\n",
    "* Bullet point\n",
    "* Another bullet point\n",
    "\n",
    "\n",
    "1. Numbered list item with **blold text**\n",
    "2. Numbered list utem with *italics*\n",
    "3. A url: https://en.wikipedia.org/wiki/Project_Jupyter\n",
    "4. Can even type equations (in LaTeX: $\\frac{-b \\pm \\sqrt{b^2 - 4ac}}{2a}$"
   ]
  },
  {
   "cell_type": "markdown",
   "id": "f4fe4048",
   "metadata": {
    "slideshow": {
     "slide_type": "slide"
    }
   },
   "source": [
    "### Code cells\n",
    "\n",
    "Of course, we want some code too!"
   ]
  },
  {
   "cell_type": "code",
   "execution_count": 5,
   "id": "2816854b",
   "metadata": {},
   "outputs": [
    {
     "data": {
      "text/plain": [
       "Text(0.5, 1.0, 'Histogram of Random Numbers')"
      ]
     },
     "execution_count": 5,
     "metadata": {},
     "output_type": "execute_result"
    },
    {
     "data": {
      "image/png": "[encoded data removed]",
      "text/plain": [
       "<Figure size 640x480 with 1 Axes>"
      ]
     },
     "metadata": {},
     "output_type": "display_data"
    }
   ],
   "source": [
    "import matplotlib.pyplot as plt\n",
    "import numpy as np \n",
    "data = np.random.randn(1000)  # 100 random numbers\n",
    "plt.hist(data, bins=30, edgecolor='black') # histgram\n",
    "plt.title('Histogram of Random Numbers')"
   ]
  },
  {
   "cell_type": "markdown",
   "id": "7c7564ea",
   "metadata": {
    "slideshow": {
     "slide_type": "slide"
    }
   },
   "source": [
    "## Sharing notebooks\n",
    "\n",
    "Often we want to work collaboratively on a notebook, for this we've found  Google Colab to work well: https://colab.google/\n",
    "\n",
    "But in a classroom, we might want everyone to have their own copy. Easiest solution is to post the notebook to Canvas, have the students download it, and then upload to the server. \n",
    "\n",
    "Or, if you can extract the link, this can be combined into one step. Try this:\n",
    "1. In the **hub's** `File` menu, select `Open From URL`"
   ]
  }
 ],
 "metadata": {
  "celltoolbar": "Slideshow",
  "kernelspec": {
   "display_name": "Python 3 (ipykernel)",
   "language": "python",
   "name": "python3"
  },
  "language_info": {
   "codemirror_mode": {
    "name": "ipython",
    "version": 3
   },
   "file_extension": ".py",
   "mimetype": "text/x-python",
   "name": "python",
   "nbconvert_exporter": "python",
   "pygments_lexer": "ipython3",
   "version": "3.11.2"
  }
 },
 "nbformat": 4,
 "nbformat_minor": 5
}
