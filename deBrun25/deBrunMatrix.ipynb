{
 "cells": [
  {
   "cell_type": "markdown",
   "id": "926b2ba2",
   "metadata": {
    "toc": true
   },
   "source": [
    "<h1>Table of Contents<span class=\"tocSkip\"></span></h1>\n",
    "<div class=\"toc\"><ul class=\"toc-item\"><li><ul class=\"toc-item\"><li><span><a href=\"#Assignment\" data-toc-modified-id=\"Assignment-0.1\"><span class=\"toc-item-num\">0.1&nbsp;&nbsp;</span>Assignment</a></span></li><li><span><a href=\"#A-simple-example\" data-toc-modified-id=\"A-simple-example-0.2\"><span class=\"toc-item-num\">0.2&nbsp;&nbsp;</span>A simple example</a></span></li><li><span><a href=\"#Exercise\" data-toc-modified-id=\"Exercise-0.3\"><span class=\"toc-item-num\">0.3&nbsp;&nbsp;</span>Exercise</a></span></li></ul></li><li><span><a href=\"#M-matrices\" data-toc-modified-id=\"M-matrices-1\"><span class=\"toc-item-num\">1&nbsp;&nbsp;</span>M-matrices</a></span><ul class=\"toc-item\"><li><span><a href=\"#Exercise\" data-toc-modified-id=\"Exercise-1.1\"><span class=\"toc-item-num\">1.1&nbsp;&nbsp;</span>Exercise</a></span><ul class=\"toc-item\"><li><span><a href=\"#An-example\" data-toc-modified-id=\"An-example-1.1.1\"><span class=\"toc-item-num\">1.1.1&nbsp;&nbsp;</span>An example</a></span></li></ul></li><li><span><a href=\"#Principal-submatrices-minors\" data-toc-modified-id=\"Principal-submatrices-minors-1.2\"><span class=\"toc-item-num\">1.2&nbsp;&nbsp;</span>Principal submatrices minors</a></span><ul class=\"toc-item\"><li><span><a href=\"#Exercises\" data-toc-modified-id=\"Exercises-1.2.1\"><span class=\"toc-item-num\">1.2.1&nbsp;&nbsp;</span>Exercises</a></span></li></ul></li></ul></li><li><span><a href=\"#SPD-matrices\" data-toc-modified-id=\"SPD-matrices-2\"><span class=\"toc-item-num\">2&nbsp;&nbsp;</span>SPD matrices</a></span><ul class=\"toc-item\"><li><span><a href=\"#Exerise\" data-toc-modified-id=\"Exerise-2.1\"><span class=\"toc-item-num\">2.1&nbsp;&nbsp;</span>Exerise</a></span></li><li><span><a href=\"#Exercise\" data-toc-modified-id=\"Exercise-2.2\"><span class=\"toc-item-num\">2.2&nbsp;&nbsp;</span>Exercise</a></span></li></ul></li><li><span><a href=\"#To-finish\" data-toc-modified-id=\"To-finish-3\"><span class=\"toc-item-num\">3&nbsp;&nbsp;</span>To finish</a></span></li><li><span><a href=\"#Part-2-(Further-exercises)\" data-toc-modified-id=\"Part-2-(Further-exercises)-4\"><span class=\"toc-item-num\">4&nbsp;&nbsp;</span>Part 2 (Further exercises)</a></span></li></ul></div>"
   ]
  },
  {
   "cell_type": "markdown",
   "id": "7925a605",
   "metadata": {},
   "source": [
    "# M-matrices and SPD matrices (V2)\n",
    "\n",
    "**de Brun Summer School, 28 May 2025**\n",
    "\n",
    "Niall Madden.\n",
    "\n",
    "Note: This version (V2) has exercises at the end.\n",
    "\n",
    "You can access the HTML version at  https://www.niallmadden.ie/deBrun25/deBrunMatrix.html\n",
    "or download this notebook from  https://www.niallmadden.ie/deBrun25/deBrunMatrix.ipynb\n"
   ]
  },
  {
   "cell_type": "markdown",
   "id": "adaf985d",
   "metadata": {},
   "source": [
    "### Assignment\n",
    "* Part 1: Complete Exercises in Sections 1.1, 2.1 and 2.2 in this notebook, download in PDF or HTML formats, and upload to https://universityofgalway.instructure.com/courses/28406/assignments/111297\n",
    "* Part 2: write out solutions to the Exercises 1, 2, and 4 in Section 4. Scan as a PDF file, and upload to https://universityofgalway.instructure.com/courses/28406/assignments/111297"
   ]
  },
  {
   "cell_type": "markdown",
   "id": "b307fa61",
   "metadata": {},
   "source": [
    "In this session, we'll make some practical investigations into M-matrices and SPD matrices.\n",
    "We'll use `numpy` so will load some modules:"
   ]
  },
  {
   "cell_type": "code",
   "execution_count": null,
   "id": "95f70c0d",
   "metadata": {},
   "outputs": [],
   "source": [
    "import numpy as np\n",
    "from numpy.linalg import eigvals, inv, norm, det"
   ]
  },
  {
   "cell_type": "markdown",
   "id": "befa0cf2",
   "metadata": {},
   "source": [
    "### A simple example\n",
    "\n",
    "In the morning session, had the following example (which I also give as a reminder of how to define a matrix in `numpy`:"
   ]
  },
  {
   "cell_type": "code",
   "execution_count": null,
   "id": "e0d48c40",
   "metadata": {},
   "outputs": [],
   "source": [
    "A = np.array([\n",
    "    [2, -1, 0],\n",
    "    [-1, 2, -1],\n",
    "    [0, -1, 2]\n",
    "])"
   ]
  },
  {
   "cell_type": "markdown",
   "id": "b3186434",
   "metadata": {},
   "source": [
    "We can see it is a Z-matrix. To check if it is an M-matrix, let's compute the inverse:"
   ]
  },
  {
   "cell_type": "code",
   "execution_count": null,
   "id": "beb0b229",
   "metadata": {},
   "outputs": [],
   "source": [
    "A_inv = inv(A)\n",
    "print(\"\\nInverse of A:\\n\", A_inv)\n",
    "print(\"\\nIs A inverse nonnegative?\", np.all(A_inv >= 0))"
   ]
  },
  {
   "cell_type": "markdown",
   "id": "df47761f",
   "metadata": {},
   "source": [
    "Sometimes it is helpful to compute the eigenvalues of a matrix. Do that like this:"
   ]
  },
  {
   "cell_type": "code",
   "execution_count": null,
   "id": "b8d575e6",
   "metadata": {},
   "outputs": [],
   "source": [
    "eigvals(A)"
   ]
  },
  {
   "cell_type": "markdown",
   "id": "9835918a",
   "metadata": {},
   "source": [
    "FYI, these can also be written as $2$, $2-\\sqrt{2}$ and $2+\\sqrt{2}$."
   ]
  },
  {
   "cell_type": "markdown",
   "id": "89061bb6",
   "metadata": {},
   "source": [
    "### Exercise\n",
    "\n",
    "Give an example of a matrix $B$ and scalar $s$ such that $B \\geq 0$, $s > \\rho(B)$, and $A=sI + B$. Verify that $T = \\frac{1}{s}B$ is convergent."
   ]
  },
  {
   "cell_type": "markdown",
   "id": "d42e1055",
   "metadata": {},
   "source": [
    "Tip: To make an identity matrix, try `I = np.eye(n)`. To compute the norm of a matrix, try `norm(T)`."
   ]
  },
  {
   "cell_type": "code",
   "execution_count": null,
   "id": "ef530d38",
   "metadata": {},
   "outputs": [],
   "source": [
    "## Your code here"
   ]
  },
  {
   "cell_type": "code",
   "execution_count": null,
   "id": "ef00f734",
   "metadata": {},
   "outputs": [],
   "source": []
  },
  {
   "cell_type": "markdown",
   "id": "4440f669",
   "metadata": {},
   "source": [
    "## M-matrices\n",
    "\n",
    "In the following section, you'll \"verify\" some M-matrix properties, experimentally. \n",
    "\n",
    "For this, please form your own $4 \\times 4$ M-matrix. Do this by picking a suitable  $B \\geq 0$, and then apply Gerschgorin's Theorem to pick a $s > \\rho(B)$. \n",
    "\n",
    "Finally, set $A=sI - B$."
   ]
  },
  {
   "cell_type": "markdown",
   "id": "7bf6b8e2",
   "metadata": {},
   "source": [
    "### Exercise \n",
    "#### An example \n",
    "Make up your own M-matrix, as per the previous cell, and check it is inverse non-negative."
   ]
  },
  {
   "cell_type": "code",
   "execution_count": null,
   "id": "cdbfc2db",
   "metadata": {},
   "outputs": [],
   "source": [
    "## Your code here "
   ]
  },
  {
   "cell_type": "code",
   "execution_count": null,
   "id": "4a376223",
   "metadata": {},
   "outputs": [],
   "source": []
  },
  {
   "cell_type": "markdown",
   "id": "292127a5",
   "metadata": {},
   "source": [
    "### Principal submatrices minors\n",
    "\n",
    "Given a matrix $A$.\n",
    "* $B$ is a _submatrix_ of $A$ if it can be obtained by deleting some rows and columns of $A$\n",
    "* $B$ is a _principle submatrix_ of $A$ if it can be obtained by deleting some rows of $A$ and the _corresponding_ columns of $A$. E.g., if you delete row 1 of $A$ you also delete column $1$.\n",
    "* $B$ is a _leading principle submatrix_ of order $k$ of $A$ if, in Python notation, `B=A[0:k+1,0:k+1]`. We denote it $B=A^{(k)}$\n",
    "\n",
    "The Principal Minors of $A$ are the determinants of the $A^{(k)}$"
   ]
  },
  {
   "cell_type": "markdown",
   "id": "6f8fa1a5",
   "metadata": {},
   "source": [
    "#### Exercises\n",
    "\n",
    "Verify that the Principla Minors of you M-matrix, $A$ are all positive."
   ]
  },
  {
   "cell_type": "code",
   "execution_count": null,
   "id": "989377eb",
   "metadata": {},
   "outputs": [],
   "source": [
    "## Your code here"
   ]
  },
  {
   "cell_type": "markdown",
   "id": "d13f790e",
   "metadata": {},
   "source": [
    "## SPD matrices\n",
    "\n",
    "The simplest way of making up an SPD matrix to to choose any invertible matrix $C$, and set $A=C^T C$.\n",
    "\n",
    "Example (and note the use of `.T` for transpose and `@` for matrix multiplicaiton."
   ]
  },
  {
   "cell_type": "code",
   "execution_count": null,
   "id": "362380d2",
   "metadata": {},
   "outputs": [],
   "source": [
    "C= np.array([\n",
    "    [2, -1],\n",
    "    [-2, 0]\n",
    "])\n",
    "A = C.T @ C\n",
    "print(A)"
   ]
  },
  {
   "cell_type": "markdown",
   "id": "0e59b7d3",
   "metadata": {},
   "source": [
    "We know that $A$ SPD *if and only if* $A=A^T$ and all the eigenvalues of $A$ are positive.\n",
    "Let's check:"
   ]
  },
  {
   "cell_type": "code",
   "execution_count": null,
   "id": "db509e6c",
   "metadata": {},
   "outputs": [],
   "source": [
    "print(f\"Check A=A^T: {norm(A-A.T)==0}\")"
   ]
  },
  {
   "cell_type": "code",
   "execution_count": null,
   "id": "ea17acfd",
   "metadata": {},
   "outputs": [],
   "source": [
    "l = eigvals(A)\n",
    "for lambda_k in l:\n",
    "    print(lambda_k)"
   ]
  },
  {
   "cell_type": "markdown",
   "id": "25176ecb",
   "metadata": {},
   "source": [
    "### Exerise\n",
    "Make up a $4 \\times 4$ SPD matrix and check that it is SPD."
   ]
  },
  {
   "cell_type": "code",
   "execution_count": null,
   "id": "969d0e72",
   "metadata": {},
   "outputs": [],
   "source": [
    "## Your code here"
   ]
  },
  {
   "cell_type": "markdown",
   "id": "38727300",
   "metadata": {},
   "source": [
    "### Exercise\n",
    "Verify that all the leading principal submatrices of your example are SPD"
   ]
  },
  {
   "cell_type": "code",
   "execution_count": null,
   "id": "9a6e7f08",
   "metadata": {},
   "outputs": [],
   "source": [
    "## Your code here"
   ]
  },
  {
   "cell_type": "markdown",
   "id": "77ddc112",
   "metadata": {},
   "source": [
    "## To finish\n",
    "\n",
    "If you are doing assessment for the summer school send your completed notebook to Niall (mailto:Niall.Madden@UniversityOfGalway.ie), in either PDF or HTML formats. Or, better still, upload to\n",
    "https://universityofgalway.instructure.com/courses/28406/assignments/111297\n"
   ]
  },
  {
   "cell_type": "markdown",
   "id": "81556a7c",
   "metadata": {},
   "source": [
    "## Part 2 (Further exercises)\n",
    "\n",
    "Send Niall written solutions to the following Questions marked with a $\\star$.\n",
    "\n",
    "For some of these, you need to know about the (Kronecker Product)[https://en.wikipedia.org/wiki/Kronecker_product], denoted $\\otimes$"
   ]
  },
  {
   "cell_type": "markdown",
   "id": "6feed3ab",
   "metadata": {},
   "source": [
    "1. $\\star$ Give (at least) 3 different proofs that a SPD matrix is nonsingular.\n",
    "\n",
    "2. $\\star$ If $A$ is SPD, must  $A^{-1}$ be SPD too? If $A$ is an M-matrix,\n",
    "  must $A^{-1}$ be one too? If not, is there _ever_ a case where\n",
    "  the inverse of an $M$-matrix is an $M$-matrix?\n",
    "\n",
    "3. If the real matrices $A$ and $B$ are SPD, is $A \\otimes B$ SPD?\n",
    "If $A$ and $B$ are M-matrices,  is $A \\otimes B$ an M-matrix? (Note: when I tied this one on ChatGPT it got it wrong!)\n",
    "\n",
    "4. $\\star$ Is it possible for a square  matrix $A$ to\n",
    "  be positive definite, in the sense that $x^T A x >0$ for all vectors\n",
    "  $x$, and yet not be symmetric? Hint: take $A $ to\n",
    "  be of the form\n",
    "$$\n",
    "A = \\begin{pmatrix}\n",
    "0 & b \\\\ c & 1\n",
    "\\end{pmatrix},\n",
    "$$\n",
    "and try to find $b$ and $c$ such that $x^T A x >0$.\n",
    "\n",
    "\n",
    "5. (Tricky) Given a matrix $A$ partitioned into four submatrices \n",
    "$$\n",
    "A = \\begin{pmatrix}\n",
    "A_{11} & A_{12} \\\\ A_{21} & A_{22}\n",
    "\\end{pmatrix},\n",
    "$$\n",
    "we can make a _Schur compliment_ of $A$ is $S=A_{22} - A_{21}A^{-1}_{11}A_{12}$. \n",
    "In _Fact 3.27_ of Ilse Ipsen's _Numerical Matrix Analysis_\n",
    "(available at\n",
    "http://www4.ncsu.edu/~ipsen/]\n",
    "it is shown that if $A$ is spd, so too is the Schur compliments.\n",
    "\\\n",
    "Use this to show that, if $A$ is SPD then \n",
    "$|a_{ij}| \\leq \\sqrt{a_{ii} a_{jj}}$ for $i \\neq j$.  \n",
    "Show further that \n",
    "$|a_{ij}| \\leq (a_{ii} + a_{jj})/2$ for $i \\neq j$.  \n",
    "\n"
   ]
  },
  {
   "cell_type": "code",
   "execution_count": null,
   "id": "80e31065",
   "metadata": {},
   "outputs": [],
   "source": []
  }
 ],
 "metadata": {
  "kernelspec": {
   "display_name": "FD25i",
   "language": "python",
   "name": "fd25i"
  },
  "language_info": {
   "codemirror_mode": {
    "name": "ipython",
    "version": 3
   },
   "file_extension": ".py",
   "mimetype": "text/x-python",
   "name": "python",
   "nbconvert_exporter": "python",
   "pygments_lexer": "ipython3",
   "version": "3.11.6"
  },
  "toc": {
   "base_numbering": 1,
   "nav_menu": {},
   "number_sections": true,
   "sideBar": true,
   "skip_h1_title": true,
   "title_cell": "Table of Contents",
   "title_sidebar": "Contents",
   "toc_cell": true,
   "toc_position": {},
   "toc_section_display": true,
   "toc_window_display": false
  },
  "varInspector": {
   "cols": {
    "lenName": 16,
    "lenType": 16,
    "lenVar": 40
   },
   "kernels_config": {
    "python": {
     "delete_cmd_postfix": "",
     "delete_cmd_prefix": "del ",
     "library": "var_list.py",
     "varRefreshCmd": "print(var_dic_list())"
    },
    "r": {
     "delete_cmd_postfix": ") ",
     "delete_cmd_prefix": "rm(",
     "library": "var_list.r",
     "varRefreshCmd": "cat(var_dic_list()) "
    }
   },
   "types_to_exclude": [
    "module",
    "function",
    "builtin_function_or_method",
    "instance",
    "_Feature"
   ],
   "window_display": false
  }
 },
 "nbformat": 4,
 "nbformat_minor": 5
}
