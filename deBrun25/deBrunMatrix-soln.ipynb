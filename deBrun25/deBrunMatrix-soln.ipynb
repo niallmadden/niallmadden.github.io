{
 "cells": [
  {
   "cell_type": "markdown",
   "id": "926b2ba2",
   "metadata": {
    "toc": true
   },
   "source": [
    "<h1>Table of Contents<span class=\"tocSkip\"></span></h1>\n",
    "<div class=\"toc\"><ul class=\"toc-item\"><li><ul class=\"toc-item\"><li><span><a href=\"#A-simple-example\" data-toc-modified-id=\"A-simple-example-0.1\"><span class=\"toc-item-num\">0.1&nbsp;&nbsp;</span>A simple example</a></span></li><li><span><a href=\"#Exercise\" data-toc-modified-id=\"Exercise-0.2\"><span class=\"toc-item-num\">0.2&nbsp;&nbsp;</span>Exercise</a></span></li></ul></li><li><span><a href=\"#M-matrices\" data-toc-modified-id=\"M-matrices-1\"><span class=\"toc-item-num\">1&nbsp;&nbsp;</span>M-matrices</a></span><ul class=\"toc-item\"><li><span><a href=\"#Exercise\" data-toc-modified-id=\"Exercise-1.1\"><span class=\"toc-item-num\">1.1&nbsp;&nbsp;</span>Exercise</a></span><ul class=\"toc-item\"><li><span><a href=\"#An-example\" data-toc-modified-id=\"An-example-1.1.1\"><span class=\"toc-item-num\">1.1.1&nbsp;&nbsp;</span>An example</a></span></li></ul></li><li><span><a href=\"#Principal-submatrices-minors\" data-toc-modified-id=\"Principal-submatrices-minors-1.2\"><span class=\"toc-item-num\">1.2&nbsp;&nbsp;</span>Principal submatrices minors</a></span><ul class=\"toc-item\"><li><span><a href=\"#Exercises\" data-toc-modified-id=\"Exercises-1.2.1\"><span class=\"toc-item-num\">1.2.1&nbsp;&nbsp;</span>Exercises</a></span></li></ul></li></ul></li><li><span><a href=\"#SPD-matrices\" data-toc-modified-id=\"SPD-matrices-2\"><span class=\"toc-item-num\">2&nbsp;&nbsp;</span>SPD matrices</a></span><ul class=\"toc-item\"><li><span><a href=\"#Exerise\" data-toc-modified-id=\"Exerise-2.1\"><span class=\"toc-item-num\">2.1&nbsp;&nbsp;</span>Exerise</a></span></li><li><span><a href=\"#Exercise\" data-toc-modified-id=\"Exercise-2.2\"><span class=\"toc-item-num\">2.2&nbsp;&nbsp;</span>Exercise</a></span></li></ul></li><li><span><a href=\"#To-finish\" data-toc-modified-id=\"To-finish-3\"><span class=\"toc-item-num\">3&nbsp;&nbsp;</span>To finish</a></span></li><li><span><a href=\"#Part-2:\" data-toc-modified-id=\"Part-2:-4\"><span class=\"toc-item-num\">4&nbsp;&nbsp;</span>Part 2:</a></span></li></ul></div>"
   ]
  },
  {
   "cell_type": "markdown",
   "id": "7925a605",
   "metadata": {},
   "source": [
    "# M-matrices and SPD matrices\n",
    "\n",
    "**de Brun Summer School, 28 May 2025**\n",
    "\n",
    "Niall Madden."
   ]
  },
  {
   "cell_type": "markdown",
   "id": "b307fa61",
   "metadata": {},
   "source": [
    "In this session, we'll make some practical investigations into M-matrices and SPD matrices.\n",
    "We'll use `numpy` so will load some modules:"
   ]
  },
  {
   "cell_type": "code",
   "execution_count": 41,
   "id": "95f70c0d",
   "metadata": {},
   "outputs": [],
   "source": [
    "import numpy as np\n",
    "from numpy.linalg import eigvals, inv, norm, det"
   ]
  },
  {
   "cell_type": "markdown",
   "id": "befa0cf2",
   "metadata": {},
   "source": [
    "### A simple example\n",
    "\n",
    "In the morning session, had the following example (which I also give as a reminder of how to define a matrix in `numpy`:"
   ]
  },
  {
   "cell_type": "code",
   "execution_count": 5,
   "id": "e0d48c40",
   "metadata": {},
   "outputs": [],
   "source": [
    "A = np.array([\n",
    "    [2, -1, 0],\n",
    "    [-1, 2, -1],\n",
    "    [0, -1, 2]\n",
    "])"
   ]
  },
  {
   "cell_type": "markdown",
   "id": "b3186434",
   "metadata": {},
   "source": [
    "We can see it is a Z-matrix. To check if it is an M-matrix, let's compute the inverse:"
   ]
  },
  {
   "cell_type": "code",
   "execution_count": 45,
   "id": "beb0b229",
   "metadata": {},
   "outputs": [
    {
     "name": "stdout",
     "output_type": "stream",
     "text": [
      "\n",
      "Inverse of A:\n",
      " [[0.23076923 0.15384615 0.23076923 0.15384615]\n",
      " [0.08791209 0.43956044 0.37362637 0.2967033 ]\n",
      " [0.06593407 0.32967033 0.78021978 0.47252747]\n",
      " [0.05494505 0.27472527 0.48351648 0.56043956]]\n",
      "\n",
      "Is A inverse nonnegative? True\n"
     ]
    }
   ],
   "source": [
    "A_inv = inv(A)\n",
    "print(\"\\nInverse of A:\\n\", A_inv)\n",
    "print(\"\\nIs A inverse nonnegative?\", np.all(A_inv >= 0))"
   ]
  },
  {
   "cell_type": "markdown",
   "id": "df47761f",
   "metadata": {},
   "source": [
    "Sometimes it is helpful to compute the eigenvalues of a matrix. Do that like this:"
   ]
  },
  {
   "cell_type": "code",
   "execution_count": 8,
   "id": "b8d575e6",
   "metadata": {},
   "outputs": [
    {
     "data": {
      "text/plain": [
       "array([3.41421356, 2.        , 0.58578644])"
      ]
     },
     "execution_count": 8,
     "metadata": {},
     "output_type": "execute_result"
    }
   ],
   "source": [
    "eigvals(A)"
   ]
  },
  {
   "cell_type": "markdown",
   "id": "9835918a",
   "metadata": {},
   "source": [
    "FYI, these can also be written as $2$, $2-\\sqrt{2}$ and $2+\\sqrt{2}$."
   ]
  },
  {
   "cell_type": "markdown",
   "id": "89061bb6",
   "metadata": {},
   "source": [
    "### Exercise\n",
    "\n",
    "Give an example of a matrix $B$ and scalar $s$ such that $B \\geq 0$, $s \\geq \\rho(B)$, and $A=sI + B$. Verify that $T = \\frac{1}{s}B$ is convergent."
   ]
  },
  {
   "cell_type": "markdown",
   "id": "d42e1055",
   "metadata": {},
   "source": [
    "Tip: To make an identity matrix, try `I = np.eye(n)`. To compute the norm of a matrix, try `norm(T)`."
   ]
  },
  {
   "cell_type": "code",
   "execution_count": 9,
   "id": "ef530d38",
   "metadata": {},
   "outputs": [],
   "source": [
    "B = np.array([\n",
    "    [1, 1, 0],\n",
    "    [1, 1, 1],\n",
    "    [0, 1, 1]\n",
    "])\n",
    "\n",
    "I = np.eye(3)"
   ]
  },
  {
   "cell_type": "code",
   "execution_count": 11,
   "id": "ef00f734",
   "metadata": {},
   "outputs": [
    {
     "name": "stdout",
     "output_type": "stream",
     "text": [
      "[[ 2. -1.  0.]\n",
      " [-1.  2. -1.]\n",
      " [ 0. -1.  2.]]\n"
     ]
    }
   ],
   "source": [
    "print(3*I-B)"
   ]
  },
  {
   "cell_type": "code",
   "execution_count": 26,
   "id": "e6033438",
   "metadata": {},
   "outputs": [
    {
     "name": "stdout",
     "output_type": "stream",
     "text": [
      "[[0.33333333 0.33333333 0.        ]\n",
      " [0.33333333 0.33333333 0.33333333]\n",
      " [0.         0.33333333 0.33333333]]\n",
      "k=   10 ||T||=4.481e-05\n",
      "k=   20 ||T||=7.588e-10\n",
      "k=   30 ||T||=1.285e-14\n",
      "k=   40 ||T||=2.176e-19\n",
      "k=   50 ||T||=3.685e-24\n",
      "k=   60 ||T||=6.241e-29\n",
      "k=   70 ||T||=1.057e-33\n",
      "k=   80 ||T||=1.790e-38\n",
      "k=   90 ||T||=3.031e-43\n",
      "k=  100 ||T||=5.134e-48\n",
      "k=  110 ||T||=8.694e-53\n",
      "k=  120 ||T||=1.472e-57\n",
      "k=  130 ||T||=2.493e-62\n",
      "k=  140 ||T||=4.223e-67\n",
      "k=  150 ||T||=7.151e-72\n",
      "k=  160 ||T||=1.211e-76\n",
      "k=  170 ||T||=2.051e-81\n",
      "k=  180 ||T||=3.473e-86\n",
      "k=  190 ||T||=5.882e-91\n",
      "k=  200 ||T||=9.961e-96\n",
      "k=  210 ||T||=1.687e-100\n",
      "k=  220 ||T||=2.857e-105\n",
      "k=  230 ||T||=4.838e-110\n",
      "k=  240 ||T||=8.193e-115\n",
      "k=  250 ||T||=1.388e-119\n",
      "k=  260 ||T||=2.350e-124\n",
      "k=  270 ||T||=3.979e-129\n",
      "k=  280 ||T||=6.739e-134\n",
      "k=  290 ||T||=1.141e-138\n",
      "k=  300 ||T||=1.933e-143\n",
      "k=  310 ||T||=3.273e-148\n",
      "k=  320 ||T||=5.543e-153\n",
      "k=  330 ||T||=9.387e-158\n",
      "k=  340 ||T||=0.000e+00\n"
     ]
    }
   ],
   "source": [
    "T = B/3\n",
    "print(T)\n",
    "k=0\n",
    "while norm(T**k)>0: \n",
    "    k+=10\n",
    "    print(f\"k={k:5d} ||T||={norm(T**k):.3e}\" )\n"
   ]
  },
  {
   "cell_type": "markdown",
   "id": "4440f669",
   "metadata": {},
   "source": [
    "## M-matrices\n",
    "\n",
    "In the following section, you'll \"verify\" some M-matrix properties, experimentally. \n",
    "\n",
    "For this, please form your own $4 \\times 4$ M-matrix. Do this by picking a suitable  $B \\geq 0$, and then apply Gerschgorin's Theorem to pick a $s > \\rho(B)$. \n",
    "\n",
    "Finally, set $A=sI - B$."
   ]
  },
  {
   "cell_type": "markdown",
   "id": "7bf6b8e2",
   "metadata": {},
   "source": [
    "### Exercise \n",
    "#### An example \n",
    "Make up your own M-matrix, as per the previous cell, and check it is inverse non-negative."
   ]
  },
  {
   "cell_type": "code",
   "execution_count": 31,
   "id": "cdbfc2db",
   "metadata": {},
   "outputs": [],
   "source": [
    "B = np.array([\n",
    "    [1, 1, 1, 0],\n",
    "    [1, 2, 1, 1],\n",
    "    [0, 1, 3, 2],\n",
    "    [0, 1, 2, 2]\n",
    "])\n",
    "s = 6"
   ]
  },
  {
   "cell_type": "code",
   "execution_count": 32,
   "id": "4a376223",
   "metadata": {},
   "outputs": [
    {
     "name": "stdout",
     "output_type": "stream",
     "text": [
      "[[ 5. -1. -1.  0.]\n",
      " [-1.  4. -1. -1.]\n",
      " [ 0. -1.  3. -2.]\n",
      " [ 0. -1. -2.  4.]]\n"
     ]
    }
   ],
   "source": [
    "A = s*np.eye(4)-B\n",
    "print(A)"
   ]
  },
  {
   "cell_type": "code",
   "execution_count": 33,
   "id": "06493f91",
   "metadata": {},
   "outputs": [
    {
     "name": "stdout",
     "output_type": "stream",
     "text": [
      "[[0.23076923 0.15384615 0.23076923 0.15384615]\n",
      " [0.08791209 0.43956044 0.37362637 0.2967033 ]\n",
      " [0.06593407 0.32967033 0.78021978 0.47252747]\n",
      " [0.05494505 0.27472527 0.48351648 0.56043956]]\n"
     ]
    }
   ],
   "source": [
    "print(inv(A))"
   ]
  },
  {
   "cell_type": "markdown",
   "id": "292127a5",
   "metadata": {},
   "source": [
    "### Principal submatrices minors\n",
    "\n",
    "Given a matrix $A$.\n",
    "* $B$ is a _submatrix_ of $A$ if it can be obtained by deleting some rows and columns of $A$\n",
    "* $B$ is a _principle submatrix_ of $A$ if it can be obtained by deleting some rows of $A$ and the _corresponding_ columns of $A$. E.g., if you delete row 1 of $A$ you also delete column $1$.\n",
    "* $B$ is a _leading principle submatrix_ of order $k$ of $A$ if, in Python notation, `B=A[0:k+1,0:k+1]`. We denote it $B=A^{(k)}$\n",
    "\n",
    "The Principal Minors of $A$ are the determinants of the $A^{(k)}$"
   ]
  },
  {
   "cell_type": "markdown",
   "id": "6f8fa1a5",
   "metadata": {},
   "source": [
    "#### Exercises\n",
    "\n",
    "Verify that the Principla Minors of you M-matrix, $A$ are all positive."
   ]
  },
  {
   "cell_type": "code",
   "execution_count": 44,
   "id": "989377eb",
   "metadata": {},
   "outputs": [
    {
     "name": "stdout",
     "output_type": "stream",
     "text": [
      "k=0, det(Ak)=1.000\n",
      "k=1, det(Ak)=5.000\n",
      "k=2, det(Ak)=19.000\n",
      "k=3, det(Ak)=51.000\n",
      "k=4, det(Ak)=91.000\n"
     ]
    }
   ],
   "source": [
    "for k in range(5):\n",
    "    Ak = A[0:k,0:k]\n",
    "    print(f\"k={k:d}, det(Ak)={det(Ak):.3f}\")"
   ]
  },
  {
   "cell_type": "markdown",
   "id": "d13f790e",
   "metadata": {},
   "source": [
    "## SPD matrices\n",
    "\n",
    "The simplest way of making up an SPD matrix to to choose any invertible matrix $C$, and set $A=C^T C$.\n",
    "\n",
    "Example (and note the use of `.T` for transpose and `@` for matrix multiplicaiton."
   ]
  },
  {
   "cell_type": "code",
   "execution_count": 62,
   "id": "362380d2",
   "metadata": {},
   "outputs": [
    {
     "name": "stdout",
     "output_type": "stream",
     "text": [
      "[[ 8 -2]\n",
      " [-2  1]]\n"
     ]
    }
   ],
   "source": [
    "C= np.array([\n",
    "    [2, -1],\n",
    "    [-2, 0]\n",
    "])\n",
    "A = C.T @ C\n",
    "print(A)"
   ]
  },
  {
   "cell_type": "markdown",
   "id": "0e59b7d3",
   "metadata": {},
   "source": [
    "We know that $A$ SPD *if and only if* $A=A^T$ and all the eigenvalues of $A$ are positive.\n",
    "Let's check:"
   ]
  },
  {
   "cell_type": "code",
   "execution_count": 58,
   "id": "db509e6c",
   "metadata": {},
   "outputs": [
    {
     "name": "stdout",
     "output_type": "stream",
     "text": [
      "Check A=A^T: True\n"
     ]
    }
   ],
   "source": [
    "print(f\"Check A=A^T: {norm(A-A.T)==0}\")"
   ]
  },
  {
   "cell_type": "code",
   "execution_count": 63,
   "id": "ea17acfd",
   "metadata": {},
   "outputs": [
    {
     "name": "stdout",
     "output_type": "stream",
     "text": [
      "8.531128874149275\n",
      "0.4688711258507251\n"
     ]
    }
   ],
   "source": [
    "l = eigvals(A)\n",
    "for lambda_k in l:\n",
    "    print(lambda_k)"
   ]
  },
  {
   "cell_type": "markdown",
   "id": "25176ecb",
   "metadata": {},
   "source": [
    "### Exerise\n",
    "Make up a $4 \\times 4$ SPD matrix and check that it is SPD."
   ]
  },
  {
   "cell_type": "code",
   "execution_count": null,
   "id": "969d0e72",
   "metadata": {},
   "outputs": [],
   "source": []
  },
  {
   "cell_type": "markdown",
   "id": "38727300",
   "metadata": {},
   "source": [
    "### Exercise\n",
    "Verify that all the leading principal submatrices of your example are SPD"
   ]
  },
  {
   "cell_type": "code",
   "execution_count": null,
   "id": "9a6e7f08",
   "metadata": {},
   "outputs": [],
   "source": []
  },
  {
   "cell_type": "markdown",
   "id": "77ddc112",
   "metadata": {},
   "source": [
    "## To finish\n",
    "\n",
    "If you are doing assessment for the summer school send your completed notebook to Niall (mailto:Niall.Madden@UniversityOfGalway.ie), in either PDF or HTML formats.\n"
   ]
  },
  {
   "cell_type": "markdown",
   "id": "81556a7c",
   "metadata": {},
   "source": [
    "## Part 2:\n",
    "* Send Niall written solutions to the following Questions (to be added later!)"
   ]
  }
 ],
 "metadata": {
  "kernelspec": {
   "display_name": "FD25i",
   "language": "python",
   "name": "fd25i"
  },
  "language_info": {
   "codemirror_mode": {
    "name": "ipython",
    "version": 3
   },
   "file_extension": ".py",
   "mimetype": "text/x-python",
   "name": "python",
   "nbconvert_exporter": "python",
   "pygments_lexer": "ipython3",
   "version": "3.11.6"
  },
  "toc": {
   "base_numbering": 1,
   "nav_menu": {},
   "number_sections": true,
   "sideBar": true,
   "skip_h1_title": true,
   "title_cell": "Table of Contents",
   "title_sidebar": "Contents",
   "toc_cell": true,
   "toc_position": {},
   "toc_section_display": true,
   "toc_window_display": false
  },
  "varInspector": {
   "cols": {
    "lenName": 16,
    "lenType": 16,
    "lenVar": 40
   },
   "kernels_config": {
    "python": {
     "delete_cmd_postfix": "",
     "delete_cmd_prefix": "del ",
     "library": "var_list.py",
     "varRefreshCmd": "print(var_dic_list())"
    },
    "r": {
     "delete_cmd_postfix": ") ",
     "delete_cmd_prefix": "rm(",
     "library": "var_list.r",
     "varRefreshCmd": "cat(var_dic_list()) "
    }
   },
   "types_to_exclude": [
    "module",
    "function",
    "builtin_function_or_method",
    "instance",
    "_Feature"
   ],
   "window_display": false
  }
 },
 "nbformat": 4,
 "nbformat_minor": 5
}
