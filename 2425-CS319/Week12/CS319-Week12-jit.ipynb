{
 "cells": [
  {
   "cell_type": "markdown",
   "id": "f300cda1",
   "metadata": {
    "slideshow": {
     "slide_type": "skip"
    },
    "toc": true
   },
   "source": [
    "<h1>Table of Contents<span class=\"tocSkip\"></span></h1>\n",
    "<div class=\"toc\"><ul class=\"toc-item\"><li><span><a href=\"#Load-the-modules\" data-toc-modified-id=\"Load-the-modules-1\"><span class=\"toc-item-num\">1&nbsp;&nbsp;</span>Load the modules</a></span></li><li><span><a href=\"#Time-matrix-multiplication-without-jit\" data-toc-modified-id=\"Time-matrix-multiplication-without-jit-2\"><span class=\"toc-item-num\">2&nbsp;&nbsp;</span>Time matrix multiplication without <code>jit</code></a></span></li><li><span><a href=\"#Try-jit\" data-toc-modified-id=\"Try-jit-3\"><span class=\"toc-item-num\">3&nbsp;&nbsp;</span>Try <code>jit</code></a></span></li><li><span><a href=\"#Correct-answer?\" data-toc-modified-id=\"Correct-answer?-4\"><span class=\"toc-item-num\">4&nbsp;&nbsp;</span>Correct answer?</a></span></li></ul></div>"
   ]
  },
  {
   "cell_type": "markdown",
   "id": "7824cd41",
   "metadata": {
    "hideCode": true,
    "slideshow": {
     "slide_type": "slide"
    }
   },
   "source": [
    "# 2425-CS319 Week 12: `jit`\n",
    "\n",
    "An example of using just-in-time compilation.\n",
    "For 2425-CS319 Week 12. Unfortunately, this will not work on `cloudjupyter`"
   ]
  },
  {
   "cell_type": "markdown",
   "id": "6aa9856e",
   "metadata": {
    "slideshow": {
     "slide_type": "-"
    }
   },
   "source": [
    "## Load the modules"
   ]
  },
  {
   "cell_type": "code",
   "execution_count": null,
   "id": "249ea990",
   "metadata": {},
   "outputs": [],
   "source": [
    "import numpy as np\n",
    "import time\n",
    "from numba import jit"
   ]
  },
  {
   "cell_type": "code",
   "execution_count": null,
   "id": "f8462be4",
   "metadata": {
    "slideshow": {
     "slide_type": "slide"
    }
   },
   "outputs": [],
   "source": [
    "### Define the function"
   ]
  },
  {
   "cell_type": "code",
   "execution_count": null,
   "id": "8ce4adaf",
   "metadata": {},
   "outputs": [],
   "source": [
    "def MatMat(A,B):\n",
    "    N = len(A)\n",
    "    C = np.zeros((N,N), dtype=A.dtype)\n",
    "    for i in range(N):\n",
    "        for j in range(N):\n",
    "            for k in range(N):\n",
    "                C[i][j]+=A[i,k]*B[k,j]\n",
    "    return C "
   ]
  },
  {
   "cell_type": "markdown",
   "id": "ebf2994b",
   "metadata": {
    "slideshow": {
     "slide_type": "slide"
    }
   },
   "source": [
    "## Time matrix multiplication without `jit`"
   ]
  },
  {
   "cell_type": "code",
   "execution_count": null,
   "id": "b2ba1fe2",
   "metadata": {},
   "outputs": [],
   "source": [
    "N = 400;\n",
    "A = np.random.rand(N,N)"
   ]
  },
  {
   "cell_type": "code",
   "execution_count": null,
   "id": "2eb634f1",
   "metadata": {},
   "outputs": [],
   "source": [
    "start = time.time()\n",
    "C1 = MatMat(A,A)\n",
    "MatMat_time = time.time() - start\n",
    "print(f\"MatMat for {N}-by-{N} matrix took {MatMat_time :.3f} seconds\")"
   ]
  },
  {
   "cell_type": "markdown",
   "id": "f30f017c",
   "metadata": {
    "slideshow": {
     "slide_type": "subslide"
    }
   },
   "source": [
    "Sometimes (see following slides) code can be faster when run a second time. Let's check if that is the case here (I don't think it will be)"
   ]
  },
  {
   "cell_type": "code",
   "execution_count": null,
   "id": "a0809816",
   "metadata": {},
   "outputs": [],
   "source": [
    "start = time.time()\n",
    "C1 = MatMat(A,A)\n",
    "MatMat_time = time.time() - start\n",
    "print(f\"MatMat for {N}-by-{N} matrix took {MatMat_time :.3f} seconds\")"
   ]
  },
  {
   "cell_type": "markdown",
   "id": "b40373c7",
   "metadata": {
    "slideshow": {
     "slide_type": "subslide"
    }
   },
   "source": [
    "## Try `jit`\n",
    "Now let's decorate so that the `just-in-time` compiler is called."
   ]
  },
  {
   "cell_type": "code",
   "execution_count": null,
   "id": "19906f5d",
   "metadata": {},
   "outputs": [],
   "source": [
    "@jit(parallel=True, fastmath=True)\n",
    "def MatMatjit(A,B):\n",
    "    N = len(A)\n",
    "    C = np.zeros((N,N), dtype=A.dtype)\n",
    "    for i in range(N):\n",
    "        for j in range(N):\n",
    "            for k in range(N):\n",
    "                C[i][j]+=A[i,k]*B[k,j]\n",
    "    return C "
   ]
  },
  {
   "cell_type": "markdown",
   "id": "70553351",
   "metadata": {
    "slideshow": {
     "slide_type": "subslide"
    }
   },
   "source": [
    "Run the decorated function first time (which will cause compilation)"
   ]
  },
  {
   "cell_type": "code",
   "execution_count": null,
   "id": "1d7f99e7",
   "metadata": {},
   "outputs": [],
   "source": [
    "start = time.time()\n",
    "C2 = MatMatjit(A,A)\n",
    "MatMatjit_time = time.time() - start\n",
    "print(f\"MatMatjit for {N}-by-{N} matrix took {MatMatjit_time :.3f} seconds\")"
   ]
  },
  {
   "cell_type": "markdown",
   "id": "0e1f3616",
   "metadata": {},
   "source": [
    "Now run it a second time, so that we use the compiled version."
   ]
  },
  {
   "cell_type": "code",
   "execution_count": null,
   "id": "8215ecd7",
   "metadata": {},
   "outputs": [],
   "source": [
    "start = time.time()\n",
    "C2 = MatMatjit(A,A)\n",
    "MatMatjit_time = time.time() - start\n",
    "print(f\"MatMatjit for {N}-by-{N} matrix took {MatMatjit_time :.3f} seconds\")"
   ]
  },
  {
   "cell_type": "markdown",
   "id": "63fddf91",
   "metadata": {
    "slideshow": {
     "slide_type": "slide"
    }
   },
   "source": [
    "Of course, this particular example is best done in `numpy`:"
   ]
  },
  {
   "cell_type": "code",
   "execution_count": null,
   "id": "67831cfe",
   "metadata": {},
   "outputs": [],
   "source": [
    "start = time.time()\n",
    "C3 = A@A # use NumPy\n",
    "Numpy_time = time.time() - start\n",
    "print(f\"A@A  for {N}-by-{N} matrix took {Numpy_time :.3f} seconds\")"
   ]
  },
  {
   "cell_type": "markdown",
   "id": "50e2a984",
   "metadata": {
    "slideshow": {
     "slide_type": "subslide"
    }
   },
   "source": [
    "## Correct answer?\n",
    "Check we are getting the right answer:"
   ]
  },
  {
   "cell_type": "code",
   "execution_count": null,
   "id": "fabeefed",
   "metadata": {},
   "outputs": [],
   "source": [
    "print(f\"Difference for use slow and jit:  {np.linalg.norm(C1-C2):10.4e}\")\n",
    "print(f\"Difference for use numpy and jit: {np.linalg.norm(C3-C2):10.4e}\")"
   ]
  }
 ],
 "metadata": {
  "celltoolbar": "Slideshow",
  "kernelspec": {
   "display_name": "CS319",
   "language": "python",
   "name": "cs319"
  },
  "language_info": {
   "codemirror_mode": {
    "name": "ipython",
    "version": 3
   },
   "file_extension": ".py",
   "mimetype": "text/x-python",
   "name": "python",
   "nbconvert_exporter": "python",
   "pygments_lexer": "ipython3",
   "version": "3.9.15"
  },
  "toc": {
   "base_numbering": 1,
   "nav_menu": {},
   "number_sections": true,
   "sideBar": true,
   "skip_h1_title": true,
   "title_cell": "Table of Contents",
   "title_sidebar": "Contents",
   "toc_cell": true,
   "toc_position": {},
   "toc_section_display": true,
   "toc_window_display": false
  },
  "varInspector": {
   "cols": {
    "lenName": 16,
    "lenType": 16,
    "lenVar": 40
   },
   "kernels_config": {
    "python": {
     "delete_cmd_postfix": "",
     "delete_cmd_prefix": "del ",
     "library": "var_list.py",
     "varRefreshCmd": "print(var_dic_list())"
    },
    "r": {
     "delete_cmd_postfix": ") ",
     "delete_cmd_prefix": "rm(",
     "library": "var_list.r",
     "varRefreshCmd": "cat(var_dic_list()) "
    }
   },
   "types_to_exclude": [
    "module",
    "function",
    "builtin_function_or_method",
    "instance",
    "_Feature"
   ],
   "window_display": false
  }
 },
 "nbformat": 4,
 "nbformat_minor": 5
}
