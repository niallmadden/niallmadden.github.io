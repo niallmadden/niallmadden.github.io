{
 "cells": [
  {
   "cell_type": "markdown",
   "metadata": {
    "slideshow": {
     "slide_type": "slide"
    }
   },
   "source": [
    "# CS319  Week 06 : Review of some Python list  basics\n",
    "\n",
    "In this notebook we will revise a little about working with lists in `Python`. This was skimmed in class.\n"
   ]
  },
  {
   "cell_type": "markdown",
   "metadata": {
    "slideshow": {
     "slide_type": "slide"
    }
   },
   "source": [
    "## Storage types in `Python`\n",
    "\n",
    "In C++ we use  arrays to store collections of values of the same type. \n",
    "\n",
    "In Python, there are several ways of doing this:\n",
    "* **Lists**: a list is a mutable (= changeable) ordered collection. Duplicates are allowed.\n",
    "* **Tuples**: a tuple is an immutable ordered collection. Duplicates are allowed.\n",
    "* **Sets**: a (Python) set is a mutable unordered collection without duplicates.\n",
    "* **Dictionaries**: a dictionary is an unordered but indexed mutable collection without duplicate indices.\n",
    "\n",
    "But today we only care about `list`s and, later `numpy` arrays."
   ]
  },
  {
   "cell_type": "markdown",
   "metadata": {
    "slideshow": {
     "slide_type": "slide"
    }
   },
   "source": [
    "## Lists\n",
    "\n",
    "* **A `list` is a sequence of values**. But, whereas a string is a sequence of characters, a list can be a sequence of  any type. \n",
    "* The values in a list are called _items_ or _elements_.\n",
    "* The list starts with `[`, ends with `]`, and items are separated by commas.\n",
    "\n",
    "We'll remind ourselves of...\n",
    "* What a list is\n",
    "* How to create one\n",
    "* Modifying items in a list\n",
    "* Indexing and slicing\n",
    "* How to traverse a list with a `for` loop\n",
    "* Some functions/methods for operating on a list\n"
   ]
  },
  {
   "cell_type": "markdown",
   "metadata": {
    "slideshow": {
     "slide_type": "slide"
    }
   },
   "source": [
    "## Making lists\n",
    "### Making a list with `[` and `]`\n",
    "\n",
    "The simplest way to create a list is using square backets, `[` and `]`, with a comma between elements."
   ]
  },
  {
   "cell_type": "code",
   "execution_count": 1,
   "metadata": {},
   "outputs": [
    {
     "data": {
      "text/plain": [
       "[0, 1, 2, 3, 4]"
      ]
     },
     "execution_count": 1,
     "metadata": {},
     "output_type": "execute_result"
    }
   ],
   "source": [
    "[0, 1, 2, 3, 4] # a list of integers"
   ]
  },
  {
   "cell_type": "code",
   "execution_count": 2,
   "metadata": {},
   "outputs": [
    {
     "data": {
      "text/plain": [
       "['zero', 'one', 'two', 'three']"
      ]
     },
     "execution_count": 2,
     "metadata": {},
     "output_type": "execute_result"
    }
   ],
   "source": [
    "['zero', 'one', 'two', 'three'] # a list of strings"
   ]
  },
  {
   "cell_type": "markdown",
   "metadata": {
    "slideshow": {
     "slide_type": "slide"
    }
   },
   "source": [
    "Usually, we assign a variable name to the list."
   ]
  },
  {
   "cell_type": "code",
   "execution_count": 3,
   "metadata": {},
   "outputs": [],
   "source": [
    "my_favourite_numbers = [0, 4, 1024]"
   ]
  },
  {
   "cell_type": "code",
   "execution_count": 4,
   "metadata": {},
   "outputs": [
    {
     "name": "stdout",
     "output_type": "stream",
     "text": [
      "[0, 4, 1024]\n"
     ]
    }
   ],
   "source": [
    "print(f\"{my_favourite_numbers}\")"
   ]
  },
  {
   "cell_type": "code",
   "execution_count": 5,
   "metadata": {},
   "outputs": [
    {
     "name": "stdout",
     "output_type": "stream",
     "text": [
      "The list has 3 items\n"
     ]
    }
   ],
   "source": [
    "print(f\"The list has {len(my_favourite_numbers)} items\")"
   ]
  },
  {
   "cell_type": "markdown",
   "metadata": {
    "slideshow": {
     "slide_type": "slide"
    }
   },
   "source": [
    "## More about lists in `Python`\n",
    "\n",
    "**The next parts are not so important for today: you can skip to the section on `numpy`, if you like**"
   ]
  },
  {
   "cell_type": "markdown",
   "metadata": {
    "slideshow": {
     "slide_type": "subslide"
    }
   },
   "source": [
    "### A list with different types of items\n",
    "\n",
    "An item in a list can be just about anything. And items in a list can be of different types from each other.\n",
    "This list includes strings, an integer, a float, and a boolean."
   ]
  },
  {
   "cell_type": "code",
   "execution_count": 6,
   "metadata": {},
   "outputs": [
    {
     "name": "stdout",
     "output_type": "stream",
     "text": [
      "['CS319', 'Scientific Computing', 22, 78.5, True]\n"
     ]
    }
   ],
   "source": [
    "mixed_list = [\"CS319\", \"Scientific Computing\", 22, 78.5, True]\n",
    "print(mixed_list)"
   ]
  },
  {
   "cell_type": "code",
   "execution_count": 7,
   "metadata": {},
   "outputs": [
    {
     "data": {
      "text/plain": [
       "list"
      ]
     },
     "execution_count": 7,
     "metadata": {},
     "output_type": "execute_result"
    }
   ],
   "source": [
    "type(mixed_list)"
   ]
  },
  {
   "cell_type": "code",
   "execution_count": 8,
   "metadata": {},
   "outputs": [
    {
     "data": {
      "text/plain": [
       "int"
      ]
     },
     "execution_count": 8,
     "metadata": {},
     "output_type": "execute_result"
    }
   ],
   "source": [
    "type(mixed_list[2])"
   ]
  },
  {
   "cell_type": "markdown",
   "metadata": {
    "slideshow": {
     "slide_type": "subslide"
    }
   },
   "source": [
    "You can even make a list with includes another list as an item. This is called _nesting_"
   ]
  },
  {
   "cell_type": "code",
   "execution_count": 9,
   "metadata": {},
   "outputs": [
    {
     "name": "stdout",
     "output_type": "stream",
     "text": [
      "['CS319', '3BS2', 22, 87.5, False, ['CS319', 'MA378', 'CS211', 'MA385']]\n"
     ]
    }
   ],
   "source": [
    "code         = \"CS319\" # string\n",
    "instance     = \"3BS2\"  # string\n",
    "num_students = 22      # int\n",
    "ave_grade    = 87.5    # float\n",
    "has_exam     = False;  # boolean  \n",
    "modules = [\"CS319\", \"MA378\", \"CS211\", \"MA385\"]  # list\n",
    "\n",
    "new_list = [code, instance, num_students, ave_grade, has_exam, modules ]\n",
    "print(new_list)\n"
   ]
  },
  {
   "cell_type": "code",
   "execution_count": 10,
   "metadata": {},
   "outputs": [
    {
     "data": {
      "text/plain": [
       "'CS319'"
      ]
     },
     "execution_count": 10,
     "metadata": {},
     "output_type": "execute_result"
    }
   ],
   "source": [
    "new_list[5][0] "
   ]
  },
  {
   "cell_type": "markdown",
   "metadata": {
    "slideshow": {
     "slide_type": "slide"
    }
   },
   "source": [
    "### `len()`\n",
    "There are many operations that can be preformed on lists. One of the most important is counting the number of items in a list. In Python, the `len()` function can be applied to various types, including `list`s. "
   ]
  },
  {
   "cell_type": "code",
   "execution_count": 11,
   "metadata": {
    "slideshow": {
     "slide_type": "-"
    }
   },
   "outputs": [
    {
     "name": "stdout",
     "output_type": "stream",
     "text": [
      "You can choose from 5 modules in 3BS2\n"
     ]
    }
   ],
   "source": [
    "modules_in_3BS2 = [\"CS300\", \"MP311\", \"MA322\", \"ST333\", 'CS344']\n",
    "number_of_modules = len(modules_in_3BS2)\n",
    "print(f\"You can choose from {number_of_modules} modules in 3BS2\")"
   ]
  },
  {
   "cell_type": "markdown",
   "metadata": {
    "slideshow": {
     "slide_type": "subslide"
    }
   },
   "source": [
    "### Making a list with `list()`\n",
    "\n",
    "One can also use the function `list()` to create a new list from an object, such as a `range` of numbers, or a `string`."
   ]
  },
  {
   "cell_type": "code",
   "execution_count": 12,
   "metadata": {},
   "outputs": [
    {
     "name": "stdout",
     "output_type": "stream",
     "text": [
      "[0, 1, 2, 3, 4, 5, 6, 7, 8, 9]\n"
     ]
    }
   ],
   "source": [
    "list_of_numbers = list(range(10))\n",
    "print(list_of_numbers)"
   ]
  },
  {
   "cell_type": "code",
   "execution_count": 13,
   "metadata": {},
   "outputs": [
    {
     "data": {
      "text/plain": [
       "['h', 'e', 'l', 'l', 'o']"
      ]
     },
     "execution_count": 13,
     "metadata": {},
     "output_type": "execute_result"
    }
   ],
   "source": [
    "list(\"hello\")"
   ]
  },
  {
   "cell_type": "markdown",
   "metadata": {
    "slideshow": {
     "slide_type": "slide"
    }
   },
   "source": [
    "### Indexing\n",
    "* Lists are indexed from zero\n",
    "* the first element is `L[0]`, the second is `L[1]`, etc. \n",
    "* The last is `L[-1]` which is the same as `L[len(L)-1]`."
   ]
  },
  {
   "cell_type": "code",
   "execution_count": 14,
   "metadata": {},
   "outputs": [
    {
     "data": {
      "text/plain": [
       "['CS300', 'MP311', 'MA322', 'ST333', 'CS344']"
      ]
     },
     "execution_count": 14,
     "metadata": {},
     "output_type": "execute_result"
    }
   ],
   "source": [
    "modules_in_3BS2"
   ]
  },
  {
   "cell_type": "code",
   "execution_count": 15,
   "metadata": {},
   "outputs": [
    {
     "data": {
      "text/plain": [
       "'CS300'"
      ]
     },
     "execution_count": 15,
     "metadata": {},
     "output_type": "execute_result"
    }
   ],
   "source": [
    "modules_in_3BS2[0]  # first item"
   ]
  },
  {
   "cell_type": "code",
   "execution_count": 16,
   "metadata": {},
   "outputs": [
    {
     "data": {
      "text/plain": [
       "'CS344'"
      ]
     },
     "execution_count": 16,
     "metadata": {},
     "output_type": "execute_result"
    }
   ],
   "source": [
    "modules_in_3BS2[-1]  # last item"
   ]
  },
  {
   "cell_type": "markdown",
   "metadata": {
    "slideshow": {
     "slide_type": "slide"
    }
   },
   "source": [
    "### Slicing\n",
    "\n",
    "We create a sub-list from a string using the \"`colon`\" notation.\n",
    "The syntax is `L[a:b]` which is the same as `[L[a], L[a+1], ..., L[b-1]]`"
   ]
  },
  {
   "cell_type": "code",
   "execution_count": 17,
   "metadata": {},
   "outputs": [
    {
     "name": "stdout",
     "output_type": "stream",
     "text": [
      "['CS300', 'MP311', 'MA322', 'ST333', 'CS344']\n"
     ]
    }
   ],
   "source": [
    "print(modules_in_3BS2)"
   ]
  },
  {
   "cell_type": "code",
   "execution_count": 18,
   "metadata": {
    "slideshow": {
     "slide_type": "-"
    }
   },
   "outputs": [
    {
     "name": "stdout",
     "output_type": "stream",
     "text": [
      "['CS300', 'MP311', 'MA322']\n"
     ]
    }
   ],
   "source": [
    "print(modules_in_3BS2[0:3])  # first 3"
   ]
  },
  {
   "cell_type": "code",
   "execution_count": 19,
   "metadata": {},
   "outputs": [
    {
     "name": "stdout",
     "output_type": "stream",
     "text": [
      "['MP311', 'MA322', 'ST333']\n"
     ]
    }
   ],
   "source": [
    "print(modules_in_3BS2[1:4])  # middle 3"
   ]
  },
  {
   "cell_type": "code",
   "execution_count": 20,
   "metadata": {},
   "outputs": [
    {
     "name": "stdout",
     "output_type": "stream",
     "text": [
      "['MA322', 'ST333', 'CS344']\n"
     ]
    }
   ],
   "source": [
    "print(modules_in_3BS2[2:5])  # last 3"
   ]
  },
  {
   "cell_type": "markdown",
   "metadata": {
    "slideshow": {
     "slide_type": "slide"
    }
   },
   "source": [
    "We can also use the notation `a:b:s` which means `start at a, go to b in steps of s`."
   ]
  },
  {
   "cell_type": "code",
   "execution_count": 21,
   "metadata": {
    "slideshow": {
     "slide_type": "-"
    }
   },
   "outputs": [
    {
     "name": "stdout",
     "output_type": "stream",
     "text": [
      "['CS300', 'MA322', 'CS344']\n"
     ]
    }
   ],
   "source": [
    "print(modules_in_3BS2[0:5:2])  # every second one"
   ]
  },
  {
   "cell_type": "markdown",
   "metadata": {},
   "source": [
    "If you leave out either `a` or `b` they are assumed to be the start and end of the list, if `s` is positive. "
   ]
  },
  {
   "cell_type": "code",
   "execution_count": 22,
   "metadata": {},
   "outputs": [
    {
     "name": "stdout",
     "output_type": "stream",
     "text": [
      "['CS300', 'MA322', 'CS344']\n"
     ]
    }
   ],
   "source": [
    "print(modules_in_3BS2[::2])  # every second one"
   ]
  },
  {
   "cell_type": "markdown",
   "metadata": {
    "slideshow": {
     "slide_type": "subslide"
    }
   },
   "source": [
    "### More list functions\n",
    "\n"
   ]
  },
  {
   "cell_type": "markdown",
   "metadata": {},
   "source": [
    "* Add a new item to the end"
   ]
  },
  {
   "cell_type": "code",
   "execution_count": 23,
   "metadata": {},
   "outputs": [
    {
     "name": "stdout",
     "output_type": "stream",
     "text": [
      "The modules in 3BS2 are : ['CS300', 'MP311', 'MA322', 'ST333', 'CS344', 'DS555']\n"
     ]
    }
   ],
   "source": [
    "modules_in_3BS2 = modules_in_3BS2 + [\"DS555\"]\n",
    "print(f\"The modules in 3BS2 are : {modules_in_3BS2}\")"
   ]
  },
  {
   "cell_type": "markdown",
   "metadata": {
    "slideshow": {
     "slide_type": "subslide"
    }
   },
   "source": [
    "* Similarly `L.extend(list2)` adds the items in `list2` to the end of `L`.\n",
    "* `L.append(\"new item\")` adds a single new item to a list.\n",
    "* `L.insert(<position>, <item>)` adds a new `<item>` to the specified `<position>`. Anything to the right of that position is shuffled right.\n",
    "* `L.remove(entry)`  removes the specific entry from a list (error if it is no present)\n",
    "* Use `del` to remove an entry by index. "
   ]
  },
  {
   "cell_type": "markdown",
   "metadata": {
    "slideshow": {
     "slide_type": "slide"
    }
   },
   "source": [
    "## Taversing a list with a `for` loop\n",
    "\n",
    "**`for` loops** work well with lists.\n",
    "One form of the `for` statement is\n",
    "```python\n",
    "for <var> in <list>:\n",
    "    <body>\n",
    "```\n",
    "It consists of a **heading** and a **body** The heading, between the keyword `for` and the colon (`:`) introduces a **loop variable** `<var>` and refers to a list `<list>`.\n",
    "The `<body>` is a consistently indented sequence of statements."
   ]
  },
  {
   "cell_type": "markdown",
   "metadata": {
    "slideshow": {
     "slide_type": "subslide"
    }
   },
   "source": [
    "When executed, a `for` statement results in the execution of its `<body>` of statements once for each item of the list (in order). The particular item for each iteration is stored as the value of the variable `<var>`."
   ]
  },
  {
   "cell_type": "code",
   "execution_count": 24,
   "metadata": {},
   "outputs": [
    {
     "data": {
      "text/plain": [
       "[10, 3, -1, -11, 12]"
      ]
     },
     "execution_count": 24,
     "metadata": {},
     "output_type": "execute_result"
    }
   ],
   "source": [
    "numbers = [10, 3, -1, -11, 12]\n",
    "numbers"
   ]
  },
  {
   "cell_type": "code",
   "execution_count": 25,
   "metadata": {},
   "outputs": [
    {
     "name": "stdout",
     "output_type": "stream",
     "text": [
      "10--**--3--**---1--**---11--**--12--**--"
     ]
    }
   ],
   "source": [
    "for item in numbers:\n",
    "    print(item, end=\"--**--\")"
   ]
  },
  {
   "cell_type": "markdown",
   "metadata": {
    "slideshow": {
     "slide_type": "subslide"
    }
   },
   "source": [
    "Often we want to change items in the list. In the following example, we'll take a list of 3BS2 modules, and add a prefix of `2324-` to each code. For that we'll need to keep count of the items"
   ]
  },
  {
   "cell_type": "markdown",
   "metadata": {
    "slideshow": {
     "slide_type": "slide"
    }
   },
   "source": [
    "There are lots more we could cover on lists, \n",
    "Map/Filter/Reduce, the `in` operator, adding and multiplying lists, sorting, etc...\n",
    "\n",
    "But they are not so relevant for CS319. So we'll skip (for now)."
   ]
  }
 ],
 "metadata": {
  "celltoolbar": "Slideshow",
  "kernelspec": {
   "display_name": "2324-CS319",
   "language": "python",
   "name": "2324-cs319"
  },
  "language_info": {
   "codemirror_mode": {
    "name": "ipython",
    "version": 3
   },
   "file_extension": ".py",
   "mimetype": "text/x-python",
   "name": "python",
   "nbconvert_exporter": "python",
   "pygments_lexer": "ipython3",
   "version": "3.13.2"
  },
  "rise": {
   "footer": "<h2>CS319</h2>",
   "header": "<h2>Week 06</h2>",
   "theme": "white"
  },
  "toc": {
   "base_numbering": 1,
   "nav_menu": {},
   "number_sections": true,
   "sideBar": false,
   "skip_h1_title": true,
   "title_cell": "Table of Contents",
   "title_sidebar": "Contents",
   "toc_cell": false,
   "toc_position": {
    "height": "420.938px",
    "left": "1857.98px",
    "top": "0px",
    "width": "169.097px"
   },
   "toc_section_display": true,
   "toc_window_display": true
  },
  "varInspector": {
   "cols": {
    "lenName": 16,
    "lenType": 16,
    "lenVar": 40
   },
   "kernels_config": {
    "python": {
     "delete_cmd_postfix": "",
     "delete_cmd_prefix": "del ",
     "library": "var_list.py",
     "varRefreshCmd": "print(var_dic_list())"
    },
    "r": {
     "delete_cmd_postfix": ") ",
     "delete_cmd_prefix": "rm(",
     "library": "var_list.r",
     "varRefreshCmd": "cat(var_dic_list()) "
    }
   },
   "types_to_exclude": [
    "module",
    "function",
    "builtin_function_or_method",
    "instance",
    "_Feature"
   ],
   "window_display": false
  }
 },
 "nbformat": 4,
 "nbformat_minor": 2
}
