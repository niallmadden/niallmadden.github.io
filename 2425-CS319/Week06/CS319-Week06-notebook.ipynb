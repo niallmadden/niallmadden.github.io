{
 "cells": [
  {
   "cell_type": "markdown",
   "metadata": {
    "slideshow": {
     "slide_type": "slide"
    }
   },
   "source": [
    "# CS319  Week 06  : Experimental Algorithm Analysis (in Python)\n",
    "\n",
    "In this notebook we will\n",
    "* revise  using  'numpy' nad `numpy`  arrays;\n",
    "* do a little plotting with `matplotlib`. \n",
    "* I'll assume you know about f-strings"
   ]
  },
  {
   "cell_type": "markdown",
   "metadata": {
    "slideshow": {
     "slide_type": "slide"
    }
   },
   "source": [
    "## `numpy`\n",
    "\n",
    "`numpy` (pronoucned \"/numb-pee/\" or \"/numb-pie/\") is the primary module for working with arrays of data in Python.\n",
    "\n",
    "We use the word `array` in the same sense it is used in C++: it is a collection of items all of the same data type. Working with numpy arrays is MUCH faster than with lists. \n",
    "\n",
    "There are two reasons why\n",
    "1. It is easy to locate any element in memory. \n",
    "2. Most of the data types and functions are actually implemented in C++, rather than Python."
   ]
  },
  {
   "cell_type": "markdown",
   "metadata": {
    "slideshow": {
     "slide_type": "subslide"
    }
   },
   "source": [
    "### Loading the module\n",
    "\n",
    "To use `numpy` you must import the module. By convention, this is done as:"
   ]
  },
  {
   "cell_type": "code",
   "execution_count": 1,
   "metadata": {},
   "outputs": [],
   "source": [
    "import numpy as np"
   ]
  },
  {
   "cell_type": "markdown",
   "metadata": {},
   "source": [
    "There are lots of ways of creating an `numpy` array. For example, to make an array from a list, use the `np.array()` function:"
   ]
  },
  {
   "cell_type": "code",
   "execution_count": 2,
   "metadata": {},
   "outputs": [
    {
     "data": {
      "text/plain": [
       "numpy.ndarray"
      ]
     },
     "execution_count": 2,
     "metadata": {},
     "output_type": "execute_result"
    }
   ],
   "source": [
    "N=np.array([4, 8, 16, 32, 64, 128, 256, 512])\n",
    "type(N)"
   ]
  },
  {
   "cell_type": "code",
   "execution_count": 3,
   "metadata": {
    "slideshow": {
     "slide_type": "slide"
    }
   },
   "outputs": [
    {
     "name": "stdout",
     "output_type": "stream",
     "text": [
      "Contents of T: [8.9400e-03 2.2367e-03 5.5930e-04 1.3983e-04 3.4958e-05 8.7396e-06\n",
      " 2.1849e-06 5.4622e-07]\n",
      "T is of type<class 'numpy.ndarray'>\n"
     ]
    }
   ],
   "source": [
    "T=np.array([8.9400e-03, 2.2367e-03, 5.5930e-04, 1.3983e-04, 3.4958e-05, 8.7396e-06, 2.1849e-06, 5.4622e-07])\n",
    "print(f\"Contents of T: {T}\")\n",
    "print(f\"T is of type{type(T)}\")"
   ]
  },
  {
   "cell_type": "markdown",
   "metadata": {},
   "source": [
    "Use the `dtype` method to check what the underlying type of the data is:"
   ]
  },
  {
   "cell_type": "code",
   "execution_count": 4,
   "metadata": {},
   "outputs": [
    {
     "name": "stdout",
     "output_type": "stream",
     "text": [
      "Data in T is of type float64\n",
      "Data in N is of type int64\n"
     ]
    }
   ],
   "source": [
    "print(f\"Data in T is of type {T.dtype}\")\n",
    "print(f\"Data in N is of type {N.dtype}\")"
   ]
  },
  {
   "cell_type": "markdown",
   "metadata": {
    "slideshow": {
     "slide_type": "slide"
    }
   },
   "source": [
    "## Functions of numpy arrays\n",
    "\n",
    "One of the many benefits of using `numpy` is that we can avoid writing explicit loops, since `numpy` comes with functions that map arrays to other arrays.\n",
    "\n",
    "Example:"
   ]
  },
  {
   "cell_type": "code",
   "execution_count": 5,
   "metadata": {},
   "outputs": [
    {
     "name": "stdout",
     "output_type": "stream",
     "text": [
      "[  4   8  16  32  64 128 256 512]\n",
      "[2. 3. 4. 5. 6. 7. 8. 9.]\n"
     ]
    }
   ],
   "source": [
    "print(N)\n",
    "print(np.log2(N))"
   ]
  },
  {
   "cell_type": "markdown",
   "metadata": {
    "slideshow": {
     "slide_type": "subslide"
    }
   },
   "source": [
    "Also, standard operators such as `+` and `*` can be used with these arrays:"
   ]
  },
  {
   "cell_type": "code",
   "execution_count": 6,
   "metadata": {},
   "outputs": [
    {
     "data": {
      "text/plain": [
       "array([   8,   16,   32,   64,  128,  256,  512, 1024])"
      ]
     },
     "execution_count": 6,
     "metadata": {},
     "output_type": "execute_result"
    }
   ],
   "source": [
    "N+N"
   ]
  },
  {
   "cell_type": "code",
   "execution_count": 7,
   "metadata": {},
   "outputs": [
    {
     "data": {
      "text/plain": [
       "array([0.14304   , 0.1431488 , 0.1431808 , 0.14318592, 0.14318797,\n",
       "       0.14318961, 0.14318961, 0.1431883 ])"
      ]
     },
     "execution_count": 7,
     "metadata": {},
     "output_type": "execute_result"
    }
   ],
   "source": [
    "T*N*N # spoiler!!!!"
   ]
  },
  {
   "cell_type": "markdown",
   "metadata": {
    "slideshow": {
     "slide_type": "slide"
    }
   },
   "source": [
    "## Analysing the Quadrature Data\n",
    "\n"
   ]
  },
  {
   "cell_type": "markdown",
   "metadata": {},
   "source": [
    "We'll need the `matplotlib` library, as well as `numpy`"
   ]
  },
  {
   "cell_type": "code",
   "execution_count": 8,
   "metadata": {},
   "outputs": [],
   "source": [
    "import numpy as np\n",
    "import matplotlib.pyplot as plt"
   ]
  },
  {
   "cell_type": "markdown",
   "metadata": {
    "slideshow": {
     "slide_type": "subslide"
    }
   },
   "source": [
    "We copy some data computed by `00CheckConvergence.cpp`\n",
    "* `N` is the set of numbers of intervals used in the calculations\n",
    "* `T` is the set of values of `E_N` for the Trapezium Rule."
   ]
  },
  {
   "cell_type": "code",
   "execution_count": 9,
   "metadata": {},
   "outputs": [],
   "source": [
    "N=np.array([4, 8, 16, 32, 64, 128, 256, 512])\n",
    "T=np.array([8.940076e-03, 2.236764e-03, 5.593001e-04, 1.398319e-04, 3.495839e-05, 8.739624e-06, 2.184908e-06, 5.462270e-07])"
   ]
  },
  {
   "cell_type": "markdown",
   "metadata": {
    "slideshow": {
     "slide_type": "subslide"
    }
   },
   "source": [
    "Plot the data, using `matplotlib`"
   ]
  },
  {
   "cell_type": "code",
   "execution_count": 10,
   "metadata": {},
   "outputs": [
    {
     "data": {
      "image/png": "[encoded data removed]",
      "text/plain": [
       "<Figure size 640x480 with 1 Axes>"
      ]
     },
     "metadata": {},
     "output_type": "display_data"
    }
   ],
   "source": [
    "plt.plot(N, T, 'o')\n",
    "plt.xlabel('$N$')\n",
    "plt.ylabel('$E_N$')\n",
    "plt.show()"
   ]
  },
  {
   "cell_type": "markdown",
   "metadata": {
    "slideshow": {
     "slide_type": "subslide"
    }
   },
   "source": [
    "That last figure is not very informative...\n",
    "* on the horizontal axes, the data are too spread out\n",
    "* on the vertical axis the data is too compressed near $T=0$.\n",
    "\n",
    "We resolve this by using logarithmic axes:"
   ]
  },
  {
   "cell_type": "code",
   "execution_count": 11,
   "metadata": {
    "slideshow": {
     "slide_type": "subslide"
    }
   },
   "outputs": [
    {
     "data": {
      "image/png": "[encoded data removed]",
      "text/plain": [
       "<Figure size 640x480 with 1 Axes>"
      ]
     },
     "metadata": {},
     "output_type": "display_data"
    }
   ],
   "source": [
    "plt.loglog(N, T, 'o')\n",
    "plt.show()"
   ]
  },
  {
   "cell_type": "markdown",
   "metadata": {},
   "source": [
    "Looks like a straight line!"
   ]
  },
  {
   "cell_type": "markdown",
   "metadata": {
    "slideshow": {
     "slide_type": "subslide"
    }
   },
   "source": [
    "As discussed in class, $E_N \\approx C N^{-q}$. Then, if we set\n",
    "* `Y = log(T)`, \n",
    "* `X = log(N)`, and\n",
    "* `K = log(C)`,\\\n",
    "we get $Y \\approx K - qT$. We have $Y$ and $X$, so we want to estimate $K$ and $q$, which are the slope and $Y$-intercept of the line. \n",
    "\n",
    "We'll use the (depreciated) `np.polyfit()` function to compute the coefficients of the line that best fits (in a least squares sense) the points $(X, Y)$. "
   ]
  },
  {
   "cell_type": "markdown",
   "metadata": {
    "slideshow": {
     "slide_type": "subslide"
    }
   },
   "source": [
    "If we set `A=polyfit(x,y,n)` then `A` is a np.array with the coefficients of the polynomial of degree $n$ that best approximates the points $(x,y)$. That is \n",
    "$y \\approx A[0] x^n + A[1] x^{n-1} + \\dots + A[-1]$."
   ]
  },
  {
   "cell_type": "code",
   "execution_count": 12,
   "metadata": {},
   "outputs": [
    {
     "name": "stdout",
     "output_type": "stream",
     "text": [
      "We get K=-1.9443306386200654 and q=1.9998490653205538\n"
     ]
    }
   ],
   "source": [
    "X = np.log(N); Y = np.log(T)\n",
    "Fit = np.polyfit( X, Y,1)\n",
    "q = -Fit[0];\n",
    "K = Fit[1];\n",
    "print(f'We get K={K} and q={q}');"
   ]
  },
  {
   "cell_type": "markdown",
   "metadata": {},
   "source": [
    "We can now recover the value of $C$"
   ]
  },
  {
   "cell_type": "code",
   "execution_count": 13,
   "metadata": {},
   "outputs": [
    {
     "name": "stdout",
     "output_type": "stream",
     "text": [
      "C= 0.143 and q= 2.000\n"
     ]
    }
   ],
   "source": [
    "C = np.exp(K)\n",
    "print(f'C={C : .3f} and q={q : .3f}');"
   ]
  },
  {
   "cell_type": "markdown",
   "metadata": {
    "slideshow": {
     "slide_type": "subslide"
    }
   },
   "source": [
    "Let's plot to check:"
   ]
  },
  {
   "cell_type": "code",
   "execution_count": 14,
   "metadata": {},
   "outputs": [
    {
     "data": {
      "image/png": "[encoded data removed]",
      "text/plain": [
       "<Figure size 640x480 with 1 Axes>"
      ]
     },
     "metadata": {},
     "output_type": "display_data"
    }
   ],
   "source": [
    "plt.loglog(N, T, 'o', N, C*N**(-q), '--')\n",
    "plt.show()"
   ]
  }
 ],
 "metadata": {
  "celltoolbar": "Slideshow",
  "kernelspec": {
   "display_name": "2324-CS319",
   "language": "python",
   "name": "2324-cs319"
  },
  "language_info": {
   "codemirror_mode": {
    "name": "ipython",
    "version": 3
   },
   "file_extension": ".py",
   "mimetype": "text/x-python",
   "name": "python",
   "nbconvert_exporter": "python",
   "pygments_lexer": "ipython3",
   "version": "3.13.2"
  },
  "rise": {
   "footer": "<h2>CS319</h2>",
   "header": "<h2>Week 06</h2>",
   "theme": "white"
  },
  "toc": {
   "base_numbering": 1,
   "nav_menu": {},
   "number_sections": true,
   "sideBar": false,
   "skip_h1_title": true,
   "title_cell": "Table of Contents",
   "title_sidebar": "Contents",
   "toc_cell": false,
   "toc_position": {
    "height": "420.938px",
    "left": "1857.98px",
    "top": "0px",
    "width": "169.097px"
   },
   "toc_section_display": true,
   "toc_window_display": true
  },
  "varInspector": {
   "cols": {
    "lenName": 16,
    "lenType": 16,
    "lenVar": 40
   },
   "kernels_config": {
    "python": {
     "delete_cmd_postfix": "",
     "delete_cmd_prefix": "del ",
     "library": "var_list.py",
     "varRefreshCmd": "print(var_dic_list())"
    },
    "r": {
     "delete_cmd_postfix": ") ",
     "delete_cmd_prefix": "rm(",
     "library": "var_list.r",
     "varRefreshCmd": "cat(var_dic_list()) "
    }
   },
   "types_to_exclude": [
    "module",
    "function",
    "builtin_function_or_method",
    "instance",
    "_Feature"
   ],
   "window_display": false
  }
 },
 "nbformat": 4,
 "nbformat_minor": 2
}
