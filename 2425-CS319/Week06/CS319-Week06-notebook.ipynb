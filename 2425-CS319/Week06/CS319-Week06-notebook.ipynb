{
 "cells": [
  {
   "cell_type": "markdown",
   "metadata": {
    "slideshow": {
     "slide_type": "slide"
    }
   },
   "source": [
    "# CS319  Week 06  : Experimental Algorithm Analysis (in Python)\n",
    "\n",
    "In this notebook we will\n",
    "* revise a little about working with lists in `Python`;\n",
    "* revise  using  'numpy' nad `numpy`  arrays;\n",
    "* do a little plotting with `matplotlib`. \n",
    "* I'll assume you know about f-strings"
   ]
  },
  {
   "cell_type": "markdown",
   "metadata": {
    "slideshow": {
     "slide_type": "slide"
    }
   },
   "source": [
    "## Storage types in `Python`\n",
    "\n",
    "In C++ we use  arrays to store collections of values of the same type. \n",
    "\n",
    "In Python, there are several ways of doing this:\n",
    "* **Lists**: a list is a mutable (= changeable) ordered collection. Duplicates are allowed.\n",
    "* **Tuples**: a tuple is an immutable ordered collection. Duplicates are allowed.\n",
    "* **Sets**: a (Python) set is a mutable unordered collection without duplicates.\n",
    "* **Dictionaries**: a dictionary is an unordered but indexed mutable collection without duplicate indices.\n",
    "\n",
    "But today we only care about `list`s and, later `numpy` arrays."
   ]
  },
  {
   "cell_type": "markdown",
   "metadata": {
    "slideshow": {
     "slide_type": "slide"
    }
   },
   "source": [
    "## Lists\n",
    "\n",
    "* **A `list` is a sequence of values**. But, whereas a string is a sequence of characters, a list can be a sequence of  any type. \n",
    "* The values in a list are called _items_ or _elements_.\n",
    "* The list starts with `[`, ends with `]`, and items are separated by commas.\n",
    "\n",
    "We'll remind ourselves of...\n",
    "* What a list is\n",
    "* How to create one\n",
    "* Modifying items in a list\n",
    "* Indexing and slicing\n",
    "* How to traverse a list with a `for` loop\n",
    "* Some functions/methods for operating on a list\n"
   ]
  },
  {
   "cell_type": "markdown",
   "metadata": {
    "slideshow": {
     "slide_type": "slide"
    }
   },
   "source": [
    "## Making lists\n",
    "### Making a list with `[` and `]`\n",
    "\n",
    "The simplest way to create a list is using square backets, `[` and `]`, with a comma between elements."
   ]
  },
  {
   "cell_type": "code",
   "execution_count": null,
   "metadata": {},
   "outputs": [],
   "source": [
    "[0, 1, 2, 3, 4] # a list of integers"
   ]
  },
  {
   "cell_type": "code",
   "execution_count": null,
   "metadata": {},
   "outputs": [],
   "source": [
    "['zero', 'one', 'two', 'three'] # a list of strings"
   ]
  },
  {
   "cell_type": "markdown",
   "metadata": {
    "slideshow": {
     "slide_type": "slide"
    }
   },
   "source": [
    "Usually, we assign a variable name to the list."
   ]
  },
  {
   "cell_type": "code",
   "execution_count": null,
   "metadata": {},
   "outputs": [],
   "source": [
    "my_favourite_numbers = [0, 4, 1024]"
   ]
  },
  {
   "cell_type": "code",
   "execution_count": null,
   "metadata": {},
   "outputs": [],
   "source": [
    "print(f\"{my_favourite_numbers}\")"
   ]
  },
  {
   "cell_type": "code",
   "execution_count": null,
   "metadata": {},
   "outputs": [],
   "source": [
    "print(f\"The list has {len(my_favourite_numbers)} items\")"
   ]
  },
  {
   "cell_type": "markdown",
   "metadata": {
    "slideshow": {
     "slide_type": "slide"
    }
   },
   "source": [
    "## More about lists in `Python`\n",
    "\n",
    "**The next parts are not so important for today: you can skip to the section on `numpy`, if you like**"
   ]
  },
  {
   "cell_type": "markdown",
   "metadata": {
    "slideshow": {
     "slide_type": "subslide"
    }
   },
   "source": [
    "### A list with different types of items\n",
    "\n",
    "An item in a list can be just about anything. And items in a list can be of different types from each other.\n",
    "This list includes strings, an integer, a float, and a boolean."
   ]
  },
  {
   "cell_type": "code",
   "execution_count": null,
   "metadata": {},
   "outputs": [],
   "source": [
    "mixed_list = [\"CS319\", \"Scientific Computing\", 22, 78.5, True]\n",
    "print(mixed_list)"
   ]
  },
  {
   "cell_type": "code",
   "execution_count": null,
   "metadata": {},
   "outputs": [],
   "source": [
    "type(mixed_list)"
   ]
  },
  {
   "cell_type": "code",
   "execution_count": null,
   "metadata": {},
   "outputs": [],
   "source": [
    "type(mixed_list[2])"
   ]
  },
  {
   "cell_type": "markdown",
   "metadata": {
    "slideshow": {
     "slide_type": "subslide"
    }
   },
   "source": [
    "You can even make a list with includes another list as an item. This is called _nesting_"
   ]
  },
  {
   "cell_type": "code",
   "execution_count": null,
   "metadata": {},
   "outputs": [],
   "source": [
    "code         = \"CS319\" # string\n",
    "instance     = \"3BS2\"  # string\n",
    "num_students = 22      # int\n",
    "ave_grade    = 87.5    # float\n",
    "has_exam     = False;  # boolean  \n",
    "modules = [\"CS319\", \"MA378\", \"CS211\", \"MA385\"]  # list\n",
    "\n",
    "new_list = [code, instance, num_students, ave_grade, has_exam, modules ]\n",
    "print(new_list)\n"
   ]
  },
  {
   "cell_type": "code",
   "execution_count": null,
   "metadata": {},
   "outputs": [],
   "source": [
    "new_list[5][0] "
   ]
  },
  {
   "cell_type": "markdown",
   "metadata": {
    "slideshow": {
     "slide_type": "slide"
    }
   },
   "source": [
    "### `len()`\n",
    "There are many operations that can be preformed on lists. One of the most important is counting the number of items in a list. In Python, the `len()` function can be applied to various types, including `list`s. "
   ]
  },
  {
   "cell_type": "code",
   "execution_count": null,
   "metadata": {
    "slideshow": {
     "slide_type": "-"
    }
   },
   "outputs": [],
   "source": [
    "modules_in_3BS2 = [\"CS300\", \"MP311\", \"MA322\", \"ST333\", 'CS344']\n",
    "number_of_modules = len(modules_in_3BS2)\n",
    "print(f\"You can choose from {number_of_modules} modules in 3BS2\")"
   ]
  },
  {
   "cell_type": "markdown",
   "metadata": {
    "slideshow": {
     "slide_type": "subslide"
    }
   },
   "source": [
    "### Making a list with `list()`\n",
    "\n",
    "One can also use the function `list()` to create a new list from an object, such as a `range` of numbers, or a `string`."
   ]
  },
  {
   "cell_type": "code",
   "execution_count": null,
   "metadata": {},
   "outputs": [],
   "source": [
    "list_of_numbers = list(range(10))\n",
    "print(list_of_numbers)"
   ]
  },
  {
   "cell_type": "code",
   "execution_count": null,
   "metadata": {},
   "outputs": [],
   "source": [
    "list(\"hello\")"
   ]
  },
  {
   "cell_type": "markdown",
   "metadata": {
    "slideshow": {
     "slide_type": "slide"
    }
   },
   "source": [
    "### Indexing\n",
    "* Lists are indexed from zero\n",
    "* the first element is `L[0]`, the second is `L[1]`, etc. \n",
    "* The last is `L[-1]` which is the same as `L[len(L)-1]`."
   ]
  },
  {
   "cell_type": "code",
   "execution_count": null,
   "metadata": {},
   "outputs": [],
   "source": [
    "modules_in_3BS2"
   ]
  },
  {
   "cell_type": "code",
   "execution_count": null,
   "metadata": {},
   "outputs": [],
   "source": [
    "modules_in_3BS2[0]  # first item"
   ]
  },
  {
   "cell_type": "code",
   "execution_count": null,
   "metadata": {},
   "outputs": [],
   "source": [
    "modules_in_3BS2[-1]  # last item"
   ]
  },
  {
   "cell_type": "markdown",
   "metadata": {
    "slideshow": {
     "slide_type": "slide"
    }
   },
   "source": [
    "### Slicing\n",
    "\n",
    "We create a sub-list from a string using the \"`colon`\" notation.\n",
    "The syntax is `L[a:b]` which is the same as `[L[a], L[a+1], ..., L[b-1]]`"
   ]
  },
  {
   "cell_type": "code",
   "execution_count": null,
   "metadata": {},
   "outputs": [],
   "source": [
    "print(modules_in_3BS2)"
   ]
  },
  {
   "cell_type": "code",
   "execution_count": null,
   "metadata": {
    "slideshow": {
     "slide_type": "-"
    }
   },
   "outputs": [],
   "source": [
    "print(modules_in_3BS2[0:3])  # first 3"
   ]
  },
  {
   "cell_type": "code",
   "execution_count": null,
   "metadata": {},
   "outputs": [],
   "source": [
    "print(modules_in_3BS2[1:4])  # middle 3"
   ]
  },
  {
   "cell_type": "code",
   "execution_count": null,
   "metadata": {},
   "outputs": [],
   "source": [
    "print(modules_in_3BS2[2:5])  # last 3"
   ]
  },
  {
   "cell_type": "markdown",
   "metadata": {
    "slideshow": {
     "slide_type": "slide"
    }
   },
   "source": [
    "We can also use the notation `a:b:s` which means `start at a, go to b in steps of s`."
   ]
  },
  {
   "cell_type": "code",
   "execution_count": null,
   "metadata": {
    "slideshow": {
     "slide_type": "-"
    }
   },
   "outputs": [],
   "source": [
    "print(modules_in_3BS2[0:5:2])  # every second one"
   ]
  },
  {
   "cell_type": "markdown",
   "metadata": {},
   "source": [
    "If you leave out either `a` or `b` they are assumed to be the start and end of the list, if `s` is positive. "
   ]
  },
  {
   "cell_type": "code",
   "execution_count": null,
   "metadata": {},
   "outputs": [],
   "source": [
    "print(modules_in_3BS2[::2])  # every second one"
   ]
  },
  {
   "cell_type": "markdown",
   "metadata": {
    "slideshow": {
     "slide_type": "subslide"
    }
   },
   "source": [
    "### More list functions\n",
    "\n"
   ]
  },
  {
   "cell_type": "markdown",
   "metadata": {},
   "source": [
    "* Add a new item to the end"
   ]
  },
  {
   "cell_type": "code",
   "execution_count": null,
   "metadata": {},
   "outputs": [],
   "source": [
    "modules_in_3BS2 = modules_in_3BS2 + [\"DS555\"]\n",
    "print(f\"The modules in 3BS2 are : {modules_in_3BS2}\")"
   ]
  },
  {
   "cell_type": "markdown",
   "metadata": {
    "slideshow": {
     "slide_type": "subslide"
    }
   },
   "source": [
    "* Similarly `L.extend(list2)` adds the items in `list2` to the end of `L`.\n",
    "* `L.append(\"new item\")` adds a single new item to a list.\n",
    "* `L.insert(<position>, <item>)` adds a new `<item>` to the specified `<position>`. Anything to the right of that position is shuffled right.\n",
    "* `L.remove(entry)`  removes the specific entry from a list (error if it is no present)\n",
    "* Use `del` to remove an entry by index. "
   ]
  },
  {
   "cell_type": "markdown",
   "metadata": {
    "slideshow": {
     "slide_type": "slide"
    }
   },
   "source": [
    "## Taversing a list with a `for` loop\n",
    "\n",
    "**`for` loops** work well with lists.\n",
    "One form of the `for` statement is\n",
    "```python\n",
    "for <var> in <list>:\n",
    "    <body>\n",
    "```\n",
    "It consists of a **heading** and a **body** The heading, between the keyword `for` and the colon (`:`) introduces a **loop variable** `<var>` and refers to a list `<list>`.\n",
    "The `<body>` is a consistently indented sequence of statements."
   ]
  },
  {
   "cell_type": "markdown",
   "metadata": {
    "slideshow": {
     "slide_type": "subslide"
    }
   },
   "source": [
    "When executed, a `for` statement results in the execution of its `<body>` of statements once for each item of the list (in order). The particular item for each iteration is stored as the value of the variable `<var>`."
   ]
  },
  {
   "cell_type": "code",
   "execution_count": null,
   "metadata": {},
   "outputs": [],
   "source": [
    "numbers = [10, 3, -1, -11, 12]\n",
    "numbers"
   ]
  },
  {
   "cell_type": "code",
   "execution_count": null,
   "metadata": {},
   "outputs": [],
   "source": [
    "for item in numbers:\n",
    "    print(item, end=\"--**--\")"
   ]
  },
  {
   "cell_type": "markdown",
   "metadata": {
    "slideshow": {
     "slide_type": "subslide"
    }
   },
   "source": [
    "Often we want to change items in the list. In the following example, we'll take a list of 3BS2 modules, and add a prefix of `2324-` to each code. For that we'll need to keep count of the items"
   ]
  },
  {
   "cell_type": "code",
   "execution_count": null,
   "metadata": {},
   "outputs": [],
   "source": [
    "print(modules_in_3BS2)"
   ]
  },
  {
   "cell_type": "code",
   "execution_count": null,
   "metadata": {},
   "outputs": [],
   "source": [
    "i = 0\n",
    "for item in modules_in_3BS2:\n",
    "    modules_in_3BS2[i]='2324-'+item\n",
    "    i=i+1\n",
    "    \n",
    "print(modules_in_3BS2)    "
   ]
  },
  {
   "cell_type": "markdown",
   "metadata": {
    "slideshow": {
     "slide_type": "slide"
    }
   },
   "source": [
    "There are lots more we could cover on lists, \n",
    "Map/Filter/Reduce, the `in` operator, adding and multiplying lists, sorting, etc...\n",
    "\n",
    "But they are not so relevant for CS319. So we'll skip (for now)."
   ]
  },
  {
   "cell_type": "markdown",
   "metadata": {
    "slideshow": {
     "slide_type": "slide"
    }
   },
   "source": [
    "## `numpy`\n",
    "\n",
    "`numpy` (pronoucned \"/numb-pee/\" or \"/numb-pie/\") is the primary module for working with arrays of data in Python.\n",
    "\n",
    "We use the word `array` in the same sense it is used in C++: it is a collection of items all of the same data type. Working with numpy arrays is MUCH faster than with lists. \n",
    "\n",
    "There are two reasons why\n",
    "1. It is easy to locate any element in memory. \n",
    "2. Most of the data types and functions are actually implemented in C++, rather than Python."
   ]
  },
  {
   "cell_type": "markdown",
   "metadata": {
    "slideshow": {
     "slide_type": "subslide"
    }
   },
   "source": [
    "### Loading the module\n",
    "\n",
    "To use `numpy` you must import the module. By convention, this is done as:"
   ]
  },
  {
   "cell_type": "code",
   "execution_count": null,
   "metadata": {},
   "outputs": [],
   "source": [
    "import numpy as np"
   ]
  },
  {
   "cell_type": "markdown",
   "metadata": {},
   "source": [
    "There are lots of ways of creating an `numpy` array. For example, to make an array from a list, use the `np.array()` function:"
   ]
  },
  {
   "cell_type": "code",
   "execution_count": null,
   "metadata": {},
   "outputs": [],
   "source": [
    "N=np.array([4, 8, 16, 32, 64, 128, 256, 512])\n",
    "type(N)"
   ]
  },
  {
   "cell_type": "code",
   "execution_count": null,
   "metadata": {
    "slideshow": {
     "slide_type": "slide"
    }
   },
   "outputs": [],
   "source": [
    "T=np.array([8.9400e-03, 2.2367e-03, 5.5930e-04, 1.3983e-04, 3.4958e-05, 8.7396e-06, 2.1849e-06, 5.4622e-07])\n",
    "print(f\"Contents of T: {T}\")\n",
    "\n",
    "print(f\"T is of type{type(T)}\")"
   ]
  },
  {
   "cell_type": "markdown",
   "metadata": {},
   "source": [
    "Use the `dtype` method to check what the underlying type of the data is:"
   ]
  },
  {
   "cell_type": "code",
   "execution_count": null,
   "metadata": {},
   "outputs": [],
   "source": [
    "print(f\"Data in T is of type {T.dtype}\")\n",
    "print(f\"Data in N is of type {N.dtype}\")"
   ]
  },
  {
   "cell_type": "markdown",
   "metadata": {
    "slideshow": {
     "slide_type": "slide"
    }
   },
   "source": [
    "## Functions of numpy arrays\n",
    "\n",
    "One of the many benefits of using `numpy` is that we can avoid writing explicit loops, since `numpy` comes with functions that map arrays to other arrays.\n",
    "\n",
    "Example:"
   ]
  },
  {
   "cell_type": "code",
   "execution_count": null,
   "metadata": {},
   "outputs": [],
   "source": [
    "print(N)\n",
    "print(np.log2(N))"
   ]
  },
  {
   "cell_type": "markdown",
   "metadata": {
    "slideshow": {
     "slide_type": "subslide"
    }
   },
   "source": [
    "Also, standard operators such as `+` and `*` can be used with these arrays:"
   ]
  },
  {
   "cell_type": "code",
   "execution_count": null,
   "metadata": {},
   "outputs": [],
   "source": [
    "N+N"
   ]
  },
  {
   "cell_type": "code",
   "execution_count": null,
   "metadata": {},
   "outputs": [],
   "source": [
    "T*N*N # spoiler!!!!"
   ]
  },
  {
   "cell_type": "markdown",
   "metadata": {
    "slideshow": {
     "slide_type": "slide"
    }
   },
   "source": [
    "## Analysing the Quadrature Data\n",
    "\n"
   ]
  },
  {
   "cell_type": "markdown",
   "metadata": {},
   "source": [
    "We'll need the `matplotlib` library, as well as `numpy`"
   ]
  },
  {
   "cell_type": "code",
   "execution_count": null,
   "metadata": {},
   "outputs": [],
   "source": [
    "import numpy as np\n",
    "import matplotlib.pyplot as plt"
   ]
  },
  {
   "cell_type": "markdown",
   "metadata": {
    "slideshow": {
     "slide_type": "subslide"
    }
   },
   "source": [
    "We copy some data computed by `00CheckConvergence.cpp`\n",
    "* `N` is the set of numbers of intervals used in the calculations\n",
    "* `T` is the set of values of `E_N` for the Trapezium Rule."
   ]
  },
  {
   "cell_type": "code",
   "execution_count": null,
   "metadata": {},
   "outputs": [],
   "source": [
    "N=np.array([4, 8, 16, 32, 64, 128, 256, 512])\n",
    "T=np.array([8.940076e-03, 2.236764e-03, 5.593001e-04, 1.398319e-04, 3.495839e-05, 8.739624e-06, 2.184908e-06, 5.462270e-07])"
   ]
  },
  {
   "cell_type": "markdown",
   "metadata": {
    "slideshow": {
     "slide_type": "subslide"
    }
   },
   "source": [
    "Plot the data, using `matplotlib`"
   ]
  },
  {
   "cell_type": "code",
   "execution_count": null,
   "metadata": {},
   "outputs": [],
   "source": [
    "plt.plot(N, T, 'o')\n",
    "plt.show()"
   ]
  },
  {
   "cell_type": "markdown",
   "metadata": {
    "slideshow": {
     "slide_type": "subslide"
    }
   },
   "source": [
    "That last figure is not very informative...\n",
    "* on the horizontal axes, the data are too spread out\n",
    "* on the vertical axis the data is too compressed near $T=0$.\n",
    "\n",
    "We resolve this by using logarithmic axes:"
   ]
  },
  {
   "cell_type": "code",
   "execution_count": null,
   "metadata": {
    "slideshow": {
     "slide_type": "subslide"
    }
   },
   "outputs": [],
   "source": [
    "plt.loglog(N, T, 'o')\n",
    "plt.show()"
   ]
  },
  {
   "cell_type": "markdown",
   "metadata": {},
   "source": [
    "Looks like a straight line!"
   ]
  },
  {
   "cell_type": "markdown",
   "metadata": {
    "slideshow": {
     "slide_type": "subslide"
    }
   },
   "source": [
    "As discussed in class, $E_N \\approx C N^{-q}$. Then, if we set\n",
    "* `Y = log(T)`, \n",
    "* `X = log(N)`, and\n",
    "* `K = log(C)`,\\\n",
    "we get $Y \\approx K - qT$. We have $Y$ and $X$, so we want to estimate $K$ and $q$, which are the slope and $Y$-intercept of the line. \n",
    "\n",
    "We'll use the (depreciated) `np.polyfit()` function to compute the coefficients of the line that best fits (in a least squares sense) the points $(X, Y)$. "
   ]
  },
  {
   "cell_type": "markdown",
   "metadata": {
    "slideshow": {
     "slide_type": "subslide"
    }
   },
   "source": [
    "If we set `A=polyfit(x,y,n)` then `A` is a np.array with the coefficients of the polynomial of degree $n$ that best approximates the points $(x,y)$. That is \n",
    "$y \\approx A[0] x^n + A[1] x^{n-1} + \\dots + A[-1]$."
   ]
  },
  {
   "cell_type": "code",
   "execution_count": null,
   "metadata": {},
   "outputs": [],
   "source": [
    "X = np.log(N); Y = np.log(T)\n",
    "Fit = np.polyfit( X, Y,1)\n",
    "q = -Fit[0];\n",
    "K = Fit[1];\n",
    "print(f'We get K={K} and q={q}');"
   ]
  },
  {
   "cell_type": "markdown",
   "metadata": {},
   "source": [
    "We can now recover the value of $C$"
   ]
  },
  {
   "cell_type": "code",
   "execution_count": null,
   "metadata": {},
   "outputs": [],
   "source": [
    "C = np.exp(K)\n",
    "print(f'C={C : .3f} and q={q : .3f}');"
   ]
  },
  {
   "cell_type": "markdown",
   "metadata": {
    "slideshow": {
     "slide_type": "subslide"
    }
   },
   "source": [
    "Let's plot to check:"
   ]
  },
  {
   "cell_type": "code",
   "execution_count": null,
   "metadata": {},
   "outputs": [],
   "source": [
    "plt.loglog(N, T, 'o', N, C*N**(-q), '--')\n",
    "plt.show()"
   ]
  }
 ],
 "metadata": {
  "celltoolbar": "Slideshow",
  "kernelspec": {
   "display_name": "2324-CS319",
   "language": "python",
   "name": "2324-cs319"
  },
  "language_info": {
   "codemirror_mode": {
    "name": "ipython",
    "version": 3
   },
   "file_extension": ".py",
   "mimetype": "text/x-python",
   "name": "python",
   "nbconvert_exporter": "python",
   "pygments_lexer": "ipython3",
   "version": "3.13.2"
  },
  "rise": {
   "footer": "<h2>CS319</h2>",
   "header": "<h2>Week 06</h2>",
   "theme": "white"
  },
  "toc": {
   "base_numbering": 1,
   "nav_menu": {},
   "number_sections": true,
   "sideBar": false,
   "skip_h1_title": true,
   "title_cell": "Table of Contents",
   "title_sidebar": "Contents",
   "toc_cell": false,
   "toc_position": {
    "height": "420.938px",
    "left": "1857.98px",
    "top": "0px",
    "width": "169.097px"
   },
   "toc_section_display": true,
   "toc_window_display": true
  },
  "varInspector": {
   "cols": {
    "lenName": 16,
    "lenType": 16,
    "lenVar": 40
   },
   "kernels_config": {
    "python": {
     "delete_cmd_postfix": "",
     "delete_cmd_prefix": "del ",
     "library": "var_list.py",
     "varRefreshCmd": "print(var_dic_list())"
    },
    "r": {
     "delete_cmd_postfix": ") ",
     "delete_cmd_prefix": "rm(",
     "library": "var_list.r",
     "varRefreshCmd": "cat(var_dic_list()) "
    }
   },
   "types_to_exclude": [
    "module",
    "function",
    "builtin_function_or_method",
    "instance",
    "_Feature"
   ],
   "window_display": false
  }
 },
 "nbformat": 4,
 "nbformat_minor": 2
}
