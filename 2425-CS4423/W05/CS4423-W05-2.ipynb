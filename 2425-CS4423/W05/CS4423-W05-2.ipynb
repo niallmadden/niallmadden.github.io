{
 "cells": [
  {
   "cell_type": "markdown",
   "metadata": {
    "toc": true
   },
   "source": [
    "<h1>Table of Contents<span class=\"tocSkip\"></span></h1>\n",
    "<div class=\"toc\"><ul class=\"toc-item\"><li><ul class=\"toc-item\"><li><span><a href=\"#Reminders:\" data-toc-modified-id=\"Reminders:-0.1\"><span class=\"toc-item-num\">0.1&nbsp;&nbsp;</span>Reminders:</a></span></li><li><span><a href=\"#Modules-for-this-notebook\" data-toc-modified-id=\"Modules-for-this-notebook-0.2\"><span class=\"toc-item-num\">0.2&nbsp;&nbsp;</span>Modules for this notebook</a></span></li></ul></li><li><span><a href=\"#Again-we-ask:--How-many-trees-are-there?\" data-toc-modified-id=\"Again-we-ask:--How-many-trees-are-there?-1\"><span class=\"toc-item-num\">1&nbsp;&nbsp;</span>Again we ask:  How many trees are there?</a></span></li><li><span><a href=\"#Random-Trees\" data-toc-modified-id=\"Random-Trees-2\"><span class=\"toc-item-num\">2&nbsp;&nbsp;</span>Random Trees</a></span></li><li><span><a href=\"#Graph-and-Tree-Traversal\" data-toc-modified-id=\"Graph-and-Tree-Traversal-3\"><span class=\"toc-item-num\">3&nbsp;&nbsp;</span>Graph and Tree Traversal</a></span><ul class=\"toc-item\"><li><span><a href=\"#Depth-First-Search-(DFS)\" data-toc-modified-id=\"Depth-First-Search-(DFS)-3.1\"><span class=\"toc-item-num\">3.1&nbsp;&nbsp;</span>Depth First Search (DFS)</a></span></li><li><span><a href=\"#Breadth-First-Search-(BFS)\" data-toc-modified-id=\"Breadth-First-Search-(BFS)-3.2\"><span class=\"toc-item-num\">3.2&nbsp;&nbsp;</span>Breadth First Search (BFS)</a></span></li><li><span><a href=\"#Alternative-Implementations-(Extra:-will-skim-in-class)\" data-toc-modified-id=\"Alternative-Implementations-(Extra:-will-skim-in-class)-3.3\"><span class=\"toc-item-num\">3.3&nbsp;&nbsp;</span>Alternative Implementations (Extra: will skim in class)</a></span><ul class=\"toc-item\"><li><span><a href=\"#Node-attributes\" data-toc-modified-id=\"Node-attributes-3.3.1\"><span class=\"toc-item-num\">3.3.1&nbsp;&nbsp;</span>Node attributes</a></span></li><li><span><a href=\"#Implement-DFS\" data-toc-modified-id=\"Implement-DFS-3.3.2\"><span class=\"toc-item-num\">3.3.2&nbsp;&nbsp;</span>Implement DFS</a></span></li><li><span><a href=\"#Implement-BFS\" data-toc-modified-id=\"Implement-BFS-3.3.3\"><span class=\"toc-item-num\">3.3.3&nbsp;&nbsp;</span>Implement BFS</a></span></li></ul></li></ul></li><li><span><a href=\"#Graph-Diameter\" data-toc-modified-id=\"Graph-Diameter-4\"><span class=\"toc-item-num\">4&nbsp;&nbsp;</span>Graph Diameter</a></span><ul class=\"toc-item\"><li><span><a href=\"#Breadth-First-Search-for-Distance\" data-toc-modified-id=\"Breadth-First-Search-for-Distance-4.1\"><span class=\"toc-item-num\">4.1&nbsp;&nbsp;</span>Breadth First Search for Distance</a></span></li></ul></li><li><span><a href=\"#BFS-for-Distance\" data-toc-modified-id=\"BFS-for-Distance-5\"><span class=\"toc-item-num\">5&nbsp;&nbsp;</span>BFS for Distance</a></span><ul class=\"toc-item\"><li><span><a href=\"#Variants\" data-toc-modified-id=\"Variants-5.1\"><span class=\"toc-item-num\">5.1&nbsp;&nbsp;</span>Variants</a></span></li></ul></li><li><span><a href=\"#Code-Corner\" data-toc-modified-id=\"Code-Corner-6\"><span class=\"toc-item-num\">6&nbsp;&nbsp;</span>Code Corner</a></span><ul class=\"toc-item\"><li><span><a href=\"#Pruefer-codes-in-'networkx'\" data-toc-modified-id=\"Pruefer-codes-in-'networkx'-6.1\"><span class=\"toc-item-num\">6.1&nbsp;&nbsp;</span>Pruefer codes in 'networkx'</a></span></li><li><span><a href=\"#Setting-node-attributes\" data-toc-modified-id=\"Setting-node-attributes-6.2\"><span class=\"toc-item-num\">6.2&nbsp;&nbsp;</span>Setting node attributes</a></span></li></ul></li><li><span><a href=\"#Exercises\" data-toc-modified-id=\"Exercises-7\"><span class=\"toc-item-num\">7&nbsp;&nbsp;</span>Exercises</a></span></li></ul></div>"
   ]
  },
  {
   "cell_type": "markdown",
   "metadata": {
    "slideshow": {
     "slide_type": "slide"
    }
   },
   "source": [
    "<h1>CS4423-Networks: Lecture 10 [$\\color{red}{\\text{Draft}}$]</h1>\n",
    "\n",
    "<h1>Week 5, Lecture 2: BFS and Graph Diameter</h1>\n",
    "Niall Madden, \n",
    "School of Mathematical and Statistical Sciences  \n",
    "University of Galway\n",
    "\n",
    "\n",
    "This Jupyter notebook, and PDF and HTML versions, can be found at https://www.niallmadden.ie/2425-CS4423/#Week05\n",
    "\n",
    "<div class=\"rc\"><font size=\"-1\"><em>This notebook was written by Niall Madden, adapted from notebooks by Angela Carnevale.</em></div>"
   ]
  },
  {
   "cell_type": "markdown",
   "metadata": {
    "slideshow": {
     "slide_type": "subslide"
    }
   },
   "source": [
    "### Reminders:\n",
    "\n",
    "*Dates and Deadlines*\\\n",
    "* Assignment 1: 5pm Tuesday 25th February\n",
    "* **Class Test: 14:00, Thursday 6th March** (Week 8)\n",
    "* Assignment 2: Week 10 or 11 (will discuss in class)"
   ]
  },
  {
   "cell_type": "markdown",
   "metadata": {
    "slideshow": {
     "slide_type": "subslide"
    }
   },
   "source": [
    "### Modules for this notebook\n",
    "Today, we'll default to a light gree colour for nodes. It is specified in [RGBA mode](https://en.wikipedia.org/wiki/RGBA_color_model): three HEX digits specifying the mix of Red, Green and Blue, and an Alpha channel determining opacity. For more see "
   ]
  },
  {
   "cell_type": "code",
   "execution_count": null,
   "metadata": {
    "slideshow": {
     "slide_type": "-"
    }
   },
   "outputs": [],
   "source": [
    "import networkx as nx\n",
    "import numpy as np\n",
    "opts = { \"with_labels\": True,  \"node_color\": ('#0f0',.9) } # show labels; nodes are opaic green"
   ]
  },
  {
   "cell_type": "markdown",
   "metadata": {
    "slideshow": {
     "slide_type": "slide"
    }
   },
   "source": [
    "## Again we ask:  How many trees are there?\n"
   ]
  },
  {
   "cell_type": "markdown",
   "metadata": {
    "slideshow": {
     "slide_type": "-"
    }
   },
   "source": [
    "In Lecture 9 we learned about <b>Cayley's Formula</b>:  There are exactly $n^{n-2}$ distinct (labelled) trees on the $n$-element vertex set \n",
    "    $X = \\{0, 1, 2, \\dots, n-1\\}$, if $n > 1$.\n",
    "    \n",
    "\n",
    "And we learned about  Prüfer  codes:\n",
    "* A tree on $n$ nodes can be represented uniquely by a list if length $n-2$ where entries in the list are node labels: that is, each is an integer in the range $0$ to $n-1$.\n",
    "* Every Prüfer code generates a unique tree (and we have a bijection between tress and codes)."
   ]
  },
  {
   "cell_type": "markdown",
   "metadata": {
    "slideshow": {
     "slide_type": "subslide"
    }
   },
   "source": [
    "We  won't go through it in class, but here is the procedure for turning a code intro a tree as a `Python` function:"
   ]
  },
  {
   "cell_type": "code",
   "execution_count": null,
   "metadata": {
    "slideshow": {
     "slide_type": "-"
    }
   },
   "outputs": [],
   "source": [
    "def pruefer_to_tree(code):\n",
    "    # initialize graph and defects\n",
    "    n = len(code) + 2\n",
    "    tree = nx.empty_graph(n)\n",
    "    d = n*[1]\n",
    "    for y in code:\n",
    "        d[y] += 1\n",
    "        \n",
    "    # add edges\n",
    "    for y in code:\n",
    "        x = d.index(1) \n",
    "        tree.add_edge(x, y)\n",
    "        d[x]-=1; d[y]-=1;                \n",
    "    # final edge\n",
    "    e = [x for x in tree if d[x] == 1]\n",
    "    tree.add_edge(*e)\n",
    "    return tree"
   ]
  },
  {
   "cell_type": "markdown",
   "metadata": {
    "slideshow": {
     "slide_type": "subslide"
    }
   },
   "source": [
    "Let's check it works:"
   ]
  },
  {
   "cell_type": "code",
   "execution_count": null,
   "metadata": {},
   "outputs": [],
   "source": [
    "T1 = pruefer_to_tree([0,0,3,3,3,4,4,4])\n",
    "nx.draw(T1, **opts)"
   ]
  },
  {
   "cell_type": "markdown",
   "metadata": {
    "slideshow": {
     "slide_type": "subslide"
    }
   },
   "source": [
    "Since we have now shown that there is a bijection between labeled trees and Prüfer codes, we can prove Cayley's Theorem easily:\n",
    "* A tree with $n$ nodes has a Prüfer code of length $n-2$.\n",
    "* There are $n$ choices for each entry in the code.\n",
    "* So there are $n^{n-2}$ possible codes for a tree with $n$ nodes\n",
    "* So there are $n^{n-2}$ possible trees with $n$ nodes."
   ]
  },
  {
   "cell_type": "markdown",
   "metadata": {
    "slideshow": {
     "slide_type": "slide"
    }
   },
   "source": [
    "## Random Trees\n",
    "\n",
    "We can ask `networkx` to produce a **random tree** with a given number of nodes:"
   ]
  },
  {
   "cell_type": "code",
   "execution_count": null,
   "metadata": {},
   "outputs": [],
   "source": [
    "n = 6\n",
    "T2a = nx.random_labeled_tree(n)\n",
    "nx.draw(T2a, **opts)"
   ]
  },
  {
   "cell_type": "markdown",
   "metadata": {
    "slideshow": {
     "slide_type": "subslide"
    }
   },
   "source": [
    "However, are can also construct a random tree on $n$ nodes from a random Prüfer code of length $n-2$."
   ]
  },
  {
   "cell_type": "code",
   "execution_count": null,
   "metadata": {
    "slideshow": {
     "slide_type": "-"
    }
   },
   "outputs": [],
   "source": [
    "code = np.random.randint(n, size=n-2)\n",
    "print(f\"code={code}\")"
   ]
  },
  {
   "cell_type": "code",
   "execution_count": null,
   "metadata": {
    "slideshow": {
     "slide_type": "-"
    }
   },
   "outputs": [],
   "source": [
    "T2b = pruefer_to_tree(code)\n",
    "nx.draw(T2b, **opts) # not intended to be the same as the one above"
   ]
  },
  {
   "cell_type": "markdown",
   "metadata": {
    "slideshow": {
     "slide_type": "slide"
    }
   },
   "source": [
    "## Graph and Tree Traversal\n",
    "\n",
    "Often one has to search through a network to check properties of nodes (e.g., finding the node with largest degree). For large unstructured networks, this could be challenging. Fortunately,  there are simple and efficient algorithms: \n",
    "* Depth First Search: [DFS](https://en.wikipedia.org/wiki/Depth-first_search)\n",
    "* Breadth First Search: [BFS](https://en.wikipedia.org/wiki/Breadth-first_search)\n"
   ]
  },
  {
   "cell_type": "markdown",
   "metadata": {
    "slideshow": {
     "slide_type": "subslide"
    }
   },
   "source": [
    "### Depth First Search (DFS)\n",
    "\n",
    "*DFS* works by starting at a root node, and travelling as far along one of its branches as it can, then returning the the last unexplored branch.\n",
    "\n",
    "The main data structure we'll need is a [**stack**](https://en.wikipedia.org/wiki/Stack_(abstract_data_type)), also called a \"_Last In First Out (LIFO) queue_\". It has two operations:\n",
    "* `S.push(x)`: pushes `x` onto the top of the stack (We'll use the `extend()` method)\n",
    "* `y=S.pop()`: pops/removes the item from the top of the stack and stores it in `y\n",
    "\n",
    "\n",
    "**DFS**: Given a rooted tree $T$ with root $x$, visit all nodes in the tree. \n",
    "Start with an empty stack, `S`:\n",
    "* `S.push(x)`\n",
    "* while $S \\neq \\emptyset$:\n",
    "    * &nbsp; `y = S.pop()` \n",
    "    * &nbsp; visit(`y`) \n",
    "    * &nbsp; `S.push(y.children)`\n"
   ]
  },
  {
   "cell_type": "markdown",
   "metadata": {
    "slideshow": {
     "slide_type": "subslide"
    }
   },
   "source": [
    "Let's create a tree to try this:"
   ]
  },
  {
   "cell_type": "code",
   "execution_count": null,
   "metadata": {},
   "outputs": [],
   "source": [
    "T3a = nx.Graph()\n",
    "T3a.add_nodes_from(range(10))\n",
    "T3a.add_edges_from([(0,1), (0,2), (2,3), (3,4), (1,5), (0,6),(0,7),(7,8),(7,9)])\n",
    "nx.draw(T3a, **opts)\n",
    "print(f\"Edges of T6 are {T3a.edges()}\")"
   ]
  },
  {
   "cell_type": "markdown",
   "metadata": {
    "slideshow": {
     "slide_type": "subslide"
    }
   },
   "source": [
    "Now try the algorithm"
   ]
  },
  {
   "cell_type": "code",
   "execution_count": null,
   "metadata": {
    "slideshow": {
     "slide_type": "-"
    }
   },
   "outputs": [],
   "source": [
    "T = T3a.copy()\n",
    "x = 0\n",
    "S = [x]\n",
    "while len(S) > 0:\n",
    "    y = S.pop()\n",
    "    S.extend(T[y])\n",
    "    T.remove_node(y)\n",
    "    print(y, S)"
   ]
  },
  {
   "cell_type": "markdown",
   "metadata": {
    "slideshow": {
     "slide_type": "slide"
    }
   },
   "source": [
    "### Breadth First Search (BFS)\n",
    "\n",
    "*BFS* works by starting at a root node, and explores all the neighbouring nodes (\"Level 1\") first. Next it searches their neighbours (\"Level 2\"), etc.\n",
    "\n",
    "The main data structure we'll need is a [**queue**](https://en.wikipedia.org/wiki/Queue_(abstract_data_type), also called a \"_First In First Out (FIFO) queue_\". It has two operations:\n",
    "* `Q.extend(l)`: adds the items in the list `l` to the end of `Q`\n",
    "* `y=S.pop(0)`: pops/removes the _first_ item from queue, and stores it in `y\n",
    "\n",
    "**BFS**: Given a rooted tree $T$ with root $x$, visit all nodes in the tree. \n",
    "Start with an empty list/queue, `Q`:\n",
    "* `Q.push(x)`\n",
    "* while $Q \\neq \\emptyset$:\n",
    "    * &nbsp; `y = Q.pop(0)` \n",
    "    * &nbsp; visit(`y`) \n",
    "    * &nbsp; `Q.push(y.children)`\n",
    "    "
   ]
  },
  {
   "cell_type": "markdown",
   "metadata": {
    "slideshow": {
     "slide_type": "subslide"
    }
   },
   "source": [
    "Let's test it:"
   ]
  },
  {
   "cell_type": "code",
   "execution_count": null,
   "metadata": {},
   "outputs": [],
   "source": [
    "T = T3a.copy()\n",
    "x = 0\n",
    "Q = [x]\n",
    "while len(Q) > 0:\n",
    "    y = Q.pop(0)\n",
    "    Q.extend(T[y])\n",
    "    T.remove_node(y)\n",
    "    print(y, Q)"
   ]
  },
  {
   "cell_type": "markdown",
   "metadata": {
    "slideshow": {
     "slide_type": "subslide"
    }
   },
   "source": [
    "Many questions on networks concerning distance and connectivity can\n",
    "be answered by a versatile strategy involving a subgraph which is a tree, and then searching that.\n",
    "Such a tree is called a **spanning tree** of the underlying graph."
   ]
  },
  {
   "cell_type": "markdown",
   "metadata": {
    "slideshow": {
     "slide_type": "slide"
    }
   },
   "source": [
    "### Alternative Implementations (Extra: will skim in class)\n",
    "\n",
    "(This bit will be skimmed in class; can jump to Section 4).\n",
    "\n",
    "Both DFS and BFS are more like strategies, rather than specific algorithms.\n",
    "Different problems might require different implementations.\n",
    "Sometimes, the stack, or the queue don't have to be made explicitly:\n",
    "\n",
    "* In a recursive implementation, DFS can make use of the (`Python`) interpreter's\n",
    "  **function call stack**.\n",
    "  \n",
    "* BFS can take advantage of the fact that some types of lists in a (`Python`) `for` loops\n",
    "  are largely organized as **queues**.\n"
   ]
  },
  {
   "cell_type": "markdown",
   "metadata": {
    "slideshow": {
     "slide_type": "slide"
    }
   },
   "source": [
    "#### Node attributes\n",
    "In `networkx` one can assign **attributes** to nodes, such as the node's colour. \n",
    "\n",
    "In order to keep track of which nodes have already been visited, we maintain for each node\n",
    "an attribute `\"seen\"` that is initially `False`, and becomes `True` when the DFS/BFS visits the node.\n",
    "\n"
   ]
  },
  {
   "cell_type": "markdown",
   "metadata": {
    "slideshow": {
     "slide_type": "subslide"
    }
   },
   "source": [
    "In `networkx`, the attributes of a node `x` in a graph `G` are kept in a dictionary `G.nodes[x]`."
   ]
  },
  {
   "cell_type": "code",
   "execution_count": null,
   "metadata": {},
   "outputs": [],
   "source": [
    "n = 10\n",
    "T3b = nx.random_labeled_tree(n)\n",
    "nx.draw(T3b, **opts)"
   ]
  },
  {
   "cell_type": "code",
   "execution_count": null,
   "metadata": {},
   "outputs": [],
   "source": [
    "TT = T3b.copy()                      \n",
    "for x in TT:\n",
    "    TT.nodes[x]['seen'] = False\n",
    "print(TT.nodes())"
   ]
  },
  {
   "cell_type": "markdown",
   "metadata": {},
   "source": [
    "Check a specific attribute:"
   ]
  },
  {
   "cell_type": "code",
   "execution_count": null,
   "metadata": {},
   "outputs": [],
   "source": [
    "print(TT.nodes('seen'))"
   ]
  },
  {
   "cell_type": "markdown",
   "metadata": {
    "slideshow": {
     "slide_type": "slide"
    }
   },
   "source": [
    "#### Implement DFS\n",
    "Implement DFS recursively on a tree with root `x` as a function:"
   ]
  },
  {
   "cell_type": "code",
   "execution_count": null,
   "metadata": {},
   "outputs": [],
   "source": [
    "def dfs(tree, x):      \n",
    "    print(x, end=', ') \n",
    "    tree.nodes[x]['seen'] = True\n",
    "    for z in tree[x]:\n",
    "        if not tree.nodes[z]['seen']:\n",
    "            dfs(tree, z)  "
   ]
  },
  {
   "cell_type": "markdown",
   "metadata": {},
   "source": [
    "Test it:"
   ]
  },
  {
   "cell_type": "code",
   "execution_count": null,
   "metadata": {},
   "outputs": [],
   "source": [
    "TT = T3b.copy()\n",
    "nx.set_node_attributes(TT, False, 'seen') # same as for loop above\n",
    "dfs(TT, 0)"
   ]
  },
  {
   "cell_type": "markdown",
   "metadata": {
    "slideshow": {
     "slide_type": "slide"
    }
   },
   "source": [
    "#### Implement BFS \n",
    "Implement BFS on a tree recursively"
   ]
  },
  {
   "cell_type": "code",
   "execution_count": null,
   "metadata": {},
   "outputs": [],
   "source": [
    "TT = T3b.copy()\n",
    "nx.set_node_attributes(TT, False, 'seen') # same as for loop above"
   ]
  },
  {
   "cell_type": "code",
   "execution_count": null,
   "metadata": {},
   "outputs": [],
   "source": [
    "Q = [3]\n",
    "TT.nodes[3]['seen'] = True\n",
    "for y in Q:\n",
    "    print(y, end=', ')\n",
    "    for z in TT[y]:\n",
    "        if not TT.nodes[z]['seen']:\n",
    "            Q.append(z)\n",
    "            TT.nodes[z]['seen'] = True"
   ]
  },
  {
   "cell_type": "markdown",
   "metadata": {
    "slideshow": {
     "slide_type": "slide"
    }
   },
   "source": [
    "## Graph Diameter\n",
    "\n",
    "* A natural problem arising in many practical applications is the following: Given a pair of nodes $x, y$, find one or all the paths from $x$ to $y$ with the **fewest number of edges** possible.\n",
    "\n",
    "* This is a somewhat complex measure on a network (compared to, say, statistics on node degrees). And we will need a more complex procedure, that is, an algorithm, in order to solve such problems systematically.\n",
    "\n",
    "Let's start with a proper definition."
   ]
  },
  {
   "cell_type": "markdown",
   "metadata": {
    "slideshow": {
     "slide_type": "subslide"
    }
   },
   "source": [
    "**Definition.** Let $G = (X, E)$ be a simple graph and let\n",
    "$x, y \\in X$.  Let $P(x, y)$ be the set of all paths from $x$ to $y$. Then:\n",
    "\n",
    "* The __distance__ $d(x, y)$ from $x$ to $y$ is\n",
    "$$d(x, y) = \\min \\{ l(p) : p \\in P(x, y) \\},$$\n",
    "the shortest possible length of a path from $x$ to $y$, and a __shortest path__ from $x$ to $y$ is a path $p \\in P(x, y)$ of length $l(p) = d(x, y)$.\n",
    "\n",
    "* The __diameter__ $\\mathrm{diam}(G)$ of the network $G$ is the length of the longest shortest path between any two nodes,\n",
    "$$\\mathrm{diam}(G) = \\max \\{ d(x, y) : x, y \\in X \\}.$$"
   ]
  },
  {
   "cell_type": "markdown",
   "metadata": {
    "slideshow": {
     "slide_type": "subslide"
    }
   },
   "source": [
    "Examples (done on board): what are the diameters of these graphs?\n",
    "1. $K_5$\n",
    "2. $k_{3,3}$\n",
    "3. $P_5$\n",
    "4. $C_8$"
   ]
  },
  {
   "cell_type": "markdown",
   "metadata": {
    "slideshow": {
     "slide_type": "slide"
    }
   },
   "source": [
    "### Breadth First Search for Distance\n",
    "\n",
    "We now consider the following problem: Given a node $x \\in X$ in a graph $G$, what\n",
    "are the distances $d(x, y)$ for all nodes $y \\in X$?  \n",
    "\n",
    "We know that it is possible to answer this question by looking at sums of powers of the adjacency matrix. But that is _extremely_ expensive. Also, it does not give you the paths (automatically).\n",
    "\n",
    "Better: use *BFS*.\n",
    "\n",
    "* BFS provides a systematic\n",
    "procedure for finding these distances, and the shortest paths through\n",
    "which they are realized. \n",
    "\n",
    "* We will start by describing how BFS works for **graph** traversal."
   ]
  },
  {
   "cell_type": "markdown",
   "metadata": {
    "slideshow": {
     "slide_type": "subslide"
    }
   },
   "source": [
    "In order to describe the algorithm step by step, let's recall that a node $y$\n",
    "a __neighbour__ (or friend) of node $x$, if $\\{x, y\\}$ is an\n",
    "edge, and let's denote by\n",
    "$$N(x) = \\{ y \\in X : \\{x, y\\} \\in E \\}$$\n",
    "the set of all neighbours of node $x$. "
   ]
  },
  {
   "cell_type": "markdown",
   "metadata": {},
   "source": [
    "The algorithm works through the\n",
    "network **layer by layer**, starting with the given vertex $x$ at layer\n",
    "$0$ and all its friends at layer $1$. It then finds the friends of the\n",
    "friends at layer $2$, and so on, until every node that can be reached\n",
    "from $x$ by a path has been recorded, taking care that **no node gets\n",
    "recorded twice**.  \n",
    "\n",
    "We'll exploit the fact that the layer of a node then corresponds to its distance\n",
    "from the given node $x$."
   ]
  },
  {
   "cell_type": "markdown",
   "metadata": {},
   "source": [
    "In practice, for simple graph traversal, the layers do not\n",
    "need to be made explicit. "
   ]
  },
  {
   "cell_type": "markdown",
   "metadata": {
    "slideshow": {
     "slide_type": "subslide"
    }
   },
   "source": [
    "We need an example of a network to work with. For a chance, let's load one from an adjacency file.\\\n",
    "_Syntax_: for each line in the file, the first listed node is a neighbour of all the others in that row.\n"
   ]
  },
  {
   "cell_type": "code",
   "execution_count": null,
   "metadata": {},
   "outputs": [],
   "source": [
    "!cat bfs.adj"
   ]
  },
  {
   "cell_type": "code",
   "execution_count": null,
   "metadata": {
    "slideshow": {
     "slide_type": "subslide"
    }
   },
   "outputs": [],
   "source": [
    "G4 = nx.read_adjlist(\"bfs.adj\")\n",
    "nx.draw(G4, **opts)"
   ]
  },
  {
   "cell_type": "markdown",
   "metadata": {
    "slideshow": {
     "slide_type": "subslide"
    }
   },
   "source": [
    "We set the `seen` attribute to `False`:"
   ]
  },
  {
   "cell_type": "code",
   "execution_count": null,
   "metadata": {},
   "outputs": [],
   "source": [
    "nx.set_node_attributes(G4, False, 'seen') # same as for loop above\n",
    "print( G4.nodes['A'] ) # check"
   ]
  },
  {
   "cell_type": "markdown",
   "metadata": {},
   "source": [
    "Initialise an empty queue, then add `A` to it, and set its `seen` attribute to `True`:"
   ]
  },
  {
   "cell_type": "code",
   "execution_count": null,
   "metadata": {},
   "outputs": [],
   "source": [
    "Q = []\n",
    "Q.append('A')\n",
    "G4.nodes['A']['seen'] = True\n",
    "print(f\"Q={Q}\")"
   ]
  },
  {
   "cell_type": "markdown",
   "metadata": {
    "slideshow": {
     "slide_type": "-"
    }
   },
   "source": [
    "Now check $N(A)$"
   ]
  },
  {
   "cell_type": "code",
   "execution_count": null,
   "metadata": {},
   "outputs": [],
   "source": [
    "list(G4.neighbors('A'))"
   ]
  },
  {
   "cell_type": "markdown",
   "metadata": {
    "slideshow": {
     "slide_type": "subslide"
    }
   },
   "source": [
    "Add neighbours of $A$ to `Q`:"
   ]
  },
  {
   "cell_type": "code",
   "execution_count": null,
   "metadata": {},
   "outputs": [],
   "source": [
    "for y in G4.neighbors('A'): \n",
    "    Q.append(y)\n",
    "    G4.nodes[y]['seen'] = True\n",
    "    \n",
    "## No neighbours of A have been seen yet, \n",
    "## but we'll need to add this check to the generic step of the algorithm\n",
    "\n",
    "print(Q)"
   ]
  },
  {
   "cell_type": "code",
   "execution_count": null,
   "metadata": {},
   "outputs": [],
   "source": [
    "node = 'B'\n",
    "for y in G4.neighbors(node):\n",
    "    if not G4.nodes[y]['seen']:\n",
    "        Q.append(y)\n",
    "        G4.nodes[y]['seen'] = True\n",
    "print(Q) "
   ]
  },
  {
   "cell_type": "code",
   "execution_count": null,
   "metadata": {},
   "outputs": [],
   "source": [
    "node = 'C'\n",
    "for y in G4.neighbors(node):\n",
    "    if not G4.nodes[y]['seen']:\n",
    "        Q.append(y)\n",
    "        G4.nodes[y]['seen'] = True\n",
    "print(Q)"
   ]
  },
  {
   "cell_type": "markdown",
   "metadata": {},
   "source": [
    "... and so on, until there are no more nodes to be processed.\n",
    "\n"
   ]
  },
  {
   "cell_type": "markdown",
   "metadata": {
    "slideshow": {
     "slide_type": "subslide"
    }
   },
   "source": [
    "Here is how to do it in a loop:"
   ]
  },
  {
   "cell_type": "code",
   "execution_count": null,
   "metadata": {},
   "outputs": [],
   "source": [
    "# 1. initialize\n",
    "nx.set_node_attributes(G4, False, 'seen') # same as for loop above\n",
    "\n",
    "G4.nodes['A']['seen'] = True\n",
    "Q = ['A']  \n",
    "\n",
    "# 2. loop\n",
    "for node in Q:\n",
    "    for y in G4.neighbors(node):\n",
    "        if not G4.nodes[y]['seen']:\n",
    "            Q.append(y)\n",
    "            G4.nodes[y]['seen'] = True\n",
    "\n",
    "# 3. output result\n",
    "print(f\"Q = {Q}\")"
   ]
  },
  {
   "cell_type": "markdown",
   "metadata": {},
   "source": [
    "When this process is formulated as an algorithm, we use an explicit __queue__\n",
    "(FIFO buffer) to keep track of the node whose neighbors are currently under consideration."
   ]
  },
  {
   "cell_type": "markdown",
   "metadata": {},
   "source": [
    "It can be shown that this version of the algorithm\n",
    "in the common case of a [sparse network](https://en.wikipedia.org/wiki/Sparse_network)\n",
    "has complexity $O(n)$, which is as good as one could hope for."
   ]
  },
  {
   "cell_type": "markdown",
   "metadata": {
    "slideshow": {
     "slide_type": "slide"
    }
   },
   "source": [
    "## BFS for Distance\n",
    "\n",
    "**Breadth First Search for Distance.**\n",
    "Given a simple graph\n",
    "$G = (X, E)$ and a vertex $x \\in X$,\n",
    "determine $d(x, y)$ for all nodes $y \\in X$.\n"
   ]
  },
  {
   "cell_type": "markdown",
   "metadata": {},
   "source": [
    "1. [Initialize.]  Suppose that $X = \\{x_0, x_1, \\ldots, x_{n-1}\\}$\n",
    "and that $x = x_j$.  Set $d_i \\gets \\perp$ (undefined) for $i = 0, \\dots, n{-}1$.\n",
    "Set $d_j \\gets 0$ and initialize a queue $Q \\gets (x_j)$.\n",
    "\n",
    "2. [Loop.] While $Q \\neq \\emptyset$:\n",
    "   * pop node $x_k$ off $Q$\n",
    "   * for each neighbor $x_l$ of $x_k$ with $d_l = \\perp$:\n",
    "       * push $x_l$ onto $Q$ and set $d_l \\gets d_k + 1$.\n",
    "\n",
    "3. [Stop.] Return the array $(d_0, \\dots, d_{n-1})$."
   ]
  },
  {
   "cell_type": "markdown",
   "metadata": {
    "slideshow": {
     "slide_type": "subslide"
    }
   },
   "source": [
    "Note how in this version of BFS, in contrast to the simple version, a node is visited (setting its $d$ attribute) immediately when it is pushed onto $Q$, rather than later when it pops off $Q$. "
   ]
  },
  {
   "cell_type": "code",
   "execution_count": null,
   "metadata": {},
   "outputs": [],
   "source": [
    "nx.set_node_attributes(G4, None, 'd') \n",
    "x = 'B'             #starting BFS at vertex B\n",
    "G4.nodes[x]['d'] = 0 # and setting its distance to 0\n",
    "Q = []\n",
    "Q.append(x)\n",
    "print(Q)"
   ]
  },
  {
   "cell_type": "code",
   "execution_count": null,
   "metadata": {},
   "outputs": [],
   "source": [
    "while len(Q)>0:\n",
    "    x = Q.pop(0)\n",
    "    for y in G4.neighbors(x):\n",
    "        if G4.nodes[y]['d'] is None: # checking if the distance is undefined\n",
    "            G4.nodes[y]['d'] = G4.nodes[x]['d'] + 1 # if so, define using previous\n",
    "            Q.append(y)\n",
    "    print(f\"{x} : {Q}\")"
   ]
  },
  {
   "cell_type": "code",
   "execution_count": null,
   "metadata": {},
   "outputs": [],
   "source": [
    "print([G4.nodes[x]['d'] for x in G4])"
   ]
  },
  {
   "cell_type": "markdown",
   "metadata": {
    "slideshow": {
     "slide_type": "slide"
    }
   },
   "source": [
    "### Variants\n",
    "\n",
    "BFS is an extremely versatile algorithm, which applies in many different situations and can be adapted to produce additional information on a network.\n",
    "\n",
    "For example, BFS run on a node $x$ in a network $G = (X, E)$ determines the __connected component__ of $x$ in $G$ (as the set of all nodes that get a distance value assigned). "
   ]
  },
  {
   "cell_type": "markdown",
   "metadata": {},
   "source": [
    "With little more work (and an additional array) BFS can produce\n",
    "a __spanning tree__ (or __shortest path tree__).\n",
    "Here, whenever node $x_l$ is pushed onto $Q$, it is assigned\n",
    "the current node $x_k$ (in the additional array)\n",
    "as its predecessor on a shortest path from $x_j$ to $x_l$.\n",
    "The subgraph of the network consisting of these edges is a tree.\n",
    "As a tree, it has exactly one path between the given node $x$\n",
    "and any of its\n",
    "vertices $y$ and, by construction, this path is a shortest path\n",
    "between $x$ and $y$."
   ]
  },
  {
   "cell_type": "code",
   "execution_count": null,
   "metadata": {
    "slideshow": {
     "slide_type": "subslide"
    }
   },
   "outputs": [],
   "source": [
    "nx.set_node_attributes(G4, None, 'd') \n",
    "x = 'A' # start with vertex A\n",
    "G4.nodes[x]['d'] = 0    # set its distance to 0\n",
    "Q = [] # initialise a queue Q\n",
    "Q.append(x)  # push x in Q\n",
    "\n",
    "nx.set_edge_attributes(G4, False, 'seen')"
   ]
  },
  {
   "cell_type": "code",
   "execution_count": null,
   "metadata": {},
   "outputs": [],
   "source": [
    "while len(Q)>0:\n",
    "    x = Q.pop(0) # pop a vertex from the queue\n",
    "    for y in G4.neighbors(x):\n",
    "        if not G4.nodes[y]['d']: # undefined? \n",
    "            G4.nodes[y]['d'] = G4.nodes[x]['d'] + 1 # set distance\n",
    "            Q.append(y) # push in queue\n",
    "            G4.edges[x, y]['seen'] = True # set relevant edge to seen\n",
    "    print(x, \": \", Q)"
   ]
  },
  {
   "cell_type": "code",
   "execution_count": null,
   "metadata": {},
   "outputs": [],
   "source": [
    "print(G4.edges())"
   ]
  },
  {
   "cell_type": "code",
   "execution_count": null,
   "metadata": {
    "slideshow": {
     "slide_type": "subslide"
    }
   },
   "outputs": [],
   "source": [
    "sub = [e for e in G4.edges if G4.edges[e]['seen']]\n",
    "# subset of edges 'seen' while visiting the graph"
   ]
  },
  {
   "cell_type": "code",
   "execution_count": null,
   "metadata": {},
   "outputs": [],
   "source": [
    "pos = nx.spring_layout(G4)\n",
    "nx.draw(G4, **opts, pos=pos)\n"
   ]
  },
  {
   "cell_type": "code",
   "execution_count": null,
   "metadata": {
    "slideshow": {
     "slide_type": "subslide"
    }
   },
   "outputs": [],
   "source": [
    "nx.draw(G4.edge_subgraph(sub), **opts, pos=pos)"
   ]
  },
  {
   "cell_type": "markdown",
   "metadata": {
    "slideshow": {
     "slide_type": "subslide"
    }
   },
   "source": [
    "Or, one could highlight the spanning tree inside the graph by using, say,\n",
    "red as color for the spanning edges (and blue for the rest)."
   ]
  },
  {
   "cell_type": "code",
   "execution_count": null,
   "metadata": {},
   "outputs": [],
   "source": [
    "colors = ['red' if G4.edges[e]['seen'] else 'blue' for e in G4.edges]\n",
    "nx.draw(G4, edge_color = colors, with_labels = True, width=2.0, pos=pos)"
   ]
  },
  {
   "cell_type": "markdown",
   "metadata": {
    "slideshow": {
     "slide_type": "subslide"
    }
   },
   "source": [
    "* Of course, in order to find distances, or shortest paths\n",
    "between **all pairs** of nodes $x$ and $y$ in a network, one can\n",
    "perform BFS for each of the nodes $x \\in X$ in turn.\n",
    "\n",
    "* As an exercise in a future assignment, you will see more in detail an implementation of BFS aimed at constructing a spanning tree.\n",
    "\n",
    "* The algorithm and its variants also works on directed networks,\n",
    "but the results then will have to be interpreted in the context of\n",
    "directed networks.\n",
    "\n",
    "More about BFS can be found in [Newman, Section 10.3]."
   ]
  },
  {
   "cell_type": "markdown",
   "metadata": {
    "slideshow": {
     "slide_type": "slide"
    }
   },
   "source": [
    "## Code Corner\n",
    "Here we summarise any new `Python` or `networkx` functions/syntax we met today, or some functions that might be useful. This section is not covered in class. "
   ]
  },
  {
   "cell_type": "markdown",
   "metadata": {
    "slideshow": {
     "slide_type": "subslide"
    }
   },
   "source": [
    "### Pruefer codes in 'networkx'\n",
    "\n",
    "Make a tree (for a change, just by defining the edges)"
   ]
  },
  {
   "cell_type": "code",
   "execution_count": null,
   "metadata": {},
   "outputs": [],
   "source": [
    "edges = [(0, 3), (1, 3), (2, 3), (3, 4), (4, 5)]\n",
    "TCCa = nx.Graph(edges) \n",
    "nx.draw(TCCa, **opts)"
   ]
  },
  {
   "cell_type": "code",
   "execution_count": null,
   "metadata": {},
   "outputs": [],
   "source": [
    "code = nx.to_prufer_sequence(TCCa) # get the Pruefer code\n",
    "print(code)"
   ]
  },
  {
   "cell_type": "code",
   "execution_count": null,
   "metadata": {},
   "outputs": [],
   "source": [
    "TCCb = nx.from_prufer_sequence(code) # get tree from Pruefer code\n",
    "nx.draw(TCCb, **opts)"
   ]
  },
  {
   "cell_type": "markdown",
   "metadata": {
    "slideshow": {
     "slide_type": "subslide"
    }
   },
   "source": [
    "### Setting node attributes\n",
    "These are the same:"
   ]
  },
  {
   "cell_type": "code",
   "execution_count": null,
   "metadata": {},
   "outputs": [],
   "source": [
    "TT = TCCb.copy()\n",
    "nx.set_node_attributes(TT, False, 'seen') "
   ]
  },
  {
   "cell_type": "code",
   "execution_count": null,
   "metadata": {},
   "outputs": [],
   "source": [
    "for x in TT:\n",
    "    TT.nodes[x]['seen'] = False"
   ]
  },
  {
   "cell_type": "markdown",
   "metadata": {},
   "source": [
    "<div class=\"alert alert-block alert-info\">Finished here Thursday</div>"
   ]
  },
  {
   "cell_type": "markdown",
   "metadata": {
    "slideshow": {
     "slide_type": "slide"
    }
   },
   "source": [
    "## Exercises\n",
    "\n",
    "1. Find the diameters of the following graphs:\n",
    "    1. $K_{m,n}$ for $m,n>0$\n",
    "    2. $K_{n}$ for $n>0$\n",
    "    3. $P_n$, for $n>1$\n",
    "    4. $C_n$. for $n>2$\n",
    "    5. The Petersen Graph\n",
    "    \n",
    "2. (Q1(b)+(d) from 2023/2024 Exam). Consider the graph on the nodes $a,b,c,\\dots, h$, with edges\\\n",
    "$a-b$, $a-c$,\\\n",
    "$b-c$, $b-d$, $b-e$, \\\n",
    "$c-e$,\\\n",
    "$d-e$, $d-f$,\\\n",
    "$e-f$, $e-g$, and \\\n",
    "$g-h$.\n",
    "\n",
    "* Use BFS to find the shortest distance between $a$ and all other nodes;\n",
    "* Use BFS, starting at $a$, to construct a spanning tree of the graph.\n"
   ]
  }
 ],
 "metadata": {
  "celltoolbar": "Slideshow",
  "kernelspec": {
   "display_name": "Python (CS4423)",
   "language": "python",
   "name": "cs4423"
  },
  "language_info": {
   "codemirror_mode": {
    "name": "ipython",
    "version": 3
   },
   "file_extension": ".py",
   "mimetype": "text/x-python",
   "name": "python",
   "nbconvert_exporter": "python",
   "pygments_lexer": "ipython3",
   "version": "3.12.8"
  },
  "toc": {
   "base_numbering": 1,
   "nav_menu": {},
   "number_sections": true,
   "sideBar": true,
   "skip_h1_title": true,
   "title_cell": "Table of Contents",
   "title_sidebar": "Contents",
   "toc_cell": true,
   "toc_position": {},
   "toc_section_display": true,
   "toc_window_display": false
  },
  "varInspector": {
   "cols": {
    "lenName": 16,
    "lenType": 16,
    "lenVar": 40
   },
   "kernels_config": {
    "python": {
     "delete_cmd_postfix": "",
     "delete_cmd_prefix": "del ",
     "library": "var_list.py",
     "varRefreshCmd": "print(var_dic_list())"
    },
    "r": {
     "delete_cmd_postfix": ") ",
     "delete_cmd_prefix": "rm(",
     "library": "var_list.r",
     "varRefreshCmd": "cat(var_dic_list()) "
    }
   },
   "types_to_exclude": [
    "module",
    "function",
    "builtin_function_or_method",
    "instance",
    "_Feature"
   ],
   "window_display": false
  }
 },
 "nbformat": 4,
 "nbformat_minor": 1
}
