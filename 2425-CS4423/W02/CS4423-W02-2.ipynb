{
 "cells": [
  {
   "cell_type": "markdown",
   "metadata": {
    "hideCode": false,
    "hidePrompt": false,
    "toc": true
   },
   "source": [
    "<h1>Table of Contents<span class=\"tocSkip\"></span></h1>\n",
    "<div class=\"toc\"><ul class=\"toc-item\"><li><span><a href=\"#Preliminaries\" data-toc-modified-id=\"Preliminaries-1\"><span class=\"toc-item-num\">1&nbsp;&nbsp;</span>Preliminaries</a></span><ul class=\"toc-item\"><li><span><a href=\"#Reminder\" data-toc-modified-id=\"Reminder-1.1\"><span class=\"toc-item-num\">1.1&nbsp;&nbsp;</span>Reminder</a></span></li><li><span><a href=\"#Notes\" data-toc-modified-id=\"Notes-1.2\"><span class=\"toc-item-num\">1.2&nbsp;&nbsp;</span>Notes</a></span></li><li><span><a href=\"#Modules-for-this-notebook\" data-toc-modified-id=\"Modules-for-this-notebook-1.3\"><span class=\"toc-item-num\">1.3&nbsp;&nbsp;</span>Modules for this notebook</a></span></li></ul></li><li><span><a href=\"#Important-Graphs-(continued)\" data-toc-modified-id=\"Important-Graphs-(continued)-2\"><span class=\"toc-item-num\">2&nbsp;&nbsp;</span>Important Graphs (continued)</a></span><ul class=\"toc-item\"><li><span><a href=\"#Cycle-Graphs\" data-toc-modified-id=\"Cycle-Graphs-2.1\"><span class=\"toc-item-num\">2.1&nbsp;&nbsp;</span>Cycle Graphs</a></span></li></ul></li><li><span><a href=\"#New-Graphs-from-old\" data-toc-modified-id=\"New-Graphs-from-old-3\"><span class=\"toc-item-num\">3&nbsp;&nbsp;</span>New Graphs from old</a></span><ul class=\"toc-item\"><li><span><a href=\"#Complement-Graph\" data-toc-modified-id=\"Complement-Graph-3.1\"><span class=\"toc-item-num\">3.1&nbsp;&nbsp;</span>Complement Graph</a></span></li><li><span><a href=\"#Line-Graphs\" data-toc-modified-id=\"Line-Graphs-3.2\"><span class=\"toc-item-num\">3.2&nbsp;&nbsp;</span>Line Graphs</a></span><ul class=\"toc-item\"><li><span><a href=\"#Examples\" data-toc-modified-id=\"Examples-3.2.1\"><span class=\"toc-item-num\">3.2.1&nbsp;&nbsp;</span>Examples</a></span></li><li><span><a href=\"#Line-graph-of-$C_4$\" data-toc-modified-id=\"Line-graph-of-$C_4$-3.2.2\"><span class=\"toc-item-num\">3.2.2&nbsp;&nbsp;</span>Line graph of $C_4$</a></span></li></ul></li><li><span><a href=\"#Petersen-Graph\" data-toc-modified-id=\"Petersen-Graph-3.3\"><span class=\"toc-item-num\">3.3&nbsp;&nbsp;</span>Petersen Graph</a></span></li></ul></li><li><span><a href=\"#Matrices-of-Graphs\" data-toc-modified-id=\"Matrices-of-Graphs-4\"><span class=\"toc-item-num\">4&nbsp;&nbsp;</span>Matrices of Graphs</a></span></li><li><span><a href=\"#Adjacency-Matrix\" data-toc-modified-id=\"Adjacency-Matrix-5\"><span class=\"toc-item-num\">5&nbsp;&nbsp;</span>Adjacency Matrix</a></span><ul class=\"toc-item\"><li><span><a href=\"#Example\" data-toc-modified-id=\"Example-5.1\"><span class=\"toc-item-num\">5.1&nbsp;&nbsp;</span>Example</a></span></li><li><span><a href=\"#Example\" data-toc-modified-id=\"Example-5.2\"><span class=\"toc-item-num\">5.2&nbsp;&nbsp;</span>Example</a></span></li><li><span><a href=\"#Properties-of-Adjacency-matrices\" data-toc-modified-id=\"Properties-of-Adjacency-matrices-5.3\"><span class=\"toc-item-num\">5.3&nbsp;&nbsp;</span>Properties of Adjacency matrices</a></span></li><li><span><a href=\"#Sparse-matrices\" data-toc-modified-id=\"Sparse-matrices-5.4\"><span class=\"toc-item-num\">5.4&nbsp;&nbsp;</span>Sparse matrices</a></span></li><li><span><a href=\"#Another-example\" data-toc-modified-id=\"Another-example-5.5\"><span class=\"toc-item-num\">5.5&nbsp;&nbsp;</span>Another example</a></span><ul class=\"toc-item\"><li><span><a href=\"#More-about-Adjacency-Matrices\" data-toc-modified-id=\"More-about-Adjacency-Matrices-5.5.1\"><span class=\"toc-item-num\">5.5.1&nbsp;&nbsp;</span>More about Adjacency Matrices</a></span></li></ul></li></ul></li><li><span><a href=\"#Exercises\" data-toc-modified-id=\"Exercises-6\"><span class=\"toc-item-num\">6&nbsp;&nbsp;</span>Exercises</a></span></li></ul></div>"
   ]
  },
  {
   "cell_type": "markdown",
   "metadata": {
    "hideCode": false,
    "hidePrompt": false,
    "slideshow": {
     "slide_type": "slide"
    }
   },
   "source": [
    " # CS4423-Networks : Week 02 - Lecture 2 [$\\color{red}{\\text{DRAFT}}$]\n",
    "# From  Graphs to Matrices\n",
    "Niall Madden, \n",
    "School of Mathematical and Statistical Sciences  \n",
    "University of Galway\n",
    "\n",
    "(These notes are adapted from Angela Carnevale's nodes)\n",
    "\n",
    "This Jupyter notebook, and a HTML version, can be found at https://www.niallmadden.ie/2425-CS4423/#Week02\n",
    "\n",
    "<div class=\"rc\"><font size=\"-1\"><em>This version of this notebook was written by Niall Madden, adapted from notebooks by Angela Carnevale.</em></div>"
   ]
  },
  {
   "cell_type": "markdown",
   "metadata": {
    "slideshow": {
     "slide_type": "slide"
    }
   },
   "source": [
    "## Preliminaries\n",
    "### Reminder\n",
    "\n",
    "Labs start next week, and an (reintroduction) to Python. This will run:\n",
    "* Tuesday at 4 in AC215 (slight chance this might get moved to Tuesday at 3), and\n",
    "* Wednesday at 10am in CA116a. \n",
    "\n",
    "These rooms are not labs: BYoD! (Bring Your Own Device)\n"
   ]
  },
  {
   "cell_type": "markdown",
   "metadata": {},
   "source": [
    "### Notes \n",
    "(Revised) Notes from yesterday's class are at https://www.niallmadden.ie/2425-CS4423/#Week02. As well as the material we covered, there is a set of exercises at the end of the notebook, including some based on past exam papers."
   ]
  },
  {
   "cell_type": "markdown",
   "metadata": {
    "slideshow": {
     "slide_type": "-"
    }
   },
   "source": [
    "### Modules for this notebook"
   ]
  },
  {
   "cell_type": "code",
   "execution_count": null,
   "metadata": {
    "hideCode": false,
    "hidePrompt": false,
    "slideshow": {
     "slide_type": "slide"
    }
   },
   "outputs": [],
   "source": [
    "import networkx as nx\n",
    "import numpy as np\n",
    "opts = { \"with_labels\": True, \"node_color\": 'pink' } # show labels; pink noodes\n",
    "from itertools import combinations"
   ]
  },
  {
   "cell_type": "markdown",
   "metadata": {
    "hideCode": false,
    "hidePrompt": false,
    "slideshow": {
     "slide_type": "slide"
    }
   },
   "source": [
    "## Important Graphs (continued)\n",
    "\n",
    "Yesteryday, we discussed \n",
    "* Complete Graphs, which can be built using, for example `nx.complete_graph(\"NETWORKS\")`\n",
    "* Bipartite and complete bipartite graphs, the latter of which can be built using `nx.complete_bipartite_graph(m,n)`. One can also use *list comprehension* to make the edge set: `E = [(x, y) for x in X1 for y in X2 if x < y]`\n",
    "* Path graphs, built with `nx.path_graph(10)`. Can also use list comprehension to make the edge set (next week's lab)"
   ]
  },
  {
   "cell_type": "markdown",
   "metadata": {
    "slideshow": {
     "slide_type": "slide"
    }
   },
   "source": [
    "### Cycle Graphs\n",
    "\n",
    "Our last example: the **cycle** graph on $n \\geq 3$ nodes, denoted $C_n$, (slightly informally) is formed by adding an edge between to to nodes of degree 1 in a path graph if we delete any one edge is a es is connected, which as a path graph, but with an edge between the two \"end\" nodes. You can make one with `cycle_graph(n)`, but here we'll do it manually.\n",
    "    "
   ]
  },
  {
   "cell_type": "code",
   "execution_count": null,
   "metadata": {},
   "outputs": [],
   "source": [
    "C5 = nx.Graph(['01', '12', '23', '34', '40'])\n",
    "nx.draw(C5, **opts)             "
   ]
  },
  {
   "cell_type": "code",
   "execution_count": null,
   "metadata": {
    "slideshow": {
     "slide_type": "subslide"
    }
   },
   "outputs": [],
   "source": [
    "nx.draw(nx.cycle_graph(6))"
   ]
  },
  {
   "cell_type": "code",
   "execution_count": null,
   "metadata": {},
   "outputs": [],
   "source": [
    "C7 = nx.path_graph(7) # not a cycle graph... yet\n",
    "C7.add_edge(0,6)\n",
    "nx.draw(C7)"
   ]
  },
  {
   "cell_type": "markdown",
   "metadata": {
    "slideshow": {
     "slide_type": "slide"
    }
   },
   "source": [
    "## New Graphs from old\n",
    "\n",
    "### Complement Graph\n",
    "\n",
    "The **complement of a graph** $G$ is a graph $H$ with the same nodes as $G$, and two nodes in $H$ are adjacent if and only if they are *not* adjacent in G. \n",
    "\n",
    "For example, the complement of a complete graph is an empty graph.\n",
    "\n",
    "In `networkx`, the `complement` function returns to complement of a graph."
   ]
  },
  {
   "cell_type": "code",
   "execution_count": null,
   "metadata": {},
   "outputs": [],
   "source": [
    "G = nx.Graph([(1, 2), (1, 3), (2, 3), (3, 4), (3, 5)])\n",
    "G_complement = nx.complement(G)\n",
    "list( G_complement.edges() )  # This shows the edges of the complemented graph"
   ]
  },
  {
   "cell_type": "markdown",
   "metadata": {
    "slideshow": {
     "slide_type": "subslide"
    }
   },
   "source": [
    "**Tip**: `nx.draw` uses a (semi-random) algorithm, called `spring_layout` for deciding the position of nodes when we draw a graph.  Usually, a graph and its complement will be drawn with nodes in different places, making them hard to compare. But we can record the positions determined by the algorithm, and reuse them, as in the next example..."
   ]
  },
  {
   "cell_type": "code",
   "execution_count": null,
   "metadata": {
    "slideshow": {
     "slide_type": "subslide"
    }
   },
   "outputs": [],
   "source": [
    "pos = nx.spring_layout( G)\n",
    "nx.draw(G, **opts, pos=pos)"
   ]
  },
  {
   "cell_type": "code",
   "execution_count": null,
   "metadata": {},
   "outputs": [],
   "source": [
    "nx.draw_networkx(G_complement, **opts, pos=pos)"
   ]
  },
  {
   "cell_type": "markdown",
   "metadata": {
    "slideshow": {
     "slide_type": "slide"
    }
   },
   "source": [
    "### Line Graphs\n",
    "\n",
    "A graph, $G$, is made from \"things\" that have connections to each other. The \"things\" are nodes, and their connections are represented by an edge.\n",
    "\n",
    "But we can think of edges as \"things\" too, with connections to any other edge that has a vertex in common. This leads to the idea of a _line graph_.\n",
    "\n",
    "The **line graph** of $G$, is denoted $L(G)$: every node in $L(G)$ corresponds to an edge in $G$,  and for every two edges in $G$ that have a node in common, $L(G)$ has an edge between their corresponding nodes."
   ]
  },
  {
   "cell_type": "markdown",
   "metadata": {
    "slideshow": {
     "slide_type": "subslide"
    }
   },
   "source": [
    "#### Examples"
   ]
  },
  {
   "cell_type": "code",
   "execution_count": null,
   "metadata": {
    "slideshow": {
     "slide_type": "-"
    }
   },
   "outputs": [],
   "source": [
    "G = nx.Graph([\"AB\", \"AC\", \"AD\", \"BD\"])\n",
    "nx.draw(G, **opts)"
   ]
  },
  {
   "cell_type": "code",
   "execution_count": null,
   "metadata": {
    "slideshow": {
     "slide_type": "subslide"
    }
   },
   "outputs": [],
   "source": [
    "LG = nx.line_graph(G)\n",
    "nx.draw(LG, **opts, node_size=800) # large nodes to label easier to read"
   ]
  },
  {
   "cell_type": "markdown",
   "metadata": {
    "slideshow": {
     "slide_type": "subslide"
    }
   },
   "source": [
    "#### Line graph of $C_4$"
   ]
  },
  {
   "cell_type": "code",
   "execution_count": null,
   "metadata": {
    "slideshow": {
     "slide_type": "-"
    }
   },
   "outputs": [],
   "source": [
    "G = nx.cycle_graph(4)\n",
    "nx.draw(G, **opts)"
   ]
  },
  {
   "cell_type": "code",
   "execution_count": null,
   "metadata": {
    "slideshow": {
     "slide_type": "subslide"
    }
   },
   "outputs": [],
   "source": [
    "LG = nx.line_graph(G)\n",
    "nx.draw(G, **opts)"
   ]
  },
  {
   "cell_type": "markdown",
   "metadata": {
    "hideCode": false,
    "hidePrompt": false,
    "slideshow": {
     "slide_type": "slide"
    }
   },
   "source": [
    "### Petersen Graph\n",
    "\n",
    "Everyone who has a favourite graph has as their favourite graph the [Petersen Graph](https://en.wikipedia.org/wiki/Petersen_graph). It is  a graph on $10$ nodes with $15$ edges.\n",
    "\n",
    "One way to construct it, is as the **complement** of the **line graph** of the complete graph $K_5$."
   ]
  },
  {
   "cell_type": "code",
   "execution_count": null,
   "metadata": {
    "hideCode": false,
    "hidePrompt": false,
    "slideshow": {
     "slide_type": "subslide"
    }
   },
   "outputs": [],
   "source": [
    "K5 = nx.complete_graph(5)\n",
    "nx.draw(K5, **opts)"
   ]
  },
  {
   "cell_type": "markdown",
   "metadata": {
    "slideshow": {
     "slide_type": "subslide"
    }
   },
   "source": [
    "Next we make the line graph, $L(K_5)$:"
   ]
  },
  {
   "cell_type": "code",
   "execution_count": null,
   "metadata": {
    "hideCode": false,
    "hidePrompt": false,
    "slideshow": {
     "slide_type": "-"
    }
   },
   "outputs": [],
   "source": [
    "LK5 = nx.line_graph(K5)\n",
    "nx.draw(LK5, **opts, node_size=800)"
   ]
  },
  {
   "cell_type": "markdown",
   "metadata": {
    "slideshow": {
     "slide_type": "subslide"
    }
   },
   "source": [
    "And (almost) finally, we take the complement of $L(K_5)$."
   ]
  },
  {
   "cell_type": "code",
   "execution_count": null,
   "metadata": {
    "hideCode": false,
    "hidePrompt": false
   },
   "outputs": [],
   "source": [
    "Petersen = nx.complement(LK5)\n",
    "nx.draw(Petersen, **opts, node_size=800)"
   ]
  },
  {
   "cell_type": "markdown",
   "metadata": {
    "slideshow": {
     "slide_type": "subslide"
    }
   },
   "source": [
    "While the graph is correct, we have to be quite careful with the positioning of the nodes to get a proper view of the graph:"
   ]
  },
  {
   "cell_type": "code",
   "execution_count": null,
   "metadata": {},
   "outputs": [],
   "source": [
    "pos = nx.circular_layout(Petersen)\n",
    "pos[(0,1)]=[0,5]; pos[(0,2)]=[3,1]; pos[(0,3)]=[2,-2]; pos[(0,4)]=[-3,-4]\n",
    "pos[(1,2)]=[3,-4]; pos[(1,3)]=[-2,-2]; pos[(1,4)]=[-3,1]\n",
    "pos[(2,3)]=[-5,2]; pos[(2,4)]=[0,3]\n",
    "pos[(3,4)]=[5,2]\n",
    "nx.draw(Petersen, pos=pos,node_size=800, width=3, **opts)"
   ]
  },
  {
   "cell_type": "markdown",
   "metadata": {
    "slideshow": {
     "slide_type": "slide"
    }
   },
   "source": [
    "## Matrices of Graphs\n",
    "\n",
    "There are various ways the represent a network/graph, including:\n",
    "* The node set and edge set, or\n",
    "* a drawing of the graph.\n",
    "But, computationally, the most useful way is as a matrix. Three important matrix representations are\n",
    "1. **The Adjacency Matrix** (most important)\n",
    "2. **Incidence Matrix** (has its uses)\n",
    "3. **The Graph Laplacian** (the coolest)\n",
    "\n"
   ]
  },
  {
   "cell_type": "markdown",
   "metadata": {
    "slideshow": {
     "slide_type": "slide"
    }
   },
   "source": [
    "## Adjacency Matrix\n",
    "\n",
    "**Definition** The  __adjacency matrix__ of a graph, $G$ of order $n$, is a square $n\\times n$ matrix, $A=(a_{ij})$, \n",
    "with rows and columns corresponding to the nodes of the graph. That is, we number the nodes $1, 2, \\dots, n$. Then $A$ is given by \n",
    "$$\n",
    "    a_{ij}=\\begin{cases} 1 & \\mbox{if node $i$ and $j$ are joined by an edge},\\\\\n",
    "0 &\\mbox{otherwise}.\\end{cases}\n",
    "$$\n"
   ]
  },
  {
   "cell_type": "markdown",
   "metadata": {},
   "source": [
    "### Example\n",
    "Let $G=G(X,E)$ be the graph with $X=\\{a,b,c,d,e\\}$ and edges $a-b$, $b-c$, $b-d$, $c-d$ and $d-e$.\n",
    "Then $$A = \n",
    "\\begin{pmatrix}\n",
    "0&1&0&0&0\\\\\n",
    "1&0&1&1&0\\\\\n",
    "0&1&0&1&0\\\\\n",
    "0&1&1&0&1\\\\\n",
    "0&0&0&1&0\n",
    "\\end{pmatrix}$$"
   ]
  },
  {
   "cell_type": "markdown",
   "metadata": {
    "slideshow": {
     "slide_type": "subslide"
    }
   },
   "source": [
    "### Example\n",
    "The adjacency matrix of $K_4$ is \n",
    "$$ A = \\begin{pmatrix} \n",
    "0 & 1 & 1 &1 \\\\\n",
    "1 & 0 & 1 &1 \\\\\n",
    "1 & 1 & 0 &1 \\\\\n",
    "1 & 1 & 1 &0 \n",
    "\\end{pmatrix}$$"
   ]
  },
  {
   "cell_type": "markdown",
   "metadata": {
    "slideshow": {
     "slide_type": "slide"
    }
   },
   "source": [
    "### Properties of Adjacency matrices \n",
    "1. $\\sum_{i=1}^N \\sum_{j=1}^N a_{ij} = \\sum_{u \\in X} \\mathrm{deg}(u)$, where $\\mathrm{deg}(u)$ is the degree of $u$.\n",
    "2. All graphs we've seen so far are _undirected_. For all such graphs, $A$ is symmetric: $A=A^T$; equivalently $a_{ij}=a_{ji}$\n",
    "4. $a_{ii}=0$ for all $i$.\n",
    "3. In real-world examples, $A$ would usually be **sparse**, which means that $\\sum_{i=1}^N \\sum_{j=1}^N a_{ij}  \\ll n^2$. (I.e., the vast majority of the entries are zero)."
   ]
  },
  {
   "cell_type": "markdown",
   "metadata": {
    "slideshow": {
     "slide_type": "slide"
    }
   },
   "source": [
    "### Sparse matrices\n",
    "Sparse matrices have huge importance in computational linear algebra. The main idea is that it is much more efficient to just store the location of the non-zero entries. That is what `networkx` does:"
   ]
  },
  {
   "cell_type": "code",
   "execution_count": null,
   "metadata": {},
   "outputs": [],
   "source": [
    "C4 = nx.cycle_graph(4)\n",
    "A_C4 = nx.adjacency_matrix(C4)\n",
    "print(A_C4)"
   ]
  },
  {
   "cell_type": "markdown",
   "metadata": {
    "slideshow": {
     "slide_type": "slide"
    }
   },
   "source": [
    "This matrix is internally represented as a `scipy` sparse matrix. It needs to be converted (e.g. by the `toarray` method) in order to be displayed as a matrix as usual.\n"
   ]
  },
  {
   "cell_type": "code",
   "execution_count": null,
   "metadata": {},
   "outputs": [],
   "source": [
    "type(A_C4)"
   ]
  },
  {
   "cell_type": "code",
   "execution_count": null,
   "metadata": {},
   "outputs": [],
   "source": [
    "type(A_C4.toarray())"
   ]
  },
  {
   "cell_type": "code",
   "execution_count": null,
   "metadata": {},
   "outputs": [],
   "source": [
    "print(A_C4.toarray())"
   ]
  },
  {
   "cell_type": "markdown",
   "metadata": {
    "slideshow": {
     "slide_type": "slide"
    }
   },
   "source": [
    "### Another example\n",
    "Here is another example, we introduce to look at the idea of creating a graph from a matrix:"
   ]
  },
  {
   "cell_type": "code",
   "execution_count": null,
   "metadata": {},
   "outputs": [],
   "source": [
    "G = nx.Graph([\"ab\", \"bc\", \"bd\", \"cd\", \"de\"])\n",
    "nx.draw(G, **opts)"
   ]
  },
  {
   "cell_type": "code",
   "execution_count": null,
   "metadata": {},
   "outputs": [],
   "source": [
    "A = nx.adjacency_matrix(G)\n",
    "print(A.toarray())"
   ]
  },
  {
   "cell_type": "markdown",
   "metadata": {
    "slideshow": {
     "slide_type": "subslide"
    }
   },
   "source": [
    "Now let's make a graph from that matrix:"
   ]
  },
  {
   "cell_type": "code",
   "execution_count": null,
   "metadata": {},
   "outputs": [],
   "source": [
    "H = nx.from_numpy_array(A.toarray())\n",
    "nx.draw(H, **opts)"
   ]
  },
  {
   "cell_type": "markdown",
   "metadata": {},
   "source": [
    "So the graph is more or less the same, but the labels have changed!"
   ]
  },
  {
   "cell_type": "markdown",
   "metadata": {
    "slideshow": {
     "slide_type": "slide"
    }
   },
   "source": [
    "#### More about Adjacency Matrices\n",
    "\n",
    "Next week we'll learn more about these matrices. In particular, even though they are created just as a table of numbers representing a graph, matrix algebra is really important! Examples:\n",
    "* Matrix-vector products can tell us about neighbours of a vertex\n",
    "* Matrix-matrix produces can let us compose the actions to two networks\n",
    "* Matrix powers tell us about paths of given lengths\n",
    "* Even the eigenvalues of $A$ give us information about the network"
   ]
  },
  {
   "cell_type": "markdown",
   "metadata": {
    "hideCode": false,
    "hidePrompt": false,
    "slideshow": {
     "slide_type": "slide"
    }
   },
   "source": [
    "## Exercises\n",
    "\n",
    "1. For what values of $n$ is $C_n$ bipartite?\n",
    "2. In this class we looked at a few graph generators in `networkx`. Explore the following: `barbell_graph`, `ladder_graph`, `lollipop_graph`, `star_graph` and `wheel_graph`.\n",
    "3. We say two graphs are **equal** if they have the same node and edge sets. We say they are **isomorphic** if there is a relabling of their nodes that makes them equal. Verify that $C_5$ is isomorphic to its complement.\n",
    "4. Convince yourself that $C_n$ is always isomorphic to $L(C_n)$, the line graph of $C_n$.\n",
    "5. Is the Petersen graph bipartite?\n",
    "6. Write down the adjacency matrix of $K_{3,3}$"
   ]
  },
  {
   "cell_type": "markdown",
   "metadata": {},
   "source": [
    "<div class=\"alert alert-block alert-info\">Finished here Thursday</div>"
   ]
  }
 ],
 "metadata": {
  "celltoolbar": "Slideshow",
  "hide_code_all_hidden": false,
  "kernelspec": {
   "display_name": "Python (CS4423)",
   "language": "python",
   "name": "cs4423"
  },
  "language_info": {
   "codemirror_mode": {
    "name": "ipython",
    "version": 3
   },
   "file_extension": ".py",
   "mimetype": "text/x-python",
   "name": "python",
   "nbconvert_exporter": "python",
   "pygments_lexer": "ipython3",
   "version": "3.12.8"
  },
  "toc": {
   "base_numbering": 1,
   "nav_menu": {},
   "number_sections": true,
   "sideBar": true,
   "skip_h1_title": true,
   "title_cell": "Table of Contents",
   "title_sidebar": "Contents",
   "toc_cell": true,
   "toc_position": {},
   "toc_section_display": true,
   "toc_window_display": false
  },
  "varInspector": {
   "cols": {
    "lenName": 16,
    "lenType": 16,
    "lenVar": 40
   },
   "kernels_config": {
    "python": {
     "delete_cmd_postfix": "",
     "delete_cmd_prefix": "del ",
     "library": "var_list.py",
     "varRefreshCmd": "print(var_dic_list())"
    },
    "r": {
     "delete_cmd_postfix": ") ",
     "delete_cmd_prefix": "rm(",
     "library": "var_list.r",
     "varRefreshCmd": "cat(var_dic_list()) "
    }
   },
   "types_to_exclude": [
    "module",
    "function",
    "builtin_function_or_method",
    "instance",
    "_Feature"
   ],
   "window_display": false
  }
 },
 "nbformat": 4,
 "nbformat_minor": 1
}
