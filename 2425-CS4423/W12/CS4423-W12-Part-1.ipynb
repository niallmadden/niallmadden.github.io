{
 "cells": [
  {
   "cell_type": "markdown",
   "metadata": {
    "toc": true
   },
   "source": [
    "<h1>Table of Contents<span class=\"tocSkip\"></span></h1>\n",
    "<div class=\"toc\"><ul class=\"toc-item\"><li><span><a href=\"#Digraphs-and-Mathematical-Relations\" data-toc-modified-id=\"Digraphs-and-Mathematical-Relations-1\"><span class=\"toc-item-num\">1&nbsp;&nbsp;</span>Digraphs and Mathematical Relations</a></span><ul class=\"toc-item\"><li><span><a href=\"#The-Bow-Tie-Structure-of-the-WWW\" data-toc-modified-id=\"The-Bow-Tie-Structure-of-the-WWW-1.1\"><span class=\"toc-item-num\">1.1&nbsp;&nbsp;</span>The Bow-Tie Structure of the WWW</a></span></li></ul></li><li><span><a href=\"#Computing-Bow-Tie-Components\" data-toc-modified-id=\"Computing-Bow-Tie-Components-2\"><span class=\"toc-item-num\">2&nbsp;&nbsp;</span>Computing Bow-Tie Components</a></span><ul class=\"toc-item\"><li><span><a href=\"#Weakly-Connected-Components\" data-toc-modified-id=\"Weakly-Connected-Components-2.1\"><span class=\"toc-item-num\">2.1&nbsp;&nbsp;</span>Weakly Connected Components</a></span></li></ul></li><li><span><a href=\"#Computing-WCCs-and-SCCs-in-networkx\" data-toc-modified-id=\"Computing-WCCs-and-SCCs-in-networkx-3\"><span class=\"toc-item-num\">3&nbsp;&nbsp;</span>Computing WCCs and SCCs in <code>networkx</code></a></span><ul class=\"toc-item\"><li><span><a href=\"#WCCS\" data-toc-modified-id=\"WCCS-3.1\"><span class=\"toc-item-num\">3.1&nbsp;&nbsp;</span>WCCS</a></span></li><li><span><a href=\"#Strongly-Connected-Components\" data-toc-modified-id=\"Strongly-Connected-Components-3.2\"><span class=\"toc-item-num\">3.2&nbsp;&nbsp;</span>Strongly Connected Components</a></span></li><li><span><a href=\"#$G_{ER}$\" data-toc-modified-id=\"$G_{ER}$-3.3\"><span class=\"toc-item-num\">3.3&nbsp;&nbsp;</span>$G_{ER}$</a></span></li></ul></li></ul></div>"
   ]
  },
  {
   "cell_type": "markdown",
   "metadata": {
    "slideshow": {
     "slide_type": "slide"
    }
   },
   "source": [
    "<h1>CS4423-Networks: Week 12 (2+3 April 2025) \n",
    "\n",
    "# Part 1: Bow Tie Components\n",
    "Niall Madden, \n",
    "School of Mathematical and Statistical Sciences  \n",
    "University of Galway\n",
    "\n",
    "\n",
    "This Jupyter notebook, and PDF and HTML versions, can be found at https://www.niallmadden.ie/2425-CS4423/#Week12\n",
    "\n",
    "<div class=\"rc\"><font size=\"-1\"><em>This notebook was adapted by Niall Madden from one developed by Angela Carnevale.</em></div>"
   ]
  },
  {
   "cell_type": "code",
   "execution_count": null,
   "metadata": {
    "slideshow": {
     "slide_type": "subslide"
    }
   },
   "outputs": [],
   "source": [
    "import networkx as nx\n",
    "import numpy as np\n",
    "opts = { \"with_labels\": True,  \"node_color\": \"#224488\", \"font_color\": \"white\", \"arrowsize\":30 } \n",
    "\n",
    "import matplotlib.pyplot as plt\n",
    "\n",
    "np.set_printoptions(precision=2)    # just display arrays to 2 decimal places\n",
    "np.set_printoptions(suppress=True) \n",
    "\n",
    "from collections import Counter"
   ]
  },
  {
   "cell_type": "markdown",
   "metadata": {
    "slideshow": {
     "slide_type": "slide"
    }
   },
   "source": [
    "## Digraphs and Mathematical Relations\n",
    "\n",
    "When a directed graph $G$ is regarded as a **relation** on the set $X$, strongly connected components can be described as the **equivalence classes** of an equivalence relation, as we'll now explain.\n",
    "\n",
    "First recall that\n",
    "* $x \\to y$ means that there is a (directed) edges from $x$ to $y$\n",
    "* $x \\leadsto y$ means that there is a path from $x$ to $y$.\n",
    "\n"
   ]
  },
  {
   "cell_type": "markdown",
   "metadata": {
    "slideshow": {
     "slide_type": "-"
    }
   },
   "source": [
    "We can see (right?) that the relation ${x \\leadsto y}$\n",
    "is the reflexive and transitive closure of the\n",
    "edge relation $x \\to y$.  \n",
    "\n",
    "Thus, by construction it is reflexive and\n",
    "transitive.  \n",
    "\n",
    "(There might be nodes $x$ and $y$ with $x\\leadsto y$ and $y \n",
    "\\leadsto x$, though it won't be all of them). "
   ]
  },
  {
   "cell_type": "markdown",
   "metadata": {
    "slideshow": {
     "slide_type": "subslide"
    }
   },
   "source": [
    "So this allows us to define a new relation as follows.\n",
    "\n",
    "**Definition.** We set $x \\equiv y$ if $x \\leadsto y$ _and_ $y \\leadsto x$."
   ]
  },
  {
   "cell_type": "markdown",
   "metadata": {
    "slideshow": {
     "slide_type": "-"
    }
   },
   "source": [
    "This **is** an equivalence relation we get equivalence classes that partition our graph. These equivalence classes are the **strongly connected\n",
    "components** of $G$.  We denote the class of $x \\in X$ by $[x]$."
   ]
  },
  {
   "cell_type": "markdown",
   "metadata": {
    "slideshow": {
     "slide_type": "-"
    }
   },
   "source": [
    "Moreover, there is a partial order relation\n",
    "$\\leq$ (a relation which is reflexive, transitive and anti-symmetric)\n",
    "on the set of equivalence classes:\n",
    "\n",
    "$[x] \\leq [y]$ if $x \\leadsto y$."
   ]
  },
  {
   "cell_type": "markdown",
   "metadata": {
    "slideshow": {
     "slide_type": "-"
    }
   },
   "source": [
    "We can say something about the structure of the WWW in terms of these equivalence classes and of the partial order on them."
   ]
  },
  {
   "cell_type": "markdown",
   "metadata": {
    "slideshow": {
     "slide_type": "slide"
    }
   },
   "source": [
    "### The Bow-Tie Structure of the WWW"
   ]
  },
  {
   "cell_type": "markdown",
   "metadata": {
    "slideshow": {
     "slide_type": "-"
    }
   },
   "source": [
    "Like the giant component in a simple graph, it turns out that\n",
    "a directed graph with sufficiently many edges\n",
    "has  a **giant SCC**."
   ]
  },
  {
   "cell_type": "markdown",
   "metadata": {
    "slideshow": {
     "slide_type": "-"
    }
   },
   "source": [
    "The remainder of the graph consists of four more sets of components of nodes, as follows:\n",
    "\n",
    "1. IN: upstream components, the set of all components\n",
    "$C$ with $C <$ SCC.\n",
    "\n",
    "2. OUT: downstream components,\n",
    "the set of all components $C$ with $C >$ SCC.\n",
    "\n",
    "\n",
    "3. tendrils: the set of all components $C$ with either $C >$ IN and $C \\not<$ OUT\n",
    "or $C <$ OUT and $C \\not>$ IN; <BR />\n",
    "and tubes: components $C$ with $C >$ IN, $C <$ OUT but $C \\not <$ SCC.\n",
    "\n",
    "4. disconnected components."
   ]
  },
  {
   "cell_type": "markdown",
   "metadata": {
    "slideshow": {
     "slide_type": "subslide"
    }
   },
   "source": [
    "Thus, in any directed graph with a distinguished SCC,\n",
    "the WCC in which it is contained\n",
    "necessarily has the following global bow-tie structure:"
   ]
  },
  {
   "cell_type": "markdown",
   "metadata": {
    "slideshow": {
     "slide_type": "-"
    }
   },
   "source": [
    "![bow tie](bowtie.png)"
   ]
  },
  {
   "cell_type": "markdown",
   "metadata": {
    "slideshow": {
     "slide_type": "subslide"
    }
   },
   "source": [
    "Research on available data on the Web in 1999 has confirmed this\n",
    "bow tie structure for the World Wide Web, with a **large Giant SCC**\n",
    "covering less than $\\frac13$ of the vertex set,\n",
    "and the\n",
    "three parts IN, OUT and the tendrils and tubes roughly of the same\n",
    "size.  One can assume that this proportion has not changed much over\n",
    "time, although the advent of social media\n",
    "has brought many new types of links and\n",
    "documents to the Web.\n"
   ]
  },
  {
   "cell_type": "markdown",
   "metadata": {
    "slideshow": {
     "slide_type": "slide"
    }
   },
   "source": [
    "## Computing Bow-Tie Components"
   ]
  },
  {
   "cell_type": "markdown",
   "metadata": {
    "slideshow": {
     "slide_type": "-"
    }
   },
   "source": [
    "**Example.**  Let's start with a reasonably large random **directed graph**,\n",
    "using the Erdős-R&eacute;nyi $G(n, m)$ model:"
   ]
  },
  {
   "cell_type": "code",
   "execution_count": null,
   "metadata": {
    "slideshow": {
     "slide_type": "-"
    }
   },
   "outputs": [],
   "source": [
    "n, m = 100, 120\n",
    "G = nx.gnm_random_graph(n, m, directed=True)"
   ]
  },
  {
   "cell_type": "code",
   "execution_count": null,
   "metadata": {
    "slideshow": {
     "slide_type": "subslide"
    }
   },
   "outputs": [],
   "source": [
    "nx.draw(G)"
   ]
  },
  {
   "cell_type": "markdown",
   "metadata": {
    "slideshow": {
     "slide_type": "slide"
    }
   },
   "source": [
    "### Weakly Connected Components\n",
    "\n",
    "The weakly connected components of a directed graph $G$ can be determined by BFS, as before,\n",
    "counting as \"neighbors\" of a node $x$ **both** its _successors_ and it _predecessors_ in the graph.\n",
    "\n",
    "A single component, the weakly connected component of node $x$, is found as follows."
   ]
  },
  {
   "cell_type": "code",
   "execution_count": null,
   "metadata": {
    "slideshow": {
     "slide_type": "-"
    }
   },
   "outputs": [],
   "source": [
    "def weak_component(G, x):\n",
    "    nodes = {x}\n",
    "    queue = [x]\n",
    "    for y in queue:\n",
    "        G.nodes[y][\"seen\"] = True\n",
    "        for z in set(G.successors(y)) | set(G.predecessors(y)): ## preds+succs are the neighbours of a node\n",
    "            if z not in nodes:\n",
    "                nodes.add(z)\n",
    "                queue.append(z)\n",
    "    return nodes"
   ]
  },
  {
   "cell_type": "markdown",
   "metadata": {
    "slideshow": {
     "slide_type": "subslide"
    }
   },
   "source": [
    "The list of all weakly connected components is computed by looping over all the  nodes of `G`,\n",
    "computing the components of \"unseen\" nodes and collecting them in a list.\n",
    "The final result is sorted by decreasing length before it is returned."
   ]
  },
  {
   "cell_type": "code",
   "execution_count": null,
   "metadata": {
    "slideshow": {
     "slide_type": "-"
    }
   },
   "outputs": [],
   "source": [
    "def weak_components(G):\n",
    "    wccs = []     # initialize\n",
    "    \n",
    "    # find each node's wcc\n",
    "    for x in G:\n",
    "        if not G.nodes[x].get(\"seen\"):\n",
    "            wccs.append(weak_component(G, x))\n",
    "            \n",
    "    # clean up after yourself\n",
    "    for x in G:\n",
    "        del G.nodes[x][\"seen\"]\n",
    "        \n",
    "    # return sorted list of wccs\n",
    "    return sorted(wccs, key=len, reverse=True)"
   ]
  },
  {
   "cell_type": "markdown",
   "metadata": {
    "slideshow": {
     "slide_type": "subslide"
    }
   },
   "source": [
    "Note let's check the number of Weakly Connected Components, and their order:"
   ]
  },
  {
   "cell_type": "code",
   "execution_count": null,
   "metadata": {
    "slideshow": {
     "slide_type": "-"
    }
   },
   "outputs": [],
   "source": [
    "wccs = weak_components(G)\n",
    "print(f\"G has {len(wccs)} weakly connected components\")"
   ]
  },
  {
   "cell_type": "code",
   "execution_count": null,
   "metadata": {
    "slideshow": {
     "slide_type": "-"
    }
   },
   "outputs": [],
   "source": [
    "[len(c) for c in wccs]"
   ]
  },
  {
   "cell_type": "markdown",
   "metadata": {
    "slideshow": {
     "slide_type": "slide"
    }
   },
   "source": [
    "## Computing WCCs and SCCs in `networkx`\n",
    "\n",
    "As you might expect, there are algorithms for doing this in `networkx`. Let's try them, but first recall a variant on an examples from last week:"
   ]
  },
  {
   "cell_type": "code",
   "execution_count": null,
   "metadata": {
    "scrolled": true
   },
   "outputs": [],
   "source": [
    "G = nx.DiGraph([(0, 1), (1, 2), (2, 3), (3,0), (2,4),(2,5),(4,5), (6,7), (7,6)])\n",
    "nx.draw_circular(G, **opts)"
   ]
  },
  {
   "cell_type": "markdown",
   "metadata": {
    "slideshow": {
     "slide_type": "subslide"
    }
   },
   "source": [
    "### WCCS\n",
    "\n",
    "We should have been able to see there are 2 WCCs:"
   ]
  },
  {
   "cell_type": "code",
   "execution_count": null,
   "metadata": {},
   "outputs": [],
   "source": [
    "C = nx.weakly_connected_components(G)   # returns and iterable\n",
    "print(f\"There are {len(list(C))} WCCs:\")\n",
    "for c in nx.weakly_connected_components(G):\n",
    "    print(c)"
   ]
  },
  {
   "cell_type": "markdown",
   "metadata": {
    "slideshow": {
     "slide_type": "slide"
    }
   },
   "source": [
    "### Strongly Connected Components\n",
    "\n",
    "**Strongly** connected components are efficiently found by DFS.\n",
    "[Tarjan's Algorithm](https://en.wikipedia.org/wiki/Tarjan%27s_strongly_connected_components_algorithm) cleverly\n",
    "uses recursion and an additional stack for this. \n",
    "\n",
    "Have a look at the Wiki page. We'll use `networkx`:"
   ]
  },
  {
   "cell_type": "code",
   "execution_count": null,
   "metadata": {},
   "outputs": [],
   "source": [
    "C = nx.strongly_connected_components(G)   # returns and iterable\n",
    "print(f\"There are {len(list(C))} WCCs:\")\n",
    "for c in nx.strongly_connected_components(G):\n",
    "    print(c)"
   ]
  },
  {
   "cell_type": "markdown",
   "metadata": {
    "slideshow": {
     "slide_type": "slide"
    }
   },
   "source": [
    "### $G_{ER}$\n",
    "\n",
    "We'll finish by checking the size of the components of a graph in $G_{ER}(n,p)$"
   ]
  },
  {
   "cell_type": "code",
   "execution_count": null,
   "metadata": {},
   "outputs": [],
   "source": [
    "n, m = 100, 120\n",
    "G = nx.gnm_random_graph(n, m, directed=True)"
   ]
  },
  {
   "cell_type": "code",
   "execution_count": null,
   "metadata": {},
   "outputs": [],
   "source": [
    "C = nx.weakly_connected_components(G)   # returns and iterable\n",
    "print(f\"There are {len(list(C))} WCCs:\")\n",
    "k=-1\n",
    "for c in sorted(nx.weakly_connected_components(G), key=len, reverse=True):\n",
    "    if (len(c)>1):\n",
    "        k+=1\n",
    "        print(f\"Component {k} has {len(c)}\")\n",
    "print(f\"Other {n-k-1} components have order 1\")"
   ]
  },
  {
   "cell_type": "markdown",
   "metadata": {
    "slideshow": {
     "slide_type": "subslide"
    }
   },
   "source": [
    "For SCCs, we get:"
   ]
  },
  {
   "cell_type": "code",
   "execution_count": null,
   "metadata": {
    "slideshow": {
     "slide_type": "slide"
    }
   },
   "outputs": [],
   "source": [
    "C = nx.strongly_connected_components(G)   # returns and iterable\n",
    "print(f\"There are {len(list(C))} SCCs:\")\n",
    "k=-1\n",
    "for c in sorted(nx.strongly_connected_components(G), key=len, reverse=True):\n",
    "    if (len(c)>1):\n",
    "        k+=1\n",
    "        print(f\"Component {k} has {len(c)}\")\n",
    "print(f\"Other {n-k-1} components have order 1\")"
   ]
  }
 ],
 "metadata": {
  "celltoolbar": "Slideshow",
  "kernelspec": {
   "display_name": "2324-CS319",
   "language": "python",
   "name": "2324-cs319"
  },
  "language_info": {
   "codemirror_mode": {
    "name": "ipython",
    "version": 3
   },
   "file_extension": ".py",
   "mimetype": "text/x-python",
   "name": "python",
   "nbconvert_exporter": "python",
   "pygments_lexer": "ipython3",
   "version": "3.13.2"
  },
  "toc": {
   "base_numbering": 1,
   "nav_menu": {},
   "number_sections": true,
   "sideBar": true,
   "skip_h1_title": true,
   "title_cell": "Table of Contents",
   "title_sidebar": "Contents",
   "toc_cell": true,
   "toc_position": {},
   "toc_section_display": true,
   "toc_window_display": false
  },
  "varInspector": {
   "cols": {
    "lenName": 16,
    "lenType": 16,
    "lenVar": 40
   },
   "kernels_config": {
    "python": {
     "delete_cmd_postfix": "",
     "delete_cmd_prefix": "del ",
     "library": "var_list.py",
     "varRefreshCmd": "print(var_dic_list())"
    },
    "r": {
     "delete_cmd_postfix": ") ",
     "delete_cmd_prefix": "rm(",
     "library": "var_list.r",
     "varRefreshCmd": "cat(var_dic_list()) "
    }
   },
   "types_to_exclude": [
    "module",
    "function",
    "builtin_function_or_method",
    "instance",
    "_Feature"
   ],
   "window_display": false
  }
 },
 "nbformat": 4,
 "nbformat_minor": 2
}
