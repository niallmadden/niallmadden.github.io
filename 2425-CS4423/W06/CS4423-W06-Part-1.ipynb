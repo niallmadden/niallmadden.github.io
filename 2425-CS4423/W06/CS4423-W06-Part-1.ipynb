{
 "cells": [
  {
   "cell_type": "markdown",
   "metadata": {
    "toc": true
   },
   "source": [
    "<h1>Table of Contents<span class=\"tocSkip\"></span></h1>\n",
    "<div class=\"toc\"><ul class=\"toc-item\"><li><ul class=\"toc-item\"><li><span><a href=\"#News-and-Reminders\" data-toc-modified-id=\"News-and-Reminders-0.1\"><span class=\"toc-item-num\">0.1&nbsp;&nbsp;</span>News and Reminders</a></span></li><li><span><a href=\"#Modules-for-this-notebook\" data-toc-modified-id=\"Modules-for-this-notebook-0.2\"><span class=\"toc-item-num\">0.2&nbsp;&nbsp;</span>Modules for this notebook</a></span></li></ul></li><li><span><a href=\"#Recall:-Graph-Diameter\" data-toc-modified-id=\"Recall:-Graph-Diameter-1\"><span class=\"toc-item-num\">1&nbsp;&nbsp;</span>Recall: Graph Diameter</a></span><ul class=\"toc-item\"><li><span><a href=\"#Breadth-First-Search-(BFS)-again\" data-toc-modified-id=\"Breadth-First-Search-(BFS)-again-1.1\"><span class=\"toc-item-num\">1.1&nbsp;&nbsp;</span>Breadth First Search (BFS) again</a></span></li><li><span><a href=\"#Graph-Traversal\" data-toc-modified-id=\"Graph-Traversal-1.2\"><span class=\"toc-item-num\">1.2&nbsp;&nbsp;</span>Graph Traversal</a></span></li></ul></li><li><span><a href=\"#BFS-for-Distance\" data-toc-modified-id=\"BFS-for-Distance-2\"><span class=\"toc-item-num\">2&nbsp;&nbsp;</span>BFS for Distance</a></span></li><li><span><a href=\"#Variants-[$\\color{red}{\\text{For-self-study}}$]\" data-toc-modified-id=\"Variants-[$\\color{red}{\\text{For-self-study}}$]-3\"><span class=\"toc-item-num\">3&nbsp;&nbsp;</span>Variants [$\\color{red}{\\text{For self-study}}$]</a></span><ul class=\"toc-item\"><li><span><a href=\"#Spanning-Tree\" data-toc-modified-id=\"Spanning-Tree-3.1\"><span class=\"toc-item-num\">3.1&nbsp;&nbsp;</span>Spanning Tree</a></span></li></ul></li></ul></div>"
   ]
  },
  {
   "cell_type": "markdown",
   "metadata": {
    "slideshow": {
     "slide_type": "slide"
    }
   },
   "source": [
    "<h1>CS4423-Networks: Week 6 (19+20 Feb 2025) [$\\color{red}{\\text{Draft}}$]</h1>\n",
    "\n",
    "# Part 1: Graph Diameter\n",
    "Niall Madden, \n",
    "School of Mathematical and Statistical Sciences  \n",
    "University of Galway\n",
    "\n",
    "\n",
    "This Jupyter notebook, and PDF and HTML versions, can be found at https://www.niallmadden.ie/2425-CS4423/#Week06\n",
    "\n",
    "<div class=\"rc\"><font size=\"-1\"><em>This notebook was written by Niall Madden, adapted from notebooks by Angela Carnevale.</em></div>"
   ]
  },
  {
   "cell_type": "markdown",
   "metadata": {
    "slideshow": {
     "slide_type": "subslide"
    }
   },
   "source": [
    "### News and Reminders\n",
    "\n",
    "*Dates and Deadlines*\n",
    "* Assignment 1: **Deadline change to 5pm Friday 27th February**, to avoid clash with FYP presentations.\n",
    "* Class Test: 14:00, Thursday 6th March (Week 8)\n",
    "* Assignment 2: Week 10 or 11 (will discuss in class)"
   ]
  },
  {
   "cell_type": "markdown",
   "metadata": {
    "slideshow": {
     "slide_type": "subslide"
    }
   },
   "source": [
    "### Modules for this notebook"
   ]
  },
  {
   "cell_type": "code",
   "execution_count": null,
   "metadata": {
    "slideshow": {
     "slide_type": "-"
    }
   },
   "outputs": [],
   "source": [
    "import networkx as nx\n",
    "import numpy as np\n",
    "opts = { \"with_labels\": True,  \"node_color\": \"xkcd:sky blue\"} # show labels; nodes are sky blue\n",
    "\n",
    "np.set_printoptions(precision=3)    # just display arrays to 3 decimal places\n",
    "np.set_printoptions(suppress=True)  # avoid scientific notation (better for matrices)"
   ]
  },
  {
   "cell_type": "markdown",
   "metadata": {
    "slideshow": {
     "slide_type": "slide"
    }
   },
   "source": [
    "## Recall: Graph Diameter\n",
    "\n",
    "* The **distance** between nodes $x$ and $y$, denoted $d(x,y)$, is the length of the shortest between $x$ and $y$.\n",
    "* The __diameter__ of the network $G$, denoted  $\\mathrm{diam}(G)$,  is the length of the longest shortest path between any two nodes, $$\\mathrm{diam}(G) = \\max \\{ d(x, y) : x, y \\in X \\}.$$\n",
    "\n",
    "Now we'll see how to compute it using BFS."
   ]
  },
  {
   "cell_type": "markdown",
   "metadata": {
    "slideshow": {
     "slide_type": "slide"
    }
   },
   "source": [
    "### Breadth First Search (BFS) again\n",
    "\n",
    "Consider the following problem: Given a node $x \\in X$ in a graph $G$, what\n",
    "are the distances $d(x, y)$ for all nodes $y \\in X$?  \n",
    "\n",
    "We know that it is possible to answer this question by looking at sums of powers of the adjacency matrix. But that is _extremely_ expensive. Also, it does not give you the paths (automatically).\n",
    "\n",
    "Better: use *BFS*.\n",
    "\n",
    "* BFS provides a systematic\n",
    "procedure for finding these distances, and the shortest paths through\n",
    "which they are realized. \n",
    "\n",
    "* We will start by describing how BFS works for **graph** traversal."
   ]
  },
  {
   "cell_type": "markdown",
   "metadata": {
    "slideshow": {
     "slide_type": "subslide"
    }
   },
   "source": [
    "### Graph Traversal\n",
    "In order to describe the algorithm step by step, let's recall that a node $y$\n",
    "a __neighbour__ (or friend) of node $x$, if $\\{x, y\\}$ is an\n",
    "edge, and let's denote by\n",
    "$$N(x) = \\{ y \\in X : \\{x, y\\} \\in E \\}$$\n",
    "the set of all neighbours of node $x$. "
   ]
  },
  {
   "cell_type": "markdown",
   "metadata": {},
   "source": [
    "The algorithm works through the\n",
    "network **layer by layer**:\n",
    "* starting with the given vertex $x$ at layer $0$\n",
    "* its  neighbours at layer $1$;\n",
    "* then neighbours of neighbours at layer $2$;\n",
    "* and so on, until every node that can be reached from $x$ by a path has been recorded, taking care that **no node gets recorded twice**.  \n",
    "\n",
    "Note: the layer a node is found in corresponds to its distance from the given node $x$."
   ]
  },
  {
   "cell_type": "markdown",
   "metadata": {
    "slideshow": {
     "slide_type": "subslide"
    }
   },
   "source": [
    "In practice, for simple graph traversal, the layers do not\n",
    "need to be made explicit. "
   ]
  },
  {
   "cell_type": "markdown",
   "metadata": {
    "slideshow": {
     "slide_type": "-"
    }
   },
   "source": [
    "We need an example of a network to work with. For a change, let's load one from an adjacency file.\\\n",
    "_Syntax_: for each line in the file, the first listed node is a neighbour of all the others in that row."
   ]
  },
  {
   "cell_type": "code",
   "execution_count": null,
   "metadata": {},
   "outputs": [],
   "source": [
    "!cat bfs.adj"
   ]
  },
  {
   "cell_type": "code",
   "execution_count": null,
   "metadata": {
    "slideshow": {
     "slide_type": "subslide"
    }
   },
   "outputs": [],
   "source": [
    "G4 = nx.read_adjlist(\"bfs.adj\")\n",
    "nx.draw(G4, **opts)"
   ]
  },
  {
   "cell_type": "markdown",
   "metadata": {
    "slideshow": {
     "slide_type": "subslide"
    }
   },
   "source": [
    "We set the `seen` attribute to `False`:"
   ]
  },
  {
   "cell_type": "code",
   "execution_count": null,
   "metadata": {},
   "outputs": [],
   "source": [
    "nx.set_node_attributes(G4, False, 'seen') # same as for loop above\n",
    "print( G4.nodes['A'] ) # check"
   ]
  },
  {
   "cell_type": "markdown",
   "metadata": {},
   "source": [
    "Initialise an empty queue, then add `A` to it, and set its `seen` attribute to `True`:"
   ]
  },
  {
   "cell_type": "code",
   "execution_count": null,
   "metadata": {},
   "outputs": [],
   "source": [
    "Q = []\n",
    "Q.append('A')\n",
    "G4.nodes['A']['seen'] = True\n",
    "print(f\"Q={Q}\")"
   ]
  },
  {
   "cell_type": "markdown",
   "metadata": {
    "slideshow": {
     "slide_type": "-"
    }
   },
   "source": [
    "Now check $N(A)$"
   ]
  },
  {
   "cell_type": "code",
   "execution_count": null,
   "metadata": {},
   "outputs": [],
   "source": [
    "list(G4.neighbors('A'))"
   ]
  },
  {
   "cell_type": "markdown",
   "metadata": {
    "slideshow": {
     "slide_type": "subslide"
    }
   },
   "source": [
    "Add neighbours of $A$ to `Q`:"
   ]
  },
  {
   "cell_type": "code",
   "execution_count": null,
   "metadata": {},
   "outputs": [],
   "source": [
    "for y in G4.neighbors('A'): \n",
    "    Q.append(y)\n",
    "    G4.nodes[y]['seen'] = True    \n",
    "print(Q)"
   ]
  },
  {
   "cell_type": "code",
   "execution_count": null,
   "metadata": {},
   "outputs": [],
   "source": [
    "node = 'B'\n",
    "for y in G4.neighbors(node):\n",
    "    if not G4.nodes[y]['seen']:\n",
    "        Q.append(y)\n",
    "        G4.nodes[y]['seen'] = True\n",
    "print(Q) "
   ]
  },
  {
   "cell_type": "code",
   "execution_count": null,
   "metadata": {},
   "outputs": [],
   "source": [
    "node = 'C'\n",
    "for y in G4.neighbors(node):\n",
    "    if not G4.nodes[y]['seen']:\n",
    "        Q.append(y)\n",
    "        G4.nodes[y]['seen'] = True\n",
    "print(Q)"
   ]
  },
  {
   "cell_type": "markdown",
   "metadata": {},
   "source": [
    "... and so on, until there are no more nodes to be processed.\n",
    "\n"
   ]
  },
  {
   "cell_type": "markdown",
   "metadata": {
    "slideshow": {
     "slide_type": "subslide"
    }
   },
   "source": [
    "Here is how to do it in a loop:"
   ]
  },
  {
   "cell_type": "code",
   "execution_count": null,
   "metadata": {},
   "outputs": [],
   "source": [
    "# 1. initialize\n",
    "nx.set_node_attributes(G4, False, 'seen') # same as for loop above\n",
    "\n",
    "G4.nodes['A']['seen'] = True\n",
    "Q = ['A']  \n",
    "\n",
    "# 2. loop\n",
    "for node in Q:\n",
    "    for y in G4.neighbors(node):\n",
    "        if not G4.nodes[y]['seen']:\n",
    "            Q.append(y)\n",
    "            G4.nodes[y]['seen'] = True\n",
    "\n",
    "# 3. output result\n",
    "print(f\"Q = {Q}\")"
   ]
  },
  {
   "cell_type": "markdown",
   "metadata": {},
   "source": [
    "When this process is formulated as an algorithm, we use a  __queue__\n",
    "to keep track of the node whose neighbors are currently under consideration."
   ]
  },
  {
   "cell_type": "markdown",
   "metadata": {},
   "source": [
    "It can be shown that this version of the algorithm\n",
    "in the common case of a [sparse network](https://en.wikipedia.org/wiki/Sparse_network)\n",
    "has complexity $O(n)$, which is as good as one could hope for."
   ]
  },
  {
   "cell_type": "markdown",
   "metadata": {
    "slideshow": {
     "slide_type": "slide"
    }
   },
   "source": [
    "## BFS for Distance\n",
    "\n",
    "**Breadth First Search for Distance.**\n",
    "Given a simple graph\n",
    "$G = (X, E)$ and a vertex $x \\in X$,\n",
    "determine $d(x, y)$ for all nodes $y \\in X$.\n"
   ]
  },
  {
   "cell_type": "markdown",
   "metadata": {},
   "source": [
    "1. [Initialize.]  Suppose that $X = \\{x_0, x_1, \\ldots, x_{n-1}\\}$\n",
    "and that $x = x_j$.  Set $d_i \\gets \\perp$ (undefined) for $i = 0, \\dots, n{-}1$.\n",
    "Set $d_j \\gets 0$ and initialize a queue $Q \\gets (x_j)$.\n",
    "\n",
    "2. [Loop.] While $Q \\neq \\emptyset$:\n",
    "   * pop node $x_k$ off $Q$\n",
    "   * for each neighbor $x_l$ of $x_k$ with $d_l = \\perp$:\n",
    "       * push $x_l$ onto $Q$ and set $d_l \\gets d_k + 1$.\n",
    "\n",
    "3. [Stop.] Return the array $(d_0, \\dots, d_{n-1})$."
   ]
  },
  {
   "cell_type": "markdown",
   "metadata": {
    "slideshow": {
     "slide_type": "subslide"
    }
   },
   "source": [
    "Note: the  $d$ attribute records both the distance, and also whether the node has been visited. Also $d$ is set immediately when it is pushed onto $Q$, rather than later when it pops off $Q$. "
   ]
  },
  {
   "cell_type": "code",
   "execution_count": null,
   "metadata": {},
   "outputs": [],
   "source": [
    "nx.set_node_attributes(G4, None, 'd') \n",
    "x = 'B'              #starting BFS at vertex B\n",
    "G4.nodes[x]['d'] = 0 # and setting its distance to 0\n",
    "Q = []\n",
    "Q.append(x)\n",
    "print(Q)"
   ]
  },
  {
   "cell_type": "code",
   "execution_count": null,
   "metadata": {},
   "outputs": [],
   "source": [
    "while len(Q)>0:\n",
    "    x = Q.pop(0)\n",
    "    for y in G4.neighbors(x):\n",
    "        if G4.nodes[y]['d'] is None: # checking if the distance is undefined\n",
    "            G4.nodes[y]['d'] = G4.nodes[x]['d'] + 1 # if so, define using previous\n",
    "            Q.append(y)\n",
    "    print(f\"{x} : {Q}\")"
   ]
  },
  {
   "cell_type": "code",
   "execution_count": null,
   "metadata": {},
   "outputs": [],
   "source": [
    "print([G4.nodes[x]['d'] for x in G4])"
   ]
  },
  {
   "cell_type": "markdown",
   "metadata": {
    "slideshow": {
     "slide_type": "slide"
    }
   },
   "source": [
    "## Variants [$\\color{red}{\\text{For self-study}}$]\n",
    "\n",
    "BFS is an extremely versatile algorithm, which applies in many different situations and can be adapted to produce additional information on a network.\n",
    "\n",
    "For example, BFS run on a node $x$ in a network $G = (X, E)$ determines the __connected component__ of $x$ in $G$ (as the set of all nodes that get a distance value assigned). "
   ]
  },
  {
   "cell_type": "markdown",
   "metadata": {},
   "source": [
    "### Spanning Tree \n",
    "\n",
    "With little more work (and an additional array) BFS can produce\n",
    "a __spanning tree__ (or __shortest path tree__).\n",
    "Here, whenever node $x_l$ is pushed onto $Q$, it is assigned\n",
    "the current node $x_k$ (in the additional array)\n",
    "as its predecessor on a shortest path from $x_j$ to $x_l$.\n",
    "The subgraph of the network consisting of these edges is a tree.\n",
    "As a tree, it has exactly one path between the given node $x$\n",
    "and any of its\n",
    "vertices $y$ and, by construction, this path is a shortest path\n",
    "between $x$ and $y$."
   ]
  },
  {
   "cell_type": "code",
   "execution_count": null,
   "metadata": {
    "slideshow": {
     "slide_type": "subslide"
    }
   },
   "outputs": [],
   "source": [
    "nx.set_node_attributes(G4, None, 'd') \n",
    "x = 'A' # start with vertex A\n",
    "G4.nodes[x]['d'] = 0    # set its distance to 0\n",
    "Q = [] # initialise a queue Q\n",
    "Q.append(x)  # push x in Q\n",
    "\n",
    "nx.set_edge_attributes(G4, False, 'seen')"
   ]
  },
  {
   "cell_type": "code",
   "execution_count": null,
   "metadata": {},
   "outputs": [],
   "source": [
    "while len(Q)>0:\n",
    "    x = Q.pop(0) # pop a vertex from the queue\n",
    "    for y in G4.neighbors(x):\n",
    "        if not G4.nodes[y]['d']: # undefined? \n",
    "            G4.nodes[y]['d'] = G4.nodes[x]['d'] + 1 # set distance\n",
    "            Q.append(y) # push in queue\n",
    "            G4.edges[x, y]['seen'] = True # set relevant edge to seen\n",
    "    print(x, \": \", Q)"
   ]
  },
  {
   "cell_type": "code",
   "execution_count": null,
   "metadata": {},
   "outputs": [],
   "source": [
    "print(G4.edges())"
   ]
  },
  {
   "cell_type": "code",
   "execution_count": null,
   "metadata": {
    "slideshow": {
     "slide_type": "subslide"
    }
   },
   "outputs": [],
   "source": [
    "sub = [e for e in G4.edges if G4.edges[e]['seen']]\n",
    "# subset of edges 'seen' while visiting the graph"
   ]
  },
  {
   "cell_type": "code",
   "execution_count": null,
   "metadata": {},
   "outputs": [],
   "source": [
    "pos = nx.spring_layout(G4)\n",
    "nx.draw(G4, **opts, pos=pos)\n"
   ]
  },
  {
   "cell_type": "code",
   "execution_count": null,
   "metadata": {
    "slideshow": {
     "slide_type": "subslide"
    }
   },
   "outputs": [],
   "source": [
    "nx.draw(G4.edge_subgraph(sub), **opts, pos=pos)"
   ]
  },
  {
   "cell_type": "markdown",
   "metadata": {
    "slideshow": {
     "slide_type": "subslide"
    }
   },
   "source": [
    "Or, one could highlight the spanning tree inside the graph by using, say,\n",
    "red as color for the spanning edges (and blue for the rest)."
   ]
  },
  {
   "cell_type": "code",
   "execution_count": null,
   "metadata": {},
   "outputs": [],
   "source": [
    "colors = ['red' if G4.edges[e]['seen'] else 'blue' for e in G4.edges]\n",
    "nx.draw(G4, edge_color = colors, with_labels = True, width=2.0, pos=pos)"
   ]
  },
  {
   "cell_type": "markdown",
   "metadata": {
    "slideshow": {
     "slide_type": "subslide"
    }
   },
   "source": [
    "* Of course, in order to find distances, or shortest paths\n",
    "between **all pairs** of nodes $x$ and $y$ in a network, one can\n",
    "perform BFS for each of the nodes $x \\in X$ in turn.\n",
    "\n",
    "* As an exercise in a future assignment, you will see more in detail an implementation of BFS aimed at constructing a spanning tree.\n",
    "\n",
    "* The algorithm and its variants also works on directed networks,\n",
    "but the results then will have to be interpreted in the context of\n",
    "directed networks.\n",
    "\n",
    "More about BFS can be found in [Newman, Section 10.3]."
   ]
  },
  {
   "cell_type": "markdown",
   "metadata": {},
   "source": [
    "<div class=\"alert alert-block alert-info\">End of Part 1</div>"
   ]
  }
 ],
 "metadata": {
  "celltoolbar": "Slideshow",
  "kernelspec": {
   "display_name": "Python (CS4423)",
   "language": "python",
   "name": "cs4423"
  },
  "language_info": {
   "codemirror_mode": {
    "name": "ipython",
    "version": 3
   },
   "file_extension": ".py",
   "mimetype": "text/x-python",
   "name": "python",
   "nbconvert_exporter": "python",
   "pygments_lexer": "ipython3",
   "version": "3.12.8"
  },
  "toc": {
   "base_numbering": 1,
   "nav_menu": {},
   "number_sections": true,
   "sideBar": true,
   "skip_h1_title": true,
   "title_cell": "Table of Contents",
   "title_sidebar": "Contents",
   "toc_cell": true,
   "toc_position": {},
   "toc_section_display": true,
   "toc_window_display": false
  },
  "varInspector": {
   "cols": {
    "lenName": 16,
    "lenType": 16,
    "lenVar": 40
   },
   "kernels_config": {
    "python": {
     "delete_cmd_postfix": "",
     "delete_cmd_prefix": "del ",
     "library": "var_list.py",
     "varRefreshCmd": "print(var_dic_list())"
    },
    "r": {
     "delete_cmd_postfix": ") ",
     "delete_cmd_prefix": "rm(",
     "library": "var_list.r",
     "varRefreshCmd": "cat(var_dic_list()) "
    }
   },
   "types_to_exclude": [
    "module",
    "function",
    "builtin_function_or_method",
    "instance",
    "_Feature"
   ],
   "window_display": false
  }
 },
 "nbformat": 4,
 "nbformat_minor": 1
}
