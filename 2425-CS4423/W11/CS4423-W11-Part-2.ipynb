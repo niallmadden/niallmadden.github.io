{
 "cells": [
  {
   "cell_type": "markdown",
   "metadata": {
    "toc": true
   },
   "source": [
    "<h1>Table of Contents<span class=\"tocSkip\"></span></h1>\n",
    "<div class=\"toc\"><ul class=\"toc-item\"><li><span><a href=\"#The-Structure-of-the-World-Wide-Web\" data-toc-modified-id=\"The-Structure-of-the-World-Wide-Web-1\"><span class=\"toc-item-num\">1&nbsp;&nbsp;</span>The Structure of the World Wide Web</a></span><ul class=\"toc-item\"><li><span><a href=\"#Information-Networks\" data-toc-modified-id=\"Information-Networks-1.1\"><span class=\"toc-item-num\">1.1&nbsp;&nbsp;</span>Information Networks</a></span></li><li><span><a href=\"#Hypertext\" data-toc-modified-id=\"Hypertext-1.2\"><span class=\"toc-item-num\">1.2&nbsp;&nbsp;</span>Hypertext</a></span></li><li><span><a href=\"#Reachability-in-Directed-Graphs\" data-toc-modified-id=\"Reachability-in-Directed-Graphs-1.3\"><span class=\"toc-item-num\">1.3&nbsp;&nbsp;</span>Reachability in Directed Graphs</a></span><ul class=\"toc-item\"><li><span><a href=\"#Weakly-Connected-V-Strongly-Connected\" data-toc-modified-id=\"Weakly-Connected-V-Strongly-Connected-1.3.1\"><span class=\"toc-item-num\">1.3.1&nbsp;&nbsp;</span>Weakly Connected V Strongly Connected</a></span></li></ul></li></ul></li><li><span><a href=\"#Graphs-as-relations\" data-toc-modified-id=\"Graphs-as-relations-2\"><span class=\"toc-item-num\">2&nbsp;&nbsp;</span>Graphs as relations</a></span><ul class=\"toc-item\"><li><span><a href=\"#Digraphs-and-Mathematical-Relations\" data-toc-modified-id=\"Digraphs-and-Mathematical-Relations-2.1\"><span class=\"toc-item-num\">2.1&nbsp;&nbsp;</span>Digraphs and Mathematical Relations</a></span></li><li><span><a href=\"#The-Bow-Tie-Structure-of-the-WWW\" data-toc-modified-id=\"The-Bow-Tie-Structure-of-the-WWW-2.2\"><span class=\"toc-item-num\">2.2&nbsp;&nbsp;</span>The Bow-Tie Structure of the WWW</a></span></li></ul></li><li><span><a href=\"#Computing-Bow-Tie-Components\" data-toc-modified-id=\"Computing-Bow-Tie-Components-3\"><span class=\"toc-item-num\">3&nbsp;&nbsp;</span>Computing Bow-Tie Components</a></span><ul class=\"toc-item\"><li><span><a href=\"#Weakly-Connected-Components\" data-toc-modified-id=\"Weakly-Connected-Components-3.1\"><span class=\"toc-item-num\">3.1&nbsp;&nbsp;</span>Weakly Connected Components</a></span></li></ul></li></ul></div>"
   ]
  },
  {
   "cell_type": "markdown",
   "metadata": {
    "slideshow": {
     "slide_type": "slide"
    }
   },
   "source": [
    "<h1>CS4423-Networks: Week 11 (26+27 March 2025) \n",
    "\n",
    "# Part 2: Relations and Bow Ties\n",
    "Niall Madden, \n",
    "School of Mathematical and Statistical Sciences  \n",
    "University of Galway\n",
    "\n",
    "\n",
    "This Jupyter notebook, and PDF and HTML versions, can be found at https://www.niallmadden.ie/2425-CS4423/#Week11\n",
    "\n",
    "<div class=\"rc\"><font size=\"-1\"><em>This notebook was adapted by Niall Madden from one developed by Angela Carnevale.</em></div>"
   ]
  },
  {
   "cell_type": "code",
   "execution_count": null,
   "metadata": {
    "slideshow": {
     "slide_type": "subslide"
    }
   },
   "outputs": [],
   "source": [
    "import networkx as nx\n",
    "import numpy as np\n",
    "opts = { \"with_labels\": True,  \"node_color\": \"#84003d\", \"font_color\": \"white\", \"arrowsize\":30 } # Galway Deep Maroon\n",
    "\n",
    "import matplotlib.pyplot as plt\n",
    "\n",
    "np.set_printoptions(precision=2)    # just display arrays to 2 decimal places\n",
    "np.set_printoptions(suppress=True) "
   ]
  },
  {
   "cell_type": "markdown",
   "metadata": {
    "slideshow": {
     "slide_type": "slide"
    }
   },
   "source": [
    "## The Structure of the World Wide Web\n",
    "\n",
    "So far, most of the networks that have been discussed most of the time consisted of people or organizations, connected by links representing opportunities for interactions. \n",
    "\n",
    "For a different type of network, we consider the [World Wide Web](https://en.wikipedia.org/wiki/World_Wide_Web), or, simply \"the web\", which is an example of an **information network**.\n",
    "\n",
    "Note: the \"web\" and the \"internet\" are not the same thing: the Internet is the infrastructure which supports the web (and lots of other things too)."
   ]
  },
  {
   "cell_type": "markdown",
   "metadata": {
    "slideshow": {
     "slide_type": "subslide"
    }
   },
   "source": [
    "###  Information Networks"
   ]
  },
  {
   "cell_type": "markdown",
   "metadata": {
    "slideshow": {
     "slide_type": "-"
    }
   },
   "source": [
    "Information networks connect pieces of information,\n",
    "like documents, or parts of documents, through links\n",
    "that represent references of some kind.  Such links,\n",
    "in contrast to social relationships which are typically symmetric,\n",
    "only point in one direction.\n",
    "The underlying graph of an information network thus\n",
    "is a **directed graph**."
   ]
  },
  {
   "cell_type": "markdown",
   "metadata": {
    "slideshow": {
     "slide_type": "subslide"
    }
   },
   "source": [
    "Information networks have existed before the WWW.  Some prominent\n",
    "examples include:"
   ]
  },
  {
   "cell_type": "markdown",
   "metadata": {
    "slideshow": {
     "slide_type": "-"
    }
   },
   "source": [
    "* **Academic Publications.**  In the scientific literature it is customary\n",
    "to give credit to sources that have been used in the form of\n",
    "references to those publications that contain those sources.\n",
    "This practice creates a network whose nodes are the\n",
    "publications, and whose links represent the references, pointing from\n",
    "the citing article back to the cited article.\n",
    "A large part of this network in the mathematical literature is\n",
    "captured on [MathSciNet](http://www.ams.org/mathscinet)."
   ]
  },
  {
   "cell_type": "markdown",
   "metadata": {
    "slideshow": {
     "slide_type": "subslide"
    }
   },
   "source": [
    "* **Technical Documentation.** The documentation of complex systems,\n",
    "such as computer software, typically consists of a collection of\n",
    "articles (manual pages), each describing one aspect of the system,\n",
    "frequently using cross-references to each other.  Here the network\n",
    "consists of the manual pages, and the links represent those cross\n",
    "references.  In a similar way, an encyclopedia (or a dictionary)\n",
    "organizes its content as a sequence of articles, sorted\n",
    "alphabetically, with supporting cross-references."
   ]
  },
  {
   "cell_type": "markdown",
   "metadata": {
    "slideshow": {
     "slide_type": "slide"
    }
   },
   "source": [
    "### Hypertext"
   ]
  },
  {
   "cell_type": "markdown",
   "metadata": {
    "slideshow": {
     "slide_type": "-"
    }
   },
   "source": [
    "The **World Wide Web** arose out of the desire to make technical\n",
    "documentation more easily accessible by using the physical infrastructure\n",
    "of the rapidly growing internet.\n",
    "It was conceived by [Tim Berners-Lee](https://en.wikipedia.org/wiki/Tim_Berners-Lee) around 1990\n",
    "as information management system at [CERN](http://info.cern.ch/hypertext/WWW/TheProject.html).\n",
    "\n",
    "In this system, documents are **web pages**, that anyone can create\n",
    "and store in a publicly accessible place on their computer.  Moreover,\n",
    "it supplies a **web browser**, a piece of software that can retrieve\n",
    "the web pages from those public spaces, allowing others to easily\n",
    "access those documents."
   ]
  },
  {
   "cell_type": "markdown",
   "metadata": {
    "slideshow": {
     "slide_type": "-"
    }
   },
   "source": [
    "Web pages contain **hypertext**, that is a mixture of plain text and **hyperlinks**.  Here, a hyperlink (or just link) is a reference to another document\n",
    "that the reader can follow by simply clicking on it.  Hyperlinks have a **source**\n",
    "(the document they are contained in) and a **target** (the document\n",
    "they reference).\n",
    "This creates a network of documents as nodes\n",
    "and hyperlinks as **directed edges** between them."
   ]
  },
  {
   "cell_type": "markdown",
   "metadata": {
    "slideshow": {
     "slide_type": "-"
    }
   },
   "source": [
    "It is not an especially new idea. The term **hypertext** was coined by [Ted Nelson](https://en.wikipedia.org/wiki/Ted_Nelson) in 1965/1966."
   ]
  },
  {
   "cell_type": "markdown",
   "metadata": {
    "slideshow": {
     "slide_type": "subslide"
    }
   },
   "source": [
    "It will be useful to distinguish between **navigational links**\n",
    "(providing access to related pages)\n",
    "and **transactional links** (which exist more\n",
    "as a side effect--like ordering a book,\n",
    "or sending an email--than\n",
    "for the sake of leading to the next page).\n",
    "The distinction is not always clear,\n",
    "but transactional links are the kind that is of\n",
    "little interest for search engines.\n",
    "It's the navigational links that\n",
    "form the edges of the directed graph\n",
    "that turns the Web into\n",
    "an information network."
   ]
  },
  {
   "cell_type": "markdown",
   "metadata": {
    "slideshow": {
     "slide_type": "slide"
    }
   },
   "source": [
    "### Reachability in Directed Graphs\n",
    "\n",
    "As with undirected graphs, an interesting question in\n",
    "directed graphs is: which nodes can be reached from\n",
    "a given node?"
   ]
  },
  {
   "cell_type": "markdown",
   "metadata": {
    "slideshow": {
     "slide_type": "-"
    }
   },
   "source": [
    "A **directed graph** is a pair $G = (X, E)$\n",
    "with **vertex set** $X$  and **edge set** $E \\subseteq X^2 = X \\times X$.\n",
    "For an edge $(x, y) \\in E$ we sometimes write $x \\to y$.\n",
    "\n",
    "**Note** that here an edge is an **ordered pair** as opposed to an edge in an undirected graph being a $2$-element set."
   ]
  },
  {
   "cell_type": "markdown",
   "metadata": {
    "slideshow": {
     "slide_type": "-"
    }
   },
   "source": [
    "A **path** in a directed graph  $G = (X, E)$\n",
    "is a sequence of nodes $(x_0, x_1, \\dots, x_l)$\n",
    "with $x_{i-1} \\to x_i$ for $i = 1,\\dots, l$.\n",
    "The number $l$ is called the **length** of the path.\n",
    "We write $x \\leadsto y$\n",
    "if there exists a path (possibly of length $0$)\n",
    "from $x$ to $y$ in $G$."
   ]
  },
  {
   "cell_type": "markdown",
   "metadata": {
    "slideshow": {
     "slide_type": "slide"
    }
   },
   "source": [
    "#### Weakly Connected V Strongly Connected"
   ]
  },
  {
   "cell_type": "markdown",
   "metadata": {
    "slideshow": {
     "slide_type": "-"
    }
   },
   "source": [
    "**Definition.** A directed graph $G$ is **weakly connected** if, when\n",
    "considerd as undirected graph, it is connected.\n",
    "The **weakly connnected components** (WCCs) of $G$ are its connected components,\n",
    "when considered as undirected graph."
   ]
  },
  {
   "cell_type": "markdown",
   "metadata": {
    "slideshow": {
     "slide_type": "-"
    }
   },
   "source": [
    "**Definition.** A directed graph $G$ is **strongly connected** if, for\n",
    "each pair of vertices $x, y \\in X$, there is a path from\n",
    "$x$ to $y$ in $G$, i.e., if $x \\leadsto y$."
   ]
  },
  {
   "cell_type": "markdown",
   "metadata": {
    "slideshow": {
     "slide_type": "subslide"
    }
   },
   "source": [
    "A **strongly connected component (SCC)** of a directed graph $G$\n",
    "is a subset $C$ of $X$ which is \n",
    "\n",
    "(i) strongly connected, and\n",
    "\n",
    "(ii) not part of a larger strongly connected subset of $X$."
   ]
  },
  {
   "cell_type": "markdown",
   "metadata": {
    "slideshow": {
     "slide_type": "-"
    }
   },
   "source": [
    "In general, a directed graph is a collection of WCCs.\n",
    "Each WCC in turn is a collection of SCCs."
   ]
  },
  {
   "cell_type": "markdown",
   "metadata": {
    "slideshow": {
     "slide_type": "subslide"
    }
   },
   "source": [
    "**Example** Identify the WCCs and SCCs in this graph:"
   ]
  },
  {
   "cell_type": "code",
   "execution_count": null,
   "metadata": {},
   "outputs": [],
   "source": [
    "G = nx.DiGraph([(0, 1), (1, 2), (2, 3), (3,0), (2,4),(2,5),(4,5)])\n",
    "nx.draw(G, **opts)"
   ]
  },
  {
   "cell_type": "markdown",
   "metadata": {
    "slideshow": {
     "slide_type": "subslide"
    }
   },
   "source": [
    "In the previous example: Node  5 is an example of a **sink** - it has only incoming edges."
   ]
  },
  {
   "cell_type": "markdown",
   "metadata": {
    "slideshow": {
     "slide_type": "slide"
    }
   },
   "source": [
    "## Graphs as relations\n",
    "\n",
    "**Definition.**  A **relation** from a set $X$ to a set $Y$ is (nothing but) a subset\n",
    "$R$ of the Cartesian product $X \\times Y = \\{(x, y) :  x \\in X,\\, y \\in Y \\}$.\n",
    "    We say that $x \\in X$ is **$R$-related** to $y \\in Y$ whenever $(x, y) \\in R$\n",
    "and then write $x R y$.\n",
    "\n",
    "* $R$ is a **homogeneous** relation if $Y = X$ (usually is for us: $X$ is the node set)\n",
    "* (R) $R$ is **reflexive** if $xRx$ for all $x \\in X$;\n",
    "* (S) $R$ is **symmetric** if $xRy$ implies $yRx$ for all $x, y \\in X$;\n",
    "* (T) $R$ is **transitive** if $xRy$ and $yRz$ imply that $xRz$ for all $x, y, z \\in X$;\n",
    "* (I) $R$ is **irreflexive** if **not** $xRx$ for all $x \\in X$;\n",
    "* (A) $R$ is **antisymmetric** if $xRy$ and $yRx$ imply that\n",
    "        $x = y$ for all $x, y \\in X$.\n",
    "   "
   ]
  },
  {
   "cell_type": "markdown",
   "metadata": {
    "slideshow": {
     "slide_type": "subslide"
    }
   },
   "source": [
    "**Example 1**\n",
    "\n",
    "Given a (simple, **undirected**) graph $G=(X,E)$, we can define a relation $R_1$ on $X$, as being $xR_1y$ if $(x,y)\\in E$. \n",
    "Then $R$ is  **symmetric** and **irreflexive**.\n",
    "\n",
    "**Example 2**\n",
    "\n",
    "Given a (simple, **undirected**) graph $G=(X,E)$, let $R$ on $X$ be the relation:  $xR_2y$ if there is a path from $x$ to $y$ in $G$. What are the properties of this relation?\n",
    "\n",
    "Does $R_2$ contain $R_1$?"
   ]
  },
  {
   "cell_type": "markdown",
   "metadata": {
    "slideshow": {
     "slide_type": "subslide"
    }
   },
   "source": [
    "**Transitive Closure**\n",
    "\n",
    "Given a relation, $R$, its **transitive closure**, $R^+$ is the smallest transitive relation that includes $R$.\n",
    "\n",
    "**Reflexive Closure**\n",
    "\n",
    "Given a relation, $R$, its **reflexive closure**, $R^=$ is the smallest reflexive  relation that includes $R$.\n",
    "\n",
    "Examples:\n"
   ]
  },
  {
   "cell_type": "markdown",
   "metadata": {
    "slideshow": {
     "slide_type": "slide"
    }
   },
   "source": [
    "### Digraphs and Mathematical Relations\n",
    "\n",
    "When a directed graph $G$ is regarded as a **relation**\n",
    "on the set $X$, strongly connected components can be described as\n",
    "the **equivalence classes** of an equivalence relation that is obtained\n",
    "as follows."
   ]
  },
  {
   "cell_type": "markdown",
   "metadata": {
    "slideshow": {
     "slide_type": "-"
    }
   },
   "source": [
    "First note that the relation ${x \\leadsto y}$\n",
    "is the reflexive and transitive closure of the\n",
    "edge relation $x \\to y$.  \n",
    "\n",
    "Thus, by construction it is reflexive and\n",
    "transitive.  \n",
    "\n",
    "(There might be nodes $x$ and $y$ with $x\\leadsto y$ and $y \n",
    "\\leadsto x$, though it won't be all of them). "
   ]
  },
  {
   "cell_type": "markdown",
   "metadata": {
    "slideshow": {
     "slide_type": "subslide"
    }
   },
   "source": [
    "So this allows us to define a new relation as follows.\n",
    "\n",
    "**Definition.** We set $x \\equiv y$ if $x \\leadsto y$ _and_ $y \\leadsto x$."
   ]
  },
  {
   "cell_type": "markdown",
   "metadata": {
    "slideshow": {
     "slide_type": "-"
    }
   },
   "source": [
    "This **is** an equivalence relation we get equivalence classes that partition our graph. These equivalence classes are the **strongly connected\n",
    "components** of $G$.  We denote the class of $x \\in X$ by $[x]$."
   ]
  },
  {
   "cell_type": "markdown",
   "metadata": {
    "slideshow": {
     "slide_type": "-"
    }
   },
   "source": [
    "Moreover, there is a partial order relation\n",
    "$\\leq$ (a relation which is reflexive, transitive and anti-symmetric)\n",
    "on the set of equivalence classes:\n",
    "\n",
    "$[x] \\leq [y]$ if $x \\leadsto y$."
   ]
  },
  {
   "cell_type": "markdown",
   "metadata": {
    "slideshow": {
     "slide_type": "-"
    }
   },
   "source": [
    "We can say something about the structure of the WWW in terms of these equivalence classes and of the partial order on them."
   ]
  },
  {
   "cell_type": "markdown",
   "metadata": {
    "slideshow": {
     "slide_type": "slide"
    }
   },
   "source": [
    "### The Bow-Tie Structure of the WWW"
   ]
  },
  {
   "cell_type": "markdown",
   "metadata": {
    "slideshow": {
     "slide_type": "-"
    }
   },
   "source": [
    "Like the giant component in a simple graph, it turns out that\n",
    "a directed graph with sufficiently many edges\n",
    "has  a **giant SCC**."
   ]
  },
  {
   "cell_type": "markdown",
   "metadata": {
    "slideshow": {
     "slide_type": "-"
    }
   },
   "source": [
    "The remainder of the graph consists of four more sets of components of nodes, as follows:\n",
    "\n",
    "1. IN: upstream components, the set of all components\n",
    "$C$ with $C <$ SCC.\n",
    "\n",
    "2. OUT: downstream components,\n",
    "the set of all components $C$ with $C >$ SCC.\n",
    "\n",
    "\n",
    "3. tendrils: the set of all components $C$ with either $C >$ IN and $C \\not<$ OUT\n",
    "or $C <$ OUT and $C \\not>$ IN; <BR />\n",
    "and tubes: components $C$ with $C >$ IN, $C <$ OUT but $C \\not <$ SCC.\n",
    "\n",
    "4. disconnected components."
   ]
  },
  {
   "cell_type": "markdown",
   "metadata": {
    "slideshow": {
     "slide_type": "subslide"
    }
   },
   "source": [
    "Thus, in any directed graph with a distinguished SCC,\n",
    "the WCC in which it is contained\n",
    "necessarily has the following global bow-tie structure:"
   ]
  },
  {
   "cell_type": "markdown",
   "metadata": {
    "slideshow": {
     "slide_type": "-"
    }
   },
   "source": [
    "![bow tie](bowtie.png)"
   ]
  },
  {
   "cell_type": "markdown",
   "metadata": {
    "slideshow": {
     "slide_type": "subslide"
    }
   },
   "source": [
    "Research on available data on the Web in 1999 has confirmed this\n",
    "bow tie structure for the World Wide Web, with a **large Giant SCC**\n",
    "covering less than $\\frac13$ of the vertex set,\n",
    "and the\n",
    "three parts IN, OUT and the tendrils and tubes roughly of the same\n",
    "size.  One can assume that this proportion has not changed much over\n",
    "time, although the advent of social media\n",
    "has brought many new types of links and\n",
    "documents to the Web.\n"
   ]
  },
  {
   "cell_type": "markdown",
   "metadata": {
    "slideshow": {
     "slide_type": "slide"
    }
   },
   "source": [
    "## Computing Bow-Tie Components"
   ]
  },
  {
   "cell_type": "markdown",
   "metadata": {
    "slideshow": {
     "slide_type": "-"
    }
   },
   "source": [
    "**Example.**  Let's start with a reasonably large random **directed graph**,\n",
    "using the Erdős-R&eacute;nyi $G(n, m)$ model:"
   ]
  },
  {
   "cell_type": "code",
   "execution_count": null,
   "metadata": {
    "slideshow": {
     "slide_type": "subslide"
    }
   },
   "outputs": [],
   "source": [
    "n, m = 100, 120\n",
    "G = nx.gnm_random_graph(n, m, directed=True)"
   ]
  },
  {
   "cell_type": "markdown",
   "metadata": {
    "slideshow": {
     "slide_type": "slide"
    }
   },
   "source": [
    "### Weakly Connected Components\n",
    "\n",
    "The weakly connected components of a directed graph $G$ can be determined by BFS, as before,\n",
    "counting as \"neighbors\" of a node $x$ **both** its _successors_ and it _predecessors_ in the graph.\n",
    "\n",
    "A single component, the weakly connected component of node $x$, is found as follows."
   ]
  },
  {
   "cell_type": "code",
   "execution_count": null,
   "metadata": {
    "slideshow": {
     "slide_type": "-"
    }
   },
   "outputs": [],
   "source": [
    "def weak_component(G, x):\n",
    "    nodes = {x}\n",
    "    queue = [x]\n",
    "    for y in queue:\n",
    "        G.nodes[y][\"seen\"] = True\n",
    "        for z in set(G.successors(y)) | set(G.predecessors(y)): ## preds+succs are the neighbours of a node\n",
    "            if z not in nodes:\n",
    "                nodes.add(z)\n",
    "                queue.append(z)\n",
    "    return nodes"
   ]
  },
  {
   "cell_type": "markdown",
   "metadata": {
    "slideshow": {
     "slide_type": "subslide"
    }
   },
   "source": [
    "The list of all weakly connected components is computed by looping over all the  nodes of `G`,\n",
    "computing the components of \"unseen\" nodes and collecting them in a list.\n",
    "The final result is sorted by decreasing length before it is returned."
   ]
  },
  {
   "cell_type": "code",
   "execution_count": null,
   "metadata": {
    "slideshow": {
     "slide_type": "-"
    }
   },
   "outputs": [],
   "source": [
    "def weak_components(G):\n",
    "    wccs = []     # initialize\n",
    "    \n",
    "    # find each node's wcc\n",
    "    for x in G:\n",
    "        if not G.nodes[x].get(\"seen\"):\n",
    "            wccs.append(weak_component(G, x))\n",
    "            \n",
    "    # clean up after yourself\n",
    "    for x in G:\n",
    "        del G.nodes[x][\"seen\"]\n",
    "        \n",
    "    # return sorted list of wccs\n",
    "    return sorted(wccs, key=len, reverse=True)"
   ]
  },
  {
   "cell_type": "code",
   "execution_count": null,
   "metadata": {
    "slideshow": {
     "slide_type": "subslide"
    }
   },
   "outputs": [],
   "source": [
    "wccs = weak_components(G)\n",
    "len(wccs)"
   ]
  },
  {
   "cell_type": "code",
   "execution_count": null,
   "metadata": {
    "slideshow": {
     "slide_type": "-"
    }
   },
   "outputs": [],
   "source": [
    "[len(c) for c in wccs]"
   ]
  }
 ],
 "metadata": {
  "celltoolbar": "Slideshow",
  "kernelspec": {
   "display_name": "2324-CS319",
   "language": "python",
   "name": "2324-cs319"
  },
  "language_info": {
   "codemirror_mode": {
    "name": "ipython",
    "version": 3
   },
   "file_extension": ".py",
   "mimetype": "text/x-python",
   "name": "python",
   "nbconvert_exporter": "python",
   "pygments_lexer": "ipython3",
   "version": "3.13.2"
  },
  "toc": {
   "base_numbering": 1,
   "nav_menu": {},
   "number_sections": true,
   "sideBar": true,
   "skip_h1_title": true,
   "title_cell": "Table of Contents",
   "title_sidebar": "Contents",
   "toc_cell": true,
   "toc_position": {},
   "toc_section_display": true,
   "toc_window_display": false
  },
  "varInspector": {
   "cols": {
    "lenName": 16,
    "lenType": 16,
    "lenVar": 40
   },
   "kernels_config": {
    "python": {
     "delete_cmd_postfix": "",
     "delete_cmd_prefix": "del ",
     "library": "var_list.py",
     "varRefreshCmd": "print(var_dic_list())"
    },
    "r": {
     "delete_cmd_postfix": ") ",
     "delete_cmd_prefix": "rm(",
     "library": "var_list.r",
     "varRefreshCmd": "cat(var_dic_list()) "
    }
   },
   "types_to_exclude": [
    "module",
    "function",
    "builtin_function_or_method",
    "instance",
    "_Feature"
   ],
   "window_display": false
  }
 },
 "nbformat": 4,
 "nbformat_minor": 2
}
