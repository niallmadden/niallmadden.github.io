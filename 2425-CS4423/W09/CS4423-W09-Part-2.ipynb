{
 "cells": [
  {
   "cell_type": "markdown",
   "metadata": {
    "toc": true
   },
   "source": [
    "<h1>Table of Contents<span class=\"tocSkip\"></span></h1>\n",
    "<div class=\"toc\"><ul class=\"toc-item\"><li><ul class=\"toc-item\"><li><span><a href=\"#Modules-for-this-notebook\" data-toc-modified-id=\"Modules-for-this-notebook-0.1\"><span class=\"toc-item-num\">0.1&nbsp;&nbsp;</span>Modules for this notebook</a></span></li></ul></li><li><span><a href=\"#Random-Samples\" data-toc-modified-id=\"Random-Samples-1\"><span class=\"toc-item-num\">1&nbsp;&nbsp;</span>Random Samples</a></span><ul class=\"toc-item\"><li><span><a href=\"#An-intuitive-approach\" data-toc-modified-id=\"An-intuitive-approach-1.1\"><span class=\"toc-item-num\">1.1&nbsp;&nbsp;</span>An intuitive approach</a></span></li></ul></li><li><span><a href=\"#Choosing-exactly-$m$-terms\" data-toc-modified-id=\"Choosing-exactly-$m$-terms-2\"><span class=\"toc-item-num\">2&nbsp;&nbsp;</span>Choosing exactly $m$ terms</a></span></li><li><span><a href=\"#Computing-$G_{ER}(n,m)$\" data-toc-modified-id=\"Computing-$G_{ER}(n,m)$-3\"><span class=\"toc-item-num\">3&nbsp;&nbsp;</span>Computing $G_{ER}(n,m)$</a></span></li><li><span><a href=\"#Computing-$G_{ER}(n,p)$\" data-toc-modified-id=\"Computing-$G_{ER}(n,p)$-4\"><span class=\"toc-item-num\">4&nbsp;&nbsp;</span>Computing $G_{ER}(n,p)$</a></span><ul class=\"toc-item\"><li><span><a href=\"#Our-own-function\" data-toc-modified-id=\"Our-own-function-4.1\"><span class=\"toc-item-num\">4.1&nbsp;&nbsp;</span>Our own function</a></span></li><li><span><a href=\"#The-gnp_random_graph()-function\" data-toc-modified-id=\"The-gnp_random_graph()-function-4.2\"><span class=\"toc-item-num\">4.2&nbsp;&nbsp;</span>The <code>gnp_random_graph()</code> function</a></span></li></ul></li><li><span><a href=\"#Expected-size\" data-toc-modified-id=\"Expected-size-5\"><span class=\"toc-item-num\">5&nbsp;&nbsp;</span>Expected size</a></span></li><li><span><a href=\"#Expected-Average-Degree\" data-toc-modified-id=\"Expected-Average-Degree-6\"><span class=\"toc-item-num\">6&nbsp;&nbsp;</span>Expected Average Degree</a></span><ul class=\"toc-item\"><li><span><a href=\"#$G_{ER}(n,p)$\" data-toc-modified-id=\"$G_{ER}(n,p)$-6.1\"><span class=\"toc-item-num\">6.1&nbsp;&nbsp;</span>$G_{ER}(n,p)$</a></span></li></ul></li><li><span><a href=\"#p=p(n)\" data-toc-modified-id=\"p=p(n)-7\"><span class=\"toc-item-num\">7&nbsp;&nbsp;</span>p=p(n)</a></span></li></ul></div>"
   ]
  },
  {
   "cell_type": "markdown",
   "metadata": {
    "slideshow": {
     "slide_type": "slide"
    }
   },
   "source": [
    "<h1>CS4423-Networks: Week 9 (11+12 March 2025) \n",
    "\n",
    "# Part 2: Computing Random Graphs\n",
    "Niall Madden, \n",
    "School of Mathematical and Statistical Sciences  \n",
    "University of Galway\n",
    "\n",
    "\n",
    "This Jupyter notebook, and PDF and HTML versions, can be found at https://www.niallmadden.ie/2425-CS4423/#Week09\n",
    "\n",
    "<div class=\"rc\"><font size=\"-1\"><em>This notebook was written by Niall Madden, adapted from notebooks by Angela Carnevale.</em></div>"
   ]
  },
  {
   "cell_type": "markdown",
   "metadata": {
    "slideshow": {
     "slide_type": "subslide"
    }
   },
   "source": [
    "### Modules for this notebook"
   ]
  },
  {
   "cell_type": "code",
   "execution_count": null,
   "metadata": {
    "slideshow": {
     "slide_type": "-"
    }
   },
   "outputs": [],
   "source": [
    "import networkx as nx\n",
    "import numpy as np\n",
    "opts = { \"with_labels\": True,  \"node_color\": \"aqua\"} # aqua nodes this week\n",
    "\n",
    "import random   # some random number generators\n",
    "import statistics  # for random, random_choices\n",
    "import math     # for comb (=binomial coef)\n",
    "import matplotlib.pyplot as plt"
   ]
  },
  {
   "cell_type": "markdown",
   "metadata": {
    "slideshow": {
     "slide_type": "slide"
    }
   },
   "source": [
    "## Random Samples\n",
    "\n",
    "* Our goal is to randomly select edges on a given vertex set $X$. That is, pick at random elements from the set $\\binom{X}{2}$ of pairs of nodes.\n",
    "\n",
    "* So we need a procedure\n",
    "for selecting $m$ from $N$ objects randomly, in such a way that each of the $\\binom{N}{m}$\n",
    "subsets of the $N$ objects is an equally likely outcome.\n",
    "\n",
    "* We first discuss sampling $m$ values in the range $\\{0, 1, \\dots, N{-}1\\}$."
   ]
  },
  {
   "cell_type": "markdown",
   "metadata": {
    "slideshow": {
     "slide_type": "subslide"
    }
   },
   "source": [
    "### An intuitive approach\n",
    "\n",
    "Maybe the most obvious approach is to select each number in the desired range with probability $p = m/N$.\n",
    "\n",
    "* `Python`'s basic random number generator `random.random` returns a random number in the (half-open) interval $[0, 1)$ every time it is called.  \n",
    "\n",
    "* Looping with `a` over `range(N)`: if the randomly generated number is less than $p$, then we include the current value of `a`, if not we don't."
   ]
  },
  {
   "cell_type": "code",
   "execution_count": null,
   "metadata": {},
   "outputs": [],
   "source": [
    "def random_sample_B(N, p):\n",
    "    \"\"\"sample elements in range(n) with probability p\"\"\"\n",
    "    sample = []\n",
    "    for a in range(N):\n",
    "        if random.random() < p:\n",
    "            sample.append(a)\n",
    "    return sample "
   ]
  },
  {
   "cell_type": "code",
   "execution_count": null,
   "metadata": {},
   "outputs": [],
   "source": [
    "random_sample_B(10,0.2)"
   ]
  },
  {
   "cell_type": "markdown",
   "metadata": {
    "slideshow": {
     "slide_type": "subslide"
    }
   },
   "source": [
    "We'd expect this to return a list of $pN$ numbers, which it does (on average)"
   ]
  },
  {
   "cell_type": "code",
   "execution_count": null,
   "metadata": {},
   "outputs": [],
   "source": [
    "sum_l = 0\n",
    "N = 10\n",
    "p = 0.2\n",
    "for i in range(N):\n",
    "    S = random_sample_B(N,p)\n",
    "    sum_l += len(S)\n",
    "    print(f\"Sample {i:2d} has {len(S)} terms\")\n",
    "print(f\"Avergae is {sum_l/N}\")"
   ]
  },
  {
   "cell_type": "markdown",
   "metadata": {
    "slideshow": {
     "slide_type": "subslide"
    }
   },
   "source": [
    "Let's do that for 10,000 runs:"
   ]
  },
  {
   "cell_type": "code",
   "execution_count": null,
   "metadata": {},
   "outputs": [],
   "source": [
    "c = 10000\n",
    "sum(len(random_sample_B(N, p)) for i in range(c))/c"
   ]
  },
  {
   "cell_type": "markdown",
   "metadata": {
    "slideshow": {
     "slide_type": "slide"
    }
   },
   "source": [
    "## Choosing exactly $m$ terms\n",
    "\n",
    "To randomly select exactly $m$ numbers from from $0, 1, \\dots, N-1$, we use a modification of this procedure \n",
    "[see Knuth: The Art of Computer Programming, Vol. 2, Section 3.4.2, Algorithm S] :\n",
    "\n",
    "* The number $a$ should be selected with probability $\\frac{m-c}{N-a}$,\n",
    "if $c$ items have already been selected.\n",
    "\n"
   ]
  },
  {
   "cell_type": "code",
   "execution_count": null,
   "metadata": {},
   "outputs": [],
   "source": [
    "def random_sample_A(N, m):\n",
    "    sample = []\n",
    "    for a in range(N):\n",
    "        if (N - a) * random.random() < m - len(sample):\n",
    "            sample.append(a)\n",
    "    return sample"
   ]
  },
  {
   "cell_type": "markdown",
   "metadata": {
    "slideshow": {
     "slide_type": "subslide"
    }
   },
   "source": [
    "Let's see a small example."
   ]
  },
  {
   "cell_type": "code",
   "execution_count": null,
   "metadata": {},
   "outputs": [],
   "source": [
    "N = 10\n",
    "m = 4\n",
    "print( random_sample_A(N, m) )"
   ]
  },
  {
   "cell_type": "markdown",
   "metadata": {
    "slideshow": {
     "slide_type": "slide"
    }
   },
   "source": [
    "## Computing $G_{ER}(n,m)$ \n",
    "We can easily adapt the above procedure to compute examples of graphs in $G_{ER}(n,m)$.\n",
    "\n",
    "But here we'll use the `networkx` random graph constructor, `gnm_random_graph`, to do this.\n"
   ]
  },
  {
   "cell_type": "code",
   "execution_count": null,
   "metadata": {},
   "outputs": [],
   "source": [
    "n = 6\n",
    "m = 6 \n",
    "G1 = nx.gnm_random_graph(n, m)\n",
    "nx.draw(G1, **opts)"
   ]
  },
  {
   "cell_type": "markdown",
   "metadata": {
    "slideshow": {
     "slide_type": "slide"
    }
   },
   "source": [
    "## Computing $G_{ER}(n,p)$"
   ]
  },
  {
   "cell_type": "markdown",
   "metadata": {},
   "source": [
    "### Our own function\n",
    "\n",
    "Here is a simple approach to computing a sample from $G_{ER}(n,p)$:"
   ]
  },
  {
   "cell_type": "code",
   "execution_count": null,
   "metadata": {},
   "outputs": [],
   "source": [
    "def random_graph_B(n, p):\n",
    "    \"\"\"construct a random type B graph\n",
    "    with n nodes and edge probability p\"\"\"\n",
    "    G = nx.empty_graph(n)\n",
    "    for x in range(n):\n",
    "        for y in range(x):\n",
    "            if random.random() < p:\n",
    "                G.add_edge(x, y)\n",
    "    return G"
   ]
  },
  {
   "cell_type": "code",
   "execution_count": null,
   "metadata": {
    "slideshow": {
     "slide_type": "subslide"
    }
   },
   "outputs": [],
   "source": [
    "n = 15\n",
    "p = 0.2\n",
    "N = n*(n-1)/2 "
   ]
  },
  {
   "cell_type": "code",
   "execution_count": null,
   "metadata": {},
   "outputs": [],
   "source": [
    "G2 = random_graph_B(n, p)\n",
    "nx.draw(G2, **opts)\n",
    "print(f\"G2 has {G2.size()} edges. Expeced number is {p*N}\")"
   ]
  },
  {
   "cell_type": "markdown",
   "metadata": {
    "slideshow": {
     "slide_type": "slide"
    }
   },
   "source": [
    "### The `gnp_random_graph()` function\n",
    "\n",
    "The `networkx` version of this random graph constructor is called `gnp_random_graph`\n",
    "and should produce the same random graphs with the same probability (but should be more efficient for large networks)."
   ]
  },
  {
   "cell_type": "code",
   "execution_count": null,
   "metadata": {},
   "outputs": [],
   "source": [
    "G3 = nx.gnp_random_graph(n, p)\n",
    "nx.draw(G3, **opts)\n",
    "print(f\"G3 has {G3.size()} edges. Expeced number is {p*N}\")"
   ]
  },
  {
   "cell_type": "code",
   "execution_count": null,
   "metadata": {
    "slideshow": {
     "slide_type": "subslide"
    }
   },
   "outputs": [],
   "source": [
    "n = 100\n",
    "p = 0.02\n",
    "N = n*(n-1)/2 \n",
    "G4 = nx.gnp_random_graph(n, p)\n",
    "nx.draw(G4, node_size=20)\n",
    "print(f\"G4 has {G4.size()} edges. Expeced number is {p*N}\")\n",
    "plt.savefig(\"W09-cover.png\")"
   ]
  },
  {
   "cell_type": "markdown",
   "metadata": {
    "slideshow": {
     "slide_type": "slide"
    }
   },
   "source": [
    "## Expected size\n",
    "\n",
    "We know that any graph drawn from $G_{ER}(n,m)$ has size $m$ (with probability 1).\n",
    "\n",
    "For $G_{ER}(n,p)$ the _expected size_ is $pN$. Let's check that:"
   ]
  },
  {
   "cell_type": "code",
   "execution_count": null,
   "metadata": {},
   "outputs": [],
   "source": [
    "n = 100 \n",
    "N = math.comb(n,2)\n",
    "p = 0.01\n",
    "num_trials = 100\n",
    "sum_of_sizes = 0\n",
    "for i in range(num_trials):\n",
    "    G = nx.gnp_random_graph(n,p)\n",
    "    sum_of_sizes += G.size()\n",
    "ave_size = sum_of_sizes/num_trials\n",
    "print(f\"For this selection, average size is {ave_size}; expected is pN={p*N}\")"
   ]
  },
  {
   "cell_type": "markdown",
   "metadata": {
    "slideshow": {
     "slide_type": "slide"
    }
   },
   "source": [
    "## Expected Average Degree\n",
    "\n",
    "In [Part 1](https://www.niallmadden.ie/2425-CS4423/W09/CS4423-W09-Part-1.pdf), we noted that, for $G_{ER}(n, m)$, the  the expected **size** of a graph is \n",
    "$\\bar{m} = m$  as every graph $G$ in $G(n, m)$ has exactly $m$ edges.\n",
    "\n",
    "It follows that the expected **average degree** is $\\langle k \\rangle = \\frac{2m}{n}$,\n",
    "as every graph has average degree $2m/n$.\n",
    "\n",
    "Let's verify that:"
   ]
  },
  {
   "cell_type": "code",
   "execution_count": null,
   "metadata": {
    "slideshow": {
     "slide_type": "subslide"
    }
   },
   "outputs": [],
   "source": [
    "n = 10\n",
    "m = 14\n",
    "G = nx.gnm_random_graph(n,m)\n",
    "nx.draw(G, **opts)"
   ]
  },
  {
   "cell_type": "markdown",
   "metadata": {
    "slideshow": {
     "slide_type": "subslide"
    }
   },
   "source": [
    "Get the degree sequence:"
   ]
  },
  {
   "cell_type": "code",
   "execution_count": null,
   "metadata": {},
   "outputs": [],
   "source": [
    "degree_sequence = [d for n, d in G.degree()]\n",
    "print(degree_sequence)"
   ]
  },
  {
   "cell_type": "markdown",
   "metadata": {},
   "source": [
    "Compute the mean value, and compare with $<k>=2m/n$."
   ]
  },
  {
   "cell_type": "code",
   "execution_count": null,
   "metadata": {},
   "outputs": [],
   "source": [
    "mean_deg = statistics.mean(degree_sequence)\n",
    "print(f\"Averge degree is {mean_deg}, and 2m/n = {2*m/n}\")"
   ]
  },
  {
   "cell_type": "markdown",
   "metadata": {
    "slideshow": {
     "slide_type": "slide"
    }
   },
   "source": [
    "### $G_{ER}(n,p)$\n",
    "We learned in Part 1 that  the degree distribution in a random graph in $G_{ER}(n, p)$ is a \\Emph{binomial distribution}\n",
    "$$\n",
    "p_k = \\binom{n-1}{k}p^k (1-p)^{n-1-k}.\n",
    "$$\n",
    " \n",
    "That is, in the $G_{ER}(n,p)$ model, the _probability that a node has degree $k$ is $p_k$_.\n",
    "\n",
    "Let's check some examples."
   ]
  },
  {
   "cell_type": "markdown",
   "metadata": {
    "slideshow": {
     "slide_type": "subslide"
    }
   },
   "source": [
    "In Part 1, we considered an example for Q3(c) of the 2023/24 exam paper: suppose one constructed a graph $G$ on 120 nodes by tossing a (fair, 6-sided) die once for each possible edge, adding the edge only if the die shows 3 or 6. Then pick a node at random in this graph. What is the probability\n",
    "that this node has degree 50?"
   ]
  },
  {
   "cell_type": "markdown",
   "metadata": {
    "slideshow": {
     "slide_type": "subslide"
    }
   },
   "source": [
    "Set $n$ and $p$ and make a graph"
   ]
  },
  {
   "cell_type": "code",
   "execution_count": null,
   "metadata": {},
   "outputs": [],
   "source": [
    "n = 120\n",
    "p = 1.0/3.0\n",
    "G = nx.gnp_random_graph(n,p)"
   ]
  },
  {
   "cell_type": "code",
   "execution_count": null,
   "metadata": {},
   "outputs": [],
   "source": [
    "nx.draw(G, node_size=3, alpha=0.1 )"
   ]
  },
  {
   "cell_type": "markdown",
   "metadata": {
    "slideshow": {
     "slide_type": "subslide"
    }
   },
   "source": [
    "From the theory:"
   ]
  },
  {
   "cell_type": "code",
   "execution_count": null,
   "metadata": {},
   "outputs": [],
   "source": [
    "k=50\n",
    "p50 = math.comb(n-1,k)*(p**k)*(1-p)**(n-1-k)\n",
    "print(p50)"
   ]
  },
  {
   "cell_type": "markdown",
   "metadata": {},
   "source": [
    "In practice:"
   ]
  },
  {
   "cell_type": "code",
   "execution_count": null,
   "metadata": {},
   "outputs": [],
   "source": [
    "def count_k_in_G(G,k):\n",
    "    count = 0\n",
    "    for i in range(n):\n",
    "        if (G.degree(i) == k):\n",
    "            count +=1\n",
    "    return(count)\n",
    "print(count_k_in_G(G,50)/n)   "
   ]
  },
  {
   "cell_type": "markdown",
   "metadata": {
    "slideshow": {
     "slide_type": "subslide"
    }
   },
   "source": [
    "These numbers may not agree terribly well... let's check for all $k$, and plot"
   ]
  },
  {
   "cell_type": "code",
   "execution_count": null,
   "metadata": {},
   "outputs": [],
   "source": [
    "P1 = [math.comb(n-1,k)*(p**k)*(1-p)**(n-1-k) for k in range(n)]\n",
    "p2 = [count_k_in_G(G,k)/n for k in range(n)]\n",
    "\n",
    "plt.plot(P1, marker='o', linestyle='--', color='b', label='theory')\n",
    "plt.plot(p2, marker='x', linestyle='--', color='r', label='compute')\n",
    "plt.legend()"
   ]
  },
  {
   "cell_type": "markdown",
   "metadata": {
    "slideshow": {
     "slide_type": "subslide"
    }
   },
   "source": [
    "That looks reasonable, but would be more convincing if we averaged over a number of randomly drawn graphs:"
   ]
  },
  {
   "cell_type": "code",
   "execution_count": null,
   "metadata": {},
   "outputs": [],
   "source": [
    "P1 = [math.comb(n-1,k)*(p**k)*(1-p)**(n-1-k) for k in range(n)]\n",
    "P2 = np.zeros(n)\n",
    "num_draws = 10\n",
    "for run in range(num_draws):\n",
    "    G = nx.gnp_random_graph(n,p)\n",
    "    P2 = P2 + [count_k_in_G(G,k)/n/num_draws for k in range(n)]\n",
    "\n",
    "plt.plot(P1, marker='o', linestyle='--', color='b', label='theory')\n",
    "plt.plot(P2, marker='x', linestyle='--', color='r', label='compute')"
   ]
  },
  {
   "cell_type": "markdown",
   "metadata": {
    "slideshow": {
     "slide_type": "slide"
    }
   },
   "source": [
    "## p=p(n)\n",
    "\n",
    "In a way, it does not make sense to compare $G_{ER}(n_1,p)$ with $G_{ER}(n_2,p)$. If $n_1$ and $n_2$ are very different, the resulting graphs  can have different structures.\n",
    "\n",
    "Lets look at 2 examples. In both we have $p=0.05$, but we'll have $n_1=100$ and $n_2=20$.\n"
   ]
  },
  {
   "cell_type": "code",
   "execution_count": null,
   "metadata": {},
   "outputs": [],
   "source": [
    "n1 = 100\n",
    "p = 0.05\n",
    "G1 = nx.gnp_random_graph(n1,p)\n",
    "nx.draw(G1, node_size=40)"
   ]
  },
  {
   "cell_type": "code",
   "execution_count": null,
   "metadata": {
    "slideshow": {
     "slide_type": "subslide"
    }
   },
   "outputs": [],
   "source": [
    "n2 = 20\n",
    "G2 = nx.gnp_random_graph(n2,p)\n",
    "nx.draw(G2, node_size=40)"
   ]
  },
  {
   "cell_type": "markdown",
   "metadata": {
    "slideshow": {
     "slide_type": "subslide"
    }
   },
   "source": [
    "This will lead us to a discussion on \"The Giant Connected Component\".\n",
    "\n",
    "**Definition (Giant Component).**\n",
    "A connected component of a graph $G$ is called a **giant component**\n",
    "if its number of nodes increases with the order $n$ of $G$ as\n",
    "some positive power of $n$.\n",
    "\n",
    "\n"
   ]
  }
 ],
 "metadata": {
  "celltoolbar": "Slideshow",
  "kernelspec": {
   "display_name": "Python (CS4423)",
   "language": "python",
   "name": "cs4423"
  },
  "language_info": {
   "codemirror_mode": {
    "name": "ipython",
    "version": 3
   },
   "file_extension": ".py",
   "mimetype": "text/x-python",
   "name": "python",
   "nbconvert_exporter": "python",
   "pygments_lexer": "ipython3",
   "version": "3.12.8"
  },
  "toc": {
   "base_numbering": 1,
   "nav_menu": {},
   "number_sections": true,
   "sideBar": true,
   "skip_h1_title": true,
   "title_cell": "Table of Contents",
   "title_sidebar": "Contents",
   "toc_cell": true,
   "toc_position": {},
   "toc_section_display": true,
   "toc_window_display": false
  },
  "varInspector": {
   "cols": {
    "lenName": 16,
    "lenType": 16,
    "lenVar": 40
   },
   "kernels_config": {
    "python": {
     "delete_cmd_postfix": "",
     "delete_cmd_prefix": "del ",
     "library": "var_list.py",
     "varRefreshCmd": "print(var_dic_list())"
    },
    "r": {
     "delete_cmd_postfix": ") ",
     "delete_cmd_prefix": "rm(",
     "library": "var_list.r",
     "varRefreshCmd": "cat(var_dic_list()) "
    }
   },
   "types_to_exclude": [
    "module",
    "function",
    "builtin_function_or_method",
    "instance",
    "_Feature"
   ],
   "window_display": false
  }
 },
 "nbformat": 4,
 "nbformat_minor": 1
}
