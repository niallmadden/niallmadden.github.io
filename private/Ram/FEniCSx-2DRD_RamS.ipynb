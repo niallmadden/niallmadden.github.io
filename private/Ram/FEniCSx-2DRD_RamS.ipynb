{
 "cells": [
  {
   "cell_type": "markdown",
   "id": "e35f1f7b",
   "metadata": {
    "toc": true
   },
   "source": [
    "<h1>Table of Contents<span class=\"tocSkip\"></span></h1>\n",
    "<div class=\"toc\"><ul class=\"toc-item\"></ul></div>"
   ]
  },
  {
   "cell_type": "markdown",
   "id": "96a2e330",
   "metadata": {},
   "source": [
    "Use FEniCSx to solve an reaction-diffusion equation\n",
    "$$-\\epsilon^2 \\Delta(u) + u = \\sqrt{3/2+x-y} \\in (0,1)^2$$\n",
    "with homogeneous Dirichlet boundary conditions.\n",
    "\n",
    "* Standard P1 Galerkin FEM.\n",
    "* Shishkin mesh\n",
    "* Direct solver\n",
    "\n",
    "**WARNING** May fail for large $N=2^8$ or very small $\\varepsilon=10^{-8}$\n",
    "\n",
    "This version is an example for Ram Shiromani by Niall Madden, Nov 2023."
   ]
  },
  {
   "cell_type": "code",
   "execution_count": 1,
   "id": "b54f13a4",
   "metadata": {},
   "outputs": [],
   "source": [
    "from mpi4py import MPI\n",
    "from dolfinx import mesh"
   ]
  },
  {
   "cell_type": "code",
   "execution_count": 2,
   "id": "a66263e4",
   "metadata": {},
   "outputs": [],
   "source": [
    "import dolfinx\n",
    "import dolfinx.io\n",
    "from dolfinx.fem import FunctionSpace\n",
    "from dolfinx import fem, log, fem, io, mesh, plot\n",
    "from dolfinx.mesh import CellType\n",
    "from dolfinx.fem.petsc import LinearProblem\n",
    "\n",
    "import ufl\n",
    "from ufl import ds, dx, grad, inner\n",
    "\n",
    "from petsc4py import PETSc\n",
    "from petsc4py.PETSc import ScalarType\n",
    "import numpy as np\n",
    "#from fenicsx_plotly import plot\n",
    "from scipy.spatial import Delaunay\n",
    "import matplotlib.pyplot as plt\n",
    "import os\n",
    "#log.set_log_level(log.LogLevel.INFO)"
   ]
  },
  {
   "cell_type": "markdown",
   "id": "d903f48d",
   "metadata": {},
   "source": [
    "Set `SlowPlots=True` to see output, but you need vtk packages installed. I prefer to output to a `.xdmk` file, and view that in paraview."
   ]
  },
  {
   "cell_type": "code",
   "execution_count": 3,
   "id": "ff732594",
   "metadata": {},
   "outputs": [],
   "source": [
    "ShowPlots = False # don't plot for big N"
   ]
  },
  {
   "cell_type": "code",
   "execution_count": 4,
   "id": "78dd3bfc",
   "metadata": {},
   "outputs": [],
   "source": [
    "def mpi_print(s):\n",
    "    print(f\"{comm.rank}/{comm.size}: {s}\")"
   ]
  },
  {
   "cell_type": "code",
   "execution_count": 5,
   "id": "d1ca08b2",
   "metadata": {},
   "outputs": [],
   "source": [
    "import time\n",
    "Start = time.time()\n",
    "comm = MPI.COMM_WORLD"
   ]
  },
  {
   "cell_type": "markdown",
   "id": "ffa207bc",
   "metadata": {},
   "source": [
    "## Functions for making a mesh"
   ]
  },
  {
   "cell_type": "code",
   "execution_count": 6,
   "id": "63845ca6",
   "metadata": {},
   "outputs": [],
   "source": [
    "def Shishkin_Mesh_1D_2(tau, N, layer_frac):\n",
    "    \"\"\" Generate a 1D piecewise uniform Shishkin mesh,\n",
    "    with N*layer_frac points in [0,tau] and [1-tau,1], with\n",
    "    and N*(1-2*layer_frac) in [tau,1-tau]. \n",
    "    returns a numpy array\n",
    "    WARNING: should check inputs make sense. By NM 2022\n",
    "    \"\"\"\n",
    "\n",
    "    N_layer = int(layer_frac*N)\n",
    "    N_interior = N - 2*N_layer\n",
    "\n",
    "    xl = np.linspace(0,tau,N_layer+1)\n",
    "    xc = np.linspace(tau,1-tau, N_interior+1)\n",
    "    xr = np.linspace(1-tau,1,N_layer+1)    \n",
    "    x_s = np.concatenate([xl,xc[1:],xr[1:]])\n",
    "\n",
    "    return x_s"
   ]
  },
  {
   "cell_type": "code",
   "execution_count": 7,
   "id": "f2b53205",
   "metadata": {},
   "outputs": [],
   "source": [
    "def Tensor_Product_Mesh_2D(x_p, y_p):\n",
    "    \"\"\" Generate a 2D tensor product mesh based on the\n",
    "     one-dimensional meshes mesh_x and mesh_y\n",
    "    Input: 2 numpy arrays, with M and M enries\n",
    "    output: a numpy array with M*N entries. By NM 2022.\n",
    "    \"\"\"\n",
    "\n",
    "    (X,Y) = np.meshgrid(x_p,y_p)\n",
    "    X_q = np.vstack( (X.flatten(), Y.flatten()) ).T\n",
    "\n",
    "    #Nx = len(x_p)-1\n",
    "    #Ny = len(y_p)-1\n",
    "    #X_p = np.empty([(Nx+1)*(Ny+1),2])\n",
    "    #k=0\n",
    "    #for yi in y_p:\n",
    "    #    for xi in x_p:\n",
    "    #        X_p[k,:] = [xi,yi]\n",
    "    #        k+=1\n",
    "    return X_q"
   ]
  },
  {
   "cell_type": "markdown",
   "id": "bbea192c",
   "metadata": {},
   "source": [
    "## PDE data\n",
    "PDE Data for $$-\\epsilon^2 \\Delta u + u = F(x,y)$$"
   ]
  },
  {
   "cell_type": "code",
   "execution_count": 8,
   "id": "1fe57632",
   "metadata": {},
   "outputs": [],
   "source": [
    "epsilon = 1.0e-3\n",
    "def F(x):\n",
    "    return np.sqrt(1.5 + x[0] - x[1])"
   ]
  },
  {
   "cell_type": "markdown",
   "id": "17f8fef4",
   "metadata": {},
   "source": [
    "## Discretization data"
   ]
  },
  {
   "cell_type": "code",
   "execution_count": 9,
   "id": "d5cbfac3",
   "metadata": {},
   "outputs": [],
   "source": [
    "N = 2**5\n",
    "tau = 2*epsilon*np.log(N)"
   ]
  },
  {
   "cell_type": "code",
   "execution_count": 10,
   "id": "eabd53d5",
   "metadata": {},
   "outputs": [],
   "source": [
    "x1 = Shishkin_Mesh_1D_2(tau, N, 0.25)\n",
    "MeshPoints = Tensor_Product_Mesh_2D(x1,x1)\n",
    "Triangulation = Delaunay(MeshPoints)"
   ]
  },
  {
   "cell_type": "code",
   "execution_count": 11,
   "id": "d309d431",
   "metadata": {},
   "outputs": [],
   "source": [
    "#Triangulation.simplices.astype(np.int64)"
   ]
  },
  {
   "cell_type": "code",
   "execution_count": 12,
   "id": "819e3284",
   "metadata": {},
   "outputs": [],
   "source": [
    "if ShowPlots:\n",
    "    plt.triplot(Triangulation.points[:,0], Triangulation.points[:,1], Triangulation.simplices.astype(np.int64))"
   ]
  },
  {
   "cell_type": "code",
   "execution_count": 13,
   "id": "b7f69ba2",
   "metadata": {},
   "outputs": [],
   "source": [
    "ufl_P1 = ufl.Mesh(ufl.VectorElement(\"Lagrange\", ufl.triangle, 1))\n",
    "msh = mesh.create_mesh(comm=MPI.COMM_WORLD, cells=Triangulation.simplices, x=Triangulation.points, \\\n",
    "                       domain=ufl_P1)"
   ]
  },
  {
   "cell_type": "code",
   "execution_count": 14,
   "id": "18aa2502",
   "metadata": {},
   "outputs": [],
   "source": [
    "V = fem.FunctionSpace(msh, (\"Lagrange\", 1))\n",
    "msh.topology.create_connectivity(msh.topology.dim-1, msh.topology.dim)\n",
    "boundary_facets = mesh.exterior_facet_indices(msh.topology)\n",
    "boundary_dofs = fem.locate_dofs_topological(V, msh.topology.dim-1, boundary_facets)\n",
    "\n",
    "dof_coordinates = V.tabulate_dof_coordinates()[boundary_dofs]\n",
    "#print(dof_coordinates)\n",
    "u_bc = dolfinx.fem.Function(V)\n",
    "bc = dolfinx.fem.dirichletbc(u_bc, boundary_dofs)\n",
    "\n",
    "u = ufl.TrialFunction(V)\n",
    "v = ufl.TestFunction(V)\n",
    "x = ufl.SpatialCoordinate(msh)"
   ]
  },
  {
   "cell_type": "code",
   "execution_count": 15,
   "id": "9b55d686",
   "metadata": {},
   "outputs": [],
   "source": [
    "f = fem.Function(V)\n",
    "f.interpolate(lambda x: F(x))\n"
   ]
  },
  {
   "cell_type": "code",
   "execution_count": 16,
   "id": "b740ddeb",
   "metadata": {},
   "outputs": [],
   "source": [
    "a = ufl.dot((epsilon**2.0)*ufl.grad(u), ufl.grad(v)) * ufl.dx \\\n",
    "    + ufl.dot(u, v) * ufl.dx \n",
    "L = f * v * dx"
   ]
  },
  {
   "cell_type": "code",
   "execution_count": 17,
   "id": "1b68bafa",
   "metadata": {},
   "outputs": [],
   "source": [
    "problem = LinearProblem(a, L, bcs=[bc])\n",
    "uN = problem.solve()"
   ]
  },
  {
   "cell_type": "code",
   "execution_count": 18,
   "id": "bab6dd95",
   "metadata": {},
   "outputs": [],
   "source": [
    "viewer = PETSc.Viewer().createASCII(\"solver_output.txt\")\n",
    "problem.solver.view(viewer)\n",
    "solver_output = open(\"solver_output.txt\", \"r\")\n",
    "#for line in solver_output.readlines():\n",
    "#    print(line)"
   ]
  },
  {
   "cell_type": "code",
   "execution_count": 19,
   "id": "77630aa5",
   "metadata": {},
   "outputs": [
    {
     "name": "stdout",
     "output_type": "stream",
     "text": [
      "0/1: Done. N=32, epsilon=0.001, time = 0.17171859741210938\n"
     ]
    }
   ],
   "source": [
    "elapsed_time = time.time() - Start\n",
    "if comm.rank == 0:\n",
    "    mpi_print(f\"Done. N={N}, epsilon={epsilon}, time = {elapsed_time}\")"
   ]
  },
  {
   "cell_type": "code",
   "execution_count": 20,
   "id": "0ec7f03c",
   "metadata": {},
   "outputs": [],
   "source": [
    "with io.XDMFFile(msh.comm, \"2DRD.xdmf\", \"w\") as file:\n",
    "    file.write_mesh(msh)\n",
    "    file.write_function(uN)"
   ]
  },
  {
   "cell_type": "code",
   "execution_count": 21,
   "id": "0e655358",
   "metadata": {
    "scrolled": true
   },
   "outputs": [],
   "source": [
    "if ShowPlots:\n",
    "    import pyvista\n",
    "    cells, types, x = plot.create_vtk_mesh(V)\n",
    "    grid = pyvista.UnstructuredGrid(cells, types, x)\n",
    "    grid.point_data[\"u\"] = uN.x.array.real\n",
    "    grid.set_active_scalars(\"u\")\n",
    "    plotter = pyvista.Plotter()\n",
    "    plotter.add_mesh(grid, show_edges=True)\n",
    "    warped = grid.warp_by_scalar()\n",
    "    plotter.add_mesh(warped)\n",
    "    plotter.show()"
   ]
  },
  {
   "cell_type": "code",
   "execution_count": null,
   "id": "a3ae3d1a",
   "metadata": {},
   "outputs": [],
   "source": [
    "\n"
   ]
  }
 ],
 "metadata": {
  "kernelspec": {
   "display_name": "fenicsx",
   "language": "python",
   "name": "fenicsx"
  },
  "language_info": {
   "codemirror_mode": {
    "name": "ipython",
    "version": 3
   },
   "file_extension": ".py",
   "mimetype": "text/x-python",
   "name": "python",
   "nbconvert_exporter": "python",
   "pygments_lexer": "ipython3",
   "version": "3.10.6"
  },
  "toc": {
   "base_numbering": 1,
   "nav_menu": {},
   "number_sections": true,
   "sideBar": true,
   "skip_h1_title": true,
   "title_cell": "Table of Contents",
   "title_sidebar": "Contents",
   "toc_cell": true,
   "toc_position": {},
   "toc_section_display": true,
   "toc_window_display": false
  },
  "varInspector": {
   "cols": {
    "lenName": 16,
    "lenType": 16,
    "lenVar": 40
   },
   "kernels_config": {
    "python": {
     "delete_cmd_postfix": "",
     "delete_cmd_prefix": "del ",
     "library": "var_list.py",
     "varRefreshCmd": "print(var_dic_list())"
    },
    "r": {
     "delete_cmd_postfix": ") ",
     "delete_cmd_prefix": "rm(",
     "library": "var_list.r",
     "varRefreshCmd": "cat(var_dic_list()) "
    }
   },
   "types_to_exclude": [
    "module",
    "function",
    "builtin_function_or_method",
    "instance",
    "_Feature"
   ],
   "window_display": false
  }
 },
 "nbformat": 4,
 "nbformat_minor": 5
}
