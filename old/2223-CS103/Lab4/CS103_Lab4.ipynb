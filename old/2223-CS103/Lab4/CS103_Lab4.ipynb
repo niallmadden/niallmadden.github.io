{
 "cells": [
  {
   "cell_type": "markdown",
   "id": "b906731c-c71d-42cf-926d-9b44d0793cc4",
   "metadata": {},
   "source": [
    "# CS102/CS103 Lab 4: Lists and Loops (Part 1) <span style='color:red'>(V1.0)</span>\n",
    "7th, 8th,  and 9th of November, 2022\n",
    "\n",
    "Dr [Niall Madden](mailto:Niall.Madden@UniversityOfGalway.ie)<br>\n",
    "School of Mathematical and Statistical Sciences<br>\n",
    "University of Galway\n",
    "\n",
    "---\n",
    "\n",
    "This is **Lab 4** of CS102/CS103. The goal is to develop skills in working with\n",
    "* `while` loops\n",
    "* `for` loops\n",
    "* lists\n",
    "in Python, building on material covered in Lectures in Weeks 5 and 6.\n",
    "\n",
    "You can access this notebook on binder: Go to `Labs` ... `Lab4` at [https://mybinder.org/v2/gh/niallmadden/2223-cs103/main](https://mybinder.org/v2/gh/niallmadden/2223-cs103/main)\n",
    "\n",
    "[![Binder](https://mybinder.org/badge_logo.svg)](https://mybinder.org/v2/gh/niallmadden/2223-cs103/main)\n",
    "\n"
   ]
  },
  {
   "cell_type": "markdown",
   "id": "c68a1ba4",
   "metadata": {},
   "source": [
    "\n",
    "<div class=\"alert alert-block alert-info\"><center> <b><font size=\"+2\">Assignment</font></b></center>\n",
    "\n",
    "* Write a Jupyter notebook that completes Tasks 1, 2, and 3 below. \n",
    "\n",
    "* You don't have to submit any work this week, but it is important to complete the tasks, so that you are prepared for the Lab 5 assignment.     \n",
    "    </div>"
   ]
  },
  {
   "cell_type": "markdown",
   "id": "d881608d",
   "metadata": {},
   "source": [
    "\n",
    "*Before you start*\n",
    "1. Review lecture notes from Weeks 5 and 6;\n",
    "2. Review Chapters 7 (Iteration) and 10 (Lists) of the textbook at [https://greenteapress.com/thinkpython2/html/index.html](https://greenteapress.com/thinkpython2/html/index.html), \n"
   ]
  },
  {
   "cell_type": "markdown",
   "id": "537685a3-ee6d-4ec9-a21c-e9dce52b2d0d",
   "metadata": {},
   "source": [
    "## Getting Started\n",
    "### Connect to a Jupyter Server\n",
    "\n",
    "Create a notebook on a Jupyer server:\n",
    "* If you have your own laptop with Jupyter installed, use that. \n",
    "* Or use our Jupyter server ay [https://jupyter.nuigalway.ie/](https://jupyter.nuigalway.ie/). If you encounter any problems (which is very likely on Wednesday), switch to one of the following services.\n",
    "\n",
    "* [https://jupyter.org/](https://jupyter.org/) server\n",
    "* or Google's [https://colab.research.google.com/](https://colab.research.google.com/)\n",
    "\n",
    "Which ever system you use, download the Jupyter Notebook (`ipynb`) file, at the end of your session, so that you can work on it another time.\n"
   ]
  },
  {
   "cell_type": "markdown",
   "id": "f8b7f5c4-cb3a-4266-88b1-1594e57c116f",
   "metadata": {},
   "source": [
    "###  TASK 1: Add a markdown cell with \"What/Who/Why/When\" information\n",
    "\n",
    "Start a new notebook for this lab, with a name like `CS103_Lab4.ipynb`. \n",
    "\n",
    "Convert the first cell to `markdown`, and add:\n",
    "* A title that describes **what** this notebook does. That line should start with the `#` symbol, followed by a space, followed by the text of the notebook's title.\n",
    "* A set of of bullet points with information on **who** wrote it. That includes \n",
    "    * your name\n",
    "    * ID number\n",
    "    * email address, \n",
    "    \n",
    "* A sentence on **why** you wrote this notebook.\n",
    "\n",
    "* Today's date. \n",
    "\n",
    "The markdown could look like this:\n",
    "\n",
    "***\n",
    "\n",
    "```markdown\n",
    "## CS103 Lab 4: A prime number sieve\n",
    "\n",
    "### Who\n",
    "* Name: Sean Student\n",
    "* ID: 22334455\n",
    "* Email: s.student4321@UniversityOfGalway.ie\n",
    "\n",
    "### Why\n",
    "I wrote this notebook to demonstrate that I can work with lists, and understand how to use a `while` loop for input checking.\n",
    "\n",
    "### When \n",
    "7th November, 2022.\n",
    "```"
   ]
  },
  {
   "cell_type": "markdown",
   "id": "9f8eab75",
   "metadata": {},
   "source": [
    "***\n",
    "\n",
    "##  Prime numbers\n",
    "\n",
    "### What is a prime number?\n",
    "A **prime number** is a natural number that has exactly 2 divisors. For example, \n",
    "* 3 is prime, since its only divisors are 1 and 3. \n",
    "* 9 is not prime, since it has 3 divisors: 1, 3 and 9\n",
    "* 1 is not prime, since it has just 1 divisor: 1. That means that 2 is the smallest prime.\n",
    "\n",
    "The first few prime numbers are 2, 3, 5, 7 and 11.\n",
    "\n",
    "\n"
   ]
  },
  {
   "cell_type": "markdown",
   "id": "1ef13b79",
   "metadata": {},
   "source": [
    "### Computing prime numbers\n",
    "There are many ways to compute prime numbers. If you want to create a list of them, there is an _algorithm_ called *The Sieve of Eratosthenes\" (or, often, \"The Prime Number Sieve\"). You can read about it on Wikipedia at [https://en.wikipedia.org/wiki/Sieve_of_Eratosthenes](https://en.wikipedia.org/wiki/Sieve_of_Eratosthenes)\n",
    "\n",
    "In the next task, you'll implement it. But first, what's an \"algorithm\"?\n"
   ]
  },
  {
   "cell_type": "markdown",
   "id": "31e5e276",
   "metadata": {},
   "source": [
    "### Algorithms\n",
    "An algorithm is a series of steps for solving a problem, or computing sometime. It is a recipe. To solve the problem, you follow the steps in the algorithm/recipe. The challenge in doing this is translating the description of each step into Python."
   ]
  },
  {
   "cell_type": "markdown",
   "id": "14e6bfda",
   "metadata": {},
   "source": [
    "### The Prime Number Sieve\n",
    "\n",
    "The _Prime Number Sieve_ computes all the prime numbers less than some given number, $n$.\n",
    "It works as follows.\n",
    "\n",
    "* Make a list of the natural numbers from 2 to $n$.\n",
    "* For each number, $i$,  in your list...\n",
    "    * For each number $m=2i, 3i, 4i, \\dots$, \n",
    "        * If $m$ is in the list, delete it\n",
    "        \n",
    "For example, if $n=30$, we start by making the list `[2,3,4,5,6,7,8,9,10,11,12,13,14,15,16,17,18,19,20,21, 22, 23, 24, 25, 26, 27, 28, 29,30]`. In Python, we can do this as follows."
   ]
  },
  {
   "cell_type": "code",
   "execution_count": 1,
   "id": "5d378729",
   "metadata": {},
   "outputs": [
    {
     "name": "stdout",
     "output_type": "stream",
     "text": [
      "numbers from 2 to 30: [2, 3, 4, 5, 6, 7, 8, 9, 10, 11, 12, 13, 14, 15, 16, 17, 18, 19, 20, 21, 22, 23, 24, 25, 26, 27, 28, 29, 30]\n"
     ]
    }
   ],
   "source": [
    "numbers = list(range(2,31))\n",
    "print(f\"numbers from 2 to 30: {numbers}\")"
   ]
  },
  {
   "cell_type": "markdown",
   "id": "8440f297",
   "metadata": {},
   "source": [
    "We then delete the multiples of 2 in the list, which are $2 \\times 2, 2 \\times 3, 2 \\times 4, \\dots 2 \\times 15$, That is $4,6, 8, ..., 30$. \n",
    "This leaves us with the list `[2, 3, 5, 7, 9, 11, 13, 15, 17, 19, 21, 23, 25, 27, 29]`. To do that in Python:"
   ]
  },
  {
   "cell_type": "code",
   "execution_count": 2,
   "id": "456ca7e8",
   "metadata": {},
   "outputs": [
    {
     "name": "stdout",
     "output_type": "stream",
     "text": [
      "After removing multiples of 2, we have: [2, 3, 5, 7, 9, 11, 13, 15, 17, 19, 21, 23, 25, 27, 29]\n"
     ]
    }
   ],
   "source": [
    "for i in range(2*2, 31, 2):\n",
    "    numbers.remove(i)\n",
    "print(f\"After removing multiples of 2, we have: {numbers}\")"
   ]
  },
  {
   "cell_type": "markdown",
   "id": "d33fe476",
   "metadata": {},
   "source": [
    "The next number is 3. Since it is not deleted, it is not a multiple of 2, so it is prime. \n",
    "Its multiples are 6, 9, 12, 15, 18, 21, 24, 27, and 30. When we _remove_ then ones not yet deleted, the list now is `[2, 3, 5, 7, 11, 13, 17, 19, 23, 25, 29]`."
   ]
  },
  {
   "cell_type": "code",
   "execution_count": 3,
   "id": "a8909439",
   "metadata": {},
   "outputs": [
    {
     "name": "stdout",
     "output_type": "stream",
     "text": [
      "After removing multiples of 3, we have: [2, 3, 5, 7, 11, 13, 17, 19, 23, 25, 29]\n"
     ]
    }
   ],
   "source": [
    "for i in range(3*2, 31, 3):\n",
    "    if (i in numbers):\n",
    "        numbers.remove(i)\n",
    "        \n",
    "print(f\"After removing multiples of 3, we have: {numbers}\")"
   ]
  },
  {
   "cell_type": "markdown",
   "id": "2243dc05",
   "metadata": {},
   "source": [
    "The `if` statement in the above loop is important: we've already removed the even multiples of 3 (6, 12, 18, ...). If we try to remove an item from the list that isn't there, we get an error.\n",
    "\n",
    "The next number is 5. Since it is not deleted, it is prime. Its multiples are 10, 15, 20, 25, and 30. When we _remove_ then ones not yet deleted, the list now is `[2, 3, 5, 7, 11, 13, 17, 19, 23, 29]`.\n",
    "\n",
    "(We can now stop, but we'll save the explanation of that for another times)."
   ]
  },
  {
   "cell_type": "markdown",
   "id": "8f8105d1",
   "metadata": {},
   "source": [
    "***"
   ]
  },
  {
   "cell_type": "markdown",
   "id": "599fa621",
   "metadata": {},
   "source": [
    "## Write some code that computes all prime numbers less than $n$"
   ]
  },
  {
   "cell_type": "markdown",
   "id": "23a27bcf",
   "metadata": {},
   "source": [
    "Now that we understand how the algorithm works, we want to get it to work for any $n$.\n",
    "\n",
    "### Choose some value of $n$\n",
    "Add some code that sets a variable $n$ to some integer value you choose. "
   ]
  },
  {
   "cell_type": "markdown",
   "id": "1bb96cb2",
   "metadata": {},
   "source": [
    "### Make a list of the numbers from 2 to $n$\n",
    "Adapt the code in \n",
    "```python \n",
    "numbers = list(range(2,31))\n",
    "``` \n",
    "to make a list of numbers `[2, 3, 4, ..., n]`."
   ]
  },
  {
   "cell_type": "markdown",
   "id": "9ed56a7e",
   "metadata": {},
   "source": [
    "### Iterate over the list to remove multiples.\n",
    "\n",
    "Use a `for` loop to iterate over the list.\n",
    "For each item in the list you should remove all multiples of that item. To do that, adapt the code in \n",
    "```\n",
    "for i in range(3*2, 31, 3):\n",
    "    if (i in numbers):\n",
    "        numbers.remove(i)\n",
    "```\n",
    "\n"
   ]
  },
  {
   "cell_type": "markdown",
   "id": "5e2d0b6c",
   "metadata": {},
   "source": [
    "### Test your code\n",
    "\n",
    "Make sure your code works for several different inputs. If it doesn't, or you need help starting, ask!"
   ]
  },
  {
   "cell_type": "markdown",
   "id": "18b6e206",
   "metadata": {},
   "source": [
    "### Task 2: Rewrite your code as a function\n",
    "\n",
    "Once you are happy that your code works, write a function:\n",
    "1. with a sensible name, such as list_all_primes()\n",
    "2. it takes $n$ as input\n",
    "3. uses the sieve algorithm to make a list of all primes less than or equal to $n$.\n",
    "4. returns that list"
   ]
  },
  {
   "cell_type": "markdown",
   "id": "16745211",
   "metadata": {},
   "source": [
    "## Input checking\n",
    "\n",
    "We want to adapt the code so that the user is prompted for an input value, $n$, and then your function computes all primes in the range 2 to $n$. We could do this as follows. Note that, since `input()` returns a string, we have to convert it to an `int`."
   ]
  },
  {
   "cell_type": "code",
   "execution_count": 4,
   "id": "1d33d007",
   "metadata": {},
   "outputs": [
    {
     "name": "stdout",
     "output_type": "stream",
     "text": [
      "Enter an integer greater than 1: 12\n"
     ]
    }
   ],
   "source": [
    "n = int(input(\"Enter an integer greater than 1: \"))"
   ]
  },
  {
   "cell_type": "markdown",
   "id": "cea8dc42",
   "metadata": {},
   "source": [
    "However, if the user enters a value of $n$ that is less than 2, your function won't work. So, we need to do some input checking.\n",
    " \n",
    "We've learned how to do that with a `while` loop. Here is how to do that.\n",
    "\n",
    "### Input checking with a `while` loop."
   ]
  },
  {
   "cell_type": "code",
   "execution_count": 5,
   "id": "166fa92c",
   "metadata": {},
   "outputs": [
    {
     "name": "stdout",
     "output_type": "stream",
     "text": [
      "Enter an integer greater than 1: 30\n"
     ]
    }
   ],
   "source": [
    "n = int(input(\"Enter an integer greater than 1: \"))\n",
    "while ( n < 2):\n",
    "    print(f\"You entered n={n}. Please enter a number greater than 1\")\n",
    "    n = int(input(\"Enter an integer greater than 1: \"))"
   ]
  },
  {
   "cell_type": "markdown",
   "id": "10731488",
   "metadata": {},
   "source": [
    "### TASK 3: Write a function to do this input checking\n",
    "\n",
    "Write a function called, (for example), `input_int()` which as based on the code above.\n",
    "\n",
    "* It should take as its argument the message to be displayed by  the `input` function.\n",
    "* It should prompt the user with that message, and store the result in a variable `n`.\n",
    "* If the user enters a number less than $2$, a while loop is used to get prompt them again.\n",
    "* If after 4 attempts, they have yet to give a sensible input, given up and set $n=30$. (See example on inputing an email address from Week 5)\n",
    "* Return the value of $n$. \n",
    "\n"
   ]
  },
  {
   "cell_type": "markdown",
   "id": "b2a105d6",
   "metadata": {},
   "source": [
    "## Wrap up\n",
    "\n",
    "You don't have to submit your code this week. We will develop it further. \n",
    "Also, in lectures this week, we'll see how to do some more advanced input checking, to deal with the case where the use enters a value that cannot be converted from a `str`ing to an `int`.\n"
   ]
  }
 ],
 "metadata": {
  "kernelspec": {
   "display_name": "Python 3 (ipykernel)",
   "language": "python",
   "name": "python3"
  },
  "language_info": {
   "codemirror_mode": {
    "name": "ipython",
    "version": 3
   },
   "file_extension": ".py",
   "mimetype": "text/x-python",
   "name": "python",
   "nbconvert_exporter": "python",
   "pygments_lexer": "ipython3",
   "version": "3.9.13"
  },
  "toc": {
   "base_numbering": 1,
   "nav_menu": {},
   "number_sections": true,
   "sideBar": true,
   "skip_h1_title": true,
   "title_cell": "Table of Contents",
   "title_sidebar": "Contents",
   "toc_cell": false,
   "toc_position": {
    "height": "calc(100% - 180px)",
    "left": "10px",
    "top": "150px",
    "width": "246.387px"
   },
   "toc_section_display": true,
   "toc_window_display": true
  },
  "varInspector": {
   "cols": {
    "lenName": 16,
    "lenType": 16,
    "lenVar": 40
   },
   "kernels_config": {
    "python": {
     "delete_cmd_postfix": "",
     "delete_cmd_prefix": "del ",
     "library": "var_list.py",
     "varRefreshCmd": "print(var_dic_list())"
    },
    "r": {
     "delete_cmd_postfix": ") ",
     "delete_cmd_prefix": "rm(",
     "library": "var_list.r",
     "varRefreshCmd": "cat(var_dic_list()) "
    }
   },
   "types_to_exclude": [
    "module",
    "function",
    "builtin_function_or_method",
    "instance",
    "_Feature"
   ],
   "window_display": false
  }
 },
 "nbformat": 4,
 "nbformat_minor": 5
}
