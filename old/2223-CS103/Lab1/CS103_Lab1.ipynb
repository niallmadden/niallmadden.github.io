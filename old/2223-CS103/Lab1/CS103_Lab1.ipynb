{
 "cells": [
  {
   "cell_type": "markdown",
   "id": "b906731c-c71d-42cf-926d-9b44d0793cc4",
   "metadata": {},
   "source": [
    "# CS103 Lab 1: Getting started with Jupyter and Python <span style='color:red'>(V03)</span>\n",
    "\n",
    "Dr [Niall Madden](mailto:Niall.Madden@UniversityOfGalway.ie)<br>\n",
    "School of Mathematical and Statistical Sciences<br>\n",
    "University of Galway\n",
    "\n",
    "---\n",
    "\n",
    "This is Lab 1 of CS102/CS103. Our goal is to gain some familiarity with Python, and the Jupyter Notebook interface.\n",
    "\n",
    "You can access the notebook at [https://niallmadden.ie/2223-CS103/Lab1/CS103_Lab1.ipynb](https://niallmadden.ie/2223-CS103/Lab1/CS103_Lab1.ipynb)\n"
   ]
  },
  {
   "cell_type": "markdown",
   "id": "537685a3-ee6d-4ec9-a21c-e9dce52b2d0d",
   "metadata": {},
   "source": [
    "## Task 1: Connect to the server\n",
    "\n",
    "We will use Jupyter for programming in Python (See Week 3 notes for more details). You can access it at:\n",
    "* Our own server at [https://jupyter.nuigalway.ie/](https://jupyter.nuigalway.ie/). To login use your ID number as your username. Enter any password, but **remember it**: it is not the same as the password for other systems in the University of Galway. If you can't log-in, send an email to [Niall.Madden@UniversityOfGalway.ie](mailto:Niall.Madden@UniversityOfGalway.ie)<br> with your ID number as the subject line.\n",
    "* Or, the classic [https://jupyter.org/](https://jupyter.org/) server\n",
    "* Or try Google's [https://colab.research.google.com/](https://colab.research.google.com/)\n"
   ]
  },
  {
   "cell_type": "markdown",
   "id": "f8b7f5c4-cb3a-4266-88b1-1594e57c116f",
   "metadata": {},
   "source": [
    "## Task 2: Start a Jupyter Notebook\n",
    "\n",
    "Once logged in, click on \"Python (ipykernel)\" under Noteook.\n",
    "It launches a notebook with a \"cell\" where you can type Python code.\n",
    "\n",
    "Your first lines should be:"
   ]
  },
  {
   "cell_type": "code",
   "execution_count": 3,
   "id": "09a88561-3ea3-4654-9cda-0beeddf0c7f0",
   "metadata": {},
   "outputs": [
    {
     "name": "stdout",
     "output_type": "stream",
     "text": [
      "My name is Tim the Enchanter  and my ID number is  12345678\n"
     ]
    }
   ],
   "source": [
    "ID = 12345678 # Give  your ID number here\n",
    "Name = \"Tim the Enchanter\" # Your name here\n",
    "\n",
    "print(\"My name is\", Name, \" and my ID number is \", ID)"
   ]
  },
  {
   "cell_type": "markdown",
   "id": "82d8d2f3-70b0-4e31-b8e7-f652d6717262",
   "metadata": {},
   "source": [
    "---\n",
    "\n",
    "You can run the code, with by either tapping `shift-return`, of clicking on the \"run\" icon."
   ]
  },
  {
   "cell_type": "markdown",
   "id": "88f4dd4f-db26-4001-b247-f4b274073c16",
   "metadata": {
    "tags": []
   },
   "source": [
    "## Task 3: Add some Markdown\n",
    "\n",
    "Jupyter notebooks allow us to combine Python code with text. (This document, and all the lecture notes, are written as Jupyter Notebooks).\n",
    "\n",
    "The cell where you defined the `ID` and `Name` variables are called **code cells**. The main alterative is a **markdown** cell, where you can enter text. \n",
    "\n",
    "Select a cell, and change its type to `Markdown` (using the menu at the top of the screen).\n",
    "\n",
    "Add some text giving your name, ID, email address, and favourite Monty Python sketch. Try formatting some of the text. To see how to do this, click \"Help ... Markdown refereence\".\n",
    "\n",
    "When you are done, run the cell to see the formatted version.\n"
   ]
  },
  {
   "cell_type": "markdown",
   "id": "1bebe14e-d9c4-45d9-88d4-4e97f09d1d69",
   "metadata": {},
   "source": [
    "## Task 4: Access the textbook\n",
    "\n",
    "The main textbook for this module is:\n",
    "> Think Python: How to Think Like a Computer Scientist\n",
    "> Allen B. Downey\n",
    "> 2nd Edition, Version 2.4.0\n",
    "\n",
    "You can access it for free at https://greenteapress.com/thinkpython2/html/index.html\n",
    "\n",
    "In your own time, read Chapters 1 and 2. First, though, \n",
    "skip to the end of Chapter 1 (*The way of the program*) and do *Exercise 1.2*. You can see them at:\n",
    "https://greenteapress.com/thinkpython2/html/thinkpython2002.html#sec14\n"
   ]
  },
  {
   "cell_type": "markdown",
   "id": "565edbcd-4230-4c39-9b66-84e548fd0531",
   "metadata": {},
   "source": [
    "## Task 5: Exercises from Chapter 2\n",
    "Skip to the end of Chapter 2 (*Variables, expressions and statements*) of the textbook, and do the exercises.\n",
    "In particular, do Exercise 2.2, which I reproduce here:\n",
    "\n",
    "---\n",
    "\n",
    "### Exercise 2.2  \n",
    "Practice using the Python interpreter as a calculator:\n",
    "\n",
    "1. The volume of a sphere with radius $r$ is $4/3 \\pi r^3$. What is the volume of a sphere with radius 5?\n",
    "2. Suppose the cover price of a book is $\\$24.95$, but bookstores get a 40\\% discount. Shipping costs $\\$3$ for the first copy and 75 cents for each additional copy. What is the total wholesale cost for 60 copies?\n",
    "\n",
    "3. If I leave my house at 6:52 am and run 1 mile at an easy pace (8:15 per mile), then 3 miles at tempo (7:12 per mile) and 1 mile at easy pace again, what time do I get home for breakfast?\n",
    "\n",
    "Tips: \n",
    "* For Part 1, you may want to import the `math` module. Then the variable `math.pi` will have a good aproximation of $\\pi$.\n",
    "* You may want to use the `print()` function to output your answers.\n",
    "* For Exer 3, it may be useful to use \n",
    "    * convert times per mile to seconds\n",
    "    * calculate the total number of seconds for the run\n",
    "    * use Modulus operator, %, and floor operator, \\\\\\\\, to work out how many minutes + seconds that corresponds to.\n"
   ]
  },
  {
   "cell_type": "markdown",
   "id": "84654980-659f-4c85-a22f-e737f568fe3f",
   "metadata": {},
   "source": [
    "## Task 6: Upload your notebook to Blackboard.\n",
    "\n",
    "Save your notebook with some sensible name, such as `CS103_lab1.ipbnb`, and download it to the computer you are using. \n",
    "\n",
    "Next upload it to https://nuigalway.blackboard.com/. \n",
    "* 2223-CS102 or 2223-CS103 as appropriate ...\n",
    "* Labs...\n",
    "* (if doing CS103) Semester 1 Labs..\n",
    "* Lab 1\n",
    "and upload your Python file. \n",
    "Make sure you include your name and ID number in the file (as in Task 2) and your answer to Exercise 2 in Task 5."
   ]
  }
 ],
 "metadata": {
  "kernelspec": {
   "display_name": "Python 3 (ipykernel)",
   "language": "python",
   "name": "python3"
  },
  "language_info": {
   "codemirror_mode": {
    "name": "ipython",
    "version": 3
   },
   "file_extension": ".py",
   "mimetype": "text/x-python",
   "name": "python",
   "nbconvert_exporter": "python",
   "pygments_lexer": "ipython3",
   "version": "3.9.13"
  },
  "toc": {
   "base_numbering": 1,
   "nav_menu": {},
   "number_sections": true,
   "sideBar": true,
   "skip_h1_title": true,
   "title_cell": "Table of Contents",
   "title_sidebar": "Contents",
   "toc_cell": false,
   "toc_position": {},
   "toc_section_display": true,
   "toc_window_display": true
  },
  "varInspector": {
   "cols": {
    "lenName": 16,
    "lenType": 16,
    "lenVar": 40
   },
   "kernels_config": {
    "python": {
     "delete_cmd_postfix": "",
     "delete_cmd_prefix": "del ",
     "library": "var_list.py",
     "varRefreshCmd": "print(var_dic_list())"
    },
    "r": {
     "delete_cmd_postfix": ") ",
     "delete_cmd_prefix": "rm(",
     "library": "var_list.r",
     "varRefreshCmd": "cat(var_dic_list()) "
    }
   },
   "types_to_exclude": [
    "module",
    "function",
    "builtin_function_or_method",
    "instance",
    "_Feature"
   ],
   "window_display": false
  }
 },
 "nbformat": 4,
 "nbformat_minor": 5
}
