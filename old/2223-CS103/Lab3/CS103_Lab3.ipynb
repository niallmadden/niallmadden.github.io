{
 "cells": [
  {
   "cell_type": "markdown",
   "id": "b906731c-c71d-42cf-926d-9b44d0793cc4",
   "metadata": {},
   "source": [
    "# CS102/CS103 Lab 3: Strings and Functions (Part 2) <span style='color:green'>(V1.1)</span>\n",
    "24, 25 and 26 October, 2022\n",
    "\n",
    "Dr [Niall Madden](mailto:Niall.Madden@UniversityOfGalway.ie)<br>\n",
    "School of Mathematical and Statistical Sciences<br>\n",
    "University of Galway\n",
    "\n",
    "---\n",
    "\n",
    "This is **Lab 3** of CS102/CS103. The goal is to develop skills in working with\n",
    "* strings\n",
    "* functions\n",
    "* `if`-statements\n",
    "in Python, building on your work in Lab 2\n",
    "\n",
    "\n",
    "You can access this notebook on BINDER: [https://mybinder.org/v2/gh/niallmadden/2223-cs103/main](https://mybinder.org/v2/gh/niallmadden/2223-cs103/main)\n",
    "\n",
    "[![Binder](https://mybinder.org/badge_logo.svg)](https://mybinder.org/v2/gh/niallmadden/2223-cs103/main)\n"
   ]
  },
  {
   "cell_type": "markdown",
   "id": "c68a1ba4",
   "metadata": {},
   "source": [
    "\n",
    "<div class=\"alert alert-block alert-info\"><center> <b><font size=\"+2\">Assignment</font></b></center>\n",
    "\n",
    "* Write a Jupyter notebook that completes Tasks 1, 2, and 3 below. \n",
    "\n",
    "* Submit your work by uploading the `.ipynb` file to Blackboard... Lab 3\n",
    "    \n",
    "* **Collaboration policy**: it is acceptable to collaborate with one or two classmates. If you do that\n",
    "    * Each member of the team must still upload their own copy of the 'ipynb' file\n",
    "    * You should list your collaborators (see Section 1.2).\n",
    "\n",
    "* Deadline: 5pm, Friday 28 October.\n",
    "  \n",
    "    </div>"
   ]
  },
  {
   "cell_type": "markdown",
   "id": "d881608d",
   "metadata": {},
   "source": [
    "\n",
    "*Before you start*\n",
    "1. Review lecture notes from Weeks 3 and 4;\n",
    "2. Review Chapters 3 (Functions) and 5 (Conditionals and Recursion) of the textbook at [https://greenteapress.com/thinkpython2/html/index.html](https://greenteapress.com/thinkpython2/html/index.html), \n"
   ]
  },
  {
   "cell_type": "markdown",
   "id": "537685a3-ee6d-4ec9-a21c-e9dce52b2d0d",
   "metadata": {},
   "source": [
    "## Getting Started\n",
    "### Connect to a Jupyter Server\n",
    "\n",
    "As usual, we'll use Jupyter for programming. Try one of the following:\n",
    "* If you have your own laptop with Jupyter installed, use that. \n",
    "* Or use our Jupyter server ay [https://jupyter.nuigalway.ie/](https://jupyter.nuigalway.ie/). If you encounter any problems (which is very likely on Wednesday), switch to one of the following services.\n",
    "\n",
    "* [https://jupyter.org/](https://jupyter.org/) server\n",
    "* or Google's [https://colab.research.google.com/](https://colab.research.google.com/)\n",
    "\n",
    "Which ever system you use, download the Jupyter Notebook (`ipynb`) file, at the end of your session, so that you can work on it another time.\n"
   ]
  },
  {
   "cell_type": "markdown",
   "id": "f8b7f5c4-cb3a-4266-88b1-1594e57c116f",
   "metadata": {},
   "source": [
    "###  TASK 1: Create Jupyter Notebook for Lab 3\n",
    "\n",
    "Start a new notebook for this lab. Give it a sensible name, such as `CS102_Lab3.ipynb`. \n",
    "\n",
    "Convert the first cell to `markdown`, and add:\n",
    "* A title for the notebook. That line should start with the `#` symbol, followed by a space, followed by the text of the notebook's title.\n",
    "* A set of bullet points listing \n",
    "    * your name\n",
    "    * ID number\n",
    "    * email address, \n",
    "    * programme (e.g., `1BS1`, `1PHO1`, `1BMS1`, `1FM1`, etc), \n",
    "    * submission date\n",
    "    * who (if anyone) you collaborated with, and their email addresses/\n",
    "\n",
    "The markdown could look like this:\n",
    "\n",
    "***\n",
    "\n",
    "```markdown\n",
    "## CS103 Lab 3: Validating DNA strands\n",
    "\n",
    "* Name: Niall Madden\n",
    "* ID: 12345678\n",
    "* Email: Niall.Madden@UniversityOfGalway.ie\n",
    "* Progamme: 1ABC1\n",
    "* Date: 25 Oct 2022.\n",
    "* Worked with: Ada King (Lovelace@UniversityOfGalway.ie)\n",
    "```\n"
   ]
  },
  {
   "cell_type": "markdown",
   "id": "84654980-659f-4c85-a22f-e737f568fe3f",
   "metadata": {},
   "source": [
    "## Checking if a DNA string is \"valid\"\n",
    "A strand of DNA can be represented as a string made up of the letters `A`, `C`, `G` and `T`. In Lab 2, you wrote a function that reported the _proportion_ of letters in a strand that are `A`.  It used the `count()` method for strings. \n",
    "\n",
    "Here is an example that shows that method working, while also using the `f-strings` we learned about in Week 3."
   ]
  },
  {
   "cell_type": "code",
   "execution_count": 1,
   "id": "a9fa3bdc",
   "metadata": {},
   "outputs": [
    {
     "name": "stdout",
     "output_type": "stream",
     "text": [
      "AACGTAA has 4 A's\n"
     ]
    }
   ],
   "source": [
    "dna_str = 'AACGTAA'\n",
    "print(f\"{dna_str} has {dna_str.count('A')} A's\")"
   ]
  },
  {
   "cell_type": "markdown",
   "id": "9f8eab75",
   "metadata": {},
   "source": [
    "### A function that validates DNA\n",
    "Suppose we want to check if a string represents a valid DNA strand. We could do this by counting  number of `A`s `C`s, `G`s and `T`s sums to the length of the string, which is calculated using the `len()` function.\n",
    "\n",
    "The following function does this."
   ]
  },
  {
   "cell_type": "code",
   "execution_count": 2,
   "id": "47f0a2dc",
   "metadata": {},
   "outputs": [],
   "source": [
    "def check_dna(dna_string):\n",
    "    count_ACGTs = dna_string.count('A') + dna_string.count('C') \\\n",
    "    + dna_string.count('G')+dna_string.count('T')\n",
    "    if (count_ACGTs == len(dna_string)):\n",
    "        print(f\"{dna_string} is a valid DNA strand\")\n",
    "    else:\n",
    "        print(f\"{dna_string} is NOT a valid DNA strand\")"
   ]
  },
  {
   "cell_type": "markdown",
   "id": "1d44480d",
   "metadata": {},
   "source": [
    "Let's verify that it works."
   ]
  },
  {
   "cell_type": "code",
   "execution_count": 3,
   "id": "d917f982",
   "metadata": {},
   "outputs": [
    {
     "name": "stdout",
     "output_type": "stream",
     "text": [
      "AGACT is a valid DNA strand\n",
      "AGaCt is NOT a valid DNA strand\n",
      "AGWAN is NOT a valid DNA strand\n"
     ]
    }
   ],
   "source": [
    "check_dna(\"AGACT\")\n",
    "check_dna(\"AGaCt\")\n",
    "check_dna(\"AGWAN\")"
   ]
  },
  {
   "cell_type": "markdown",
   "id": "bd2e2228",
   "metadata": {},
   "source": [
    "### TASK 2: `is_valid_dna()`\n",
    "Write a function called `is_valid_dna()` that works like `check_dna` but returns `True`\n",
    "or `False`.\n",
    "That is, it should\n",
    "* take a string as its argument\n",
    "* if `count_ACGTs == len(dna_string)` it should return `True`,\n",
    "* otherwise it should return `False`\n"
   ]
  },
  {
   "cell_type": "markdown",
   "id": "16745211",
   "metadata": {},
   "source": [
    "## Mutating DNA\n",
    "\n",
    "### What is a mutation\n",
    "\n",
    "A DNA _mutation_ involves changing one or more letters in a DNA sequence. For example, single letter mutations of 'AGACT' include \n",
    "* `CGACT` (changed first letter)\n",
    "* `AAACG` (changed second letter)\n",
    "* `AGACG` (changed last letter)\n",
    "\n",
    "But not\n",
    "\n",
    "* `AGACT` (nothing changed)\n",
    "* `GAACG` (two letters changed)\n",
    "* `cGACG` (not valid sequence)\n"
   ]
  },
  {
   "cell_type": "markdown",
   "id": "52d16708",
   "metadata": {},
   "source": [
    "### Making mutations\n",
    "We will write a function that takes a DNA string as an argument, and returns a mutation of that DNA string.\n",
    "\n",
    "In Week 3, we did an example of generating a random DNA sequence. This involved using the `randint()` function in the `random` module to pick a letter from the string \"ACGT\".\n",
    "For example, here is a random letter:"
   ]
  },
  {
   "cell_type": "code",
   "execution_count": 4,
   "id": "38f32860",
   "metadata": {},
   "outputs": [
    {
     "name": "stdout",
     "output_type": "stream",
     "text": [
      "pick=1, random letter = C\n"
     ]
    }
   ],
   "source": [
    "import random\n",
    "bases = \"ACGT\"\n",
    "pick = random.randint(0,3)\n",
    "print(f\"pick={pick}, random letter = {bases[pick]}\")"
   ]
  },
  {
   "cell_type": "markdown",
   "id": "601a8cb2",
   "metadata": {},
   "source": [
    "This works because\n",
    "* `random.randint(0,3)` returns a whole number between 0 and 3 (inclusive)\n",
    "* this is then used to index the string `basis`\n"
   ]
  },
  {
   "cell_type": "markdown",
   "id": "08b5a92e",
   "metadata": {},
   "source": [
    "### Choosing a letter to mutate\n",
    "If we have a DNA string, we can choose, at random, which letter to mutate:"
   ]
  },
  {
   "cell_type": "code",
   "execution_count": 5,
   "id": "cd7fe004",
   "metadata": {},
   "outputs": [
    {
     "name": "stdout",
     "output_type": "stream",
     "text": [
      "We picked the letter in position 1, which is C\n"
     ]
    }
   ],
   "source": [
    "dna_str = \"ACGTTGCA\"\n",
    "i = random.randint(0,len(dna_str)-1)\n",
    "print(f\"We picked the letter in position {i}, which is {dna_str[i]}\")"
   ]
  },
  {
   "cell_type": "markdown",
   "id": "db767f72",
   "metadata": {},
   "source": [
    "To create a new string, with that letter changed, we can use \"slicing\". In the following example, we'll just change the chosen letter to `X` for now.\n",
    "\n",
    "To understand how it works, we need to recall how to do slicing. "
   ]
  },
  {
   "cell_type": "code",
   "execution_count": 6,
   "id": "5d1626d3",
   "metadata": {},
   "outputs": [
    {
     "name": "stdout",
     "output_type": "stream",
     "text": [
      "a\n",
      "d\n",
      "cde\n",
      "abcde\n",
      "fgh\n"
     ]
    }
   ],
   "source": [
    "str = \"abcdefgh\" # a string with 8 characters\n",
    "print(str[0])    # The 1st character in the string\n",
    "print(str[3])    # The 4th character in the string\n",
    "print(str[2:5])  # The 3rd+4th+5th characters in the string\n",
    "print(str[:5])   # The characters from 1st to 5th\n",
    "print(str[5:])   # The 6th to the end"
   ]
  },
  {
   "cell_type": "markdown",
   "id": "1d59cf2d",
   "metadata": {},
   "source": [
    "So we can change the $i^\\mathrm{th}$ letter to 'X' as follows"
   ]
  },
  {
   "cell_type": "code",
   "execution_count": 7,
   "id": "07111615",
   "metadata": {},
   "outputs": [
    {
     "name": "stdout",
     "output_type": "stream",
     "text": [
      "New version of ACGTTGCA is AxGTTGCA\n"
     ]
    }
   ],
   "source": [
    "dna_new = dna_str[:i]+\"x\"+dna_str[i+1:]\n",
    "print(f\"New version of {dna_str} is {dna_new}\")"
   ]
  },
  {
   "cell_type": "markdown",
   "id": "d75d6351",
   "metadata": {},
   "source": [
    "### Transitions in genetics\n",
    "In genetics, a _transition_ is a type of mutation where\n",
    "* `A` is replaced with `G` or _vice versa_\n",
    "* `C` is replaced with `T` or _vice versa_\n",
    "\n",
    "For example, we could swap an `A` for a `G` with these lines:"
   ]
  },
  {
   "cell_type": "code",
   "execution_count": 8,
   "id": "710db6e6",
   "metadata": {},
   "outputs": [
    {
     "name": "stdout",
     "output_type": "stream",
     "text": [
      "New version of AGGA is GGGA\n"
     ]
    }
   ],
   "source": [
    "dna_str = \"AGGA\"\n",
    "i = random.randint(0,len(dna_str)-1)\n",
    "if (dna_str[i] == 'A'):\n",
    "    new = 'G'\n",
    "else:\n",
    "    new = 'A'\n",
    "\n",
    "dna_new = dna_str[:i]+new+dna_str[i+1:]\n",
    "print(f\"New version of {dna_str} is {dna_new}\")"
   ]
  },
  {
   "cell_type": "markdown",
   "id": "10731488",
   "metadata": {},
   "source": [
    "### TASK 3: `transition_mutation()`\n",
    "Write a **function** called `transition_mutation()` that takes as its argument as string, and works as follows:\n",
    "1. It should use the `is_valid_dna()` function to verify that the string represents a valid DNA string. If not, it should `print` a suitable error message, and return `None`.\n",
    "2. Otherwise, randomly select which entry in the string to translate.\n",
    "3. Make a new string that is the old string, but with the chosen one _translated_. That is `A` becomes `G`, `C` becomes `T`, `G` becomes `A`, and `T` becomes `C`.\n",
    "4. Return the new string."
   ]
  },
  {
   "cell_type": "markdown",
   "id": "b2a105d6",
   "metadata": {},
   "source": [
    "## Assignment\n",
    "\n",
    "Write a Jupyter Notebook that works as follows:\n",
    "\n",
    "1. It starts with a `markdown` cell with your name, ID, etc, as in Task 1.\n",
    "\n",
    "2. Next it has code that defines the `is_valid_dna()` function as in Task 2.\n",
    "\n",
    "3. That is followed by code for the `transition_mutation()` function as in Task 3.\n",
    "\n",
    "4. Next write a cell that tests your functions as follows:\n",
    "    1. It uses the `input()` function (see Week 3). It should prompt the user to enter a DNA string. \n",
    "    2. A new string is made by calling `transition_mutation()`.\n",
    "    3. Use `print()` to ourput the original and mutated strings, using an `f-string`.\n"
   ]
  }
 ],
 "metadata": {
  "kernelspec": {
   "display_name": "Python 3 (ipykernel)",
   "language": "python",
   "name": "python3"
  },
  "language_info": {
   "codemirror_mode": {
    "name": "ipython",
    "version": 3
   },
   "file_extension": ".py",
   "mimetype": "text/x-python",
   "name": "python",
   "nbconvert_exporter": "python",
   "pygments_lexer": "ipython3",
   "version": "3.9.13"
  },
  "toc": {
   "base_numbering": 1,
   "nav_menu": {},
   "number_sections": true,
   "sideBar": true,
   "skip_h1_title": true,
   "title_cell": "Table of Contents",
   "title_sidebar": "Contents",
   "toc_cell": false,
   "toc_position": {
    "height": "calc(100% - 180px)",
    "left": "10px",
    "top": "150px",
    "width": "246.387px"
   },
   "toc_section_display": true,
   "toc_window_display": true
  },
  "varInspector": {
   "cols": {
    "lenName": 16,
    "lenType": 16,
    "lenVar": 40
   },
   "kernels_config": {
    "python": {
     "delete_cmd_postfix": "",
     "delete_cmd_prefix": "del ",
     "library": "var_list.py",
     "varRefreshCmd": "print(var_dic_list())"
    },
    "r": {
     "delete_cmd_postfix": ") ",
     "delete_cmd_prefix": "rm(",
     "library": "var_list.r",
     "varRefreshCmd": "cat(var_dic_list()) "
    }
   },
   "types_to_exclude": [
    "module",
    "function",
    "builtin_function_or_method",
    "instance",
    "_Feature"
   ],
   "window_display": false
  }
 },
 "nbformat": 4,
 "nbformat_minor": 5
}
