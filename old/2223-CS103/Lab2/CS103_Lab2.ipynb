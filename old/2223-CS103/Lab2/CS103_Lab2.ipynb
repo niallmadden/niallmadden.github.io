{
 "cells": [
  {
   "cell_type": "markdown",
   "id": "b906731c-c71d-42cf-926d-9b44d0793cc4",
   "metadata": {},
   "source": [
    "# CS102/CS103 Lab 2: Strings and Functions (Part 1) <span style='color:red'>(V1.0)</span>\n",
    "17-19 October, 2022\n",
    "\n",
    "Dr [Niall Madden](mailto:Niall.Madden@UniversityOfGalway.ie)<br>\n",
    "School of Mathematical and Statistical Sciences<br>\n",
    "University of Galway\n",
    "\n",
    "---\n",
    "\n",
    "This is Lab 2 of CS102/CS103. The goal is to develop skills in working with strings in Python, and in writing functions.  You don't have to submit anything this week: we will build on your work next week, in Lab 3, which will be submitted for grading.\n",
    "\n",
    "You can access this notebook on BINDER: [https://mybinder.org/v2/gh/niallmadden/2223-cs103/main](https://mybinder.org/v2/gh/niallmadden/2223-cs103/main)\n",
    "\n",
    "[![Binder](https://mybinder.org/badge_logo.svg)](https://mybinder.org/v2/gh/niallmadden/2223-cs103/main)\n"
   ]
  },
  {
   "cell_type": "markdown",
   "id": "781586f7",
   "metadata": {},
   "source": [
    "\n",
    "*Before you start*\n",
    "1. Check that you submitted your work from Lab 1, and got a grade. If not, submit it now.\n",
    "2. Review lecture notes from Weeks 2 and 3;\n",
    "2. Review Chapter 2 of the textbook at [https://greenteapress.com/thinkpython2/html/index.html](https://greenteapress.com/thinkpython2/html/index.html), especially, Section 2.6 (String Operations). If possible, peek ahead to Chapter 8 (Strings).\n",
    "4. Review Chapter 3 (Functions) of the textbook at [https://greenteapress.com/thinkpython2/html/index.html](https://greenteapress.com/thinkpython2/html/index.html)."
   ]
  },
  {
   "cell_type": "markdown",
   "id": "537685a3-ee6d-4ec9-a21c-e9dce52b2d0d",
   "metadata": {},
   "source": [
    "## Getting Started\n",
    "### Connect to the server\n",
    "\n",
    "Like last week, we will use Jupyter for programming in Python (See Week 3 notes for more details). You can access it on our own server at [https://jupyter.nuigalway.ie/](https://jupyter.nuigalway.ie/). If you can't log-in, talk to one of the tutors in the lab. Failing that, send an email to [Niall.Madden@UniversityOfGalway.ie](mailto:Niall.Madden@UniversityOfGalway.ie)<br> with your ID number as the subject line.\n",
    "\n",
    "You can also, create a notebook on \n",
    "* [https://jupyter.org/](https://jupyter.org/) server\n",
    "* or Google's [https://colab.research.google.com/](https://colab.research.google.com/)\n",
    "\n",
    "Which ever system you use, download the Jupyter Notebook (`ipynb`) file, at the end of your session, so that you can work on it another time.\n"
   ]
  },
  {
   "cell_type": "markdown",
   "id": "f8b7f5c4-cb3a-4266-88b1-1594e57c116f",
   "metadata": {},
   "source": [
    "###  Create Jupyter Notebook for Lab 2\n",
    "\n",
    "Start a new notebook for this lab. Immediately, rename it to something sensible, such as `CS102_Lab2.ipynb`. \n",
    "\n",
    "Convert the first cell to `markdown`, and add:\n",
    "* A title for the notebook. That line should start with the `#` symbol, followed by a space, followed by the text of the notebook's title.\n",
    "* Your name, ID number, email address, programme (e.g., `1BS1`, `1PHO1`, `1BMS1`, `1FM1`, etc), and today's date. Each one of these should be a seperate bullet point.\n",
    "\n",
    "The markdown could look like this:\n",
    "\n",
    "***\n",
    "\n",
    "```markdown\n",
    "## CS102 Lab 2: Strings and Things\n",
    "\n",
    "* Name: Niall Madden\n",
    "* ID: 12345678\n",
    "* Email: Niall.Madden@UniversityOfGalway.ie\n",
    "* Progamme: 1ABC1\n",
    "* Date: 17 Oct 2022.\n",
    "```\n"
   ]
  },
  {
   "cell_type": "markdown",
   "id": "1bebe14e-d9c4-45d9-88d4-4e97f09d1d69",
   "metadata": {},
   "source": [
    "## Strings \n",
    "### Length of a string\n",
    "\n",
    "Let's start by creating a string, and assigning it to a variable."
   ]
  },
  {
   "cell_type": "code",
   "execution_count": 10,
   "id": "426a0cc8",
   "metadata": {},
   "outputs": [
    {
     "name": "stdout",
     "output_type": "stream",
     "text": [
      "University of Galway\n"
     ]
    }
   ],
   "source": [
    "uni_name = \"University of Galway\"\n",
    "print(uni_name)"
   ]
  },
  {
   "cell_type": "markdown",
   "id": "db56c485",
   "metadata": {},
   "source": [
    "Let's check the length of the string, using the `len()` function. It is a special function that we'll use with lots of other Python constructs, such as lists, tuples, and dictionaries."
   ]
  },
  {
   "cell_type": "code",
   "execution_count": 11,
   "id": "07b58994",
   "metadata": {},
   "outputs": [
    {
     "name": "stdout",
     "output_type": "stream",
     "text": [
      "The string University of Galway has 20 characters\n"
     ]
    }
   ],
   "source": [
    "print(\"The string\", uni_name, \"has\", len(uni_name), \"characters\")"
   ]
  },
  {
   "cell_type": "markdown",
   "id": "702c9f68",
   "metadata": {},
   "source": [
    "### String methods\n",
    "Python comes equipped with numerous functions for working with strings. These have the `DOT` format, similar to what we saw when we used the `math` module. \n",
    "* `uni_name.count(c)` returns the number of occurrences of the string `c` in `University of Galway`. For example, `uni_name.count('a')` should return `2`, while `uni_name.count('b')` should return zero.\n",
    "* `uni_name.find(c)` finds the first occurrence of the string `c` in `University of Galway`. For example, `uni_name.find('G')` should return `15`, since `G` is the 15th character in the string. \n",
    "\n",
    "Here are some more. You should try them out to work out what they do.\n",
    "\n",
    "* `capitalize()`\n",
    "* `upper()` and `lower()`\n",
    "* `isupper()` and `islower()` (Note that these return `True` or `False`)\n",
    "* `replace()`. Try, for example, `uni_name.replace('a', 'A')` or `uni_name.replace('Galway', 'Limerick')`\n"
   ]
  },
  {
   "cell_type": "markdown",
   "id": "a689382e",
   "metadata": {},
   "source": [
    "## Writing functions\n",
    "Review the notes from Thursday of Week 3, and try some of the examples we did of writing functions.\n",
    "\n",
    "For example, \n",
    "```python\n",
    "def say_hello_to(name):\n",
    "    print(\"Why, hello there\", name, \"!\")\n",
    "```"
   ]
  },
  {
   "cell_type": "markdown",
   "id": "a036cef5",
   "metadata": {},
   "source": [
    "Make sure you understand how this function is defined, and how to call it. If not, ask!"
   ]
  },
  {
   "cell_type": "markdown",
   "id": "84654980-659f-4c85-a22f-e737f568fe3f",
   "metadata": {},
   "source": [
    "### How many `A`s in DNA?\n",
    "\n",
    "Recall that a DNA sequence can be represented as a string with the characters `A`, `C`, `G` and `T`.\n",
    "\n",
    "Make up a dna squence, by just typing 'A', 'C', 'G' and 'T'. Example:\n"
   ]
  },
  {
   "cell_type": "code",
   "execution_count": 39,
   "id": "19c2add3",
   "metadata": {},
   "outputs": [
    {
     "name": "stdout",
     "output_type": "stream",
     "text": [
      "ACGTGTGTCACAAGgtaaaaagtcCCGT\n"
     ]
    }
   ],
   "source": [
    "dna = 'ACGTGTGTCACAAGgtaaaaagtcCCGT'\n",
    "print(dna)"
   ]
  },
  {
   "cell_type": "markdown",
   "id": "0ece055c",
   "metadata": {},
   "source": [
    "In that example, I mixed upper and lower case. To fix that:"
   ]
  },
  {
   "cell_type": "code",
   "execution_count": 41,
   "id": "2aa56d9f",
   "metadata": {},
   "outputs": [
    {
     "name": "stdout",
     "output_type": "stream",
     "text": [
      "ACGTGTGTCACAAGGTAAAAAGTCCCGT\n"
     ]
    }
   ],
   "source": [
    "dna = dna.upper()\n",
    "print(dna)"
   ]
  },
  {
   "cell_type": "markdown",
   "id": "ee4aef9a",
   "metadata": {},
   "source": [
    "Suppose I want to know how many times `A` occurs in the DNA sequence. I could use:"
   ]
  },
  {
   "cell_type": "code",
   "execution_count": 42,
   "id": "ed1fb96b",
   "metadata": {},
   "outputs": [
    {
     "data": {
      "text/plain": [
       "9"
      ]
     },
     "execution_count": 42,
     "metadata": {},
     "output_type": "execute_result"
    }
   ],
   "source": [
    "dna.count('A')"
   ]
  },
  {
   "cell_type": "markdown",
   "id": "ec2a0704",
   "metadata": {},
   "source": [
    "Now I want to write a function that does this."
   ]
  },
  {
   "cell_type": "markdown",
   "id": "ffba67bb",
   "metadata": {},
   "source": [
    "### A new function\n",
    "\n",
    "*EXERCISE*: Write as function that works as follows:\n",
    "* It takes a string as input\n",
    "* It counts the number of occurences of the character 'A' in the string\n",
    "* It calculates the *proportion* of the characters in the string are `A`.\n",
    "* It uses the `print()` function to display this proportion *as a percentage*.\n",
    "* You should choose a sensible name for the function.\n",
    "\n",
    "\n",
    "For example, for the string `AGTGGA`, the function will output \"33.3333%\". \n"
   ]
  },
  {
   "cell_type": "markdown",
   "id": "ff40e534",
   "metadata": {},
   "source": [
    "## Looking ahead to Lab 3\n",
    "Next week we'll extend this problem in several ways, including\n",
    "* Modifying the function so that it has a `return` value\n",
    "* Extending the function so that it calculates the proportions of all four bases, `A`, `C`, `G` and `T`.\n",
    "* Applying this to validate a DNA sequence.\n"
   ]
  }
 ],
 "metadata": {
  "kernelspec": {
   "display_name": "Python 3 (ipykernel)",
   "language": "python",
   "name": "python3"
  },
  "language_info": {
   "codemirror_mode": {
    "name": "ipython",
    "version": 3
   },
   "file_extension": ".py",
   "mimetype": "text/x-python",
   "name": "python",
   "nbconvert_exporter": "python",
   "pygments_lexer": "ipython3",
   "version": "3.9.13"
  },
  "toc": {
   "base_numbering": 1,
   "nav_menu": {},
   "number_sections": true,
   "sideBar": true,
   "skip_h1_title": true,
   "title_cell": "Table of Contents",
   "title_sidebar": "Contents",
   "toc_cell": false,
   "toc_position": {},
   "toc_section_display": true,
   "toc_window_display": true
  },
  "varInspector": {
   "cols": {
    "lenName": 16,
    "lenType": 16,
    "lenVar": 40
   },
   "kernels_config": {
    "python": {
     "delete_cmd_postfix": "",
     "delete_cmd_prefix": "del ",
     "library": "var_list.py",
     "varRefreshCmd": "print(var_dic_list())"
    },
    "r": {
     "delete_cmd_postfix": ") ",
     "delete_cmd_prefix": "rm(",
     "library": "var_list.r",
     "varRefreshCmd": "cat(var_dic_list()) "
    }
   },
   "types_to_exclude": [
    "module",
    "function",
    "builtin_function_or_method",
    "instance",
    "_Feature"
   ],
   "window_display": false
  }
 },
 "nbformat": 4,
 "nbformat_minor": 5
}
