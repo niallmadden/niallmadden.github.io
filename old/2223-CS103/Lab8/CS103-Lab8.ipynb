{
 "cells": [
  {
   "cell_type": "markdown",
   "id": "34908231",
   "metadata": {
    "toc": true
   },
   "source": [
    "<h1>Table of Contents<span class=\"tocSkip\"></span></h1>\n",
    "<div class=\"toc\"><ul class=\"toc-item\"><li><span><a href=\"#Overview-of-your-Project\" data-toc-modified-id=\"Overview-of-your-Project-1\"><span class=\"toc-item-num\">1&nbsp;&nbsp;</span>Overview of your Project</a></span><ul class=\"toc-item\"><li><span><a href=\"#Accessing-Jupyter\" data-toc-modified-id=\"Accessing-Jupyter-1.1\"><span class=\"toc-item-num\">1.1&nbsp;&nbsp;</span>Accessing Jupyter</a></span></li><li><span><a href=\"#Collaboration\" data-toc-modified-id=\"Collaboration-1.2\"><span class=\"toc-item-num\">1.2&nbsp;&nbsp;</span>Collaboration</a></span></li></ul></li><li><span><a href=\"#TASK-A:-Add-a-markdown-cell-with-&quot;What/Who/When&quot;-information\" data-toc-modified-id=\"TASK-A:-Add-a-markdown-cell-with-&quot;What/Who/When&quot;-information-2\"><span class=\"toc-item-num\">2&nbsp;&nbsp;</span>TASK A: Add a markdown cell with \"What/Who/When\" information</a></span></li><li><span><a href=\"#Task-B:-Add-a-cell-importing-any-modules-needed\" data-toc-modified-id=\"Task-B:-Add-a-cell-importing-any-modules-needed-3\"><span class=\"toc-item-num\">3&nbsp;&nbsp;</span>Task B: Add a cell importing any modules needed</a></span></li><li><span><a href=\"#Task-C:-Choose-two-books-from-Project-Gutenberg\" data-toc-modified-id=\"Task-C:-Choose-two-books-from-Project-Gutenberg-4\"><span class=\"toc-item-num\">4&nbsp;&nbsp;</span>Task C: Choose two books from Project Gutenberg</a></span></li><li><span><a href=\"#Task-D:-Remove-preamble-and-license-information\" data-toc-modified-id=\"Task-D:-Remove-preamble-and-license-information-5\"><span class=\"toc-item-num\">5&nbsp;&nbsp;</span>Task D: Remove preamble and license information</a></span></li><li><span><a href=\"#Task-E:-Reuse-code-from-Week-10\" data-toc-modified-id=\"Task-E:-Reuse-code-from-Week-10-6\"><span class=\"toc-item-num\">6&nbsp;&nbsp;</span>Task E: Reuse code from Week 10</a></span></li><li><span><a href=\"#Task-F:-Statistics\" data-toc-modified-id=\"Task-F:-Statistics-7\"><span class=\"toc-item-num\">7&nbsp;&nbsp;</span>Task F: Statistics</a></span></li><li><span><a href=\"#Task-G:-Time-to-show-what-you-can-do\" data-toc-modified-id=\"Task-G:-Time-to-show-what-you-can-do-8\"><span class=\"toc-item-num\">8&nbsp;&nbsp;</span>Task G: Time to show what you can do</a></span></li><li><span><a href=\"#Task-H:-Submit-your-work.\" data-toc-modified-id=\"Task-H:-Submit-your-work.-9\"><span class=\"toc-item-num\">9&nbsp;&nbsp;</span>Task H: Submit your work.</a></span></li></ul></div>"
   ]
  },
  {
   "cell_type": "markdown",
   "id": "87c47526",
   "metadata": {},
   "source": [
    "# CS102/CS103 Lab 8 (Project)\n",
    "\n",
    "5--7 December, 2022\n",
    "\n",
    "Dr [Niall Madden](mailto:Niall.Madden@UniversityOfGalway.ie)<br>\n",
    "School of Mathematical and Statistical Sciences<br>\n",
    "University of Galway\n",
    "\n",
    "---\n",
    "\n",
    "You can access this notebook at:\n",
    "* Blackboard\n",
    "* Binder: [https://mybinder.org/v2/gh/niallmadden/2223-cs103/main](https://mybinder.org/v2/gh/niallmadden/2223-cs103/main)\n",
    "* Github: [https://github.com/niallmadden/2223-cs103](https://github.com/niallmadden/2223-cs103)\n",
    "* Simple HTML version  [https://www.niallmadden.ie/2223-CS103/](https://www.niallmadden.ie/2223-CS103/)"
   ]
  },
  {
   "cell_type": "markdown",
   "id": "f512bffb",
   "metadata": {},
   "source": [
    "## Overview of your Project\n",
    "\n",
    "This is the final Lab assignment for CS102, and the \"Programming in Python\" component of CS103. It is worth 25% of your grade. \n",
    "\n",
    "Your goal is to write some Python code that works with the text of a classic book that you download from Project Gutenberg. In working with the text, you'll demonstrate the following skills:\n",
    "* Writing Python and Markdown in a Jupyter notebook. The notebook will include both your code and a report on your project.\n",
    "* Using variables and expressions\n",
    "* Producing output, especially using `print()` and f-strings\n",
    "* Iterating, using `for` loops\n",
    "* Storing data in lists and, if appropriate, dictionaries.\n",
    "* Using `if`-blocks for conditional execution of code\n",
    "* Writing functions, including one that returns a tuple.\n",
    "* Reading and writing with files\n",
    "* Adapting a reusing functions from lectures, and built-in Python functions.\n",
    "\n",
    "You'll demonstrate these skills by completing the tasks below.\n",
    "\n",
    "The idea for this lab is borrowed from Chapter 13 of the text-book. It might be helpful to read that. You can find it at [https://greenteapress.com/thinkpython2/html/thinkpython2014.html](https://greenteapress.com/thinkpython2/html/thinkpython2014.html)"
   ]
  },
  {
   "cell_type": "markdown",
   "id": "bf0e21e4",
   "metadata": {},
   "source": [
    "### Accessing Jupyter\n",
    "You can use any Jupyter server you like for this project, but I recommend the one at [https://cloudjupyter.universityofgalway.ie](https://cloudjupyter.universityofgalway.ie) or one installed on your own computer. \n",
    "\n",
    "To submit your work, you'll download the `.ipynb` file, and any other files needed, pack them into a `.zip` file, and upload to Blackboard. More information on the submission is given at the end of this document."
   ]
  },
  {
   "cell_type": "markdown",
   "id": "fa79e5ba",
   "metadata": {},
   "source": [
    "### Collaboration\n",
    "As ever in this module, collaboration is encouraged. If you work together with a few  others, it is OK to submit notebooks that are largely the same. However:\n",
    "* Everyone must submit a copy of the notebook and supporting files.\n",
    "* List the names of all who contributed."
   ]
  },
  {
   "cell_type": "markdown",
   "id": "aa7f4fd5",
   "metadata": {},
   "source": [
    "## TASK A: Add a markdown cell with \"What/Who/When\" information"
   ]
  },
  {
   "cell_type": "markdown",
   "id": "c50c5411",
   "metadata": {},
   "source": [
    "Add a markdown cell that contains key information about your project report. This will include\n",
    "* A title. The title should be reflective of the books you've chosen to analyse; try to make it unique to you or your group.\n",
    "* Your name, ID number, and University of Galway email address\n",
    "* Submission date\n",
    "* Names and ID numbers of the people you worked with."
   ]
  },
  {
   "cell_type": "markdown",
   "id": "18210268",
   "metadata": {},
   "source": [
    "***\n",
    "\n",
    "## Task B: Add a cell importing any modules needed"
   ]
  },
  {
   "cell_type": "markdown",
   "id": "45fcd8f4",
   "metadata": {},
   "source": [
    "Include a cell before any other Python code that imports any modules used in the rest of the notebook.\n",
    "For example, I expect that, at the very least, you will use the `string` module, and maybe the `statistics` one too."
   ]
  },
  {
   "cell_type": "markdown",
   "id": "b16531cb",
   "metadata": {},
   "source": [
    "***"
   ]
  },
  {
   "cell_type": "markdown",
   "id": "8b6f027b",
   "metadata": {},
   "source": [
    "## Task C: Choose two books from Project Gutenberg\n",
    "\n",
    "For this project, you'll need two files containing the text of classic books. To get this, go to the Project Gutenberg website at [https://www.gutenberg.org/](https://www.gutenberg.org/) and choose two books from the 60,000 there.\n",
    "\n",
    "Each book is available in multiple formats. You want the one in `Plain Text UTF-8` format.\n",
    "\n",
    "Download the `.txt` file to your computer, and then upload it to the Jupyter server you are using. It should be in the same folder as the notebook. \n"
   ]
  },
  {
   "cell_type": "markdown",
   "id": "98242855",
   "metadata": {},
   "source": [
    "## Task D: Remove preamble and license information\n",
    "\n"
   ]
  },
  {
   "cell_type": "markdown",
   "id": "4e1c9794",
   "metadata": {},
   "source": [
    "Open one of the files you downloaded from Project Gutenberg. You should notice that it starts with 20 or so lines of text with some license information, and some information on the book: its title, author, when it was uploaded. etc. This **preamble** ends with a line that looks like\n",
    "```text\n",
    "*** START OF THE PROJECT GUTENBERG EBOOK ALICE’S ADVENTURES IN WONDERLAND ***\n",
    "```\n",
    "\n",
    "This is followed by the text for the book itself.\n",
    "\n",
    "Then, near the end of the file, you see a line like\n",
    "```text\n",
    "*** END OF THE PROJECT GUTENBERG EBOOK ALICE’S ADVENTURES IN WONDERLAND ***\n",
    "```\n",
    "That in turn is followed by abut 300 lines of license information. "
   ]
  },
  {
   "cell_type": "markdown",
   "id": "b04b9527",
   "metadata": {},
   "source": [
    "You **task** is to write a function that makes a new file with the book's text, but not the preamble or license information. \n",
    "\n",
    "That is:\n",
    "* The input to the function should take a string containing a file name.\n",
    "* It forms a new string that is a variant on the old one. For example, if the original file name was `pg2641.txt` the new one could be `pg2641-new.txt`. (Hint: if the string is called `file_name`, then then string `file_name[:-4]` is the same, but with the `.txt` removed).\n",
    "* Open the original file for reading, and the new one or writing (_Tip: use `try... except` to catch an errors_).\n",
    "* Read the contents of the file, one line at a time, counting the lines as you go (_Tip: use a `for` loop_).\n",
    "* Record the line numbers of lines containing the substrings `\"*** START OF\"` and `\"*** END OF\"`.\n",
    "* Reset the file pointer to the start of the file (_Hint: `.seek(0)`_).\n",
    "* Read each line in the the file again, counting the lines as you go. If the counter is between the values you recorded for the end of the preamble and start of the license information, `write` it to the output file.\n",
    "* close both files.\n"
   ]
  },
  {
   "cell_type": "markdown",
   "id": "515be680",
   "metadata": {},
   "source": [
    "Then use that function to create new versions of your chosen books but without the preamble and license information."
   ]
  },
  {
   "cell_type": "markdown",
   "id": "e989603d",
   "metadata": {},
   "source": [
    "***"
   ]
  },
  {
   "cell_type": "markdown",
   "id": "addc4609",
   "metadata": {},
   "source": [
    "## Task E: Reuse code from Week 10\n",
    "\n",
    "In Week 10, we wrote some code that can be useful for analysing text. In particular, In Section 9, we wrote functions\n",
    "* `clean_word()` this takes a word stored as a string, and strips any whitespace or punctuation from the start or end.\n",
    "* `get_all_words()` that takes a string containing a file name, and reads all the data from that file, storing each word as a element in a list.\n",
    "* `unique_words()` that takes a list of strings as input, and returns this list but with repetitions removed.\n",
    "\n",
    "Copy the code for these three functions from the notebook for Week 10 and add them to your notebook. Add doc-strings to each, to explain (very briefly) what they do.\n",
    "\n",
    "It may spot that some improvements can be made to these functions. For example, the `get_all_words()` function will include words of length zero. Modify that function is that `word` is added to the list `all_words` only if it contains at least 1 character.\n",
    "\n",
    "Also use the code from the end of the Week 10 notebook to compute the \"novelty score\" of your books. This should be done for the versions without the preamble and license infomation.\n"
   ]
  },
  {
   "cell_type": "markdown",
   "id": "3bc31732",
   "metadata": {},
   "source": [
    "***"
   ]
  },
  {
   "cell_type": "markdown",
   "id": "205453eb",
   "metadata": {},
   "source": [
    "## Task F: Statistics\n",
    "\n",
    "In this task you'll write a function that computes some basic statistics for the list of words in the book.\n",
    "* Choose a sensible name for the function\n",
    "* It should take a list of words (strings) as its input \n",
    "* It should return, as a tuple:\n",
    "    * the length of the shortest word (which should be 1, of course)\n",
    "    * the length of the longest word (hyphenated words are OK)\n",
    "    * the mean (average) length of the words (you can use `statistics.mean()` for this if you like).\n",
    "    * the median length of the words in the book (`statistics.median()` might be useful).\n",
    "    \n",
    "Also, write a function that returns the longest word in a list (not the length, but the word itself).\n",
    "\n",
    "Output the key statistics for your two books, and the longest word. Maye sure to use the \"_new_\" versions of the books, with preamble and license information removed.\n",
    "\n",
    "For example, your output might look like:\n",
    "```text\n",
    "Statistics for AliceInWonderLand-new.txt:\n",
    "\t Shortest word has length 1\n",
    "\t Longest word has length 46 and is “important—unimportant—unimportant—important—”\n",
    "\t Full list mean: 4.25; Full list median: 4\n",
    "\t Unique list mean: 6.61; Unique list median: 6.0\n",
    "```\n",
    "\n",
    "Show that you can use `print()` and `f-strings`. In particular, the mean should more reported to at most two decimal places.\n"
   ]
  },
  {
   "cell_type": "markdown",
   "id": "319711a6",
   "metadata": {},
   "source": [
    "***\n",
    "\n",
    "## Task G: Time to show what you can do\n",
    "\n",
    "There are many other tasks that I could suggest you do using the data in your book. For example,\n",
    "1. Plot a histogram of word-lengths in the book (that is plot $h(n)$, the number of times a word of length $n$ occurs in the book).\n",
    "3. Verify Zipf's law for your books (see Exercise 13.9 from Think Python).\n",
    "4. Verify the related \"Brevity Law\", that claims the most frequently occuring words are the sortest. \n",
    "5. \"Spell-check\" the book, by finding any words that don't occur in our `words.txt` file. (This is like Exercises 13.4 13.6 in Think Python).\n",
    "2. For a given  word, find all words that comes after it in the text. Output one at random. Now apply the same process to _that_ word. Can we build up a sentence this way? (This is like the Markov analysis in Chapter 13 of Think Python.\n",
    "6. Hapax legomenon (Check out the wikipedia page, which shows an example for Moby Dick).\n",
    "\n",
    "\n",
    "And there are many, many more possibilities. Your *task* is to think of some motivation for\n",
    "* writing a function which has at least one input and one return value\n",
    "* iterates over a list with a `for` loop\n",
    "* includes at least one `if`-statement.\n",
    "* does something interesting\n",
    "* includes a doc-string saying what it does.\n",
    "* has at least 15 lines."
   ]
  },
  {
   "cell_type": "markdown",
   "id": "13d074f7",
   "metadata": {},
   "source": [
    "You should then apply your function to your two books. Include some markdown that explains what you are doing. Show that you can use f-strings to display some output.\n"
   ]
  },
  {
   "cell_type": "markdown",
   "id": "5b36cfc8",
   "metadata": {},
   "source": [
    "***\n",
    "\n",
    "## Task H: Submit your work.\n",
    "\n",
    "* Check that your notebook runs without error when you do a \"Restart and Run All\"\n",
    "* Remove any cells that contain \"rough work\"\n",
    "* Give it a name that starts with your ID number, and includes your name. For example `22334455-Sean-Student-Lan8.ipynb` would be good name. But it is essential it starts with your ID number.\n",
    "* Make a zip file that contains your `.ipynb` file and the `.txt` file for your two books. (The name of the zip file is unimportant: Blackboard will rename it anyway).\n",
    "* Upload the zip to the \"Lab 8\" section of the 2223-CS10x Blackboard module.\n",
    "* **DEADLINE 5PM FRIDAY 13 JANUARY**"
   ]
  }
 ],
 "metadata": {
  "kernelspec": {
   "display_name": "Python 3 (ipykernel)",
   "language": "python",
   "name": "python3"
  },
  "language_info": {
   "codemirror_mode": {
    "name": "ipython",
    "version": 3
   },
   "file_extension": ".py",
   "mimetype": "text/x-python",
   "name": "python",
   "nbconvert_exporter": "python",
   "pygments_lexer": "ipython3",
   "version": "3.9.13"
  },
  "toc": {
   "base_numbering": 1,
   "nav_menu": {},
   "number_sections": true,
   "sideBar": true,
   "skip_h1_title": true,
   "title_cell": "Table of Contents",
   "title_sidebar": "Contents",
   "toc_cell": true,
   "toc_position": {},
   "toc_section_display": true,
   "toc_window_display": false
  },
  "varInspector": {
   "cols": {
    "lenName": 16,
    "lenType": 16,
    "lenVar": 40
   },
   "kernels_config": {
    "python": {
     "delete_cmd_postfix": "",
     "delete_cmd_prefix": "del ",
     "library": "var_list.py",
     "varRefreshCmd": "print(var_dic_list())"
    },
    "r": {
     "delete_cmd_postfix": ") ",
     "delete_cmd_prefix": "rm(",
     "library": "var_list.r",
     "varRefreshCmd": "cat(var_dic_list()) "
    }
   },
   "types_to_exclude": [
    "module",
    "function",
    "builtin_function_or_method",
    "instance",
    "_Feature"
   ],
   "window_display": false
  }
 },
 "nbformat": 4,
 "nbformat_minor": 5
}
