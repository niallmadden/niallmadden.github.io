{
 "cells": [
  {
   "cell_type": "markdown",
   "id": "b906731c-c71d-42cf-926d-9b44d0793cc4",
   "metadata": {},
   "source": [
    "# CS102/CS103 Lab 5: Lists and Loops (Part 2) <span style='color:green'>(V1.0)</span>\n",
    "14--16 November, 2022\n",
    "\n",
    "Dr [Niall Madden](mailto:Niall.Madden@UniversityOfGalway.ie)<br>\n",
    "School of Mathematical and Statistical Sciences<br>\n",
    "University of Galway\n",
    "\n",
    "---\n",
    "\n",
    "This is **Lab 5** of CS102/CS103. It builds on work in Lab 4, and on material covered in lectures in Week 6 and (especially) Week 7, especially regarding lists, loops, modules, and plots.\n",
    "\n",
    "You can access this notebook, and the lecture notes at\n",
    "* Binder: [https://mybinder.org/v2/gh/niallmadden/2223-cs103/main](https://mybinder.org/v2/gh/niallmadden/2223-cs103/main)\n",
    "\n",
    "[![Binder](https://mybinder.org/badge_logo.svg)](https://mybinder.org/v2/gh/niallmadden/2223-cs103/main)\n",
    "\n",
    "* Github: [https://github.com/niallmadden/2223-cs103](https://github.com/niallmadden/2223-cs103)\n",
    "\n",
    "* Simple HTML version is at [https://htmlpreview.github.io/?https://github.com/niallmadden/2223-cs103/blob/main/Labs/Lab5/CS103_Lab5.html](https://htmlpreview.github.io/?https://github.com/niallmadden/2223-cs103/blob/main/Labs/Lab5/CS103_Lab5.html)\n"
   ]
  },
  {
   "cell_type": "markdown",
   "id": "c68a1ba4",
   "metadata": {},
   "source": [
    "\n",
    "<div class=\"alert alert-block alert-info\"><center> <b><font size=\"+2\">Assignment</font></b></center>\n",
    "\n",
    "* Write a Jupyter notebook that completes Tasks 1-6.\n",
    "\n",
    "* Upload your Jupyter notebook (`.ipynb`) file to Blackboard by 5pm, Friday 18 of November, but ideally before you leave the lab.\n",
    "    </div>"
   ]
  },
  {
   "cell_type": "markdown",
   "id": "537685a3-ee6d-4ec9-a21c-e9dce52b2d0d",
   "metadata": {},
   "source": [
    "## Getting Started\n",
    "\n",
    "### The goals of Lab 5\n",
    "The purpose of this lab is to help you master and demonstrate the following skills.\n",
    "1. *Working with `list`s*, especially indexing/slicing, and iterating over lists with a `for` loop.\n",
    "2. `def`ining  *functions*\n",
    "3. Plotting with matplotlib\n",
    "4. Reading lecture notes and other documentation.\n",
    "5. `import`ing modules\n",
    "6. Writing self-contained notebooks.\n",
    "\n",
    "\n",
    "### Connect to a Jupyter Server\n",
    "\n",
    "Create a notebook on a Jupyer server:\n",
    "* If you have your own laptop with Jupyter installed, use that. \n",
    "* Or use our Jupyter server ay [https://jupyter.nuigalway.ie/](https://jupyter.nuigalway.ie/). If you encounter any problems (which is very likely on Wednesday), switch to one of the following services.\n",
    "\n",
    "* [https://jupyter.org/](https://jupyter.org/) server\n",
    "* or Google's [https://colab.research.google.com/](https://colab.research.google.com/)\n",
    "\n",
    "Which ever system you use, download the Jupyter Notebook (`ipynb`) file, at the end of your session, so that you can work on it another time.\n",
    "\n",
    "(_News_: our new Jupyter server is nearly ready, and we expect to use it for next week's lab. More details will be given in Wednesday's lecture).\n"
   ]
  },
  {
   "cell_type": "markdown",
   "id": "f8b7f5c4-cb3a-4266-88b1-1594e57c116f",
   "metadata": {},
   "source": [
    "###  Task 1: Add a markdown cell with \"What/Who/Why/When\" information\n",
    "\n",
    "The first cell in your notebook, should contain `markdown`, with \n",
    "* A title that describes **what** this notebook does. That line should start with the `#` symbol, followed by a space, followed by the text of the notebook's title.\n",
    "* A set of of bullet points with information on **who** wrote it. That includes \n",
    "    * your name\n",
    "    * ID number\n",
    "    * email address, \n",
    "    \n",
    "* A sentence on **why** you wrote this notebook.\n",
    "\n",
    "* Today's date. \n",
    "\n",
    "See Task 1 of Lab 4 for an example of some markdown code.\n",
    "\n",
    "***"
   ]
  },
  {
   "cell_type": "markdown",
   "id": "e3e90eb7",
   "metadata": {},
   "source": [
    "### Task 2:  add cell that imports any needed modules¶\n",
    "\n",
    "In this lab you'd need, at the very least, the `math` and `matplotlib.pyplot` modules.\n",
    "Look at the lecture notes from Week 7 (Section 6.1: Importing Modules) to see how this is done. Put the import instructions in a single cell at near the start of the notebook.\n",
    "\n",
    "We need the `math` module because we need\n",
    "* `math.sqrt()` to compute the square root of some numbers \n",
    "* `math.floor()` to return an integer just less than a given float.\n",
    "\n",
    "Check that you know how to use these.\n"
   ]
  },
  {
   "cell_type": "code",
   "execution_count": null,
   "id": "15d300a7",
   "metadata": {},
   "outputs": [],
   "source": [
    "import math\n",
    "import matplotlib.pyplot as plt"
   ]
  },
  {
   "cell_type": "markdown",
   "id": "9f8eab75",
   "metadata": {},
   "source": [
    "***\n",
    "\n",
    "## Lab 4: The prime number sieve\n",
    "\n"
   ]
  },
  {
   "cell_type": "markdown",
   "id": "1ef13b79",
   "metadata": {},
   "source": [
    "### Computing prime numbers (in Lab 4)\n",
    "Last week, you wrote some code that\n",
    "* prompted the user to enter some integer $n$\n",
    "* computed a list of all prime numbers less than $n$ using  *The Sieve of Eratosthenes* (or, often, \"The Prime Number Sieve\"); see [https://en.wikipedia.org/wiki/Sieve_of_Eratosthenes](https://en.wikipedia.org/wiki/Sieve_of_Eratosthenes)\n",
    "\n",
    "Your code was a *little* like this:"
   ]
  },
  {
   "cell_type": "code",
   "execution_count": null,
   "id": "6de18176",
   "metadata": {},
   "outputs": [],
   "source": [
    "n = int(input(\"Enter an integer greater than 1: \"))"
   ]
  },
  {
   "cell_type": "code",
   "execution_count": null,
   "id": "b86f92ca",
   "metadata": {},
   "outputs": [],
   "source": [
    "# The prime number sieve\n",
    "prime_numbers = list(range(2,n+1))\n",
    "for l in prime_numbers:\n",
    "    for i in range(l*2, n+1, l):\n",
    "        if (i in prime_numbers):\n",
    "            prime_numbers.remove(i)"
   ]
  },
  {
   "cell_type": "code",
   "execution_count": null,
   "id": "c6b6c210",
   "metadata": {},
   "outputs": [],
   "source": [
    "print(f\"The primes less than {n} are {prime_numbers}\")"
   ]
  },
  {
   "cell_type": "markdown",
   "id": "18b6e206",
   "metadata": {},
   "source": [
    "### Function that lists all primes\n",
    "In Lab 4, you were asked to write a function...\n",
    "\n",
    "1. with a sensible name, such as `list_all_primes()`\n",
    "2. takes an integer $n$ as input\n",
    "3. uses the sieve algorithm to make a list of all primes less than or equal to $n$.\n",
    "4. returns that list\n",
    "\n",
    "Copy your code for that function into a single cell of the notebook you are working on (recall: it is \"good practice\" to have function definitions in a cell without any other code). "
   ]
  },
  {
   "cell_type": "markdown",
   "id": "e1129fc0",
   "metadata": {},
   "source": [
    "### Improving `list_all_primes()` \n",
    "The code give for the prime number sieve is not very efficient. If you follow what it does, you'll see that it is checking far too many cases. For example, if computing all primes less than $n=100$, it checks all numbers up to 99.\n",
    "However, no number less or equal to 100 can be factorised into two numbers greater than $\\sqrt{100}=10$: if they are both greater than 10, then their product is greater than 100.\n",
    "\n",
    "So we can make the code more efficient. In loop above, we iterate:\n",
    "```python\n",
    "for l in prime_numbers:\n",
    "```\n",
    "Instead, we should allow `l` to only take the first $\\sqrt{n}$ values in numbers. That is,\n",
    "```python\n",
    "for l in prime_numbers[0:maxn]\n",
    "```\n",
    "where $maxn = \\sqrt{n}$. However, there is a slight catch. If, for example, $n=100$, this will work fine, because $\\sqrt{n}$ is an integer. But, suppose $n=50$. Then $\\sqrt{n}=7.071$, which is not an `int`.\n",
    "\n",
    "To get around this, we need $maxn$ to be the floor of $\\sqrt{n}$, which we can compute using the `math.sqrt()` and `math.floor()` functions.\n",
    "\n",
    "Make this change to your `list_all_primes()` function.\n",
    "                       "
   ]
  },
  {
   "cell_type": "markdown",
   "id": "d7456589",
   "metadata": {},
   "source": [
    "### Add a doc string\n",
    "\n",
    "In Week 7 we learned about `docstrings`: this is some text that starts with `\"\"\"` and ends with `\"\"\"` and contains a short description of what the function does and how it is used. See Section 6.2: Defining Functions.\n",
    "\n",
    "Add a docstring to your `list_all_primes()` function. Check that it works with `help(list_all_primes)`\n"
   ]
  },
  {
   "cell_type": "markdown",
   "id": "8d3e5fba",
   "metadata": {},
   "source": [
    "### Task 3: the new improved `list_all_primes()`\n",
    "\n",
    "Write a cell with Python code that defines the new `list_all_primes()` function, including the restriction to the list of numbers the function iterates over, and the docstring."
   ]
  },
  {
   "cell_type": "markdown",
   "id": "16745211",
   "metadata": {},
   "source": [
    "## The prime counting function\n",
    "\n",
    "Mathematicians have been facinated by prime numbers for 100s of years. One of the oldest questions reagrding primes is \"*How many primes are there less than a given number $n$*\"? This number is denoted $\\pi(n)$, and its called the \"prime counting function\". You can read about it here: [https://en.wikipedia.org/wiki/Prime-counting_function](https://en.wikipedia.org/wiki/Prime-counting_function)\n",
    "\n",
    "\n",
    "Now that we have our prime sieve function, we can compute $\\pi(n)$ for any $n$ (that is not too big): it is the length of the list of all primes up to $n$."
   ]
  },
  {
   "cell_type": "markdown",
   "id": "efa32acb",
   "metadata": {},
   "source": [
    "### Task 4: Write a function that computes $\\pi(n)$, the number of primes $\\leq n$\n",
    "      \n",
    "Write a function called `pi(n)` that returns the number of primes less than or equal to $n$. It should include a docstring.\n",
    "\n",
    "Check it works. For example, you should find that `pi(10)=4` and `pi(100)=25`"
   ]
  },
  {
   "cell_type": "markdown",
   "id": "10731488",
   "metadata": {},
   "source": [
    "## Visualising the prime counting function\n",
    "\n",
    "With your `pi()` function we can compute a list of the number of primes less than or equal to $n$ for $n=2, 3, 4, \\dots$. E.g.,\n",
    "\n",
    "```python\n",
    "N=1000;\n",
    "list_n = list(range(2,N+1))\n",
    "count = [] \n",
    "for n in list_n:\n",
    "    count += [pi(n)]\n",
    "```        \n"
   ]
  },
  {
   "cell_type": "markdown",
   "id": "d4bed05c",
   "metadata": {},
   "source": [
    "Now that we have done that, we can plot $n$ against $\\pi(n)$.\n",
    "```python\n",
    "plt.plot(list_n, count, '--o')\n",
    "```"
   ]
  },
  {
   "cell_type": "markdown",
   "id": "71209ce8",
   "metadata": {},
   "source": [
    "### Task 5: Make a nice plot\n",
    "\n",
    "Once you have plotted your data, try adding a title to the plot, label the axes, and add a legend. To learn how to do that, search online for information on `matplotlib`."
   ]
  },
  {
   "cell_type": "markdown",
   "id": "b2a105d6",
   "metadata": {},
   "source": [
    "## Task 6: Prepare and submit your notebook.\n",
    "This notebook is a model of the sort of work that should be submitted.\n",
    "* Make sure it runs correctly from the start\n",
    "* Remove any unneeded cells (See `Edit.. delete cell`)\n",
    "* Restart the kernel (this will remove any old variable values)\n",
    "* Run the notebook by running each individual cell in order. Check that you get the expected results.\n",
    "* Upload this `.ipynb` file to Blackboard (Lab 5).\n",
    "* Deadline is: 5pm, Friday 18 November.\n"
   ]
  },
  {
   "cell_type": "code",
   "execution_count": null,
   "id": "8c440bf1",
   "metadata": {},
   "outputs": [],
   "source": []
  }
 ],
 "metadata": {
  "celltoolbar": "Slideshow",
  "kernelspec": {
   "display_name": "Python 3 (ipykernel)",
   "language": "python",
   "name": "python3"
  },
  "language_info": {
   "codemirror_mode": {
    "name": "ipython",
    "version": 3
   },
   "file_extension": ".py",
   "mimetype": "text/x-python",
   "name": "python",
   "nbconvert_exporter": "python",
   "pygments_lexer": "ipython3",
   "version": "3.9.13"
  },
  "toc": {
   "base_numbering": 1,
   "nav_menu": {},
   "number_sections": true,
   "sideBar": true,
   "skip_h1_title": true,
   "title_cell": "Table of Contents",
   "title_sidebar": "Contents",
   "toc_cell": false,
   "toc_position": {
    "height": "calc(100% - 180px)",
    "left": "10px",
    "top": "150px",
    "width": "246.387px"
   },
   "toc_section_display": true,
   "toc_window_display": true
  },
  "varInspector": {
   "cols": {
    "lenName": 16,
    "lenType": 16,
    "lenVar": 40
   },
   "kernels_config": {
    "python": {
     "delete_cmd_postfix": "",
     "delete_cmd_prefix": "del ",
     "library": "var_list.py",
     "varRefreshCmd": "print(var_dic_list())"
    },
    "r": {
     "delete_cmd_postfix": ") ",
     "delete_cmd_prefix": "rm(",
     "library": "var_list.r",
     "varRefreshCmd": "cat(var_dic_list()) "
    }
   },
   "types_to_exclude": [
    "module",
    "function",
    "builtin_function_or_method",
    "instance",
    "_Feature"
   ],
   "window_display": false
  }
 },
 "nbformat": 4,
 "nbformat_minor": 5
}
