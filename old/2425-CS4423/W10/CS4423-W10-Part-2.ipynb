{
 "cells": [
  {
   "cell_type": "markdown",
   "metadata": {
    "toc": true
   },
   "source": [
    "<h1>Table of Contents<span class=\"tocSkip\"></span></h1>\n",
    "<div class=\"toc\"><ul class=\"toc-item\"><li><ul class=\"toc-item\"><li><span><a href=\"#Modules-for-this-notebook\" data-toc-modified-id=\"Modules-for-this-notebook-0.1\"><span class=\"toc-item-num\">0.1&nbsp;&nbsp;</span>Modules for this notebook</a></span></li></ul></li><li><span><a href=\"#Giant-Components-(again)\" data-toc-modified-id=\"Giant-Components-(again)-1\"><span class=\"toc-item-num\">1&nbsp;&nbsp;</span>Giant Components (again)</a></span></li><li><span><a href=\"#Characteristic-Path-Length\" data-toc-modified-id=\"Characteristic-Path-Length-2\"><span class=\"toc-item-num\">2&nbsp;&nbsp;</span>Characteristic Path Length</a></span><ul class=\"toc-item\"><li><span><a href=\"#CLP-in-$G_{ER}(n,m)$\" data-toc-modified-id=\"CLP-in-$G_{ER}(n,m)$-2.1\"><span class=\"toc-item-num\">2.1&nbsp;&nbsp;</span>CLP in $G_{ER}(n,m)$</a></span></li><li><span><a href=\"#Computing-CPL-by-hand\" data-toc-modified-id=\"Computing-CPL-by-hand-2.2\"><span class=\"toc-item-num\">2.2&nbsp;&nbsp;</span>Computing CPL by hand</a></span></li><li><span><a href=\"#Small-World\" data-toc-modified-id=\"Small-World-2.3\"><span class=\"toc-item-num\">2.3&nbsp;&nbsp;</span>Small World</a></span></li></ul></li><li><span><a href=\"#Transitivity\" data-toc-modified-id=\"Transitivity-3\"><span class=\"toc-item-num\">3&nbsp;&nbsp;</span>Transitivity</a></span><ul class=\"toc-item\"><li><span><a href=\"#Transitivity-of-$G_{ER}(n,-p)$\" data-toc-modified-id=\"Transitivity-of-$G_{ER}(n,-p)$-3.1\"><span class=\"toc-item-num\">3.1&nbsp;&nbsp;</span>Transitivity of $G_{ER}(n, p)$</a></span></li></ul></li><li><span><a href=\"#Clustering\" data-toc-modified-id=\"Clustering-4\"><span class=\"toc-item-num\">4&nbsp;&nbsp;</span>Clustering</a></span><ul class=\"toc-item\"><li><span><a href=\"#Induced-subgraph\" data-toc-modified-id=\"Induced-subgraph-4.1\"><span class=\"toc-item-num\">4.1&nbsp;&nbsp;</span>Induced subgraph</a></span></li><li><span><a href=\"#Clustering-coefficient\" data-toc-modified-id=\"Clustering-coefficient-4.2\"><span class=\"toc-item-num\">4.2&nbsp;&nbsp;</span>Clustering coefficient</a></span></li><li><span><a href=\"#Graph-Clustering-Coefficient\" data-toc-modified-id=\"Graph-Clustering-Coefficient-4.3\"><span class=\"toc-item-num\">4.3&nbsp;&nbsp;</span>Graph Clustering Coefficient</a></span></li><li><span><a href=\"#Clustering-for-$G_{ER}(n,p)$\" data-toc-modified-id=\"Clustering-for-$G_{ER}(n,p)$-4.4\"><span class=\"toc-item-num\">4.4&nbsp;&nbsp;</span>Clustering for $G_{ER}(n,p)$</a></span></li><li><span><a href=\"#IMPORTANT:-Large-$G_{ER}$-graphs-have-few-triangles\" data-toc-modified-id=\"IMPORTANT:-Large-$G_{ER}$-graphs-have-few-triangles-4.5\"><span class=\"toc-item-num\">4.5&nbsp;&nbsp;</span>IMPORTANT: Large $G_{ER}$ graphs have few triangles</a></span></li><li><span><a href=\"#Clustering-vs-Transitivity\" data-toc-modified-id=\"Clustering-vs-Transitivity-4.6\"><span class=\"toc-item-num\">4.6&nbsp;&nbsp;</span>Clustering vs Transitivity</a></span></li></ul></li><li><span><a href=\"#Lattices\" data-toc-modified-id=\"Lattices-5\"><span class=\"toc-item-num\">5&nbsp;&nbsp;</span>Lattices</a></span></li></ul></div>"
   ]
  },
  {
   "cell_type": "markdown",
   "metadata": {
    "slideshow": {
     "slide_type": "slide"
    }
   },
   "source": [
    "<h1>CS4423-Networks: Week 10 (19+20 March 2025) \n",
    "\n",
    "# Part 2: Clustering\n",
    "Niall Madden, \n",
    "School of Mathematical and Statistical Sciences  \n",
    "University of Galway\n",
    "\n",
    "\n",
    "This Jupyter notebook, and PDF and HTML versions, can be found at https://www.niallmadden.ie/2425-CS4423/#Week10\n",
    "\n",
    "<div class=\"rc\"><font size=\"-1\"><em>This notebook was written by Niall Madden, adapted from notebooks by Angela Carnevale.</em></div>"
   ]
  },
  {
   "cell_type": "markdown",
   "metadata": {
    "slideshow": {
     "slide_type": "subslide"
    }
   },
   "source": [
    "### Modules for this notebook"
   ]
  },
  {
   "cell_type": "code",
   "execution_count": null,
   "metadata": {
    "slideshow": {
     "slide_type": "-"
    }
   },
   "outputs": [],
   "source": [
    "import networkx as nx\n",
    "import numpy as np\n",
    "opts = { \"with_labels\": True,  \"node_color\": \"#004225\", \"font_color\": \"white\" } # Irish Racing Green\n",
    "\n",
    "import random   # some random number generators:random, random_choices\n",
    "import statistics  # e.g., mean of entries in a list\n",
    "import math     # for comb (=binomial coef)\n",
    "import matplotlib.pyplot as plt\n",
    "\n",
    "np.set_printoptions(precision=2)    # just display arrays to 2 decimal places\n",
    "np.set_printoptions(suppress=True) "
   ]
  },
  {
   "cell_type": "markdown",
   "metadata": {
    "slideshow": {
     "slide_type": "slide"
    }
   },
   "source": [
    "## Giant Components (again)\n",
    "\n",
    "In Part 1, we learned about the following result:\n",
    "\n",
    "Suppose $p(n) = cn^{-1}$ for some positive constant $c$.  (Then the average degree $\\langle k \\rangle = pn = c$ remains fixed as $n \\to \\infty$.)\n",
    "\n",
    "\n",
    "**Theorem (Erdős-Rényi)**.\n",
    "* If $c < 1$ the graph contains many small components, orders bounded by $O(\\ln n)$.\n",
    "* If $c = 1$ the graph has large components of order $O(n^{2/3})$.\n",
    "* If $c > 1$ there is a unique **giant component** of order $O(n)$."
   ]
  },
  {
   "cell_type": "markdown",
   "metadata": {
    "slideshow": {
     "slide_type": "subslide"
    }
   },
   "source": [
    "There are a few ways we can verify this. One is to fix $n$, and construct a graph for values of $p$ that correspond to these three ranges:"
   ]
  },
  {
   "cell_type": "code",
   "execution_count": null,
   "metadata": {},
   "outputs": [],
   "source": [
    "n=100\n",
    "p=2/n   # take p=0.5/n, 1/n, and 2/m\n",
    "G = nx.gnp_random_graph(n, p, seed=6)\n",
    "pos = nx.nx_agraph.graphviz_layout(G, prog=\"neato\", args=\"\")\n",
    "nx.draw(G, pos, alpha=0.5, node_color=\"green\", with_labels=False)\n",
    "S = len(max(nx.connected_components(G), key=len))\n",
    "print(f\"p={p}, largest component has {S} nodes\")"
   ]
  },
  {
   "cell_type": "markdown",
   "metadata": {
    "slideshow": {
     "slide_type": "subslide"
    }
   },
   "source": [
    "Another way, is to compute the order the largest component for a range of values of $c$. Note: this test might take about 30 seconds to run."
   ]
  },
  {
   "cell_type": "code",
   "execution_count": null,
   "metadata": {},
   "outputs": [],
   "source": [
    "n = 1000   # order of the graphs\n",
    "c = np.linspace(0, 3,31)  # range of values of c\n",
    "Ps = (1/n)*c    # corresponding probabilties\n",
    "S = []         \n",
    "Runs = 5     # Average over 5 graphs\n",
    "for p in Ps:\n",
    "    Ave = 0\n",
    "    for i in range(Runs):\n",
    "        G = nx.gnp_random_graph(n,p)\n",
    "        Ave += len(max(nx.connected_components(G), key=len))\n",
    "    S += [Ave/Runs] "
   ]
  },
  {
   "cell_type": "code",
   "execution_count": null,
   "metadata": {
    "slideshow": {
     "slide_type": "subslide"
    }
   },
   "outputs": [],
   "source": [
    "plt.plot(c, S, ':o', label=r'$S$, order of largest component')\n",
    "plt.plot(c, c*0 + math.log10(n),  '--', label=r'$\\log_{10}(n)$')\n",
    "plt.plot(c, c*0 + n**(2/3),  '-.', label=r\"$n^{2/3}$\")\n",
    "plt.xlabel(r'$c$')\n",
    "plt.ylabel(r'$S$')\n",
    "plt.legend()"
   ]
  },
  {
   "cell_type": "markdown",
   "metadata": {
    "slideshow": {
     "slide_type": "slide"
    }
   },
   "source": [
    "## Characteristic Path Length\n",
    "\n",
    "We learned in Part 1 that there are several measures of \"Small Worldedness\", that include\n",
    "* Small Characteristic Path Length (**CPL**)\n",
    "* High Clustering (not yet defined)\n",
    "\n",
    "We asserted in that class that graphs in the $G_{ER}$ models tend to have small Characteristic Path Length, but not high clustering.\n",
    "\n"
   ]
  },
  {
   "cell_type": "markdown",
   "metadata": {
    "slideshow": {
     "slide_type": "subslide"
    }
   },
   "source": [
    "Recall: the **characteristic path length** $L$ of $G$ is the average distance between pairs of distinct nodes,\n",
    "$$\n",
    "L = \\frac1{n(n-1)} \\sum_{i \\neq j} d_{ij}.\n",
    "$$\n"
   ]
  },
  {
   "cell_type": "markdown",
   "metadata": {},
   "source": [
    "### CLP in $G_{ER}(n,m)$\n",
    "**Fact** (noted in Part 1): The characteristic path length of a random network in $G_{ER}(n, m)$, or \n",
    "    $G_{ER}(n, p)$ is\n",
    "$$\n",
    "L = \\frac{\\ln n}{\\ln \\langle k \\rangle}.\n",
    "$$\n",
    "where $\\langle k \\rangle$ is the average degree of the network."
   ]
  },
  {
   "cell_type": "markdown",
   "metadata": {
    "slideshow": {
     "slide_type": "subslide"
    }
   },
   "source": [
    "Consider $G_{ER}(n, m)$, where we know $\\langle k \\rangle = 2m/n$.\n",
    "\n",
    "So if $n = 16$ and $m = 32$, then the average node degree in $G(n, m)$ is $\\langle k \\rangle = \\frac{2m}{n} = 4$,\n",
    "and, approximately, $L = \\frac{\\log_2 16}{\\log_2 4} = 2$."
   ]
  },
  {
   "cell_type": "markdown",
   "metadata": {},
   "source": [
    "In `networkx`, this is called `average_shortest_path_length`. However, it can only be applied to connected graphs. So, let's choose $G$ from $G_{ER}(16,32)$ a connected graph:"
   ]
  },
  {
   "cell_type": "code",
   "execution_count": null,
   "metadata": {},
   "outputs": [],
   "source": [
    "n = 16\n",
    "m = 32\n",
    "G = nx.gnm_random_graph(n,m)\n",
    "count=0\n",
    "while (not nx.is_connected(G)):\n",
    "    count +=1\n",
    "    G = nx.gnm_random_graph(n,m)\n",
    "print(f\"FYI, took {count} iterations to get a connectted G\")\n",
    "L = nx.average_shortest_path_length(G)\n",
    "print(f\"G_ER({n},{m}) has an average shortest path length of {L:.3f}\")"
   ]
  },
  {
   "cell_type": "code",
   "execution_count": null,
   "metadata": {
    "slideshow": {
     "slide_type": "subslide"
    }
   },
   "outputs": [],
   "source": [
    "nx.draw(G)"
   ]
  },
  {
   "cell_type": "markdown",
   "metadata": {
    "slideshow": {
     "slide_type": "subslide"
    }
   },
   "source": [
    "### Computing CPL by hand\n",
    "\n",
    "Yesterday, we learned about CPL in the context of eccentricity, in turn computed from by the distance matrix $\\mathcal{D}$. We can  compute $\\mathcal{D}$ for $G$ as:"
   ]
  },
  {
   "cell_type": "code",
   "execution_count": null,
   "metadata": {},
   "outputs": [],
   "source": [
    "dist = dict(nx.shortest_path_length(G))\n",
    "Dm = [[dist[i][j] for j in range(n)] for i in range(n)]\n",
    "print(np.array(Dm))"
   ]
  },
  {
   "cell_type": "markdown",
   "metadata": {
    "slideshow": {
     "slide_type": "subslide"
    }
   },
   "source": [
    "As we know, the **characteristic path length** $L$ is the sum of all entries in $\\mathcal{D}$, divided by the number of pairs of distinct nodes $n(n-1)$. "
   ]
  },
  {
   "cell_type": "code",
   "execution_count": null,
   "metadata": {},
   "outputs": [],
   "source": [
    "cpl = sum([sum(d) for d in Dm])/(n*(n-1))\n",
    "print(f\"CPL = {cpl:.3f}\")"
   ]
  },
  {
   "cell_type": "markdown",
   "metadata": {
    "slideshow": {
     "slide_type": "subslide"
    }
   },
   "source": [
    "### Small World\n",
    "**Definition (Small-world behaviour).**\n",
    "A network $G = (X, E)$ is said to exhibit a **small world behaviour** if \n",
    "its characteristic path length $L$ grows proportionally to the\n",
    "logarithm of the number $n$ of nodes of $G$:\n",
    "$$\n",
    "L \\sim \\ln n.\n",
    "$$"
   ]
  },
  {
   "cell_type": "markdown",
   "metadata": {},
   "source": [
    "In this sense, the ensembles $G(n, m)$ and $G(n, p)$ of random graphs do exhibit small\n",
    "world behavior (as $n \\to \\infty$)."
   ]
  },
  {
   "cell_type": "markdown",
   "metadata": {
    "slideshow": {
     "slide_type": "slide"
    }
   },
   "source": [
    "## Transitivity\n",
    "\n",
    "**Definition (Graph transitivity).**\n",
    "The **transitivity** $T$ of a graph $G = (X, E)$\n",
    "is the proportion of **transitive** triads, i.e., triads which are subgraphs of **triangles**. This proportion can be computed as follows:\n",
    "$$\n",
    "T = \\frac{3 n_{\\Delta}}{n_{\\wedge}},\n",
    "$$\n",
    "where $n_{\\Delta}$ is the number of triangles in $G$, and $n_{\\wedge}$ is the number of triads.\n"
   ]
  },
  {
   "cell_type": "markdown",
   "metadata": {},
   "source": [
    "Example:"
   ]
  },
  {
   "cell_type": "code",
   "execution_count": null,
   "metadata": {},
   "outputs": [],
   "source": [
    "G = nx.Graph(((0,1), (1,2), (2,0), (2,3), (2,4)))\n",
    "nx.draw(G, **opts)"
   ]
  },
  {
   "cell_type": "markdown",
   "metadata": {
    "slideshow": {
     "slide_type": "subslide"
    }
   },
   "source": [
    "The function `nx.triangles(G)` returns a `python` dictionary reporting for each node\n",
    "of the graph `G` the number of triangles it is contained in."
   ]
  },
  {
   "cell_type": "code",
   "execution_count": null,
   "metadata": {},
   "outputs": [],
   "source": [
    "print(nx.triangles(G))"
   ]
  },
  {
   "cell_type": "markdown",
   "metadata": {},
   "source": [
    "Overall, each triangle in `G` is thus accounted for $3$ times, once for each of its\n",
    "nodes.  Hence, the following sum determines this number $3 n_{\\Delta}$."
   ]
  },
  {
   "cell_type": "code",
   "execution_count": null,
   "metadata": {},
   "outputs": [],
   "source": [
    "NumTriangles = sum(nx.triangles(G).values())/3\n",
    "print(f\"G has {NumTriangles} triangle(s)\")"
   ]
  },
  {
   "cell_type": "markdown",
   "metadata": {
    "slideshow": {
     "slide_type": "subslide"
    }
   },
   "source": [
    "As we've seen, the number $n_{\\wedge}$ of triads in `G` can be determined from the graph's degree\n",
    "sequence, as each node of degree $k$ is the central node of exactly\n",
    "$\\binom{k}{2}$ triads.  "
   ]
  },
  {
   "cell_type": "code",
   "execution_count": null,
   "metadata": {},
   "outputs": [],
   "source": [
    "NumTriads = 0\n",
    "for i in G.nodes():\n",
    "    NumTriads += math.comb(G.degree[i],2)\n",
    "print(f\"G has {NumTriads} triade(s)\")"
   ]
  },
  {
   "cell_type": "code",
   "execution_count": null,
   "metadata": {},
   "outputs": [],
   "source": [
    "T = 3*NumTriangles/NumTriads\n",
    "print(f\"Transitivity of G is {T}\")"
   ]
  },
  {
   "cell_type": "markdown",
   "metadata": {},
   "source": [
    "Of course, there is a built-in function to do this:"
   ]
  },
  {
   "cell_type": "code",
   "execution_count": null,
   "metadata": {},
   "outputs": [],
   "source": [
    "nx.transitivity(G)"
   ]
  },
  {
   "cell_type": "markdown",
   "metadata": {
    "slideshow": {
     "slide_type": "slide"
    }
   },
   "source": [
    "### Transitivity of $G_{ER}(n, p)$ \n",
    "\n",
    "The transitivity of graph in $G_{ER}(n, p)$ is easy to estimate: for every triad, the \"third\" edge is present with probability $p$. So\n",
    "$$\n",
    "T = p,\n",
    "$$\n",
    "\n",
    "(Or: Compute $3 n_{\\Delta}/n_{\\wedge}$ using the explicit formulas\n",
    "from the previous lecture: $n_{\\Delta} = \\binom{n}{3}p^3$ and $n_{\\wedge} = 3 \\binom{n}{3}p^2$.)"
   ]
  },
  {
   "cell_type": "markdown",
   "metadata": {},
   "source": [
    "Let's check:"
   ]
  },
  {
   "cell_type": "code",
   "execution_count": null,
   "metadata": {},
   "outputs": [],
   "source": [
    "n,p = 100, 0.1\n",
    "T=nx.transitivity(nx.gnp_random_graph(n,p))\n",
    "print(f\"G({n},{p}) has T = {T:.3}\")"
   ]
  },
  {
   "cell_type": "markdown",
   "metadata": {
    "slideshow": {
     "slide_type": "slide"
    }
   },
   "source": [
    "## Clustering\n",
    "\n",
    "The concept of **clustering** measures the transitivity of a node, or of an entire graph in a different way.\n",
    "\n",
    "To define it, we need the concept of an **induced subgraph**."
   ]
  },
  {
   "cell_type": "markdown",
   "metadata": {
    "slideshow": {
     "slide_type": "subslide"
    }
   },
   "source": [
    "### Induced subgraph\n",
    "\n",
    "Given $G=(X,E)$ and $Y\\subset X$, the induced subgraph of $G$ on $Y$ is the graph $H=\\left(Y,E\\cap \\binom{Y}{2}\\right)$.\n",
    "\n",
    "That is: \n",
    "* $H$ is a subgraph of $G$, with node set $Y$\n",
    "* $H$ has all possible edges in $G$ for which both nodes are in $Y$.\n",
    "\n",
    "(See examples on board).\n",
    "\n",
    "In `networkx`, we can get an induced subgraph of $G$, on nodes $\\{x,y,z\\}$, from `G.subgraph([x,y,z])`\n"
   ]
  },
  {
   "cell_type": "markdown",
   "metadata": {
    "slideshow": {
     "slide_type": "subslide"
    }
   },
   "source": [
    "### Clustering coefficient\n",
    "**Definition (Clustering coefficient).**\n",
    "For a node $i \\in X$ of a graph $G = (X, E)$, denote by\n",
    "$G_i$ the subgraph induced on the neighbours of $i$ in $G$,\n",
    "and by $m(G_i)$ its number of edges."
   ]
  },
  {
   "cell_type": "markdown",
   "metadata": {},
   "source": [
    "The **node clustering coefficient** $c_i$ of node $i$ is defined\n",
    "as\n",
    "$$\n",
    "c_i = \\begin{cases}\n",
    "\\binom{k_i}{2}^{-1} m(G_i), & k_i \\geq 2, \\\\\n",
    "0, & \\text{else.}\n",
    "\\end{cases}\n",
    "$$\n",
    "That is, the node clustering coefficient measures the proportion of existing edges its **social graph** among the possible edges."
   ]
  },
  {
   "cell_type": "markdown",
   "metadata": {
    "slideshow": {
     "slide_type": "subslide"
    }
   },
   "source": [
    "**Example:**"
   ]
  },
  {
   "cell_type": "code",
   "execution_count": null,
   "metadata": {},
   "outputs": [],
   "source": [
    "G = nx.Graph([(0,1), (0,2), (1,2), (1,3), (2,4), (3,4)])\n",
    "nx.draw(G, **opts)"
   ]
  },
  {
   "cell_type": "markdown",
   "metadata": {
    "slideshow": {
     "slide_type": "subslide"
    }
   },
   "source": [
    "The graph induced by the neighbours of 0 is : "
   ]
  },
  {
   "cell_type": "code",
   "execution_count": null,
   "metadata": {},
   "outputs": [],
   "source": [
    "N = nx.neighbors(G, 0)\n",
    "S = G.subgraph(list(N))\n",
    "nx.draw(S, **opts)"
   ]
  },
  {
   "cell_type": "markdown",
   "metadata": {
    "slideshow": {
     "slide_type": "subslide"
    }
   },
   "source": [
    "Calculate the clustering coefficient for the nodes of $G$:"
   ]
  },
  {
   "cell_type": "code",
   "execution_count": null,
   "metadata": {},
   "outputs": [],
   "source": [
    "for i in G.nodes():\n",
    "    k_i = G.degree(i)\n",
    "    N = nx.neighbors(G, i)\n",
    "    S = G.subgraph(list(N))\n",
    "    c_i = S.size()/math.comb(k_i,2)\n",
    "    print(f\"Node {i} has clustering coef {c_i:0.4}\")\n"
   ]
  },
  {
   "cell_type": "markdown",
   "metadata": {},
   "source": [
    "Of course, there is a `networkx` function for this:"
   ]
  },
  {
   "cell_type": "code",
   "execution_count": null,
   "metadata": {
    "scrolled": true
   },
   "outputs": [],
   "source": [
    "nx.clustering(G)"
   ]
  },
  {
   "cell_type": "markdown",
   "metadata": {
    "slideshow": {
     "slide_type": "slide"
    }
   },
   "source": [
    "### Graph Clustering Coefficient\n",
    "The **graph clustering coefficient** $C$ of $G$ is the \n",
    "average node clustering coefficient,\n",
    "$$\n",
    "C = \\langle c\\rangle = \\frac1n \\sum_{i=1}^n c_i.\n",
    "$$\n",
    "By definition, $0 \\leq c_i \\leq 1$ for all nodes $i \\in X$, and $0 \\leq C \\leq 1$."
   ]
  },
  {
   "cell_type": "code",
   "execution_count": null,
   "metadata": {},
   "outputs": [],
   "source": [
    "nx.average_clustering(G)"
   ]
  },
  {
   "cell_type": "markdown",
   "metadata": {
    "slideshow": {
     "slide_type": "slide"
    }
   },
   "source": [
    "### Clustering for $G_{ER}(n,p)$\n",
    "The **node clustering coefficient** of any node $i$ in a $G_{ER}(n, p)$ **random graph** is\n",
    "$c_i = p$. (In any selection of potential edges, by construction a proportion $p$ of them is\n",
    "present in the random graph; this is true in particular for the $\\binom{k}{2}$ potential\n",
    "edges between the $k$ neighbors of a node of degree $k$.)"
   ]
  },
  {
   "cell_type": "markdown",
   "metadata": {},
   "source": [
    "Thus the **graph clustering coefficient** of a $G_{ER}(n, p)$ **random graph** is\n",
    "$$\n",
    "C = p.\n",
    "$$"
   ]
  },
  {
   "cell_type": "markdown",
   "metadata": {},
   "source": [
    "### IMPORTANT: Large $G_{ER}$ graphs have few triangles\n",
    "\n",
    "Note that when $p(n) = \\langle k \\rangle n^{-1}$ for a fixed expected average degree $\\langle k \\rangle$\n",
    "then $C = \\langle k \\rangle / n \\to 0$ for $n \\to \\infty$. That is **in large $G_{ER}$ random graphs, the number of triangles is negligible**.\n",
    "\n",
    "In real world networks, one often observes that $C / \\langle k \\rangle$ does not depend\n",
    "on $n$ (as $n \\to \\infty$)."
   ]
  },
  {
   "cell_type": "markdown",
   "metadata": {
    "slideshow": {
     "slide_type": "slide"
    }
   },
   "source": [
    "### Clustering vs Transitivity\n",
    "\n",
    "For a node $i \\in X$, denote by $n_i^{\\wedge} = \\binom{k_i}{2}$ the number of\n",
    "triads containing $i$ as their central node, and by $n_i^{\\Delta}$ the actual\n",
    "number of triangles containing $i$.\n",
    "\n",
    "Then the node clustering coefficient is $c_i = n_i^{\\Delta}/n_i^{\\wedge}$,\n",
    "or $n_i^{\\Delta} = n_i^{\\wedge} c_i$.\n",
    "\n",
    "Moreover $3 n_{\\Delta} = \\sum_i n_i^{\\Delta}$ and $n_{\\wedge} = \\sum_i n_i^{\\wedge}$."
   ]
  },
  {
   "cell_type": "markdown",
   "metadata": {},
   "source": [
    "It follows that\n",
    "$$\n",
    "T = \\frac{3 n_{\\Delta}}{n_{\\wedge}} = \\frac1{n_{\\wedge}} \\sum_i n_i^{\\wedge} c_i\n",
    "$$\n",
    "in contrast to\n",
    "$$\n",
    "C = \\frac1n \\sum_i c_i.\n",
    "$$"
   ]
  },
  {
   "cell_type": "markdown",
   "metadata": {},
   "source": [
    "That is, $C$ is the (plain) **average** of the node clustering coefficients, whereas $T$ is a\n",
    "**weighted average** of node clustering coefficients, giving higher weight to\n",
    "high degree nodes."
   ]
  },
  {
   "cell_type": "markdown",
   "metadata": {
    "slideshow": {
     "slide_type": "subslide"
    }
   },
   "source": [
    "The following example illustrates how $C$ and $T$ are different measures. This (very non-random) ensemble of networks has the property that, as $n \\to \\infty$ here, $T \\to 0$ while $C \\to 1$."
   ]
  },
  {
   "cell_type": "code",
   "execution_count": null,
   "metadata": {},
   "outputs": [],
   "source": [
    "n = 3 # try larger and larger n\n",
    "G = nx.Graph([\"AB\"])\n",
    "G.add_edges_from([(x, k) for x in \"AB\" for k in range(n)])\n",
    "nx.draw(G, **opts)"
   ]
  },
  {
   "cell_type": "code",
   "execution_count": null,
   "metadata": {},
   "outputs": [],
   "source": [
    "nx.average_clustering(G), nx.transitivity(G)"
   ]
  },
  {
   "cell_type": "markdown",
   "metadata": {
    "slideshow": {
     "slide_type": "subslide"
    }
   },
   "source": [
    "* The fact that ER random networks tend to have low transitivity and clustering shows the need of a new kind of (random) network construction\n",
    "that is better at modelling real world networks.\n",
    "\n",
    "* One idea, developed by Watts and Strogatz in 1998, is to start with some **regular network** that\n",
    "naturally has a **high clustering**, and then to randomly distort its edges, to introduce some **short paths**."
   ]
  },
  {
   "cell_type": "markdown",
   "metadata": {
    "slideshow": {
     "slide_type": "subslide"
    }
   },
   "source": [
    "**FINISHED HERE THURSDAY**"
   ]
  }
 ],
 "metadata": {
  "celltoolbar": "Slideshow",
  "kernelspec": {
   "display_name": "Python (CS4423)",
   "language": "python",
   "name": "cs4423"
  },
  "language_info": {
   "codemirror_mode": {
    "name": "ipython",
    "version": 3
   },
   "file_extension": ".py",
   "mimetype": "text/x-python",
   "name": "python",
   "nbconvert_exporter": "python",
   "pygments_lexer": "ipython3",
   "version": "3.12.8"
  },
  "toc": {
   "base_numbering": 1,
   "nav_menu": {},
   "number_sections": true,
   "sideBar": true,
   "skip_h1_title": true,
   "title_cell": "Table of Contents",
   "title_sidebar": "Contents",
   "toc_cell": true,
   "toc_position": {},
   "toc_section_display": true,
   "toc_window_display": false
  },
  "varInspector": {
   "cols": {
    "lenName": 16,
    "lenType": 16,
    "lenVar": 40
   },
   "kernels_config": {
    "python": {
     "delete_cmd_postfix": "",
     "delete_cmd_prefix": "del ",
     "library": "var_list.py",
     "varRefreshCmd": "print(var_dic_list())"
    },
    "r": {
     "delete_cmd_postfix": ") ",
     "delete_cmd_prefix": "rm(",
     "library": "var_list.r",
     "varRefreshCmd": "cat(var_dic_list()) "
    }
   },
   "types_to_exclude": [
    "module",
    "function",
    "builtin_function_or_method",
    "instance",
    "_Feature"
   ],
   "window_display": false
  }
 },
 "nbformat": 4,
 "nbformat_minor": 1
}
