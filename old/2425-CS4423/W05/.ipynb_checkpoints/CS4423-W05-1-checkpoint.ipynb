{
 "cells": [
  {
   "cell_type": "markdown",
   "metadata": {
    "toc": true
   },
   "source": [
    "<h1>Table of Contents<span class=\"tocSkip\"></span></h1>\n",
    "<div class=\"toc\"><ul class=\"toc-item\"><li><span><a href=\"#Modules-for-this-notebook\" data-toc-modified-id=\"Modules-for-this-notebook-1\"><span class=\"toc-item-num\">1&nbsp;&nbsp;</span>Modules for this notebook</a></span></li><li><span><a href=\"#Example\" data-toc-modified-id=\"Example-2\"><span class=\"toc-item-num\">2&nbsp;&nbsp;</span>Example</a></span></li><li><span><a href=\"#Trees\" data-toc-modified-id=\"Trees-3\"><span class=\"toc-item-num\">3&nbsp;&nbsp;</span>Trees</a></span><ul class=\"toc-item\"><li><span><a href=\"#Another-fact-about-trees\" data-toc-modified-id=\"Another-fact-about-trees-3.1\"><span class=\"toc-item-num\">3.1&nbsp;&nbsp;</span>Another fact about trees</a></span></li></ul></li><li><span><a href=\"#How-many-trees-are-there?\" data-toc-modified-id=\"How-many-trees-are-there?-4\"><span class=\"toc-item-num\">4&nbsp;&nbsp;</span>How many trees are there?</a></span><ul class=\"toc-item\"><li><span><a href=\"#Cayley's-Formula\" data-toc-modified-id=\"Cayley's-Formula-4.1\"><span class=\"toc-item-num\">4.1&nbsp;&nbsp;</span>Cayley's Formula</a></span></li><li><span><a href=\"#Computing-the-Prüfer--code\" data-toc-modified-id=\"Computing-the-Prüfer--code-4.2\"><span class=\"toc-item-num\">4.2&nbsp;&nbsp;</span>Computing the Prüfer  code</a></span></li><li><span><a href=\"#Making-a-tree-from-a-Prüfer-code\" data-toc-modified-id=\"Making-a-tree-from-a-Prüfer-code-4.3\"><span class=\"toc-item-num\">4.3&nbsp;&nbsp;</span>Making a tree from a Prüfer code</a></span></li></ul></li><li><span><a href=\"#Random-Trees\" data-toc-modified-id=\"Random-Trees-5\"><span class=\"toc-item-num\">5&nbsp;&nbsp;</span>Random Trees</a></span></li><li><span><a href=\"#Graph-and-Tree-Traversal\" data-toc-modified-id=\"Graph-and-Tree-Traversal-6\"><span class=\"toc-item-num\">6&nbsp;&nbsp;</span>Graph and Tree Traversal</a></span><ul class=\"toc-item\"><li><span><a href=\"#Depth-First-Search-(DFS)\" data-toc-modified-id=\"Depth-First-Search-(DFS)-6.1\"><span class=\"toc-item-num\">6.1&nbsp;&nbsp;</span>Depth First Search (DFS)</a></span></li><li><span><a href=\"#Breadth-First-Search-(BFS)\" data-toc-modified-id=\"Breadth-First-Search-(BFS)-6.2\"><span class=\"toc-item-num\">6.2&nbsp;&nbsp;</span>Breadth First Search (BFS)</a></span></li><li><span><a href=\"#Alternative-Implementations-(Extra:-won't-do-in-class)\" data-toc-modified-id=\"Alternative-Implementations-(Extra:-won't-do-in-class)-6.3\"><span class=\"toc-item-num\">6.3&nbsp;&nbsp;</span>Alternative Implementations (Extra: won't do in class)</a></span></li></ul></li><li><span><a href=\"#Exercises\" data-toc-modified-id=\"Exercises-7\"><span class=\"toc-item-num\">7&nbsp;&nbsp;</span>Exercises</a></span></li></ul></div>"
   ]
  },
  {
   "cell_type": "markdown",
   "metadata": {
    "slideshow": {
     "slide_type": "slide"
    }
   },
   "source": [
    "<h1>CS4423-Networks: Lecture 9 [$\\color{red}{\\text{Draft}}$]</h1>\n",
    "\n",
    "<h1>Week 5, Lecture 2: Trees and Algorithms</h1>\n",
    "Niall Madden, \n",
    "School of Mathematical and Statistical Sciences  \n",
    "University of Galway\n",
    "\n",
    "\n",
    "This Jupyter notebook, and PDF and HTML versions, can be found at https://www.niallmadden.ie/2425-CS4423/#Week05\n",
    "\n",
    "<div class=\"rc\"><font size=\"-1\"><em>This notebook was written by Niall Madden, adapted from notebooks by Angela Carnevale.</em></div>"
   ]
  },
  {
   "cell_type": "markdown",
   "metadata": {
    "slideshow": {
     "slide_type": "slide"
    }
   },
   "source": [
    "## Modules for this notebook\n",
    "Today, we'll default to light rose-coloured nodes, with has an RGB code of `#ffc5cb`. For more options, see \n",
    "https://matplotlib.org/stable/users/explain/colors/colors.html"
   ]
  },
  {
   "cell_type": "code",
   "execution_count": null,
   "metadata": {
    "slideshow": {
     "slide_type": "-"
    }
   },
   "outputs": [],
   "source": [
    "import networkx as nx\n",
    "import numpy as np\n",
    "opts = { \"with_labels\": True,  \"node_color\": '#ffc5cb' } # show labels; rose noodes"
   ]
  },
  {
   "cell_type": "markdown",
   "metadata": {
    "slideshow": {
     "slide_type": "slide"
    }
   },
   "source": [
    "## Example\n",
    "\n",
    "Short discussion (again) of paths and cycles, and connected componets"
   ]
  },
  {
   "cell_type": "code",
   "execution_count": null,
   "metadata": {
    "slideshow": {
     "slide_type": "-"
    }
   },
   "outputs": [],
   "source": [
    "nodes = 'ABCDEFGHIJ'\n",
    "edges = ['AB', 'CD', 'DE', 'CE', 'FG', 'FH', 'FI', 'GH', 'HI']\n",
    "G2 = nx.Graph()\n",
    "G2.add_nodes_from(nodes)\n",
    "G2.add_edges_from(edges)\n",
    "nx.draw_kamada_kawai(G2, **opts)"
   ]
  },
  {
   "cell_type": "markdown",
   "metadata": {
    "slideshow": {
     "slide_type": "subslide"
    }
   },
   "source": [
    "* A cycle in a simple graph provides, for any two nodes on that cycle, (at least) two different paths from one to the other.\n",
    "* It can be useful to provide alternative routes for connectivity in case one of the edges should fail (e.g. in a electricity networks). \n",
    "* $(C,D,E,C)$ is a 3-cycle; there are others too.\n",
    "* The graph is not connected: there are 4 connected components."
   ]
  },
  {
   "cell_type": "markdown",
   "metadata": {
    "slideshow": {
     "slide_type": "slide"
    }
   },
   "source": [
    "##  Trees"
   ]
  },
  {
   "cell_type": "markdown",
   "metadata": {
    "slideshow": {
     "slide_type": "-"
    }
   },
   "source": [
    "* A graph is called **acyclic** if it does not contain any cycles.\n",
    "\n",
    "*    A <b>tree</b> is a (simple) graph that is <b>connected</b> and <b>acyclic</b>.\n",
    "\n",
    "In other words, between any two vertices in a tree there is **exactly one simple path**."
   ]
  },
  {
   "cell_type": "markdown",
   "metadata": {
    "slideshow": {
     "slide_type": "subslide"
    }
   },
   "source": [
    "Trees can be characterized in many different ways.\n",
    "\n",
    "\n",
    "\n",
    "**Theorem.**  Let $G = (X, E)$ be a (simple) graph of order $n = |X|$\n",
    "and size $m = |E|$.\n",
    "Then the following are equivalent:"
   ]
  },
  {
   "cell_type": "markdown",
   "metadata": {
    "slideshow": {
     "slide_type": "-"
    }
   },
   "source": [
    "* $G$ is a tree (i.e. acyclic and connected);\n",
    "\n",
    "* $G$ is connected and $m = n-1$;\n",
    "\n",
    "* $G$ is a minimally connected graph (i.e., removing any edge will disconnect $G$);\n",
    "\n",
    "* $G$ is acyclic and $m = n-1$;\n",
    "\n",
    "* $G$ is a maximally acyclic graph (i.e., adding any edge will introduce a cycle in $G$).\n",
    "* There is a unique path between each pair of nodes in $G$."
   ]
  },
  {
   "cell_type": "markdown",
   "metadata": {
    "slideshow": {
     "slide_type": "subslide"
    }
   },
   "source": [
    "### Another fact about trees\n",
    "\n",
    "**All trees are bipartite.** There are a few ways of thinking about this. One is the a graph is bipartite if has no cycles of odd-length. Since a tree has no cycles - it must be bipartite!"
   ]
  },
  {
   "cell_type": "code",
   "execution_count": null,
   "metadata": {},
   "outputs": [],
   "source": [
    "G3 = nx.Graph([\"ac\",\"bc\",\"cd\",\"de\", \"df\", \"dg\",\"gh\", \"hi\", \"hj\", \"hk\"])\n",
    "top,bottom = nx.bipartite.sets(G3)\n",
    "G3_colours = ['c' if node in top else 'm' for node in G3.nodes()]\n",
    "nx.draw(G3, node_color=G3_colours, with_labels=True   )"
   ]
  },
  {
   "cell_type": "markdown",
   "metadata": {
    "slideshow": {
     "slide_type": "subslide"
    }
   },
   "source": [
    "## How many trees are there?\n",
    "1. There is one tree with a single node.\n",
    "2. There is also just one tree with two nodes.\n",
    "3. We can easily see that there are 3 trees with 3 nodes (see notes on the board).\n",
    "4. After that, it gets a little harder to count!"
   ]
  },
  {
   "cell_type": "markdown",
   "metadata": {
    "slideshow": {
     "slide_type": "subslide"
    }
   },
   "source": [
    "### Cayley's Formula\n",
    "<b>Theorem (Cayley's Formula).</b>\n",
    "    There are exactly $n^{n-2}$ distinct (labelled) trees on the $n$-element vertex set \n",
    "    $X = \\{0, 1, 2, \\dots, n-1\\}$, if $n > 1$.\n",
    "    \n",
    "We'll later see why this is true.    But let's see what the numbers look like:"
   ]
  },
  {
   "cell_type": "code",
   "execution_count": null,
   "metadata": {},
   "outputs": [],
   "source": [
    "domain = range(2, 10)\n",
    "print(np.array([domain, [n**(n-2) for n in domain]]))"
   ]
  },
  {
   "cell_type": "markdown",
   "metadata": {
    "slideshow": {
     "slide_type": "-"
    }
   },
   "source": [
    "To see why this is true, we'll learn about [**Prüfer Codes**](https://en.wikipedia.org/wiki/Pr%C3%BCfer_sequence)."
   ]
  },
  {
   "cell_type": "markdown",
   "metadata": {
    "slideshow": {
     "slide_type": "subslide"
    }
   },
   "source": [
    "Let's look at an example: a tree of order $n=7$"
   ]
  },
  {
   "cell_type": "code",
   "execution_count": null,
   "metadata": {
    "slideshow": {
     "slide_type": "-"
    }
   },
   "outputs": [],
   "source": [
    "T4 = nx.Graph()\n",
    "T4.add_nodes_from(range(0,7))\n",
    "T4.add_edges_from([(0,1),(1,2),(2,3),(2,4),(2,5),(1,6)])\n",
    "nx.draw(T4, **opts)"
   ]
  },
  {
   "cell_type": "markdown",
   "metadata": {
    "slideshow": {
     "slide_type": "subslide"
    }
   },
   "source": [
    "### Computing the Prüfer  code\n",
    "\n",
    "How to determine the Prüfer code of a tree $T$ (destructively):\n",
    "\n",
    "* Start with a tree, $T$ with nodes labeled $0, 1, \\dots, n-1$, and empty list $\\mathbf{a}$.\n",
    "1. Find the **leaf** $x$ with the smallest label (a \"_leaf_\" is a node of degree 1. Every tree must have at least 2).\n",
    "2. Append the label of its unique neighbour, $y$ to the list $\\mathbf{a}$\n",
    "3. Remove $x$ (and the edge $x - y$) from $T$.\n",
    "4. Repeat Steps 1-3 until $T$ has only $2$ nodes left.\n",
    "We now have the code as a list of length $n-2$."
   ]
  },
  {
   "cell_type": "markdown",
   "metadata": {},
   "source": [
    "So the graph above has Pruefer code $\\{1,2,2,2,1\\}$"
   ]
  },
  {
   "cell_type": "markdown",
   "metadata": {
    "slideshow": {
     "slide_type": "subslide"
    }
   },
   "source": [
    "We'll write some code to compute the Prufer code of a tree. \n",
    "\n",
    "Since the algorithm is recursive, we first write a function that does Steps 1-3: \n",
    "* Find the **leaf** `x` with the smallest label\n",
    "* Set `y` to be its neighbour.\n",
    "* Delete `x` from `T`\n",
    "* Return `y`\n",
    "\n",
    "One of the steps involves finding the neighbour of $x$. A minor technical issue is that the method `T.neighbours(x)` returns a iterable. To get its one and only item, we'll use the `next()` function (there are a few other ways to do this, including converting it to a list)`.\n"
   ]
  },
  {
   "cell_type": "code",
   "execution_count": null,
   "metadata": {
    "slideshow": {
     "slide_type": "subslide"
    }
   },
   "outputs": [],
   "source": [
    "# Does Steps 1-3 of the Algorithm\n",
    "def pruefer_node(tree):\n",
    "    for x in tree:   # go through nodes in order\n",
    "        if tree.degree(x) == 1:  # first one of degree 1 (is a leaf)\n",
    "            y = next(tree.neighbors(x))  # y is its only neighbour\n",
    "            tree.remove_node(x)\n",
    "            return(y)"
   ]
  },
  {
   "cell_type": "markdown",
   "metadata": {
    "slideshow": {
     "slide_type": "subslide"
    }
   },
   "source": [
    "Since our function destroys the list, we'll make a copy before we start. Also, since we know the list has length $n-2$, we just call this function $n-2$ times, adding the value returned to the list:"
   ]
  },
  {
   "cell_type": "code",
   "execution_count": null,
   "metadata": {},
   "outputs": [],
   "source": [
    "n = T4.order()\n",
    "T = T4.copy()\n",
    "a = [] # empty list \n",
    "for k in range(n-2):\n",
    "    y = pruefer_node(T)\n",
    "    a+=[y] \n",
    "print(a)"
   ]
  },
  {
   "cell_type": "markdown",
   "metadata": {},
   "source": [
    "If you prefer list comprehension:"
   ]
  },
  {
   "cell_type": "code",
   "execution_count": null,
   "metadata": {
    "slideshow": {
     "slide_type": "-"
    }
   },
   "outputs": [],
   "source": [
    "T = T4.copy()\n",
    "a = [pruefer_node(T) for k in range(n-2)]\n",
    "print(a)"
   ]
  },
  {
   "cell_type": "markdown",
   "metadata": {
    "slideshow": {
     "slide_type": "subslide"
    }
   },
   "source": [
    "Let's wrap this up as a `python` function"
   ]
  },
  {
   "cell_type": "code",
   "execution_count": null,
   "metadata": {
    "slideshow": {
     "slide_type": "-"
    }
   },
   "outputs": [],
   "source": [
    "def pruefer_code(tree):\n",
    "    return [pruefer_node(tree) for k in range(tree.order() - 2)]"
   ]
  },
  {
   "cell_type": "markdown",
   "metadata": {},
   "source": [
    "Test it:"
   ]
  },
  {
   "cell_type": "code",
   "execution_count": null,
   "metadata": {
    "slideshow": {
     "slide_type": "-"
    }
   },
   "outputs": [],
   "source": [
    "T = T4.copy()\n",
    "code = pruefer_code(T)\n",
    "code"
   ]
  },
  {
   "cell_type": "markdown",
   "metadata": {
    "slideshow": {
     "slide_type": "subslide"
    }
   },
   "source": [
    "### Making a tree from a Prüfer code\n",
    "Maybe surprisingly, the tree can be reconstructed from its Prüfer code.  This is based on the following fact\n",
    "and shows that the map from trees to codes is a bijection!\n",
    "\n",
    "\n",
    "<b>Fact:</b> The degree of node $x$ is $1$ plus the number of entries $x$ in the Prüfer code of $T$.\n",
    "\n",
    "**Example**"
   ]
  },
  {
   "cell_type": "code",
   "execution_count": null,
   "metadata": {
    "slideshow": {
     "slide_type": "-"
    }
   },
   "outputs": [],
   "source": [
    "d = n*[1] # list of n 1's/\n",
    "for k in code:\n",
    "    d[k] += 1\n",
    "print(f\"degree list: {d}\")"
   ]
  },
  {
   "cell_type": "code",
   "execution_count": null,
   "metadata": {
    "slideshow": {
     "slide_type": "-"
    }
   },
   "outputs": [],
   "source": [
    "print(f'Check: {[T4.degree[x] for x in T4]}')"
   ]
  },
  {
   "cell_type": "markdown",
   "metadata": {
    "slideshow": {
     "slide_type": "subslide"
    }
   },
   "source": [
    "*How to compute a tree from a Prüfer code `a`*\n",
    "(Note that `a` is a list of length $n-2$, with all entries numbers $0$ to $n-1$).\n",
    "\n",
    "1. Set `G` to be a graph with node list `[0, 1, 2, ..., n-1]` (and no edges yet).\n",
    "2. Compute the list of node degrees `d`  from the code.\n",
    "3. For $k=0, 1, \\dots n-2$\n",
    "   * Set `y=a[k]`\n",
    "   * Set `x` to be the node with smallest degree in `d`\n",
    "   * Add the edge `(x,y)` to `G`\n",
    "   * Set `d[x]=d[x]-1` and `d[y]=d[y]-1` (i.e., decrease the degrees of both `x` and `y` by $1$).\n",
    "4. Finally, connect the remaining $2$ nodes of degrees $1$ by an edge.\n",
    "\n",
    "_Tip_: if `d` is a list, `d.index(1)` returns the index of the first entry of `d` that has the value `1`."
   ]
  },
  {
   "cell_type": "code",
   "execution_count": null,
   "metadata": {
    "slideshow": {
     "slide_type": "subslide"
    }
   },
   "outputs": [],
   "source": [
    "T4a = nx.empty_graph( T4.order() )\n",
    "nx.draw(T4a, **opts)"
   ]
  },
  {
   "cell_type": "code",
   "execution_count": null,
   "metadata": {
    "slideshow": {
     "slide_type": "subslide"
    }
   },
   "outputs": [],
   "source": [
    "code"
   ]
  },
  {
   "cell_type": "code",
   "execution_count": null,
   "metadata": {
    "slideshow": {
     "slide_type": "-"
    }
   },
   "outputs": [],
   "source": [
    "d = n*[1] # list of n 1's/\n",
    "for k in code:\n",
    "    d[k] += 1\n",
    "# repeat n-2 times:\n",
    "for k in range(n-2):\n",
    "    y = a[k]\n",
    "    x = d.index(1) # firsty\n",
    "    T4a.add_edge(x, y)\n",
    "    d[x] -= 1;  d[y] -= 1\n",
    "    print(f'Degrees = {d} : adding edge {x}-{y}')\n"
   ]
  },
  {
   "cell_type": "markdown",
   "metadata": {
    "slideshow": {
     "slide_type": "subslide"
    }
   },
   "source": [
    "Add the final edge, by find the index to the remaining two 1's. We can find the first with `x=d.index(1)`, and the second with `y=d.index(1, x+1)` (could also use list comprehension, of course: see below)."
   ]
  },
  {
   "cell_type": "code",
   "execution_count": null,
   "metadata": {
    "slideshow": {
     "slide_type": "-"
    }
   },
   "outputs": [],
   "source": [
    "x = d.index(1)\n",
    "y = d.index(1, x+1)\n",
    "T4a.add_edge(x,y)"
   ]
  },
  {
   "cell_type": "code",
   "execution_count": null,
   "metadata": {
    "slideshow": {
     "slide_type": "subslide"
    }
   },
   "outputs": [],
   "source": [
    "nx.draw(T4a, **opts)"
   ]
  },
  {
   "cell_type": "markdown",
   "metadata": {},
   "source": [
    "<div class=\"alert alert-block alert-info\">Finished here Wednesday</div>"
   ]
  },
  {
   "cell_type": "markdown",
   "metadata": {
    "slideshow": {
     "slide_type": "subslide"
    }
   },
   "source": [
    "Turn the entire procedure into a `python` function:"
   ]
  },
  {
   "cell_type": "code",
   "execution_count": null,
   "metadata": {
    "slideshow": {
     "slide_type": "-"
    }
   },
   "outputs": [],
   "source": [
    "def pruefer_to_tree(code):\n",
    "    # initialize graph and defects\n",
    "    n = len(code) + 2\n",
    "    tree = nx.empty_graph(n)\n",
    "    d = n*[1]\n",
    "    for y in code:\n",
    "        d[y] += 1\n",
    "        \n",
    "    # add edges\n",
    "    for y in code:\n",
    "        x = d.index(1) \n",
    "        tree.add_edge(x, y)\n",
    "        d[x]-=1; d[y]-=1;                \n",
    "    # final edge\n",
    "    e = [x for x in tree if d[x] == 1]\n",
    "    tree.add_edge(*e)\n",
    "    return tree"
   ]
  },
  {
   "cell_type": "markdown",
   "metadata": {
    "slideshow": {
     "slide_type": "subslide"
    }
   },
   "source": [
    "Let's check it works:"
   ]
  },
  {
   "cell_type": "code",
   "execution_count": null,
   "metadata": {},
   "outputs": [],
   "source": [
    "T4b = pruefer_to_tree([1,2,2])\n",
    "nx.draw(T4b, **opts)"
   ]
  },
  {
   "cell_type": "markdown",
   "metadata": {
    "slideshow": {
     "slide_type": "subslide"
    }
   },
   "source": [
    "Since we have now sown that there is a bijection between labeled trees and Prüfer codes, we can prove Cayley's Theorem easily:\n",
    "* A tree with $n$ nodes has a Prüfer code of length $n-2$.\n",
    "* There are $n$ choices for each entry in the code.\n",
    "* So there are $n^{n-2}$ possible codes for a tree with $n$ nodes\n",
    "* So there are $n^{n-2}$ possible trees with $n$ nodes."
   ]
  },
  {
   "cell_type": "markdown",
   "metadata": {
    "slideshow": {
     "slide_type": "slide"
    }
   },
   "source": [
    "## Random Trees\n",
    "\n",
    "We can ask `networkx` to produce a **random tree** with a given number of nodes:"
   ]
  },
  {
   "cell_type": "code",
   "execution_count": null,
   "metadata": {},
   "outputs": [],
   "source": [
    "n = 8\n",
    "T5 = nx.random_tree(9)\n",
    "nx.draw(T5, **opts)"
   ]
  },
  {
   "cell_type": "markdown",
   "metadata": {
    "slideshow": {
     "slide_type": "subslide"
    }
   },
   "source": [
    "However, are can also construct a random tree on $n$ nodes from a random Prüfer code of length $n-2$."
   ]
  },
  {
   "cell_type": "code",
   "execution_count": null,
   "metadata": {
    "slideshow": {
     "slide_type": "-"
    }
   },
   "outputs": [],
   "source": [
    "code = np.random.randint(n, size=n-2)\n",
    "print(f\"code={code}\")"
   ]
  },
  {
   "cell_type": "code",
   "execution_count": null,
   "metadata": {
    "slideshow": {
     "slide_type": "subslide"
    }
   },
   "outputs": [],
   "source": [
    "T5a = pruefer_to_tree(code)\n",
    "nx.draw(T5a, **opts)"
   ]
  },
  {
   "cell_type": "markdown",
   "metadata": {
    "slideshow": {
     "slide_type": "slide"
    }
   },
   "source": [
    "## Graph and Tree Traversal\n",
    "\n",
    "Often one has to search through a network to check properties of nodes (e.g., finding the node with largest degree). For large unstructured networks, this could be challenging. Fortunately,  there are simple and efficient algorithms: \n",
    "* [DFS](https://en.wikipedia.org/wiki/Depth-first_search)\n",
    "* [BFS](https://en.wikipedia.org/wiki/Breadth-first_search)\n"
   ]
  },
  {
   "cell_type": "markdown",
   "metadata": {
    "slideshow": {
     "slide_type": "subslide"
    }
   },
   "source": [
    "### Depth First Search (DFS)\n",
    "\n",
    "*DFS* works by starting at a root node, and travelling as far along one of its branches as it can, then returning the the last unexplored branch.\n",
    "\n",
    "The main data structure we'll need is a [**stack**](https://en.wikipedia.org/wiki/Stack_(abstract_data_type)), also called a \"_Last In First Out (LIFO) queue_\". It has two operations:\n",
    "* `S.push(x)`: pushes `x` onto the top of the stack (We'll use the `extend()` method)\n",
    "* `y=S.pop()`: pops/removes the item from the top of the stack and stores it in `y\n",
    "\n",
    "\n",
    "**DFS**: Given a rooted tree $T$ with root $x$, visit all nodes in the tree. \n",
    "Start with an empty stack, `S`:\n",
    "* `S.push(x)`\n",
    "* while $S \\neq \\emptyset$:\n",
    "    * &nbsp; `y = S.pop()` \n",
    "    * &nbsp; visit(`y`) \n",
    "    * &nbsp; `S.push(y.children)`\n"
   ]
  },
  {
   "cell_type": "markdown",
   "metadata": {
    "slideshow": {
     "slide_type": "subslide"
    }
   },
   "source": [
    "Let's create a tree to try this:"
   ]
  },
  {
   "cell_type": "code",
   "execution_count": null,
   "metadata": {},
   "outputs": [],
   "source": [
    "T6 = nx.Graph()\n",
    "T6.add_nodes_from(range(10))\n",
    "T6.add_edges_from([(0,1), (0,2), (2,3), (3,4), (1,5), (0,6),(0,7),(7,8),(7,9)])\n",
    "nx.draw(T6, **opts)\n",
    "print(f\"Edges of T6 are {T6.edges()}\")"
   ]
  },
  {
   "cell_type": "markdown",
   "metadata": {
    "slideshow": {
     "slide_type": "subslide"
    }
   },
   "source": [
    "Now try the algorithm"
   ]
  },
  {
   "cell_type": "code",
   "execution_count": null,
   "metadata": {
    "slideshow": {
     "slide_type": "-"
    }
   },
   "outputs": [],
   "source": [
    "T = T6.copy()\n",
    "x = 0\n",
    "S = [x]\n",
    "while len(S) > 0:\n",
    "    y = S.pop()\n",
    "    S.extend(T[y])\n",
    "    T.remove_node(y)\n",
    "    print(y, S)"
   ]
  },
  {
   "cell_type": "markdown",
   "metadata": {
    "slideshow": {
     "slide_type": "subslide"
    }
   },
   "source": [
    "### Breadth First Search (BFS)\n",
    "\n",
    "*BFS* works by starting at a root node, and explores all the neighbouring nodes (\"Level 1\") first. Next it searches their neighbours (\"Level 2\"), etc.\n",
    "\n",
    "The main data structure we'll need is a [**queue**](https://en.wikipedia.org/wiki/Queue_(abstract_data_type), also called a \"_First In First Out (FIFO) queue_\". It has two operations:\n",
    "* `Q.extend(l)`: adds the items in the list `l` to the end of `Q`\n",
    "* `y=S.pop(0)`: pops/removes the _first_ item from queue, and stores it in `y\n",
    "\n",
    "**BFS**: Given a rooted tree $T$ with root $x$, visit all nodes in the tree. \n",
    "Start with an empty list/queue, `Q`:\n",
    "* `Q.push(x)`\n",
    "* while $Q \\neq \\emptyset$:\n",
    "    * &nbsp; `y = Q.pop(0)` \n",
    "    * &nbsp; visit(`y`) \n",
    "    * &nbsp; `Q.push(y.children)`\n",
    "    "
   ]
  },
  {
   "cell_type": "markdown",
   "metadata": {
    "slideshow": {
     "slide_type": "subslide"
    }
   },
   "source": [
    "Let's test it:"
   ]
  },
  {
   "cell_type": "code",
   "execution_count": null,
   "metadata": {},
   "outputs": [],
   "source": [
    "T = T6.copy()\n",
    "x = 0\n",
    "Q = [x]\n",
    "while len(Q) > 0:\n",
    "    y = Q.pop(0)\n",
    "    Q.extend(T[y])\n",
    "    T.remove_node(y)\n",
    "    print(y, Q)"
   ]
  },
  {
   "cell_type": "markdown",
   "metadata": {
    "slideshow": {
     "slide_type": "subslide"
    }
   },
   "source": [
    "Many questions on networks concerning distance and connectivity can\n",
    "be answered by a versatile strategy involving a subgraph which is a tree, and then searching that.\n",
    "Such a tree is called a **spanning tree** of the underlying graph."
   ]
  },
  {
   "cell_type": "markdown",
   "metadata": {
    "slideshow": {
     "slide_type": "subslide"
    }
   },
   "source": [
    "### Alternative Implementations (Extra: won't do in class)\n",
    "\n",
    "Both DFS and BFS are more like strategies, rather than specific algorithms.\n",
    "Different problems might require different implementations.\n",
    "Sometimes, the stack, or the queue don't have to be made explicit:\n",
    "\n",
    "* In a recursive implementation, DFS can make use of the (`python`) interpreter's\n",
    "  **function call stack**.\n",
    "  \n",
    "* BFS can take advantage of the fact that some types of lists in a (`python`) `for` loops\n",
    "  are largely organized as **queues**.\n"
   ]
  },
  {
   "cell_type": "markdown",
   "metadata": {},
   "source": [
    "In order to keep track of which nodes have already been visited, we maintain for each node\n",
    "an attribute `\"seen\"` that is initially `False`, and becomes `True` when the DFS/BFS visits the node.\n",
    "\n"
   ]
  },
  {
   "cell_type": "markdown",
   "metadata": {
    "slideshow": {
     "slide_type": "subslide"
    }
   },
   "source": [
    "In `networkx`, the attributes of a node `x` in a graph `G` are kept in a dictionary `G.nodes[x]`."
   ]
  },
  {
   "cell_type": "code",
   "execution_count": null,
   "metadata": {},
   "outputs": [],
   "source": [
    "n = 10\n",
    "T6a = nx.random_tree(n)\n",
    "nx.draw(T6a, **opts)"
   ]
  },
  {
   "cell_type": "code",
   "execution_count": null,
   "metadata": {},
   "outputs": [],
   "source": [
    "TT = T6a.copy()\n",
    "for x in TT:\n",
    "    TT.nodes[x]['seen'] = False\n",
    "TT.nodes('seen')"
   ]
  },
  {
   "cell_type": "markdown",
   "metadata": {
    "slideshow": {
     "slide_type": "subslide"
    }
   },
   "source": [
    "* DFS on a tree:"
   ]
  },
  {
   "cell_type": "code",
   "execution_count": null,
   "metadata": {},
   "outputs": [],
   "source": [
    "def dfs(tree, x):      \n",
    "    print(x, end=', ') \n",
    "    tree.nodes[x]['seen'] = True\n",
    "    for z in tree[x]:\n",
    "        if not tree.nodes[z]['seen']:\n",
    "            dfs(tree, z)  "
   ]
  },
  {
   "cell_type": "code",
   "execution_count": null,
   "metadata": {},
   "outputs": [],
   "source": [
    "dfs(TT, 3)"
   ]
  },
  {
   "cell_type": "markdown",
   "metadata": {
    "slideshow": {
     "slide_type": "subslide"
    }
   },
   "source": [
    "* BFS on a tree:"
   ]
  },
  {
   "cell_type": "code",
   "execution_count": null,
   "metadata": {},
   "outputs": [],
   "source": [
    "TT = T6a.copy()\n",
    "for x in TT:\n",
    "    TT.nodes[x]['seen'] = False"
   ]
  },
  {
   "cell_type": "code",
   "execution_count": null,
   "metadata": {},
   "outputs": [],
   "source": [
    "Q = [3]\n",
    "TT.nodes[3]['seen'] = True\n",
    "for y in Q:\n",
    "    print(y, end=', ')\n",
    "    for z in TT[y]:\n",
    "        if not TT.nodes[z]['seen']:\n",
    "            Q.append(z)\n",
    "            TT.nodes[z]['seen'] = True"
   ]
  },
  {
   "cell_type": "code",
   "execution_count": null,
   "metadata": {},
   "outputs": [],
   "source": [
    "nx.draw(TT, **opts)"
   ]
  },
  {
   "cell_type": "markdown",
   "metadata": {
    "slideshow": {
     "slide_type": "slide"
    }
   },
   "source": [
    "## Exercises\n",
    "\n",
    "1.  A tree $T$ uniquely determines its Prüfer code,\n",
    "and hence the two nodes that remain after (destructively)\n",
    "computing the code.   What are those two nodes, in terms of\n",
    "properties of $T$, or its Prüfer code?\n",
    "\n",
    "2. \n",
    "    1. What tree has Prüfer code $[0, 1, 2, \\dots, n-3]$?\n",
    "    2. What tree has Prüfer code $[\\underbrace{0, 0, 0, \\dots, 0}_{n-2 \\text{ zeros}}]$?\n",
    "    3. What tree has Prüfer code $[0, 1, 2, \\dots, n-3]$?\n",
    "\n",
    "3. Give the Prüfer for the tree with nodes $\\{0,1,2,3,4,5\\}$ and edges $0-1$, $0-2$, $1-3$, $1-4$, $2-5$\n",
    "\n"
   ]
  }
 ],
 "metadata": {
  "celltoolbar": "Slideshow",
  "kernelspec": {
   "display_name": "Python 3 (ipykernel)",
   "language": "python",
   "name": "python3"
  },
  "language_info": {
   "codemirror_mode": {
    "name": "ipython",
    "version": 3
   },
   "file_extension": ".py",
   "mimetype": "text/x-python",
   "name": "python",
   "nbconvert_exporter": "python",
   "pygments_lexer": "ipython3",
   "version": "3.11.6"
  },
  "toc": {
   "base_numbering": 1,
   "nav_menu": {},
   "number_sections": true,
   "sideBar": true,
   "skip_h1_title": true,
   "title_cell": "Table of Contents",
   "title_sidebar": "Contents",
   "toc_cell": true,
   "toc_position": {},
   "toc_section_display": true,
   "toc_window_display": false
  },
  "varInspector": {
   "cols": {
    "lenName": 16,
    "lenType": 16,
    "lenVar": 40
   },
   "kernels_config": {
    "python": {
     "delete_cmd_postfix": "",
     "delete_cmd_prefix": "del ",
     "library": "var_list.py",
     "varRefreshCmd": "print(var_dic_list())"
    },
    "r": {
     "delete_cmd_postfix": ") ",
     "delete_cmd_prefix": "rm(",
     "library": "var_list.r",
     "varRefreshCmd": "cat(var_dic_list()) "
    }
   },
   "types_to_exclude": [
    "module",
    "function",
    "builtin_function_or_method",
    "instance",
    "_Feature"
   ],
   "window_display": false
  }
 },
 "nbformat": 4,
 "nbformat_minor": 1
}
