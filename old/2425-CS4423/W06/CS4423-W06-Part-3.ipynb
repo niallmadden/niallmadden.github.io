{
 "cells": [
  {
   "cell_type": "markdown",
   "metadata": {
    "toc": true
   },
   "source": [
    "<h1>Table of Contents<span class=\"tocSkip\"></span></h1>\n",
    "<div class=\"toc\"><ul class=\"toc-item\"><li><ul class=\"toc-item\"><li><span><a href=\"#Modules-for-this-notebook\" data-toc-modified-id=\"Modules-for-this-notebook-0.1\"><span class=\"toc-item-num\">0.1&nbsp;&nbsp;</span>Modules for this notebook</a></span></li></ul></li><li><span><a href=\"#Eigenvector-Centrality\" data-toc-modified-id=\"Eigenvector-Centrality-1\"><span class=\"toc-item-num\">1&nbsp;&nbsp;</span>Eigenvector Centrality</a></span><ul class=\"toc-item\"><li><span><a href=\"#Normalisation\" data-toc-modified-id=\"Normalisation-1.1\"><span class=\"toc-item-num\">1.1&nbsp;&nbsp;</span>Normalisation</a></span></li><li><span><a href=\"#Computing-Eigenvalues\" data-toc-modified-id=\"Computing-Eigenvalues-1.2\"><span class=\"toc-item-num\">1.2&nbsp;&nbsp;</span>Computing Eigenvalues</a></span></li></ul></li><li><span><a href=\"#Eigenvalues-of-adjacency-matrices\" data-toc-modified-id=\"Eigenvalues-of-adjacency-matrices-2\"><span class=\"toc-item-num\">2&nbsp;&nbsp;</span>Eigenvalues of adjacency matrices</a></span><ul class=\"toc-item\"><li><span><a href=\"#Example-1:-$G=C_5$\" data-toc-modified-id=\"Example-1:-$G=C_5$-2.1\"><span class=\"toc-item-num\">2.1&nbsp;&nbsp;</span>Example 1: $G=C_5$</a></span></li><li><span><a href=\"#Example-1:-$G=P_5$\" data-toc-modified-id=\"Example-1:-$G=P_5$-2.2\"><span class=\"toc-item-num\">2.2&nbsp;&nbsp;</span>Example 1: $G=P_5$</a></span></li><li><span><a href=\"#Example-3\" data-toc-modified-id=\"Example-3-2.3\"><span class=\"toc-item-num\">2.3&nbsp;&nbsp;</span>Example 3</a></span></li></ul></li><li><span><a href=\"#The-Power-Method\" data-toc-modified-id=\"The-Power-Method-3\"><span class=\"toc-item-num\">3&nbsp;&nbsp;</span>The Power Method</a></span></li></ul></div>"
   ]
  },
  {
   "cell_type": "markdown",
   "metadata": {
    "slideshow": {
     "slide_type": "slide"
    }
   },
   "source": [
    "<h1>CS4423-Networks: Week 6 (19+20 Feb 2025) \n",
    "\n",
    "# Part 3: Eigenvector Centrality - Computation\n",
    "Niall Madden, \n",
    "School of Mathematical and Statistical Sciences  \n",
    "University of Galway\n",
    "\n",
    "\n",
    "This Jupyter notebook, and PDF and HTML versions, can be found at https://www.niallmadden.ie/2425-CS4423/#Week06\n",
    "\n",
    "<div class=\"rc\"><font size=\"-1\"><em>This notebook was written by Niall Madden, adapted from notebooks by Angela Carnevale.</em></div>"
   ]
  },
  {
   "cell_type": "markdown",
   "metadata": {
    "slideshow": {
     "slide_type": "subslide"
    }
   },
   "source": [
    "### Modules for this notebook"
   ]
  },
  {
   "cell_type": "code",
   "execution_count": 1,
   "metadata": {
    "slideshow": {
     "slide_type": "-"
    }
   },
   "outputs": [],
   "source": [
    "import networkx as nx\n",
    "import numpy as np\n",
    "opts = { \"with_labels\": True,  \"node_color\": \"xkcd:sky blue\"} # show labels; nodes are sky blue\n",
    "\n",
    "np.set_printoptions(precision=3)    # just display arrays to 3 decimal places\n",
    "np.set_printoptions(suppress=True)  # avoid scientific notation (better for matrices)"
   ]
  },
  {
   "cell_type": "markdown",
   "metadata": {
    "slideshow": {
     "slide_type": "slide"
    }
   },
   "source": [
    "## Eigenvector Centrality\n",
    "\n",
    "So now we know (see `CS4423-W06-Part-2.pdf`) \n",
    "* The  adjacency matrix, $A$ of a connected graph, $G$, is an irreducible non-negative matrix.\n",
    "* So the P-F Therom applies to it\n",
    "* So $A$ has an eigenvalue that is real and positive, and greater than the modulus of any other.\n",
    "* It has a corresponding positive eigenvector,  $\\vec v$.\n",
    "* $v_i$ is the Eigenvector Centrality node $i$.\n",
    "\n",
    "\n"
   ]
  },
  {
   "cell_type": "markdown",
   "metadata": {
    "slideshow": {
     "slide_type": "subslide"
    }
   },
   "source": [
    "### Normalisation\n",
    "\n",
    "One minor issue is that any multiple of $\\vec v$ is also an eigenvector for the same eigenvalue. This is not a major problem: we are mainly interested in if, for example $v_i > v_j$ which would mean that Node $i$  has greater centrality than Node $j$. \n",
    "\n",
    "Nonetheless, by convection we choose  $\\vec v$  so that \n",
    "* $\\vec v >0$ (already discussed)\n",
    "* $\\vec v^T \\vec v =1$ (equivalently, $\\|\\vec v\\|_2 = \\sqrt{v_1^2 + v_2^2 + \\dots v_n^2} =1$\n",
    "\n",
    "We say such an eigenvector is **normalised**.\n",
    "\n"
   ]
  },
  {
   "cell_type": "markdown",
   "metadata": {
    "slideshow": {
     "slide_type": "slide"
    }
   },
   "source": [
    "### Computing Eigenvalues"
   ]
  },
  {
   "cell_type": "markdown",
   "metadata": {
    "slideshow": {
     "slide_type": "-"
    }
   },
   "source": [
    "Presently, we'll learn about a method called the **Power Method** \n",
    "\n",
    "For now, though, we'll use the `np.linalg.eig()` which computes the eigenvalues and eigenvectors of a matrix:\\\n",
    "`l, V = np.linalg.eig(A)`\n",
    "computes \n",
    "* `l` : an array of length $n$ containing the eigenvalues of $A$. (Note: we can't call this array `lambda`, since that is a keyword in Python.\n",
    "* `V`: a $n \\times n$ matrix; column $i$ of $V$ is the eigenvector corresponding to the eigenvalues $\\lambda_i$."
   ]
  },
  {
   "cell_type": "markdown",
   "metadata": {
    "slideshow": {
     "slide_type": "subslide"
    }
   },
   "source": [
    "**Example**: Find the eigenvalues and corresponding eigenvectors of \n",
    "$$ A = \\begin{pmatrix} 2 & 2 \\\\ 3 & 1\\end{pmatrix}$$"
   ]
  },
  {
   "cell_type": "code",
   "execution_count": 2,
   "metadata": {
    "slideshow": {
     "slide_type": "-"
    }
   },
   "outputs": [
    {
     "name": "stdout",
     "output_type": "stream",
     "text": [
      "The eigenvalues of A are 4.0 and -1.0.\n",
      "The corresponding eigenvectors are [0.707 0.707] and [-0.555  0.832]\n"
     ]
    }
   ],
   "source": [
    "A = np.array([[2,2],[3,1]])\n",
    "l, V = np.linalg.eig(A)\n",
    "print(f\"The eigenvalues of A are {l[0]} and {l[1]}.\")\n",
    "print(f\"The corresponding eigenvectors are {V[:,0]} and {V[:,1]}\")"
   ]
  },
  {
   "cell_type": "markdown",
   "metadata": {},
   "source": [
    "Let's check if this worked:"
   ]
  },
  {
   "cell_type": "code",
   "execution_count": 3,
   "metadata": {},
   "outputs": [
    {
     "name": "stdout",
     "output_type": "stream",
     "text": [
      "[2.828 2.828]\n",
      "[2.828 2.828]\n"
     ]
    }
   ],
   "source": [
    "print(A@V[:,0])\n",
    "print(l[0]*V[:,0])"
   ]
  },
  {
   "cell_type": "markdown",
   "metadata": {
    "slideshow": {
     "slide_type": "subslide"
    }
   },
   "source": [
    "Let's check if the columns of `V` are normalised:"
   ]
  },
  {
   "cell_type": "code",
   "execution_count": 4,
   "metadata": {},
   "outputs": [
    {
     "name": "stdout",
     "output_type": "stream",
     "text": [
      " ||v|| = 1.0\n"
     ]
    }
   ],
   "source": [
    "print(f\" ||v|| = {np.linalg.norm(V[:,1])}\")"
   ]
  },
  {
   "cell_type": "markdown",
   "metadata": {
    "slideshow": {
     "slide_type": "slide"
    }
   },
   "source": [
    "## Eigenvalues of adjacency matrices\n",
    "\n",
    "Let's look at some examples, for which we may have an intuition for the centrality. we want to check that\n",
    "* there is a dominant positive eigenvalue\n",
    "* there is a corresponding positive eigenvector \n",
    "* the centrality values seem \"sensible\"\n",
    "\n",
    "(Note: *Extra details given on the white board!*)"
   ]
  },
  {
   "cell_type": "markdown",
   "metadata": {
    "slideshow": {
     "slide_type": "subslide"
    }
   },
   "source": [
    "### Example 1: $G=C_5$\n"
   ]
  },
  {
   "cell_type": "code",
   "execution_count": 19,
   "metadata": {},
   "outputs": [
    {
     "data": {
      "image/png": "[encoded data removed]",
      "text/plain": [
       "<Figure size 640x480 with 1 Axes>"
      ]
     },
     "metadata": {},
     "output_type": "display_data"
    }
   ],
   "source": [
    "G = nx.cycle_graph(5)\n",
    "nx.draw(G, **opts)"
   ]
  },
  {
   "cell_type": "code",
   "execution_count": 20,
   "metadata": {
    "slideshow": {
     "slide_type": "subslide"
    }
   },
   "outputs": [
    {
     "name": "stdout",
     "output_type": "stream",
     "text": [
      "eigenvalue -1.618 has eigenvectors are [ 0.632 -0.512  0.195  0.195 -0.512]\n",
      "eigenvalue  0.618 has eigenvectors are [-0.632 -0.195  0.512  0.512 -0.195]\n",
      "eigenvalue  2.000 has eigenvectors are [-0.447 -0.447 -0.447 -0.447 -0.447]\n",
      "eigenvalue -1.618 has eigenvectors are [-0.032  0.397 -0.611  0.591 -0.345]\n",
      "eigenvalue  0.618 has eigenvectors are [ 0.074  0.62   0.309 -0.429 -0.575]\n"
     ]
    }
   ],
   "source": [
    "A = nx.adjacency_matrix(G).toarray()\n",
    "l, V = np.linalg.eig(A)\n",
    "for i in range(G.order()):\n",
    "    print(f\"eigenvalue {l[i]:6.3f} has eigenvectors are {V[:,i]}\")"
   ]
  },
  {
   "cell_type": "markdown",
   "metadata": {
    "slideshow": {
     "slide_type": "slide"
    }
   },
   "source": [
    "### Example 1: $G=P_5$"
   ]
  },
  {
   "cell_type": "code",
   "execution_count": 21,
   "metadata": {},
   "outputs": [
    {
     "data": {
      "image/png": "[encoded data removed]",
      "text/plain": [
       "<Figure size 640x480 with 1 Axes>"
      ]
     },
     "metadata": {},
     "output_type": "display_data"
    }
   ],
   "source": [
    "G = nx.path_graph(5)\n",
    "nx.draw(G, **opts)"
   ]
  },
  {
   "cell_type": "code",
   "execution_count": 23,
   "metadata": {
    "slideshow": {
     "slide_type": "subslide"
    }
   },
   "outputs": [
    {
     "name": "stdout",
     "output_type": "stream",
     "text": [
      "[[0 1 0 0 0]\n",
      " [1 0 1 0 0]\n",
      " [0 1 0 1 0]\n",
      " [0 0 1 0 1]\n",
      " [0 0 0 1 0]]\n",
      "eigenvalue  1.732 has eigenvectors are [0.289 0.5   0.577 0.5   0.289]\n",
      "eigenvalue -1.732 has eigenvectors are [-0.289  0.5   -0.577  0.5   -0.289]\n",
      "eigenvalue -1.000 has eigenvectors are [-0.5  0.5 -0.  -0.5  0.5]\n",
      "eigenvalue -0.000 has eigenvectors are [ 0.577 -0.    -0.577  0.     0.577]\n",
      "eigenvalue  1.000 has eigenvectors are [-0.5 -0.5 -0.   0.5  0.5]\n"
     ]
    }
   ],
   "source": [
    "A = nx.adjacency_matrix(G).toarray()\n",
    "print(A)\n",
    "l, V = np.linalg.eig(A)\n",
    "#print(l)\n",
    "for i in range(G.order()):\n",
    "    print(f\"eigenvalue {l[i]:6.3f} has eigenvectors are {V[:,i]}\")"
   ]
  },
  {
   "cell_type": "markdown",
   "metadata": {
    "slideshow": {
     "slide_type": "slide"
    }
   },
   "source": [
    "### Example 3"
   ]
  },
  {
   "cell_type": "markdown",
   "metadata": {},
   "source": [
    "Let's look at the eigenvalues of an adjacency matrix of a graph. It is constructed so that node $0$ is more \"central\" than any of the others, node $5$ is the least \"central\"."
   ]
  },
  {
   "cell_type": "code",
   "execution_count": 15,
   "metadata": {},
   "outputs": [
    {
     "data": {
      "image/png": "[encoded data removed]",
      "text/plain": [
       "<Figure size 640x480 with 1 Axes>"
      ]
     },
     "metadata": {},
     "output_type": "display_data"
    }
   ],
   "source": [
    "G = nx.Graph([\"01\", \"02\", \"03\", \"04\", \"05\", \"12\", \"13\", \"14\"])\n",
    "nx.draw(G, **opts)"
   ]
  },
  {
   "cell_type": "code",
   "execution_count": 16,
   "metadata": {
    "slideshow": {
     "slide_type": "subslide"
    }
   },
   "outputs": [
    {
     "name": "stdout",
     "output_type": "stream",
     "text": [
      "[[0 1 1 1 1 1]\n",
      " [1 0 1 1 1 0]\n",
      " [1 1 0 0 0 0]\n",
      " [1 1 0 0 0 0]\n",
      " [1 1 0 0 0 0]\n",
      " [1 0 0 0 0 0]]\n"
     ]
    }
   ],
   "source": [
    "A  = nx.adjacency_matrix(G).toarray()\n",
    "print(A)"
   ]
  },
  {
   "cell_type": "code",
   "execution_count": 17,
   "metadata": {},
   "outputs": [
    {
     "name": "stdout",
     "output_type": "stream",
     "text": [
      "The eigenpairs of A are:\n",
      "Eigenvalue    3.102 with eigenvector [0.568 0.523 0.352 0.352 0.352 0.183]\n",
      "Eigenvalue    0.344 with eigenvector [ 0.296 -0.343 -0.138 -0.138 -0.138  0.859]\n",
      "Eigenvalue   -2.123 with eigenvector [-0.557 -0.324  0.415  0.415  0.415  0.262]\n",
      "Eigenvalue   -1.323 with eigenvector [ 0.529 -0.71   0.137  0.137  0.137 -0.4  ]\n",
      "Eigenvalue   -0.000 with eigenvector [-0.    -0.    -0.509  0.807 -0.298 -0.   ]\n"
     ]
    }
   ],
   "source": [
    "l, V = np.linalg.eig(A)\n",
    "print(f\"The eigenpairs of A are:\")\n",
    "for i in range(5):\n",
    "    print(f\"Eigenvalue {l[i]:8.3f} with eigenvector {V[:,i]}\")"
   ]
  },
  {
   "cell_type": "markdown",
   "metadata": {
    "slideshow": {
     "slide_type": "slide"
    }
   },
   "source": [
    "## The Power Method\n",
    "\n",
    "There are subfields in the *Numerical Linerar Algebra* dedicated to computing estimates for eigenvalues and eigenvectors. When we only need one eigenvalue, and it is the largest,    use the **[Power method](https://en.wikipedia.org/wiki/Power_iteration)**:\n",
    "\n",
    "1. start with any $u = (1, 1, \\dots, 1)$, say;\n",
    "\n",
    "2. keep replacing $u \\gets Au$ until $u/\\|u\\|$ becomes stable ...\n",
    "\n",
    "**Questions** Does this work? Meaning:\n",
    "* Does the sequence actually converge?\n",
    "* Does it return the correct values?\n"
   ]
  },
  {
   "cell_type": "code",
   "execution_count": null,
   "metadata": {},
   "outputs": [],
   "source": [
    "n = G.order()\n",
    "u = np.ones((n,1)); u=u/np.linalg.norm(u)\n",
    "for i in range(10):\n",
    "    u = A @ u\n",
    "    u = u/np.linalg.norm(u)"
   ]
  },
  {
   "cell_type": "code",
   "execution_count": null,
   "metadata": {},
   "outputs": [],
   "source": [
    "print(u)"
   ]
  },
  {
   "cell_type": "code",
   "execution_count": null,
   "metadata": {},
   "outputs": [],
   "source": [
    "print(V)"
   ]
  },
  {
   "cell_type": "markdown",
   "metadata": {},
   "source": [
    "<div class=\"alert alert-block alert-info\">Finished here <b>Thursday</b></div>"
   ]
  }
 ],
 "metadata": {
  "celltoolbar": "Slideshow",
  "kernelspec": {
   "display_name": "CS319",
   "language": "python",
   "name": "cs319"
  },
  "language_info": {
   "codemirror_mode": {
    "name": "ipython",
    "version": 3
   },
   "file_extension": ".py",
   "mimetype": "text/x-python",
   "name": "python",
   "nbconvert_exporter": "python",
   "pygments_lexer": "ipython3",
   "version": "3.9.15"
  },
  "toc": {
   "base_numbering": 1,
   "nav_menu": {},
   "number_sections": true,
   "sideBar": true,
   "skip_h1_title": true,
   "title_cell": "Table of Contents",
   "title_sidebar": "Contents",
   "toc_cell": true,
   "toc_position": {},
   "toc_section_display": true,
   "toc_window_display": false
  },
  "varInspector": {
   "cols": {
    "lenName": 16,
    "lenType": 16,
    "lenVar": 40
   },
   "kernels_config": {
    "python": {
     "delete_cmd_postfix": "",
     "delete_cmd_prefix": "del ",
     "library": "var_list.py",
     "varRefreshCmd": "print(var_dic_list())"
    },
    "r": {
     "delete_cmd_postfix": ") ",
     "delete_cmd_prefix": "rm(",
     "library": "var_list.r",
     "varRefreshCmd": "cat(var_dic_list()) "
    }
   },
   "types_to_exclude": [
    "module",
    "function",
    "builtin_function_or_method",
    "instance",
    "_Feature"
   ],
   "window_display": false
  }
 },
 "nbformat": 4,
 "nbformat_minor": 1
}
