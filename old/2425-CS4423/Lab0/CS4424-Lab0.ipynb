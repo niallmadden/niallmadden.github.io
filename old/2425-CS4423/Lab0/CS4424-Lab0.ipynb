{
 "cells": [
  {
   "cell_type": "markdown",
   "metadata": {
    "hideCode": true,
    "hidePrompt": true,
    "toc": true
   },
   "source": [
    "<h1>Table of Contents<span class=\"tocSkip\"></span></h1>\n",
    "<div class=\"toc\"><ul class=\"toc-item\"><li><span><a href=\"#Accessing-Jupyter\" data-toc-modified-id=\"Accessing-Jupyter-1\"><span class=\"toc-item-num\">1&nbsp;&nbsp;</span>Accessing Jupyter</a></span><ul class=\"toc-item\"><li><span><a href=\"#Our-Jupyter-Server\" data-toc-modified-id=\"Our-Jupyter-Server-1.1\"><span class=\"toc-item-num\">1.1&nbsp;&nbsp;</span>Our Jupyter Server</a></span></li><li><span><a href=\"#On-your-own-computer\" data-toc-modified-id=\"On-your-own-computer-1.2\"><span class=\"toc-item-num\">1.2&nbsp;&nbsp;</span>On your own computer</a></span></li><li><span><a href=\"#Other-solutions\" data-toc-modified-id=\"Other-solutions-1.3\"><span class=\"toc-item-num\">1.3&nbsp;&nbsp;</span>Other solutions</a></span></li></ul></li><li><span><a href=\"#Interacting-with-notebooks\" data-toc-modified-id=\"Interacting-with-notebooks-2\"><span class=\"toc-item-num\">2&nbsp;&nbsp;</span>Interacting with notebooks</a></span></li><li><span><a href=\"#Python-as-a-calculator\" data-toc-modified-id=\"Python-as-a-calculator-3\"><span class=\"toc-item-num\">3&nbsp;&nbsp;</span><code>Python</code> as a calculator</a></span></li><li><span><a href=\"#Defining-variables\" data-toc-modified-id=\"Defining-variables-4\"><span class=\"toc-item-num\">4&nbsp;&nbsp;</span>Defining variables</a></span></li><li><span><a href=\"#Conditional-Statements\" data-toc-modified-id=\"Conditional-Statements-5\"><span class=\"toc-item-num\">5&nbsp;&nbsp;</span>Conditional Statements</a></span></li><li><span><a href=\"#Lists\" data-toc-modified-id=\"Lists-6\"><span class=\"toc-item-num\">6&nbsp;&nbsp;</span>Lists</a></span></li><li><span><a href=\"#Strings\" data-toc-modified-id=\"Strings-7\"><span class=\"toc-item-num\">7&nbsp;&nbsp;</span>Strings</a></span></li><li><span><a href=\"#Range-and-Loops\" data-toc-modified-id=\"Range-and-Loops-8\"><span class=\"toc-item-num\">8&nbsp;&nbsp;</span>Range and Loops</a></span></li><li><span><a href=\"#List-comprehension\" data-toc-modified-id=\"List-comprehension-9\"><span class=\"toc-item-num\">9&nbsp;&nbsp;</span>List comprehension</a></span></li><li><span><a href=\"#Importing-Packages\" data-toc-modified-id=\"Importing-Packages-10\"><span class=\"toc-item-num\">10&nbsp;&nbsp;</span>Importing Packages</a></span></li><li><span><a href=\"#Common-Mistakes\" data-toc-modified-id=\"Common-Mistakes-11\"><span class=\"toc-item-num\">11&nbsp;&nbsp;</span>Common Mistakes</a></span><ul class=\"toc-item\"><li><span><a href=\"#Variables\" data-toc-modified-id=\"Variables-11.1\"><span class=\"toc-item-num\">11.1&nbsp;&nbsp;</span>Variables</a></span></li><li><span><a href=\"#Indentation\" data-toc-modified-id=\"Indentation-11.2\"><span class=\"toc-item-num\">11.2&nbsp;&nbsp;</span>Indentation</a></span></li></ul></li><li><span><a href=\"#networkx\" data-toc-modified-id=\"networkx-12\"><span class=\"toc-item-num\">12&nbsp;&nbsp;</span><code>networkx</code></a></span></li><li><span><a href=\"#Some-exercises\" data-toc-modified-id=\"Some-exercises-13\"><span class=\"toc-item-num\">13&nbsp;&nbsp;</span>Some exercises</a></span><ul class=\"toc-item\"><li><span><a href=\"#Exercise--1\" data-toc-modified-id=\"Exercise--1-13.1\"><span class=\"toc-item-num\">13.1&nbsp;&nbsp;</span>Exercise  1</a></span></li><li><span><a href=\"#Exercise-2\" data-toc-modified-id=\"Exercise-2-13.2\"><span class=\"toc-item-num\">13.2&nbsp;&nbsp;</span>Exercise 2</a></span></li><li><span><a href=\"#Exercise--3\" data-toc-modified-id=\"Exercise--3-13.3\"><span class=\"toc-item-num\">13.3&nbsp;&nbsp;</span>Exercise  3</a></span></li><li><span><a href=\"#Exercise-4\" data-toc-modified-id=\"Exercise-4-13.4\"><span class=\"toc-item-num\">13.4&nbsp;&nbsp;</span>Exercise 4</a></span></li></ul></li></ul></div>"
   ]
  },
  {
   "cell_type": "markdown",
   "metadata": {
    "hideCode": true,
    "hidePrompt": true,
    "slideshow": {
     "slide_type": "slide"
    },
    "tags": []
   },
   "source": [
    "# CS4423 - Networks: Lab 0 - (Re)Introduction to Python and Jupyter\n",
    "\n",
    "**Lecturer**: Niall Madden (Niall.Madden@UniversityOfGalway.ie) \\\n",
    "School of Mathematical and Statistical Sciences \\\n",
    "University of Galway\n",
    "\n",
    "**Tutor**: Lucrezia Prosperi.\n",
    "\n",
    "**Where to find this introduction** \n",
    "This notebook, in various formats, is available from\n",
    "* https://www.niallmadden.ie/2425-CS4423/  or\n",
    "* from Canvas: https://universityofgalway.instructure.com/courses/31889   or\n",
    "* On the [cloudjupyter server](https://cloudjupyter.universityofgalway.ie/hub/user-redirect/git-pull?repo=https%3A%2F%2Fgithub.com%2Fniallmadden%2F2425-CS4423&urlpath=tree%2F2425-CS4423%2FCS4424-Lab0.ipynb&branch=main) (**Try this first!**). When you do, choose the `2324-CS319` kernel.\n",
    "\n",
    "\n",
    "However, if you are reading this, you probably already have it!"
   ]
  },
  {
   "cell_type": "markdown",
   "metadata": {
    "hideCode": true,
    "hidePrompt": true
   },
   "source": [
    "## Accessing Jupyter\n",
    "This is a `jupyter` notebook. You will need a `python` environment with ``jupyter`` to run this. \n",
    "\n",
    "### Our Jupyter Server \n",
    "You have access to a Jupyter server at https://cloudjupyter.universityofgalway.ie/ Check for an email from `maths-sto@universityofgalway.ie` with your login details.\n",
    "\n",
    "Connect to that server and log-in. Next try clicking [on this link](https://cloudjupyter.universityofgalway.ie/hub/user-redirect/git-pull?repo=https%3A%2F%2Fgithub.com%2Fniallmadden%2F2425-CS4423&urlpath=tree%2F2425-CS4423%2FCS4424-Lab0.ipynb&branch=main).\n",
    "If that fails, download the notebook from  https://www.niallmadden.ie/2425-CS4423/ and then upload to the server.\n",
    "\n",
    "To run the notebook, you need to choose the `2324-CS319` kernel.\n"
   ]
  },
  {
   "cell_type": "markdown",
   "metadata": {
    "hideCode": true,
    "hidePrompt": true
   },
   "source": [
    "### On your own computer"
   ]
  },
  {
   "cell_type": "markdown",
   "metadata": {
    "hideCode": true,
    "hidePrompt": true
   },
   "source": [
    "If you wish, you can install and use `jupyter` as a `python` package on your own laptop or PC.\n",
    "\n",
    "For Windows, install **Anaconda Navigator** for ease of usage. This can be found at https://www.anaconda.com/anaconda-navigator.\n",
    "\n",
    "For Mac, **Anaconda Navigator** supports MacOS, if not, install ``jupyter`` using your package manager and run from the terminal.\n",
    "\n",
    "For Linux, install ``jupyter`` using your preferred package manager and run from the terminal."
   ]
  },
  {
   "cell_type": "markdown",
   "metadata": {
    "hideCode": true,
    "hidePrompt": true
   },
   "source": [
    "### Other solutions"
   ]
  },
  {
   "cell_type": "markdown",
   "metadata": {
    "hideCode": true,
    "hidePrompt": true,
    "slideshow": {
     "slide_type": ""
    },
    "tags": []
   },
   "source": [
    "There are many online services that allow you to run `jupyter` notebooks without having to setup anything on your computer.\n",
    "\n",
    "**Please note**: These are free services that might not work reliably.\n",
    "\n",
    "* Binder: https://mybinder.org/\n",
    "    - GitHub: `https://github.com/niallmadden/2425-CS4423`\n",
    "    - Git Ref: `HEAD`\n",
    "    - File to open: `CS4424-Lab0.ipynb`\n",
    "\n",
    "* If you have a Google account, you can use  Google Colab (https://colab.research.google.com) \n"
   ]
  },
  {
   "cell_type": "markdown",
   "metadata": {
    "hideCode": true,
    "hidePrompt": true
   },
   "source": [
    "## Interacting with notebooks"
   ]
  },
  {
   "cell_type": "markdown",
   "metadata": {
    "hideCode": true,
    "hidePrompt": true
   },
   "source": [
    "At the top of each notebook window there is a bar with features which can be used to Save, Add, Copy, Paste, etc."
   ]
  },
  {
   "cell_type": "markdown",
   "metadata": {
    "hideCode": true,
    "hidePrompt": true
   },
   "source": [
    "In order to execute the code in a box, use the mouse or arrow keys to highlight the box and then press SHIFT + ENTER or SHIFT + RETURN.\n",
    "\n",
    "Alternatively, highlight the box you want to run with your mouse and press the 'Run' button in the bar above."
   ]
  },
  {
   "cell_type": "markdown",
   "metadata": {
    "hideCode": true,
    "hidePrompt": true
   },
   "source": [
    "You can find all the keyboard shortcuts by CTRL (COMMAND) + SHIFT + H or Help => Show Keyboard Shortcuts"
   ]
  },
  {
   "cell_type": "markdown",
   "metadata": {
    "hideCode": true,
    "hidePrompt": true
   },
   "source": [
    "Pressing the key TAB while in a code cell will show you all the possible completions of what you are writing. For instance, if you construct a `networkx` graph `G`, then \"G dot TAB\" will show you all the attributes (e.g. *methods*) of a graph in `networkx`."
   ]
  },
  {
   "cell_type": "markdown",
   "metadata": {
    "hideCode": true,
    "hidePrompt": true
   },
   "source": [
    "Jupyter has two \"cell\" types that are of interest to us:\n",
    "\n",
    "* `code` cells, where you enter `Python` code;\n",
    "\n",
    "* `markdown` cells (like this one) where you can enter text. Some basic formatting is possible, including using $\\LaTeX$.  We won't need that today, but if interested, see, e.g., \n",
    "https://sqlbak.com/blog/wp-content/uploads/2020/12/Jupyter-Notebook-Markdown-Cheatsheet2.pdf"
   ]
  },
  {
   "cell_type": "markdown",
   "metadata": {
    "hideCode": true,
    "hidePrompt": true
   },
   "source": [
    "## `Python` as a calculator\n",
    "\n",
    "We can use the Python interpreter as a powerful calculator, using\n",
    "* `+`, `-`, `*`, `/` for the usual arithmetic operations,\n",
    "* `//` for integer (= floor) division\n",
    "* `%` for the modulo operation, and\n",
    "* `**` for exponentiation."
   ]
  },
  {
   "cell_type": "code",
   "execution_count": null,
   "metadata": {},
   "outputs": [],
   "source": [
    "5+3"
   ]
  },
  {
   "cell_type": "code",
   "execution_count": null,
   "metadata": {},
   "outputs": [],
   "source": [
    "5-3"
   ]
  },
  {
   "cell_type": "code",
   "execution_count": null,
   "metadata": {},
   "outputs": [],
   "source": [
    "5/3"
   ]
  },
  {
   "cell_type": "code",
   "execution_count": null,
   "metadata": {},
   "outputs": [],
   "source": [
    "5//3 # \"floor\" devision"
   ]
  },
  {
   "cell_type": "code",
   "execution_count": null,
   "metadata": {},
   "outputs": [],
   "source": [
    "5 % 3 # \"5 mod 3\""
   ]
  },
  {
   "cell_type": "code",
   "execution_count": null,
   "metadata": {},
   "outputs": [],
   "source": [
    "5**3"
   ]
  },
  {
   "cell_type": "markdown",
   "metadata": {
    "hideCode": true,
    "hidePrompt": true
   },
   "source": [
    "## Defining variables\n",
    "Values (e.g. results of computations) can be assigned to **variables** for later use. In the following steps we will\n",
    "\n",
    "- Create a variable $a$ with value $5$\n",
    "- Make a variable $b=a^3$\n",
    "- Make another one: $c = \\sqrt{b}$"
   ]
  },
  {
   "cell_type": "code",
   "execution_count": null,
   "metadata": {},
   "outputs": [],
   "source": [
    "a = 5"
   ]
  },
  {
   "cell_type": "markdown",
   "metadata": {},
   "source": [
    "We can verify the value of `a` with the `print()` function:"
   ]
  },
  {
   "cell_type": "code",
   "execution_count": null,
   "metadata": {
    "hideCode": true,
    "hidePrompt": true
   },
   "outputs": [],
   "source": [
    "print(a)"
   ]
  },
  {
   "cell_type": "code",
   "execution_count": null,
   "metadata": {},
   "outputs": [],
   "source": [
    "b = a**3"
   ]
  },
  {
   "cell_type": "markdown",
   "metadata": {},
   "source": [
    "We'll print the value of `b` using an `f-string`:"
   ]
  },
  {
   "cell_type": "code",
   "execution_count": null,
   "metadata": {},
   "outputs": [],
   "source": [
    "print(f\"b={b}\")"
   ]
  },
  {
   "cell_type": "markdown",
   "metadata": {},
   "source": [
    "Finally, compute `c`:"
   ]
  },
  {
   "cell_type": "code",
   "execution_count": null,
   "metadata": {},
   "outputs": [],
   "source": [
    "c = b**(1/2)"
   ]
  },
  {
   "cell_type": "code",
   "execution_count": null,
   "metadata": {},
   "outputs": [],
   "source": [
    "print(c)"
   ]
  },
  {
   "cell_type": "markdown",
   "metadata": {},
   "source": [
    "All variables have a `type`, which determines the type of value the y can store:"
   ]
  },
  {
   "cell_type": "code",
   "execution_count": null,
   "metadata": {},
   "outputs": [],
   "source": [
    "type(a)"
   ]
  },
  {
   "cell_type": "code",
   "execution_count": null,
   "metadata": {},
   "outputs": [],
   "source": [
    "type(c)"
   ]
  },
  {
   "cell_type": "markdown",
   "metadata": {
    "hideCode": true,
    "hidePrompt": true
   },
   "source": [
    "## Conditional Statements\n",
    "\n",
    "Python uses ``if``, ``elif``, ``else`` followed by a condition, for these expressions.\n",
    "\n",
    "A condition can contain comparison operators,\n",
    "\n",
    "- `<` representing less than ($<$).\n",
    "- `>` representing greater than ($>$).\n",
    "- `>=` and `<=`, representing greater than or equal ($\\ge$) and less than or equal ($\\le$).\n",
    "- `==` representing equal to (this is not the same as an variable assignment `=`).\n",
    "- `!=` representing not equal to ($\\neq$)."
   ]
  },
  {
   "cell_type": "code",
   "execution_count": null,
   "metadata": {},
   "outputs": [],
   "source": [
    "condition = True\n",
    "\n",
    "if condition:\n",
    "    print(\"Condition is true!\")\n",
    "else:\n",
    "    print(\"Condition is false!\")"
   ]
  },
  {
   "cell_type": "code",
   "execution_count": null,
   "metadata": {},
   "outputs": [],
   "source": [
    "number = 2\n",
    "\n",
    "if number > 0:\n",
    "    print(\"You entered a positive number.\")\n",
    "elif number < 0:\n",
    "    print(\"You entered a negative number.\")\n",
    "else:\n",
    "    print(\"You entered zero.\")"
   ]
  },
  {
   "cell_type": "markdown",
   "metadata": {
    "hideCode": true,
    "hidePrompt": true
   },
   "source": [
    "## Lists\n",
    "\n",
    "Lists are **ordered** collections of objects. We can create a list by hand:"
   ]
  },
  {
   "cell_type": "code",
   "execution_count": null,
   "metadata": {},
   "outputs": [],
   "source": [
    "a = [1,2,3,4,5]\n",
    "print(f\"a={a}, and type(a)={type(a)}\")"
   ]
  },
  {
   "cell_type": "markdown",
   "metadata": {
    "hideCode": true,
    "hidePrompt": true
   },
   "source": [
    "The command `list` transforms its argument into a list (if it can)."
   ]
  },
  {
   "cell_type": "code",
   "execution_count": null,
   "metadata": {},
   "outputs": [],
   "source": [
    "l = list((1,2,3,4,5))\n",
    "print(l)"
   ]
  },
  {
   "cell_type": "markdown",
   "metadata": {
    "hideCode": true,
    "hidePrompt": true
   },
   "source": [
    "Lists are indexed starting with $0$..."
   ]
  },
  {
   "cell_type": "code",
   "execution_count": null,
   "metadata": {},
   "outputs": [],
   "source": [
    "print(f\"first item is {l[0]}, and second item is {l[1]}\")"
   ]
  },
  {
   "cell_type": "code",
   "execution_count": null,
   "metadata": {},
   "outputs": [],
   "source": [
    "print(f\"The last item is l[4]={l[4]}, which are can also write as l[-1]={l[-1]}\")"
   ]
  },
  {
   "cell_type": "markdown",
   "metadata": {
    "hideCode": true,
    "hidePrompt": true
   },
   "source": [
    "We can extend a list by appending something at the end, in (at least) two ways:"
   ]
  },
  {
   "cell_type": "code",
   "execution_count": null,
   "metadata": {},
   "outputs": [],
   "source": [
    "l.append(6)\n",
    "print(l)"
   ]
  },
  {
   "cell_type": "code",
   "execution_count": null,
   "metadata": {},
   "outputs": [],
   "source": [
    "l+=[3,-1,24]\n",
    "print(l)"
   ]
  },
  {
   "cell_type": "markdown",
   "metadata": {
    "hideCode": true,
    "hidePrompt": true
   },
   "source": [
    "## Strings\n",
    "A string is a sequence of characters."
   ]
  },
  {
   "cell_type": "code",
   "execution_count": null,
   "metadata": {},
   "outputs": [],
   "source": [
    "s1='this is a string'\n",
    "print(s1)"
   ]
  },
  {
   "cell_type": "code",
   "execution_count": null,
   "metadata": {},
   "outputs": [],
   "source": [
    "s2='so' + ' is ' + 'this' # adding strings concatinates\n",
    "print(f\"s2='{s2}' and has type {type(s2)}\")"
   ]
  },
  {
   "cell_type": "markdown",
   "metadata": {},
   "source": [
    "If we make a list from a string, the items in the list will be the characters in the string:"
   ]
  },
  {
   "cell_type": "code",
   "execution_count": null,
   "metadata": {},
   "outputs": [],
   "source": [
    "module_string = \"Networks\"\n",
    "module_list = list(module_string)\n",
    "module_list"
   ]
  },
  {
   "cell_type": "markdown",
   "metadata": {
    "hideCode": true,
    "hidePrompt": true
   },
   "source": [
    "## Range and Loops\n",
    "\n",
    "We use,\n",
    "\n",
    "`range(n)` to produce the interval from $0$ to $n-1$ (for instance, to loop over it). \\\n",
    "`range(a,b)` to produce the interval from $a$ to $b-1$.\n",
    "\n",
    "`for` to loop over a list of elements *or* to repeat a statement a number of times. \\\n",
    "`while` to repeat a statement controlled by a condition which when ``True`` completes."
   ]
  },
  {
   "cell_type": "code",
   "execution_count": null,
   "metadata": {},
   "outputs": [],
   "source": [
    "numbers = range(6)"
   ]
  },
  {
   "cell_type": "markdown",
   "metadata": {},
   "source": [
    "We can use a `for` loop to iterate over an interval. Note the use of the `:` (colon) at the end of the `for` line, and that the next line is indented."
   ]
  },
  {
   "cell_type": "code",
   "execution_count": null,
   "metadata": {},
   "outputs": [],
   "source": [
    "for n in numbers:\n",
    "    print(f\"numbers.index[{n}] = {n}\")"
   ]
  },
  {
   "cell_type": "markdown",
   "metadata": {
    "hideCode": true,
    "hidePrompt": true
   },
   "source": [
    "## List comprehension\n",
    "List comprehension can be used to define a list starting from existing lists (or other structures), possibly subject to conditions or with values in a specified range."
   ]
  },
  {
   "cell_type": "code",
   "execution_count": null,
   "metadata": {},
   "outputs": [],
   "source": [
    "[a for a in range(10) if a % 2 == 0]  # creates a list"
   ]
  },
  {
   "cell_type": "markdown",
   "metadata": {
    "hideCode": true,
    "hidePrompt": true
   },
   "source": [
    "We can nest lists to create multi-dimensional arrays."
   ]
  },
  {
   "cell_type": "code",
   "execution_count": null,
   "metadata": {},
   "outputs": [],
   "source": [
    "[[a for a in range(x)] for x in range(7)]"
   ]
  },
  {
   "cell_type": "code",
   "execution_count": null,
   "metadata": {
    "hideCode": true,
    "hidePrompt": true
   },
   "outputs": [],
   "source": [
    "[[a for a in range(x)] for x in range(7)]"
   ]
  },
  {
   "cell_type": "markdown",
   "metadata": {
    "hideCode": true,
    "hidePrompt": true
   },
   "source": [
    "## Importing Packages\n",
    "\n",
    "You can import the entire package using `import`, followed by the package name. Functions (\"methods\") defined this way are known as `package name`-dot-`method name`"
   ]
  },
  {
   "cell_type": "code",
   "execution_count": null,
   "metadata": {},
   "outputs": [],
   "source": [
    "import math\n",
    "math.sin(1)"
   ]
  },
  {
   "cell_type": "markdown",
   "metadata": {
    "hideCode": true,
    "hidePrompt": true
   },
   "source": [
    "There is a convention to rename some much-used packages, `networkx` and `numpy`, This is done with the `as` keyword."
   ]
  },
  {
   "cell_type": "code",
   "execution_count": null,
   "metadata": {},
   "outputs": [],
   "source": [
    "import numpy as np\n",
    "import networkx as nx\n",
    "import matplotlib.pyplot as plt"
   ]
  },
  {
   "cell_type": "markdown",
   "metadata": {
    "hideCode": true,
    "hidePrompt": true
   },
   "source": [
    "## Common Mistakes"
   ]
  },
  {
   "cell_type": "markdown",
   "metadata": {
    "hideCode": true,
    "hidePrompt": true
   },
   "source": [
    "### Variables \n",
    "Remember that a variable is a placeholder for a value that you can assign, and it can be any type. \\\n",
    "For example, `rock` is a variable, called `rock`, that we can assign any value. i.e ``rock = 8`` or ``rock = \"paper\"``. \\\n",
    "However, ``\"rock\"`` is a string - we cannot assign it a value, it is already the string value `\"rock\"`."
   ]
  },
  {
   "cell_type": "code",
   "execution_count": null,
   "metadata": {},
   "outputs": [],
   "source": [
    "# Correct\n",
    "rock = 8\n",
    "print(rock) # print value stored in variable rock"
   ]
  },
  {
   "cell_type": "code",
   "execution_count": null,
   "metadata": {},
   "outputs": [],
   "source": [
    "# Incorrect\n",
    "rock = 8\n",
    "print(\"rock\") # print the word (aka string literal) \"rock\""
   ]
  },
  {
   "cell_type": "markdown",
   "metadata": {
    "hideCode": true,
    "hidePrompt": true
   },
   "source": [
    "### Indentation\n",
    "\n",
    "Python relies on indentation to define blocks. Incorrect indentation can lead to syntax errors and unexpected behavior. Always use consistent and proper indentation to maintain the code structure."
   ]
  },
  {
   "cell_type": "code",
   "execution_count": null,
   "metadata": {},
   "outputs": [],
   "source": [
    "# Correct\n",
    "x=3\n",
    "if x > 0:\n",
    "    print(\"Positive number\") #"
   ]
  },
  {
   "cell_type": "markdown",
   "metadata": {},
   "source": [
    "The following would cause an error, since  the \"print\" line is not indented."
   ]
  },
  {
   "cell_type": "raw",
   "metadata": {},
   "source": [
    "# Incorrect\n",
    "if x > 0:\n",
    "print(\"Positive number\")"
   ]
  },
  {
   "cell_type": "markdown",
   "metadata": {},
   "source": [
    "## `networkx`\n",
    "\n",
    "\n",
    "The following command loads the `networkx` package into the current session.  \n",
    "The next command specifies some standard options that can be useful for drawing graphs.  "
   ]
  },
  {
   "cell_type": "code",
   "execution_count": null,
   "metadata": {},
   "outputs": [],
   "source": [
    "import networkx as nx\n",
    "opts = { \"with_labels\": True, \"node_color\": 'c' }"
   ]
  },
  {
   "cell_type": "markdown",
   "metadata": {},
   "source": [
    "**Example**\n",
    "1. Define a (simple) graph `G` on the vertex set $X = \\{0, 1, 2, 3, 4, 5, 6\\}$ with edges $0-1$, $0-6$, $1-2$,  $1-6$, $2-3$, $3-4$, $3-5$, $4-5$, $5-6$.\n",
    "2. Draw the graph.  \n",
    "3. Hence or otherwise determine its **order** (the number of nodes) and its **size** (the number of links)."
   ]
  },
  {
   "cell_type": "code",
   "execution_count": null,
   "metadata": {},
   "outputs": [],
   "source": [
    "G=nx.Graph([(0,1), (0,6), (1,2), (1,6), (2,3), (3,4), (3,5), (4,5), (5,6)])"
   ]
  },
  {
   "cell_type": "code",
   "execution_count": null,
   "metadata": {},
   "outputs": [],
   "source": [
    "nx.draw(G,**opts)"
   ]
  },
  {
   "cell_type": "code",
   "execution_count": null,
   "metadata": {},
   "outputs": [],
   "source": [
    "print(f\"G has {G.order()} nodes and {G.size()} edges\")"
   ]
  },
  {
   "cell_type": "markdown",
   "metadata": {
    "hideCode": true,
    "hidePrompt": true
   },
   "source": [
    "## Some exercises\n",
    "\n",
    "The purpose of these tasks is to get you used coding in `Python` to make some graphs. These are just for practice; you don't have to submit your work.\n"
   ]
  },
  {
   "cell_type": "markdown",
   "metadata": {
    "hideCode": true,
    "hidePrompt": true
   },
   "source": [
    "### Exercise  1\n",
    "Make the _path_graph_ $P_7$, by using the `nx.Graph()` function, and explicitly listing all the edges. The nodes should be named `1`, `2`, ..., `7`. Draw the graph. "
   ]
  },
  {
   "cell_type": "code",
   "execution_count": null,
   "metadata": {},
   "outputs": [],
   "source": []
  },
  {
   "cell_type": "markdown",
   "metadata": {},
   "source": [
    "### Exercise 2\n",
    "Make the edge list for the above graph using _list comprehension_. \\\n",
    "_Tip: use `range(1,7)` to iterate over the numbers `1, 2, 3, ..., 6`_"
   ]
  },
  {
   "cell_type": "code",
   "execution_count": null,
   "metadata": {},
   "outputs": [],
   "source": []
  },
  {
   "cell_type": "markdown",
   "metadata": {},
   "source": [
    "### Exercise  3\n",
    "Here is an image of a so-called _tadpole graph_. \n",
    "![image of a tadpole graph](https://www.niallmadden.ie/2425-CS4423/misc/Lab0-Exer3.png)\n",
    "\n",
    "Read about it at https://networkx.org/documentation/stable/reference/generators.html and determine which tadpole graph it is. Construct the graph, either manually, or using a `networkx` generator. Draw it (in Jupyter). "
   ]
  },
  {
   "cell_type": "code",
   "execution_count": null,
   "metadata": {},
   "outputs": [],
   "source": []
  },
  {
   "cell_type": "markdown",
   "metadata": {},
   "source": [
    "### Exercise 4\n",
    "(Based loosely on Q2(a) from the 2023/2024 CS4423 Exam paper) Let $G$ be the graph on the set of nodes \n",
    "$X=\\{1, 2, 3, 4, 5\\}$ with edges $1-2$, $1-3$, $2-4$, $3-5$, $4-5$. Define this graph in `networkx`, and use `nx.draw` to visualise it.\n",
    "Show that $G$ is bipartite by drawing it so that no pair of neighbours have the same colour, and only two colours are used. \n",
    "\n",
    "_Hint: if the two parts were $X_1=\\{1,2\\}$ and $X_2=\\{3,4,5\\}$, you could draw it with the line: \\\n",
    "`nx.draw(G,  node_color=['c','c','y','y','y'],  with_labels=True)`\n"
   ]
  },
  {
   "cell_type": "code",
   "execution_count": null,
   "metadata": {},
   "outputs": [],
   "source": []
  },
  {
   "cell_type": "code",
   "execution_count": null,
   "metadata": {},
   "outputs": [],
   "source": []
  }
 ],
 "metadata": {
  "celltoolbar": "Slideshow",
  "hide_code_all_hidden": true,
  "kernelspec": {
   "display_name": "Python (CS4423)",
   "language": "python",
   "name": "cs4423"
  },
  "language_info": {
   "codemirror_mode": {
    "name": "ipython",
    "version": 3
   },
   "file_extension": ".py",
   "mimetype": "text/x-python",
   "name": "python",
   "nbconvert_exporter": "python",
   "pygments_lexer": "ipython3",
   "version": "3.12.8"
  },
  "toc": {
   "base_numbering": 1,
   "nav_menu": {},
   "number_sections": true,
   "sideBar": true,
   "skip_h1_title": true,
   "title_cell": "Table of Contents",
   "title_sidebar": "Contents",
   "toc_cell": true,
   "toc_position": {},
   "toc_section_display": true,
   "toc_window_display": false
  },
  "varInspector": {
   "cols": {
    "lenName": 16,
    "lenType": 16,
    "lenVar": 40
   },
   "kernels_config": {
    "python": {
     "delete_cmd_postfix": "",
     "delete_cmd_prefix": "del ",
     "library": "var_list.py",
     "varRefreshCmd": "print(var_dic_list())"
    },
    "r": {
     "delete_cmd_postfix": ") ",
     "delete_cmd_prefix": "rm(",
     "library": "var_list.r",
     "varRefreshCmd": "cat(var_dic_list()) "
    }
   },
   "types_to_exclude": [
    "module",
    "function",
    "builtin_function_or_method",
    "instance",
    "_Feature"
   ],
   "window_display": false
  }
 },
 "nbformat": 4,
 "nbformat_minor": 4
}
