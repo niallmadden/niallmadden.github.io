{
 "cells": [
  {
   "cell_type": "markdown",
   "metadata": {
    "toc": true
   },
   "source": [
    "<h1>Table of Contents<span class=\"tocSkip\"></span></h1>\n",
    "<div class=\"toc\"><ul class=\"toc-item\"><li><span><a href=\"#Small-Worlds,-again\" data-toc-modified-id=\"Small-Worlds,-again-1\"><span class=\"toc-item-num\">1&nbsp;&nbsp;</span>Small Worlds, again</a></span></li><li><span><a href=\"#Circle-Graphs\" data-toc-modified-id=\"Circle-Graphs-2\"><span class=\"toc-item-num\">2&nbsp;&nbsp;</span>Circle Graphs</a></span><ul class=\"toc-item\"><li><span><a href=\"#Cycle-graphs\" data-toc-modified-id=\"Cycle-graphs-2.1\"><span class=\"toc-item-num\">2.1&nbsp;&nbsp;</span>Cycle graphs</a></span></li><li><span><a href=\"#Increasing-Clustering\" data-toc-modified-id=\"Increasing-Clustering-2.2\"><span class=\"toc-item-num\">2.2&nbsp;&nbsp;</span>Increasing Clustering</a></span></li><li><span><a href=\"#Circle-Graph:-Definition\" data-toc-modified-id=\"Circle-Graph:-Definition-2.3\"><span class=\"toc-item-num\">2.3&nbsp;&nbsp;</span>Circle Graph: Definition</a></span></li><li><span><a href=\"#Characteristic-Path-Length\" data-toc-modified-id=\"Characteristic-Path-Length-2.4\"><span class=\"toc-item-num\">2.4&nbsp;&nbsp;</span>Characteristic Path Length</a></span></li></ul></li><li><span><a href=\"#The-Watts-Strogatz-Model\" data-toc-modified-id=\"The-Watts-Strogatz-Model-3\"><span class=\"toc-item-num\">3&nbsp;&nbsp;</span>The Watts-Strogatz Model</a></span></li><li><span><a href=\"#Properties-of-WS-Graphs\" data-toc-modified-id=\"Properties-of-WS-Graphs-4\"><span class=\"toc-item-num\">4&nbsp;&nbsp;</span>Properties of WS-Graphs</a></span></li><li><span><a href=\"#Exercises\" data-toc-modified-id=\"Exercises-5\"><span class=\"toc-item-num\">5&nbsp;&nbsp;</span>Exercises</a></span></li></ul></div>"
   ]
  },
  {
   "cell_type": "markdown",
   "metadata": {
    "slideshow": {
     "slide_type": "slide"
    }
   },
   "source": [
    "<h1>CS4423-Networks: Week 11 (26+27 March 2025) \n",
    "\n",
    "# Part 1: Watts-Strogatz model\n",
    "Niall Madden, \n",
    "School of Mathematical and Statistical Sciences  \n",
    "University of Galway\n",
    "\n",
    "\n",
    "This Jupyter notebook, and PDF and HTML versions, can be found at https://www.niallmadden.ie/2425-CS4423/#Week11\n",
    "\n",
    "<div class=\"rc\"><font size=\"-1\"><em>This notebook was adapted by Niall Madden from one developed by Angela Carnevale.</em></div>"
   ]
  },
  {
   "cell_type": "markdown",
   "metadata": {
    "slideshow": {
     "slide_type": "subslide"
    }
   },
   "source": [
    "Our usual preamble:"
   ]
  },
  {
   "cell_type": "code",
   "execution_count": null,
   "metadata": {
    "slideshow": {
     "slide_type": "-"
    }
   },
   "outputs": [],
   "source": [
    "import networkx as nx\n",
    "import numpy as np\n",
    "opts = { \"with_labels\": True,  \"node_color\": \"#84003d\", \"font_color\": \"white\" } # Galway Deep Maroon\n",
    "\n",
    "import random   # some random number generators:random, random_choices\n",
    "import statistics  # e.g., mean of entries in a list\n",
    "import math     # for comb (=binomial coef)\n",
    "import matplotlib.pyplot as plt\n",
    "\n",
    "np.set_printoptions(precision=2)    # just display arrays to 2 decimal places\n",
    "np.set_printoptions(suppress=True) "
   ]
  },
  {
   "cell_type": "markdown",
   "metadata": {
    "slideshow": {
     "slide_type": "slide"
    }
   },
   "source": [
    "## Small Worlds, again\n",
    "\n",
    "Last week, we claimed that **small world networks** tend to share three characteristics:\n",
    " \n",
    "1. Short **characteristic path length**, which scales like $\\ln n$, where $n$ is the number of nodes.\n",
    "2. Low **transitivity**, meaning that a high proportion of _triads_  form _triangles_.\n",
    "3. A **high clustering coefficient** \n",
    "\n",
    "We saw that the $G_{ER}$ models tend to have the first property, but not the second or third. Therefore, in this sense, they don't mimicking real world networks very well.\n",
    "\n",
    "An alternative, developed by [Watts](https://en.wikipedia.org/wiki/Duncan_J._Watts) \n",
    "and [Strogatz](https://en.wikipedia.org/wiki/Steven_Strogatz) in 1998, is to start with some **regular network** that\n",
    "naturally has a **high clustering**, and then to randomly distort its edges, to introduce some **short paths**."
   ]
  },
  {
   "cell_type": "markdown",
   "metadata": {
    "slideshow": {
     "slide_type": "subslide"
    }
   },
   "source": [
    "## Circle Graphs\n",
    "\n",
    "### Cycle graphs\n",
    "\n",
    "To learn how to create a network that has the right properties, we'll start with one that does not, and then see how we can change to. \n",
    "\n",
    "So we start with a **cycle graph**."
   ]
  },
  {
   "cell_type": "code",
   "execution_count": null,
   "metadata": {
    "slideshow": {
     "slide_type": "subslide"
    }
   },
   "outputs": [],
   "source": [
    "n = 16\n",
    "G = nx.cycle_graph(n)\n",
    "nx.draw_circular(G, **opts)\n",
    "print(f\"G has an average path length of L={nx.average_shortest_path_length(G):.3}\")\n",
    "print(f\"Its transitivity value is T={nx.transitivity(G)}, and Clustering is C={nx.average_clustering(G)}\")"
   ]
  },
  {
   "cell_type": "markdown",
   "metadata": {
    "slideshow": {
     "slide_type": "subslide"
    }
   },
   "source": [
    "We won't dwell on it right now, but the average path length is $\\approx n/4$. Let's focus of the transitivity and clustering.\n",
    "\n",
    "* **Transitivity:** clearly, $C_n$ has many triads, but no triangles. \n",
    "* **Clustering**:  the subgraph induced by the neighbours of any node has no edges.\n",
    "\n",
    "To address this, we could add edges between nodes that have a common neighbour."
   ]
  },
  {
   "cell_type": "markdown",
   "metadata": {
    "slideshow": {
     "slide_type": "subslide"
    }
   },
   "source": [
    "### Increasing Clustering\n",
    "Starting with the cycle graph, $G=C_n$, let's add an edge between Node $i$ and Node $i+2$ (mod $n$)."
   ]
  },
  {
   "cell_type": "code",
   "execution_count": null,
   "metadata": {
    "slideshow": {
     "slide_type": "-"
    }
   },
   "outputs": [],
   "source": [
    "for v in G:\n",
    "    G.add_edge(v, (v+2) % n)\n",
    "nx.draw_circular(G, **opts)\n",
    "print(f\"For this graph, G, we have L={nx.average_shortest_path_length(G):.3}, T = {nx.transitivity(G)}, and C = {nx.average_clustering(G)}\")"
   ]
  },
  {
   "cell_type": "markdown",
   "metadata": {
    "slideshow": {
     "slide_type": "subslide"
    }
   },
   "source": [
    "Looks like we're going in the right direction: $L$ is getting smaller while $C$ (and $T$) are increasing. Let's keep going by adding an edge between Node $i$ and Node $i+3$ (mod $n$)."
   ]
  },
  {
   "cell_type": "code",
   "execution_count": null,
   "metadata": {
    "slideshow": {
     "slide_type": "-"
    }
   },
   "outputs": [],
   "source": [
    "for v in G:\n",
    "    G.add_edge(v, (v+3) % n)\n",
    "nx.draw_circular(G, **opts)\n",
    "print(f\"For this graph, G, we have L={nx.average_shortest_path_length(G):.3}, and C = {nx.average_clustering(G)}\")"
   ]
  },
  {
   "cell_type": "markdown",
   "metadata": {
    "slideshow": {
     "slide_type": "subslide"
    }
   },
   "source": [
    "### Circle Graph: Definition\n",
    "\n",
    "**Definition (Circle Graph).** For $1 < d < n/2$, an $(n, d)$-**circle graph**\n",
    "is obtained from a cycle on $n$ vertices by additionally linking each node\n",
    "to all nodes that are not more than $d$ steps away on the cycle.\n",
    "\n",
    "Here is some code to generated it:"
   ]
  },
  {
   "cell_type": "code",
   "execution_count": null,
   "metadata": {
    "slideshow": {
     "slide_type": "-"
    }
   },
   "outputs": [],
   "source": [
    "def circle_graph(n, d):\n",
    "    G = nx.cycle_graph(n)\n",
    "    for v in G:\n",
    "        for o in range(2, d+1):\n",
    "            G.add_edge(v, (v+o) % n)\n",
    "    return G"
   ]
  },
  {
   "cell_type": "code",
   "execution_count": null,
   "metadata": {
    "scrolled": true,
    "slideshow": {
     "slide_type": "subslide"
    }
   },
   "outputs": [],
   "source": [
    "G = circle_graph(16, 3)\n",
    "nx.draw_circular(G, **opts)\n",
    "CPL = nx.average_shortest_path_length(G)\n",
    "print(f\"For this graph, G, we have L={CPL:.3f}, C={nx.average_clustering(G):.2f}\")"
   ]
  },
  {
   "cell_type": "code",
   "execution_count": null,
   "metadata": {
    "scrolled": true,
    "slideshow": {
     "slide_type": "subslide"
    }
   },
   "outputs": [],
   "source": [
    "N = G.neighbors(0)\n",
    "S = nx.subgraph(G, list(N))\n",
    "nx.draw_circular(S, **opts)"
   ]
  },
  {
   "cell_type": "code",
   "execution_count": null,
   "metadata": {
    "slideshow": {
     "slide_type": "subslide"
    }
   },
   "outputs": [],
   "source": [
    "S.degree()"
   ]
  },
  {
   "cell_type": "code",
   "execution_count": null,
   "metadata": {
    "slideshow": {
     "slide_type": "-"
    }
   },
   "outputs": [],
   "source": [
    "S.size()"
   ]
  },
  {
   "cell_type": "markdown",
   "metadata": {
    "slideshow": {
     "slide_type": "subslide"
    }
   },
   "source": [
    "* An $(n, d)$-circle graph has $n$ nodes and $m = nd$ edges.\n",
    "\n",
    "* Each node has degree $\\displaystyle \\frac{2m}{n} = 2d$.\n",
    "\n",
    "* The social graph of each node has $\\displaystyle  \\frac{3}{2}d(d-1) $ edges."
   ]
  },
  {
   "cell_type": "markdown",
   "metadata": {
    "slideshow": {
     "slide_type": "subslide"
    }
   },
   "source": [
    "* The graph clustering coefficient of an $(n, d)$-circle graph is **independent of $n$**, and can be determined as\n",
    "$$\n",
    "C = \\frac{3d - 3}{4d - 2} \\to \\frac34 \\text{, as } d \\to \\infty.\n",
    "$$\n",
    "In particular:\n",
    "$$\n",
    "\\begin{array}{l|rrrrr}\n",
    "d & 1 & 2 & 3 & 4 & 5 \\\\ \\hline\n",
    "C & 0 & 0.5 & 0.6 & 0.643 & 0.667\n",
    "\\end{array}\n",
    "$$"
   ]
  },
  {
   "cell_type": "markdown",
   "metadata": {
    "slideshow": {
     "slide_type": "subslide"
    }
   },
   "source": [
    "### Characteristic Path Length \n",
    "\n",
    "* However, things don't work as well when it comes to shortest paths (if we let $n\\to \\infty$). Indeed, the characteristic path length of an $(n, d)$-circle graph is\n",
    "approximately\n",
    "$$\n",
    "L \\approx \\frac{n}{4d},\n",
    "$$\n",
    "growing linearly with $n$ (for fixed $d$)."
   ]
  },
  {
   "cell_type": "markdown",
   "metadata": {},
   "source": [
    "In conclusion, such regular graphs have **high clustering** but **long shortest paths**,\n",
    "hence $(n, d)$-circle graphs do not exhibit the small world behaviour."
   ]
  },
  {
   "cell_type": "markdown",
   "metadata": {
    "slideshow": {
     "slide_type": "subslide"
    }
   },
   "source": [
    "To see how we could reduce the CPL, let's return to the Cycle Graph from earlier"
   ]
  },
  {
   "cell_type": "code",
   "execution_count": null,
   "metadata": {},
   "outputs": [],
   "source": [
    "n = 16\n",
    "G = nx.cycle_graph(n)\n",
    "nx.draw_circular(G, **opts)\n",
    "print(f\"For this G, we have L={nx.average_shortest_path_length(G):.3}, and C={nx.average_clustering(G)}\")"
   ]
  },
  {
   "cell_type": "markdown",
   "metadata": {
    "slideshow": {
     "slide_type": "subslide"
    }
   },
   "source": [
    "Let's \"rewire\" two edges:"
   ]
  },
  {
   "cell_type": "code",
   "execution_count": null,
   "metadata": {},
   "outputs": [],
   "source": [
    "G.remove_edges_from( [(2,3), (9,10)])\n",
    "G.add_edges_from( [(0, 8), (4, 12)] )\n",
    "nx.draw_circular(G, **opts)\n",
    "print(f\"Now G has L={nx.average_shortest_path_length(G):.3}, and C={nx.average_clustering(G)}\")"
   ]
  },
  {
   "cell_type": "markdown",
   "metadata": {
    "slideshow": {
     "slide_type": "subslide"
    }
   },
   "source": [
    "So we can reduce the CPL, by adding relatively few edges. Finally, we can get a combined solution..."
   ]
  },
  {
   "cell_type": "markdown",
   "metadata": {
    "slideshow": {
     "slide_type": "slide"
    }
   },
   "source": [
    "## The Watts-Strogatz Model"
   ]
  },
  {
   "cell_type": "markdown",
   "metadata": {
    "slideshow": {
     "slide_type": "-"
    }
   },
   "source": [
    "The following modification of the circle graph was suggested by Duncan J. Watts and Steven Strogatz ([1998](https://en.wikipedia.org/wiki/Watts%E2%80%93Strogatz_model)). The idea is to introduce a probabilistic element to the graph, which results in \"shortcuts\" (or \"teleports\") between the nodes and in a shortening of the characteristic path length."
   ]
  },
  {
   "cell_type": "markdown",
   "metadata": {
    "slideshow": {
     "slide_type": "subslide"
    }
   },
   "source": [
    "**Definition (The WS Model).**\n",
    "Let $1 < d < n/2$ and $0\\leq p \\leq 1$.  An $(n, d, p)$-WS graph $G = (X, E)$ is constructed from\n",
    "an $(n, d)$-circle graph $G_0 = (X, E_0)$ by rewiring each of the edges in $E_0$ with probability $p$,\n",
    "as follows:"
   ]
  },
  {
   "cell_type": "markdown",
   "metadata": {
    "slideshow": {
     "slide_type": "-"
    }
   },
   "source": [
    "1. visit the nodes $X = \\{0, \\dots, n{-}1\\}$ in turn ('clockwise').\n",
    "\n",
    "2. for each node $i \\in X$ consider the $d$ edges connecting $i$ to $j$\n",
    "in a clockwise sense ($j = i+1, \\dots, i+d$).\n",
    "\n",
    "3. With probability $p$, in the edge $(i, j)$ replace\n",
    "$j$ by node $k \\in X$ chosen uniformly at random, subject to\n",
    "    * $k \\neq i$, and\n",
    "    * $(i, k)$ must not be an edge of $G$ already."
   ]
  },
  {
   "cell_type": "code",
   "execution_count": null,
   "metadata": {
    "slideshow": {
     "slide_type": "subslide"
    }
   },
   "outputs": [],
   "source": [
    "import random as rd\n",
    "def ws_graph(n, d, p):\n",
    "    G = circle_graph(n, d)\n",
    "    for v in G:\n",
    "        for o in range(1, d+1):\n",
    "            if rd.random() < p:\n",
    "                w = rd.randint(0,n-1)  # pick a random node\n",
    "                if w != v and not G.has_edge(v, w):\n",
    "                    G.remove_edge(v, (v+o) % n)\n",
    "                    G.add_edge(v, w)\n",
    "    return G"
   ]
  },
  {
   "cell_type": "code",
   "execution_count": null,
   "metadata": {
    "slideshow": {
     "slide_type": "subslide"
    }
   },
   "outputs": [],
   "source": [
    "n, d = 16, 3\n",
    "G = ws_graph(n, d, 0.2)\n",
    "nx.draw_circular(G, **opts)\n",
    "print(f\"G has L={nx.average_shortest_path_length(G):.3}, and C={nx.average_clustering(G):.2f}\")"
   ]
  },
  {
   "cell_type": "code",
   "execution_count": null,
   "metadata": {
    "slideshow": {
     "slide_type": "subslide"
    }
   },
   "outputs": [],
   "source": [
    "n, d = 16, 3\n",
    "G = ws_graph(n, d, 0.3)\n",
    "nx.draw_circular(G, **opts)\n",
    "print(f\"G has L={nx.average_shortest_path_length(G):.3}, and C={nx.average_clustering(G):.2f}\")"
   ]
  },
  {
   "cell_type": "code",
   "execution_count": null,
   "metadata": {
    "slideshow": {
     "slide_type": "subslide"
    }
   },
   "outputs": [],
   "source": [
    "G = ws_graph(n, d, 1)\n",
    "nx.draw_circular(G, **opts)\n",
    "print(f\"G has L={nx.average_shortest_path_length(G):.3} and C={nx.average_clustering(G):.2f}\")"
   ]
  },
  {
   "cell_type": "markdown",
   "metadata": {
    "slideshow": {
     "slide_type": "subslide"
    }
   },
   "source": [
    "A WS graph with parameters $(n, d, p)$ can be generated with the command:\n",
    "\n",
    "`nx.watts_strogatz_graph(n, 2*d, p)`."
   ]
  },
  {
   "cell_type": "code",
   "execution_count": null,
   "metadata": {
    "slideshow": {
     "slide_type": "subslide"
    }
   },
   "outputs": [],
   "source": [
    "n, d = 21, 3 \n",
    "G = nx.watts_strogatz_graph(n, 2*d, 0.5)\n",
    "nx.draw_circular(G, **opts)\n",
    "print(f\"G has L={nx.average_shortest_path_length(G):.3} and C={nx.average_clustering(G):.2f}\")"
   ]
  },
  {
   "cell_type": "code",
   "execution_count": null,
   "metadata": {
    "slideshow": {
     "slide_type": "subslide"
    }
   },
   "outputs": [],
   "source": [
    "G = nx.watts_strogatz_graph(n, 2*d, 0.1)\n",
    "nx.draw_circular(G, **opts)\n",
    "print(f\"G has L={nx.average_shortest_path_length(G):.3}, and C={nx.average_clustering(G):.2f}\")"
   ]
  },
  {
   "cell_type": "code",
   "execution_count": null,
   "metadata": {
    "slideshow": {
     "slide_type": "subslide"
    }
   },
   "outputs": [],
   "source": [
    "G = nx.watts_strogatz_graph(n, 2*d, 0.2)\n",
    "nx.draw_circular(G, **opts)\n",
    "print(f\"G has L={nx.average_shortest_path_length(G):.3}, C={nx.average_clustering(G):.2f}\")"
   ]
  },
  {
   "cell_type": "markdown",
   "metadata": {
    "slideshow": {
     "slide_type": "slide"
    }
   },
   "source": [
    "## Properties of WS-Graphs"
   ]
  },
  {
   "cell_type": "markdown",
   "metadata": {
    "slideshow": {
     "slide_type": "-"
    }
   },
   "source": [
    "The small-world attributes of a $(n, d, p)$-WS graph depend on the probability $p$.\n",
    "The following measurements have been taken for $n = 1000$ and $d = 5$.\n",
    "\n",
    "<table>\n",
    "    <tr>\n",
    "        <th>$p$</th>\n",
    "        <th>$L$</th>\n",
    "        <th>$C$</th>\n",
    "    </tr>\n",
    "    <tr>\n",
    "        <td>$0$</td>\n",
    "        <td>$50.5$</td>\n",
    "        <td>$0.667$</td>\n",
    "    </tr>\n",
    "    <tr>\n",
    "        <td>$0.01$</td>\n",
    "        <td>$8.94$</td>\n",
    "        <td>$0.648$</td>\n",
    "    </tr>\n",
    "    <tr>\n",
    "        <td>$0.05$</td>\n",
    "        <td>$5.26$</td>\n",
    "        <td>$0.576$</td>\n",
    "    </tr>\n",
    "    <tr>\n",
    "        <td>$1$</td>\n",
    "        <td>$3.27$</td>\n",
    "        <td>$0.00910$</td>\n",
    "    </tr>\n",
    "</table>"
   ]
  },
  {
   "cell_type": "markdown",
   "metadata": {
    "slideshow": {
     "slide_type": "slide"
    }
   },
   "source": [
    "##  Exercises"
   ]
  },
  {
   "cell_type": "markdown",
   "metadata": {},
   "source": [
    "1. In terms of the parameters, $n$, $d$ and $p$, what is the clustering coefficient $C$ of an $(n, d, p)$-WS graph?\n",
    "\n",
    "1. In terms of the parameters, $n$, $d$ and $p$, what is the average shortest path length $L$  of an $(n, d, p)$-WS graph?"
   ]
  }
 ],
 "metadata": {
  "celltoolbar": "Slideshow",
  "kernelspec": {
   "display_name": "2324-CS319",
   "language": "python",
   "name": "2324-cs319"
  },
  "language_info": {
   "codemirror_mode": {
    "name": "ipython",
    "version": 3
   },
   "file_extension": ".py",
   "mimetype": "text/x-python",
   "name": "python",
   "nbconvert_exporter": "python",
   "pygments_lexer": "ipython3",
   "version": "3.13.2"
  },
  "toc": {
   "base_numbering": 1,
   "nav_menu": {},
   "number_sections": true,
   "sideBar": true,
   "skip_h1_title": true,
   "title_cell": "Table of Contents",
   "title_sidebar": "Contents",
   "toc_cell": true,
   "toc_position": {
    "height": "calc(100% - 180px)",
    "left": "10px",
    "top": "150px",
    "width": "451.594px"
   },
   "toc_section_display": true,
   "toc_window_display": false
  },
  "varInspector": {
   "cols": {
    "lenName": 16,
    "lenType": 16,
    "lenVar": 40
   },
   "kernels_config": {
    "python": {
     "delete_cmd_postfix": "",
     "delete_cmd_prefix": "del ",
     "library": "var_list.py",
     "varRefreshCmd": "print(var_dic_list())"
    },
    "r": {
     "delete_cmd_postfix": ") ",
     "delete_cmd_prefix": "rm(",
     "library": "var_list.r",
     "varRefreshCmd": "cat(var_dic_list()) "
    }
   },
   "types_to_exclude": [
    "module",
    "function",
    "builtin_function_or_method",
    "instance",
    "_Feature"
   ],
   "window_display": false
  }
 },
 "nbformat": 4,
 "nbformat_minor": 2
}
