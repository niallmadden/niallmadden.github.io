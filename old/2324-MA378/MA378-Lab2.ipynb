{
 "cells": [
  {
   "cell_type": "markdown",
   "id": "2e0b9b71-c412-42fa-9c76-03a4c873b48f",
   "metadata": {
    "tags": []
   },
   "source": [
    "# 2223-MA378 : Lab 2\n",
    "## Lab 2 of Numerical Analysis 2: Experiments with spline interpolation.\n",
    "* *Name*: Niall Madden [Change this to your name before submitting!!!!] \n",
    "* *ID*: 01234567 [Change this to your ID]\n",
    "* *Email*:  `n.madden321@universityofgalway.ie` [Change this to your email address]\n",
    "* *Date*: Week 8, 2023/2024\n",
    "* *Collaborators*: List anyone you worked with on this"
   ]
  },
  {
   "cell_type": "markdown",
   "id": "443292f3-4f82-45df-9ea6-1b384131ccc3",
   "metadata": {},
   "source": [
    "***\n",
    "\n",
    "* Connect to [https://cloudjupyter.universityofgalway.ie/] and log in with the details provided to you in an email from `maths-stomaths-sto@universityofgalway.ie`\n",
    "* Upload the notebook from https://www.niallmadden.ie/2324-MA378/#lab2\n",
    "* Upload your solutions to Exercises 0, 1, 2 and 3 Canvas (2324-MA378... Assaignments... Lab 2) by 5pm, Friday 1st March.\n",
    "* Ideally, upload your solutions as a `.pdf` file. Failing that, try `.html` or `.ipynb`. \n",
    "\n",
    "***\n",
    "\n",
    "***"
   ]
  },
  {
   "cell_type": "markdown",
   "id": "ad987a77-7bda-42ed-b829-e1ba75462808",
   "metadata": {},
   "source": [
    "## Collaboration policy\n",
    "Collaboration is encouraged. If you work with some class-mates, please list their names in the first cell. However, every member of the team has to upload their own version."
   ]
  },
  {
   "cell_type": "markdown",
   "id": "077acf0f-9f2c-401e-857d-a8d4ba2cfce8",
   "metadata": {},
   "source": [
    "## The Octave Primer\n",
    "We are using Octave, on a Jupyter Server, for this lab. \n",
    "\n",
    "For more on getting started with Octave, please work through the primer at [https://www.niallmadden.ie/2324-MA378/OctavePrimer.html]\n",
    "\n",
    "Due to a minor bug in Octave, you'll see a message: `warning: using the gnuplot graphics toolkit is discouraged`. You can safely ignore that."
   ]
  },
  {
   "cell_type": "markdown",
   "id": "ad4669f5-ee22-47ce-a59d-d5e5b6f159a1",
   "metadata": {},
   "source": [
    "***"
   ]
  },
  {
   "cell_type": "markdown",
   "id": "b1043a52-93fe-4ff8-82f2-3186b8a76c32",
   "metadata": {
    "tags": []
   },
   "source": [
    "## Exercise 0\n",
    "Change the data at the start of this file to include your name, ID number and email address."
   ]
  },
  {
   "cell_type": "markdown",
   "id": "33b01136-c22b-491a-8d4f-01c8ea65541c",
   "metadata": {},
   "source": [
    "## Outline\n",
    "In class, we did a few examples of writing out piecewise polynomial interpolants of functions. However, in practice they are always implemented by computer. In this lab, we  will look at how this is done in Octave/MATLAB. Moreover, you will investigate how the numerical results compare with the theory. This has two purposes. \n",
    "\n",
    "1. To verify that the theory is correct. This is of particular interest for the error estimate given for cubic splines since they  were presented without proof.\n",
    "2. More important) to verify that the theory is sharp. For example, we might prove that the error for piecewise linear interpolation is bounded by $Ch^2$, for some constant, $C$. However, since $h \\leq 1$, this does not exclude the possibility that in fact it can be bounded by $Ch^3$. However this is easily verified experimentally."
   ]
  },
  {
   "cell_type": "markdown",
   "id": "5eba9a34-5de3-44ee-89be-f36816c620c4",
   "metadata": {},
   "source": [
    "## Some Spline  Basics\n",
    "Let $\\{x_i\\}_{i=0}^N := \\{x_0 < x_1 < \\dots < x_N\\}$ be a set of interpolation points.  \n",
    "The piecewise linear interpolant, $l$, of a function  $f$, at those points is defined as follows \n",
    "1. $l$ is continuous on $[x_{0},x_N]$,\n",
    "2. On each interval $[x_{i-1}, x_i]$, $l(x)=l_i(x)$ where $l_i$ is a polynomial of degree 1, for $i=1, 2, \\dots, N$.\n",
    "3. $l(x_i) = f(x_i)$ for each $i=0, 1, \\dots, $N$.\n",
    "\n",
    "Review your notes from Section 2.1 to see how to write down a formula for the $l_i$, \n",
    "    \n",
    "We also proved that $\\| f - l \\|_\\infty \\leq \\frac{h^2}{8}\\|f''\\|_\\infty$   where  $h = x_{i} - x_{i-1}$, \n",
    "and $\\displaystyle \\| u\\|_\\infty := \\max_{x_0 \\leq x \\leq x_N} |u(x)|$."
   ]
  },
  {
   "cell_type": "markdown",
   "id": "8fff879a-634f-40a5-bc46-4ac931b69b37",
   "metadata": {},
   "source": [
    "## Computing Piecewise Polynomial Interpolants\n",
    "\n",
    "In Octave/MATLAB, the function `interp1()` computes various types of piecewise polynomial interpolants to a data set, one one dimension. The syntax for computing the piecewise linear interpolant to the \n",
    "data set $\\{(x(1), y(1)), (x(2), y(2)), ... (x_N, y_N)\\}$ is:"
   ]
  },
  {
   "cell_type": "raw",
   "id": "ef9d632e-826b-4489-9465-f5750e308228",
   "metadata": {},
   "source": [
    "l = interp1(x,y,'linear', 'pp')"
   ]
  },
  {
   "cell_type": "markdown",
   "id": "fbb491f8-cb21-4e51-b05a-d2b1df99e1c0",
   "metadata": {},
   "source": [
    "where `x` is a vector of strictly increasing points, and `y` is a vector of the same length as `x`. \n",
    "The function returns a structure representing a piecewise polynomial. It can then be evaluated using the `ppval()` function."
   ]
  },
  {
   "cell_type": "markdown",
   "id": "d2c2d71f-230c-4034-9d4f-d63f2c4daef8",
   "metadata": {},
   "source": [
    "### Example\n",
    "Let's compute the piecewise linear interpolant to the points $\\{ (0,0), (1,1), (2,1), (3,6), (4,5)\\}$."
   ]
  },
  {
   "cell_type": "code",
   "execution_count": null,
   "id": "3cb2f305-d768-43df-af77-d6788ed2c7ef",
   "metadata": {
    "tags": []
   },
   "outputs": [],
   "source": [
    "x = [0, 1, 2, 3, 4]; % interpolation points\n",
    "y = [0, 1, 1, 6, 5]; % interpolation values\n",
    "l = interp1(x,y,'linear', 'pp');\n",
    "xp = x(1):0.01:x(end) ; % points at which we'll plot l.\n",
    "\n",
    "plot(x,y, 'o', xp, ppval(l, xp));\n",
    "legend('Interpolation data', 'PW Linear interpolant', 'Location','northwest')"
   ]
  },
  {
   "cell_type": "markdown",
   "id": "e00f9b8a-1a4b-48e2-84f9-3eb6690e6dd3",
   "metadata": {
    "tags": []
   },
   "source": [
    "***"
   ]
  },
  {
   "cell_type": "markdown",
   "id": "834097a6-2dad-47a3-bba4-fd9fcfc7c8bd",
   "metadata": {
    "tags": []
   },
   "source": [
    "## Interpolating a function\n",
    "Let's interpolate $f(x)=\\sin(\\pi x)$ on $[0,1]$ with $N=4$. "
   ]
  },
  {
   "cell_type": "code",
   "execution_count": null,
   "id": "ac74cf86-40a6-4754-8151-019315862705",
   "metadata": {
    "tags": []
   },
   "outputs": [],
   "source": [
    "f = @(x)sin(pi*x);\n",
    "N = 4;\n",
    "h = 1/N;\n",
    "x = 0:h:1; % Interpolation points\n",
    "y = f(x);  % Interpolation values\n",
    "l = interp1(x, y, 'linear', 'pp'); % Compute the interpolant"
   ]
  },
  {
   "cell_type": "markdown",
   "id": "c8064bd4-6ee1-4b7d-a0bd-3f402dbc0891",
   "metadata": {},
   "source": [
    "Plot the interpolant and the error"
   ]
  },
  {
   "cell_type": "code",
   "execution_count": null,
   "id": "f17f6a42-807a-4e19-9a6c-2e268703bd36",
   "metadata": {
    "tags": []
   },
   "outputs": [],
   "source": [
    "xp = 0:h/10:1; % points for plotting.\n",
    "\n",
    "subplot(2,1,1)\n",
    "plot(xp, f(xp), x, y, 'o', xp, ppval(l, xp));\n",
    "legend('f(x_i)', 'f(x)', 'l(x)')\n",
    "title('f(x) and l(x)');\n",
    "\n",
    "subplot(2,1,2)\n",
    "plot(xp, abs(f(xp)-ppval(l, xp)), x, x*0, 'o');\n",
    "title('|f(x) - l(x)|');"
   ]
  },
  {
   "cell_type": "markdown",
   "id": "872fe3e1-cdb2-435e-bdcf-c50e3808537a",
   "metadata": {},
   "source": [
    "Display the error:"
   ]
  },
  {
   "cell_type": "code",
   "execution_count": null,
   "id": "55745878-843e-4217-af44-8461b8ef0f1e",
   "metadata": {
    "tags": []
   },
   "outputs": [],
   "source": [
    "error=max(abs(f(xp)-ppval(l, xp)));\n",
    "fprintf('N=%4d, h=%8.2e, ||f-l||=%9.3e\\n', N , h, error); "
   ]
  },
  {
   "cell_type": "markdown",
   "id": "35466e52-507c-4d9f-aa47-f7f3d761deb2",
   "metadata": {},
   "source": [
    "***"
   ]
  },
  {
   "cell_type": "markdown",
   "id": "efc60853-4522-45dc-b677-b52ad3bef639",
   "metadata": {},
   "source": [
    "## Verifying Convergence\n",
    "We'll verify that the method converges at a rate that is proportional to $h^2$. For that, we'll use a for loop:"
   ]
  },
  {
   "cell_type": "code",
   "execution_count": null,
   "id": "2606a2a2-d16e-4f1a-92e7-a1ce0a59a0aa",
   "metadata": {
    "tags": []
   },
   "outputs": [],
   "source": [
    "k=0;\n",
    "for N=[8, 16, 32, 64, 128, 256, 512]; % the values of $N$ we'll use\n",
    "   k=k+1;\n",
    "   h = 1/N;\n",
    "   Hs(k)=h; % keep track of the values of h used\n",
    "   x = 0:h:1;\n",
    "   l = interp1(x, f(x), 'linear', 'pp');\n",
    "   xp = 0:h/10:1;\n",
    "   Errors(k)=max(abs(f(xp)-ppval(l, xp)));\n",
    "   fprintf('N=%4d, h=%8.2e, ||f-l||=%9.3e\\n', N , h, Errors(k));\n",
    "end"
   ]
  },
  {
   "cell_type": "markdown",
   "id": "6aaa492d-2886-41ae-b252-b027d2330d1b",
   "metadata": {},
   "source": [
    "Create a log-log plot of both the errors, and $h^2$ plotted against $h$:"
   ]
  },
  {
   "cell_type": "code",
   "execution_count": null,
   "id": "d8fcf548-98d8-44d6-871f-368d127eef48",
   "metadata": {
    "tags": []
   },
   "outputs": [],
   "source": [
    "loglog(Hs, Errors, ':o', Hs, Hs.^(2), '--');\n",
    "legend('Errors', 'h^{2}')"
   ]
  },
  {
   "cell_type": "markdown",
   "id": "659ae231-3576-4620-a82a-b2ebebe4e81b",
   "metadata": {},
   "source": [
    "You should observe that, in this log-log plot, the lines representing the errors and $h^{2}$ appear to be parallel. \n",
    "This implies that, indeed, the error is proportional to $h^2$. \n"
   ]
  },
  {
   "cell_type": "markdown",
   "id": "8dff3dd5-c2f2-4fe6-bd38-deb951d703eb",
   "metadata": {
    "tags": []
   },
   "source": [
    "***"
   ]
  },
  {
   "cell_type": "markdown",
   "id": "6a34e15d-ad38-4224-9bd0-94723135eda0",
   "metadata": {},
   "source": [
    "## EXERCISE 1 : Find $C$ for linear splines\n",
    "We expect that the error is (approximately) $Ch^2$. Use the data above to estimate $C$. Use that value of $C$ to determine the value of $N$ you'd need to take to ensure that the error is no more than $10^{-12}$. Show your calcuations in a cell below. \n",
    "\n",
    "**YOUR CODE GOES HERE:**"
   ]
  },
  {
   "cell_type": "code",
   "execution_count": null,
   "id": "358345f9-f2ba-4069-ba8a-83d17f389f60",
   "metadata": {
    "tags": []
   },
   "outputs": [],
   "source": [
    "## Insert here your code for \n",
    "## 1. estimating C \n",
    "## 2. using that to find the N for which the error is at most 1e-12.\n"
   ]
  },
  {
   "cell_type": "markdown",
   "id": "e5ef789e-75cc-4a40-b359-0cb6448cd4cc",
   "metadata": {},
   "source": [
    "***"
   ]
  },
  {
   "cell_type": "markdown",
   "id": "28e2497b-16fa-43ce-8321-92896371a37b",
   "metadata": {
    "tags": []
   },
   "source": [
    "## Cubic Spline Interpolant\n",
    "The `spline()` function computes the natural cubic spline interpolant to a function. The syntax is "
   ]
  },
  {
   "cell_type": "raw",
   "id": "2ffc00b2-5023-4b96-bbb2-d7938b568e1f",
   "metadata": {},
   "source": [
    "S = spline(x, y);"
   ]
  },
  {
   "cell_type": "markdown",
   "id": "a56575b4-7da2-4442-8898-4ed44fc57fcd",
   "metadata": {},
   "source": [
    "### EXERCISE 2: Verify convergence for cubic splines\n",
    "\n",
    "Taking $f(x)=\\sin(\\pi x)$, $x_0=0$ and, $x_N=1$, we want to verify that $\\| f - S \\|_\\infty \\leq C h^4$, and estimate the value of $C$. \n",
    "Do this by producing a log-log plot of $\\|f-S\\|_\\infty$ against various values of $h$. Again, find the value of $N$ required so that the error is at most $10^{12}$.\n",
    "\n",
    "Specifically:\n",
    "\n",
    "1. Copy the code from above that computes the linear spline interpolant to $f(x)=\\sin(\\pi x)$ for $N=8, 16, \\dots, 512$ \n",
    "2. Modify the code so that it computers $S$ instead of $l$\n",
    "3. Copy the code for generating the log-log plot, but adjust it so that it plots $S$ (rather than $l$) and compares this with `Hs.^(4)` rather then `Hs.^(2)`.\n",
    "4. Compute an estimate for $C$, and from that the value of $N$ needed to ensure the error is less than $10^{-12}$."
   ]
  },
  {
   "cell_type": "code",
   "execution_count": null,
   "id": "8528100e-6677-4fea-9505-059e390cb148",
   "metadata": {
    "tags": []
   },
   "outputs": [],
   "source": [
    "## Insert here your code for  Exercise 2 here \n",
    "\n"
   ]
  },
  {
   "cell_type": "markdown",
   "id": "75601c08-3912-45a7-a29c-20518c283c37",
   "metadata": {},
   "source": [
    "***"
   ]
  },
  {
   "cell_type": "markdown",
   "id": "f0d93831-8a5c-44b2-bedc-ffde699b18ac",
   "metadata": {},
   "source": [
    "## How accurate is PCHIP interpolation?\n",
    "\n",
    "### EXERCISE 3: Determine the order of accuracy of the `pchip` method.\n",
    "\n",
    "Easlier we verified the order of convergence of the _linear_ and _spline_ methods, which are implemeted as the `interp1()` and `spline()` functions, respectively. \n",
    "\n",
    "Now we want to determine the order of accuracy of the Piecewise Cubic Hermite Interpolating Polynomial (_pchip_) method, which is implemented in Octave as `pchip()`. \n",
    "However, it is not exactly the same as the methos in Section 2.3, for which we had to provide not just $f(x)$, but also $f'(x)$. In the `pchip()` function the algorithm computes $f'$ numerically. Therefore, although the theory suggests that the error is proportional to $h^{-4}$, that is not what we get.\n",
    "\n",
    "**Exercise**: If the error for the `pchip()` method is proportional to $h^p$, determine $p$.\n",
    "\n",
    "#### SOLUTION"
   ]
  },
  {
   "cell_type": "code",
   "execution_count": null,
   "id": "6fb6e3f5-0534-4e65-885d-10e613145f13",
   "metadata": {
    "tags": []
   },
   "outputs": [],
   "source": [
    "## Insert here your code for Exercise 3 here \n"
   ]
  },
  {
   "cell_type": "markdown",
   "id": "eade2f9f-9c27-4baa-a66d-8cac1c183907",
   "metadata": {},
   "source": [
    "We can see that the slope of the error line most resembles the slope of $h^2$. To we expect that error is bounded by $Ch^2$"
   ]
  }
 ],
 "metadata": {
  "kernelspec": {
   "display_name": "Calysto Octave",
   "language": "octave",
   "name": "octave_kernel"
  },
  "language_info": {
   "file_extension": ".m",
   "help_links": [
    {
     "text": "GNU Octave",
     "url": "https://www.gnu.org/software/octave/support.html"
    },
    {
     "text": "Octave Kernel",
     "url": "https://github.com/Calysto/octave_kernel"
    },
    {
     "text": "MetaKernel Magics",
     "url": "https://metakernel.readthedocs.io/en/latest/source/README.html"
    }
   ],
   "mimetype": "text/x-octave",
   "name": "octave",
   "version": "7.3.0"
  }
 },
 "nbformat": 4,
 "nbformat_minor": 5
}
