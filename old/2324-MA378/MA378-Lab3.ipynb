{
 "cells": [
  {
   "cell_type": "markdown",
   "id": "fc8d4eb6",
   "metadata": {
    "toc": true
   },
   "source": [
    "<h1>Table of Contents<span class=\"tocSkip\"></span></h1>\n",
    "<div class=\"toc\"><ul class=\"toc-item\"><li><span><a href=\"#Lab-3-of-Numerical-Analysis-2:-Gaussian-Quadrature\" data-toc-modified-id=\"Lab-3-of-Numerical-Analysis-2:-Gaussian-Quadrature-1\"><span class=\"toc-item-num\">1&nbsp;&nbsp;</span>Lab 3 of Numerical Analysis 2: Gaussian Quadrature</a></span></li><li><span><a href=\"#Collaboration-policy\" data-toc-modified-id=\"Collaboration-policy-2\"><span class=\"toc-item-num\">2&nbsp;&nbsp;</span>Collaboration policy</a></span></li><li><span><a href=\"#Test-Problem-Data\" data-toc-modified-id=\"Test-Problem-Data-3\"><span class=\"toc-item-num\">3&nbsp;&nbsp;</span>Test Problem Data</a></span></li><li><span><a href=\"#Useful-Functions\" data-toc-modified-id=\"Useful-Functions-4\"><span class=\"toc-item-num\">4&nbsp;&nbsp;</span>Useful Functions</a></span><ul class=\"toc-item\"><li><span><a href=\"#PolyDefInt()\" data-toc-modified-id=\"PolyDefInt()-4.1\"><span class=\"toc-item-num\">4.1&nbsp;&nbsp;</span><code>PolyDefInt()</code></a></span></li><li><span><a href=\"#LagrangePoly()\" data-toc-modified-id=\"LagrangePoly()-4.2\"><span class=\"toc-item-num\">4.2&nbsp;&nbsp;</span><code>LagrangePoly()</code></a></span></li><li><span><a href=\"#IP()\" data-toc-modified-id=\"IP()-4.3\"><span class=\"toc-item-num\">4.3&nbsp;&nbsp;</span><code>IP()</code></a></span></li></ul></li><li><span><a href=\"#Numerical-Integration\" data-toc-modified-id=\"Numerical-Integration-5\"><span class=\"toc-item-num\">5&nbsp;&nbsp;</span>Numerical Integration</a></span></li><li><span><a href=\"#Newton-Cotes-methods\" data-toc-modified-id=\"Newton-Cotes-methods-6\"><span class=\"toc-item-num\">6&nbsp;&nbsp;</span>Newton-Cotes methods</a></span><ul class=\"toc-item\"><li><span><a href=\"#Trapezium-Rule\" data-toc-modified-id=\"Trapezium-Rule-6.1\"><span class=\"toc-item-num\">6.1&nbsp;&nbsp;</span>Trapezium Rule</a></span></li><li><span><a href=\"#Simpson's-Rule\" data-toc-modified-id=\"Simpson's-Rule-6.2\"><span class=\"toc-item-num\">6.2&nbsp;&nbsp;</span>Simpson's Rule</a></span></li><li><span><a href=\"#Four-point-Newton-Cotes\" data-toc-modified-id=\"Four-point-Newton-Cotes-6.3\"><span class=\"toc-item-num\">6.3&nbsp;&nbsp;</span>Four point Newton-Cotes</a></span></li><li><span><a href=\"#Deriving-n-point-Newton-Cotes\" data-toc-modified-id=\"Deriving-n-point-Newton-Cotes-6.4\"><span class=\"toc-item-num\">6.4&nbsp;&nbsp;</span>Deriving n-point Newton-Cotes</a></span></li></ul></li><li><span><a href=\"#Polynomials-in-Octave\" data-toc-modified-id=\"Polynomials-in-Octave-7\"><span class=\"toc-item-num\">7&nbsp;&nbsp;</span>Polynomials in Octave</a></span><ul class=\"toc-item\"><li><span><a href=\"#Examples:\" data-toc-modified-id=\"Examples:-7.1\"><span class=\"toc-item-num\">7.1&nbsp;&nbsp;</span>Examples:</a></span></li><li><span><a href=\"#Functions\" data-toc-modified-id=\"Functions-7.2\"><span class=\"toc-item-num\">7.2&nbsp;&nbsp;</span>Functions</a></span><ul class=\"toc-item\"><li><span><a href=\"#polyval()\" data-toc-modified-id=\"polyval()-7.2.1\"><span class=\"toc-item-num\">7.2.1&nbsp;&nbsp;</span><code>polyval()</code></a></span></li><li><span><a href=\"#roots()\" data-toc-modified-id=\"roots()-7.2.2\"><span class=\"toc-item-num\">7.2.2&nbsp;&nbsp;</span><code>roots()</code></a></span></li><li><span><a href=\"#conv()\" data-toc-modified-id=\"conv()-7.2.3\"><span class=\"toc-item-num\">7.2.3&nbsp;&nbsp;</span><code>conv()</code></a></span></li><li><span><a href=\"#polyint()\" data-toc-modified-id=\"polyint()-7.2.4\"><span class=\"toc-item-num\">7.2.4&nbsp;&nbsp;</span><code>polyint()</code></a></span></li></ul></li></ul></li><li><span><a href=\"#Deriving-Newton-Cotes-Rules\" data-toc-modified-id=\"Deriving-Newton-Cotes-Rules-8\"><span class=\"toc-item-num\">8&nbsp;&nbsp;</span>Deriving Newton-Cotes Rules</a></span></li><li><span><a href=\"#Gaussian-Quadrature\" data-toc-modified-id=\"Gaussian-Quadrature-9\"><span class=\"toc-item-num\">9&nbsp;&nbsp;</span>Gaussian Quadrature</a></span><ul class=\"toc-item\"><li><span><a href=\"#Sequences-of-monic-orthogonal-polynomials\" data-toc-modified-id=\"Sequences-of-monic-orthogonal-polynomials-9.1\"><span class=\"toc-item-num\">9.1&nbsp;&nbsp;</span>Sequences of monic orthogonal polynomials</a></span></li><li><span><a href=\"#Gaussian-Quadrature-Weights\" data-toc-modified-id=\"Gaussian-Quadrature-Weights-9.2\"><span class=\"toc-item-num\">9.2&nbsp;&nbsp;</span>Gaussian Quadrature Weights</a></span></li></ul></li><li><span><a href=\"#Your-Tasks\" data-toc-modified-id=\"Your-Tasks-10\"><span class=\"toc-item-num\">10&nbsp;&nbsp;</span>Your Tasks</a></span></li></ul></div>"
   ]
  },
  {
   "cell_type": "markdown",
   "id": "2e0b9b71-c412-42fa-9c76-03a4c873b48f",
   "metadata": {
    "tags": []
   },
   "source": [
    "# 2223-MA378 : Lab 3\n",
    "\n",
    "## Lab 3 of Numerical Analysis 2: Gaussian Quadrature\n"
   ]
  },
  {
   "cell_type": "markdown",
   "id": "443292f3-4f82-45df-9ea6-1b384131ccc3",
   "metadata": {},
   "source": [
    "***\n",
    "\n",
    "* Connect to [https://cloudjupyter.universityofgalway.ie/] and log in with the details provided to you in an email from `maths-stomaths-sto@universityofgalway.ie`\n",
    "* Upload the notebook from https://www.niallmadden.ie/2324-MA378/#lab3\n",
    "* Complete the tasks described below.\n",
    "* Save and Export your notebook as a `.pdf` document;\n",
    "* Upload that pdf to Canvas (2324-MA378... Assaignments... Lab 3) by 5pm, Friday 22nd March.\n",
    "\n",
    "\n",
    "***"
   ]
  },
  {
   "cell_type": "markdown",
   "id": "ad987a77-7bda-42ed-b829-e1ba75462808",
   "metadata": {},
   "source": [
    "## Collaboration policy\n",
    "Collaboration is encouraged. If you work with some class-mates, please list their names in the first cell. However, every member of the team has to upload their own version."
   ]
  },
  {
   "cell_type": "code",
   "execution_count": null,
   "id": "31141347-d1da-4689-934d-4f9af00fbd9d",
   "metadata": {
    "tags": []
   },
   "outputs": [],
   "source": [
    "1+1; # Just getting the gnuplot warning out of the way"
   ]
  },
  {
   "cell_type": "markdown",
   "id": "3494764d-7192-4327-8c69-0f312d9d434a",
   "metadata": {},
   "source": [
    "***"
   ]
  },
  {
   "cell_type": "markdown",
   "id": "d5f66541-938a-466a-85b2-c3b7f280f80e",
   "metadata": {},
   "source": [
    "## Test Problem Data\n",
    "\n",
    "In this lab, we'll take $f(x)=\\log(2+x)$ and $[a,b]=[-1,1]$. The correct answer is \n",
    "$$\\int_{-1}^1 \\log(2+x) dx = 3\\log(3)-2.$$\n",
    "\n",
    "**Note**: You'll need to copy this cell to a new notebook later."
   ]
  },
  {
   "cell_type": "code",
   "execution_count": null,
   "id": "ddf4eaad-f3e2-4a0e-8470-587df936bfe9",
   "metadata": {
    "tags": []
   },
   "outputs": [],
   "source": [
    "a=-1; b=1;\n",
    "f = @(x)log(2+x);\n",
    "TrueInt = 3*log(3)-2;"
   ]
  },
  {
   "cell_type": "markdown",
   "id": "31b4b732-e117-427a-815d-92c0456ecab3",
   "metadata": {},
   "source": [
    "***"
   ]
  },
  {
   "cell_type": "markdown",
   "id": "cca82592-2bb1-44be-b5f7-fa8d4e8a1bb6",
   "metadata": {},
   "source": [
    "## Useful Functions\n",
    "\n",
    "There are theee functions that we'll need for the rest of this notebook. You'll also need to copy them to your notebook."
   ]
  },
  {
   "cell_type": "markdown",
   "id": "a71a2de2-a8a2-41e4-80ba-d659855249f0",
   "metadata": {},
   "source": [
    "### `PolyDefInt()`\n",
    "Because we'll often have to compute definite integrals of polynomials, to make the code more readable, we'll define a function `PolyDefInt(p,a,b)`, that returns $\\int_a^b p(x)dx$."
   ]
  },
  {
   "cell_type": "code",
   "execution_count": null,
   "id": "f3cdc0a4-e1d5-47d8-881b-3ed06888ec28",
   "metadata": {
    "tags": []
   },
   "outputs": [],
   "source": [
    "function int_ans = PolyDefInt(p,a,b)\n",
    "g = polyint(p);\n",
    "int_ans = polyval(g,b)-polyval(g,a);\n",
    "end"
   ]
  },
  {
   "cell_type": "markdown",
   "id": "bc4c071c-e179-4354-ac5b-9987364066b5",
   "metadata": {},
   "source": [
    "### `LagrangePoly()`\n",
    "\n",
    "Often, we'll need to compute the Lagrange Polynomails for a set of points. This function can do that. It returns the `polyval()` representation of $L_i(x)$ for a given set of points `x` and index `i`."
   ]
  },
  {
   "cell_type": "code",
   "execution_count": null,
   "id": "455d2aaf-3e47-4429-8fff-997f1d81ae76",
   "metadata": {},
   "outputs": [],
   "source": [
    "function Li = LagrangePoly(x,i)\n",
    "n = length(x)-1;\n",
    "Li = 1; % will use conv() to build the Lagrange polynomial\n",
    "for k=1:n+1\n",
    "   if (k ~= i)\n",
    "      Li = conv(Li, [1,-x(k)])/(x(i)-x(k));\n",
    "   end\n",
    "end\n",
    "end"
   ]
  },
  {
   "cell_type": "markdown",
   "id": "666d3113-8971-4436-a12b-ffa84f896d59",
   "metadata": {},
   "source": [
    "### `IP()`\n",
    "\n",
    "To use the algorithm, we need to complete numerous inner products. Do simplify the code, here is a function called `IP()` that computes $IP(p,q) = \\int_{-1}^1 p(x)q(x)dx$   where `p` and `q` are vectors representing polynomials. "
   ]
  },
  {
   "cell_type": "code",
   "execution_count": null,
   "id": "5cd45e13-98f7-498f-b91d-5694c2f18126",
   "metadata": {
    "tags": []
   },
   "outputs": [],
   "source": [
    "function v = IP(p,q)\n",
    "r = conv(p,q);\n",
    "v = PolyDefInt(r,-1,1);\n",
    "end"
   ]
  },
  {
   "cell_type": "markdown",
   "id": "ad4669f5-ee22-47ce-a59d-d5e5b6f159a1",
   "metadata": {},
   "source": [
    "***"
   ]
  },
  {
   "cell_type": "markdown",
   "id": "bcf638ad-ca81-4c59-a661-93dfcde74b1d",
   "metadata": {},
   "source": [
    "## Numerical Integration\n",
    "Octave has some built-in functions for numerical integration, but we'll are interested in writing our own.\n",
    "\n",
    "Given a function $f(x)$, we want to approximate $\\int_a^bf(x)dx$ We've learned about two ways to do this: **Newton-Cotes Quadrature** methods, and **Gaussian Quadrature**."
   ]
  },
  {
   "cell_type": "markdown",
   "id": "5b314362-9375-490e-9bc2-c096506b9e9c",
   "metadata": {},
   "source": [
    "## Newton-Cotes methods\n",
    "For a Newton-Cotes method, $Q_N(\\cdot)$, we set  $x=\\{x_0, x_1, \\dots, x_N\\}$, to be a set of $N+1$ equally spaced points on $[a,b]$, including the two end points. These are called the *quadrature points*. We then let $q=\\{q_0, q_1, \\dots, q_N\\}$ be a set of *quadrature wieghts* so that $Q_N(p) = \\int_a^b p(x) dx$, for any polynomial, $p$m of degree $N$ or less. (Review notes from Section 3.2 to see how these points are calculated). The method is then \n",
    "$$Q_N(f) := \\sum_{i=0}^N q_i f(x_i).$$"
   ]
  },
  {
   "cell_type": "markdown",
   "id": "d2c2d71f-230c-4034-9d4f-d63f2c4daef8",
   "metadata": {},
   "source": [
    "### Trapezium Rule\n",
    "For the Trapexium Rule, denoted, $Q_1(\\cdot)$, we have"
   ]
  },
  {
   "cell_type": "code",
   "execution_count": null,
   "id": "3cb2f305-d768-43df-af77-d6788ed2c7ef",
   "metadata": {
    "tags": []
   },
   "outputs": [],
   "source": [
    "x = [0, 1]; % Quadrature points\n",
    "q = [1, 1]; % Quadrature weights"
   ]
  },
  {
   "cell_type": "markdown",
   "id": "359715f7-4f75-4fb6-b3d3-8710bf181c3f",
   "metadata": {},
   "source": [
    "We could compute this as `q(1)*f(x(1)) + q(2)*f(x(2))`. However, the following code works for any pair of vectors `q` and `x`, so long as they are the same length."
   ]
  },
  {
   "cell_type": "code",
   "execution_count": null,
   "id": "55a209bd-140c-4774-8797-415d25ac3746",
   "metadata": {
    "tags": []
   },
   "outputs": [],
   "source": [
    "Q1 = sum(q.*f(x));\n",
    "Q1Error = abs(TrueInt - Q1);\n",
    "fprintf('Q1: Estimate = %8.6f, Error = %8.3e\\n', Q1, Q1Error);"
   ]
  },
  {
   "cell_type": "markdown",
   "id": "d9d60531-929d-4233-bc5b-db345c27237b",
   "metadata": {},
   "source": [
    "### Simpson's Rule"
   ]
  },
  {
   "cell_type": "code",
   "execution_count": null,
   "id": "44ac3952-5aa9-4665-b560-e8d667d8f4b3",
   "metadata": {
    "tags": []
   },
   "outputs": [],
   "source": [
    "n=2;\n",
    "x = linspace(a,b,n+1);\n",
    "q = [1,4,1]/3;\n",
    "Q2 = sum(q.*f(x));\n",
    "Q2Error = abs(TrueInt - Q2);\n",
    "fprintf('Q%d: Estimate = %8.6f, Error = %8.3e\\n', n, Q2, Q2Error);"
   ]
  },
  {
   "cell_type": "markdown",
   "id": "dfb3d2e5-9435-4a71-acdd-6dc01515a181",
   "metadata": {
    "tags": []
   },
   "source": [
    "### Four point Newton-Cotes\n",
    "\n",
    "The 4-point scheme has weights: $\\big(\\frac{1}{4}, \\frac{3}{4}, \\frac{3}{4}, \\frac{1}{4}\\big)$. Here is its estimate\n"
   ]
  },
  {
   "cell_type": "code",
   "execution_count": null,
   "id": "2ba4cc20-08e9-4b6c-b79d-54f64954296f",
   "metadata": {
    "tags": []
   },
   "outputs": [],
   "source": [
    "n=3;\n",
    "x = linspace(a,b,n+1);\n",
    "q = [1,3,3,1]/4;\n",
    "Q3 = sum(q.*f(x));\n",
    "Q3Error = abs(TrueInt - Q3);\n",
    "fprintf('Q%d: Estimate = %8.6f, Error = %8.3e\\n', n, Q3, Q3Error);"
   ]
  },
  {
   "cell_type": "markdown",
   "id": "582f5d5f-b1c1-403d-851c-2945101d19d1",
   "metadata": {
    "tags": []
   },
   "source": [
    "There is also a 5-point rule called *Boole's Rule* (named after Cork's George Boole). You can read about it here:\n",
    "https://en.wikipedia.org/wiki/Boole's_rule"
   ]
  },
  {
   "cell_type": "markdown",
   "id": "b0969fad-7786-4a1e-b891-85be4ed1c0a6",
   "metadata": {
    "tags": []
   },
   "source": [
    "### Deriving n-point Newton-Cotes\n",
    "In general, a Newton-Cotes method may be constructed by first choosing the \n",
    "points and then computing $q_k = \\int_a^b L_k(x) dx$, where $L_k(x)$ is the \n",
    "Lagrange Polynomial associated with the point $x_k$. \n",
    "In the next section, we'll see how to compute that."
   ]
  },
  {
   "cell_type": "markdown",
   "id": "e00f9b8a-1a4b-48e2-84f9-3eb6690e6dd3",
   "metadata": {
    "tags": []
   },
   "source": [
    "***"
   ]
  },
  {
   "cell_type": "markdown",
   "id": "6b662cce-9067-49d5-b714-d70e5e40daf3",
   "metadata": {
    "tags": []
   },
   "source": [
    "## Polynomials in Octave\n",
    "\n",
    "In Ocatve and MATLAB, a polynomial is represented as a vector:\n",
    "* If the vector is called `p`, then the degree of the polynomial is `n=length(p)-1`.\n",
    "* `p(1)` is the coefficent of $x^n$, `p(2)` is the coefficient of $x^{n-1}$, ..., `p(n+1)` is the coefficient of $x^0=1$. In general, `p(k)` is the coefficient of $x^{n-k+1}$."
   ]
  },
  {
   "cell_type": "markdown",
   "id": "6140006c-9fb6-40c3-8e27-43b6397a8287",
   "metadata": {
    "tags": []
   },
   "source": [
    "### Examples:\n",
    "* If `p` is the vector representing a monic polynomial, then `p(1)=``. \n",
    "* The vector for $x^2-1$ is `p=[1,0,-1]`. \n",
    "* `p=[5,-4,3,-2]` is the vector for $5x^3 -4x^2 +3x -2$."
   ]
  },
  {
   "cell_type": "markdown",
   "id": "3a0aa3ae-0154-42fd-8b78-647cae96915c",
   "metadata": {},
   "source": [
    "### Functions\n",
    "Octave/MATLAB has several useful functions for working with polynomials. Here are some we'll use in this lab."
   ]
  },
  {
   "cell_type": "markdown",
   "id": "7bf0ad1b-5818-404c-a2f0-2d0cb67d5293",
   "metadata": {},
   "source": [
    "#### `polyval()`\n",
    "Given vectors `p` and `x`, the function call `polyval(p,x)` returns the values of the polynomial represented by `p` at the points in `x`.\n",
    "\n",
    "Example: let's check that $x^2+x-6=(x-2)(x+3)$ is zero at  $x=2$ and $x=-3$. "
   ]
  },
  {
   "cell_type": "code",
   "execution_count": null,
   "id": "ac74cf86-40a6-4754-8151-019315862705",
   "metadata": {
    "tags": []
   },
   "outputs": [],
   "source": [
    "p2=[1,1,-6]\n",
    "polyval(p2,[-3, 2])"
   ]
  },
  {
   "cell_type": "markdown",
   "id": "c8064bd4-6ee1-4b7d-a0bd-3f402dbc0891",
   "metadata": {},
   "source": [
    "Plot the interpolant and the error"
   ]
  },
  {
   "cell_type": "markdown",
   "id": "274514ea-eeb1-4b74-84cd-6cd3281db2c7",
   "metadata": {},
   "source": [
    "`polyval()` is particularly useful for plotting. To plot a polynomial represented by the vector `p` on the interval $[a,b]$, do something like this:"
   ]
  },
  {
   "cell_type": "code",
   "execution_count": null,
   "id": "f17f6a42-807a-4e19-9a6c-2e268703bd36",
   "metadata": {
    "tags": []
   },
   "outputs": [],
   "source": [
    "p3=[1,2,-5,-6]; % reps x^3+2x^2-5x-6\n",
    "a=-4; b=3; % change these to anything you like.\n",
    "x=linspace(a,b,100); % vector with 100 points in [a,b]\n",
    "plot(x, polyval(p3,x), x,x*0, ':')"
   ]
  },
  {
   "cell_type": "markdown",
   "id": "872fe3e1-cdb2-435e-bdcf-c50e3808537a",
   "metadata": {},
   "source": [
    "#### `roots()`\n",
    "\n",
    "Given a vector `p` that represents a polynomial, the `roots()` function returns its roots. In the previous example, the plot suggests `p3` has roots at $x=-3$, $x=-1$, and $x=2$. Let's check:"
   ]
  },
  {
   "cell_type": "code",
   "execution_count": null,
   "id": "55745878-843e-4217-af44-8461b8ef0f1e",
   "metadata": {
    "tags": []
   },
   "outputs": [],
   "source": [
    "roots(p3)"
   ]
  },
  {
   "cell_type": "markdown",
   "id": "c6c19b27-8a47-4a3d-a545-2776e8709dd9",
   "metadata": {},
   "source": [
    "#### `conv()`\n",
    "\n",
    "The `conv()` function can be used to multiply polynomials.  The name comes from an operation on vectors called convolution, which is equivalent to polynomial interpolation. To try it out, let's recall that the ploynomial $p_1(x)=x-s$ is the polynomial of degree 1 with a zero at $x=s$. In MATLAB, we could represent it as p1=[1,-s]. In an earlier example we had a polynomial $p_2=x^2+x-6=(x-2)(x+3)$. To make this using `conv()`:"
   ]
  },
  {
   "cell_type": "code",
   "execution_count": null,
   "id": "907e726b-7a69-4db1-8521-fc9b85a5e387",
   "metadata": {
    "tags": []
   },
   "outputs": [],
   "source": [
    "p2=conv([1,2],[1,-3])"
   ]
  },
  {
   "cell_type": "markdown",
   "id": "1f087ce3-91c0-4a5c-b71e-a29153b1aa27",
   "metadata": {},
   "source": [
    "#### `polyint()`\n",
    "\n",
    "\n",
    "The `polyint()` function returns the coefficients for the polynomial that is the antidervative of the given one, assuming a constant of integration of 0. \n",
    "\n",
    "For example, we know that $\\int_a^b  x^3 +2x^2 -5x-6 dx = \\frac{1}{4}x^4 + \\frac{2}{3}x^3 -\\frac{5}{2}x^2 -6x+C$. Let's check"
   ]
  },
  {
   "cell_type": "code",
   "execution_count": null,
   "id": "53170e01-6023-4cce-8de1-9e3f4021b7b9",
   "metadata": {
    "tags": []
   },
   "outputs": [],
   "source": [
    "g=polyint(p3)"
   ]
  },
  {
   "cell_type": "markdown",
   "id": "3f918264-ee9c-4adf-9766-0c67f8592e93",
   "metadata": {},
   "source": [
    "In numerical integration, we are usually interested in computing definite integrals. \n",
    "To compute $\\int_{-1}^1 p_3(x)dx$,  first set $g$ to be the antiderivative of $p_3$, \n",
    "and then use `polyval()` to compute $g(-1)$ and $g(1)$. Subtract the first from the second to get the desired value. "
   ]
  },
  {
   "cell_type": "code",
   "execution_count": null,
   "id": "870c09f6-2ec7-4b65-a3ca-f48e422de75e",
   "metadata": {
    "tags": []
   },
   "outputs": [],
   "source": [
    "polyval(polyint(p3),1)-polyval(polyint(p3),-1)"
   ]
  },
  {
   "cell_type": "markdown",
   "id": "4ca29eb0-b37c-422a-97d7-bae0bac3ed38",
   "metadata": {},
   "source": [
    "Check that the `PolyDefInt()` function above works:"
   ]
  },
  {
   "cell_type": "code",
   "execution_count": null,
   "id": "c4164789-bed6-424d-80d0-596949f0c9b8",
   "metadata": {
    "tags": []
   },
   "outputs": [],
   "source": [
    "PolyDefInt(p3,-1,1)"
   ]
  },
  {
   "cell_type": "markdown",
   "id": "35466e52-507c-4d9f-aa47-f7f3d761deb2",
   "metadata": {},
   "source": [
    "***"
   ]
  },
  {
   "cell_type": "markdown",
   "id": "efc60853-4522-45dc-b677-b52ad3bef639",
   "metadata": {},
   "source": [
    "## Deriving Newton-Cotes Rules\n",
    "\n",
    "We now have all the tools needed to compute quadrature weights for Newton-Cotes methods. As an example, let's reproduce that -point scheme."
   ]
  },
  {
   "cell_type": "code",
   "execution_count": null,
   "id": "e352a018-25fb-48d8-8952-f67eaf2ba514",
   "metadata": {
    "tags": []
   },
   "outputs": [],
   "source": [
    "n = 3;\n",
    "a = -1; b = 1;\n",
    "x = linspace(a,b,n+1);\n",
    "q = zeros(1,n+1); % vector where we will store the weights"
   ]
  },
  {
   "cell_type": "markdown",
   "id": "de9e0597-44e6-4d21-9cc4-a4baf539ee92",
   "metadata": {
    "tags": []
   },
   "source": [
    "Next we define the weights as inetgrals of the Lagrange polynomials: \n",
    "$$L_i = \\prod_{k=0, k \\neq 1}^{n} \\frac{x-x_k}{x_i-x_k}.$$\n",
    "In the following, take care to note that Octave indexes from 1, and not 0."
   ]
  },
  {
   "cell_type": "code",
   "execution_count": null,
   "id": "e19c1807-acc9-42cd-8079-b42748a4989b",
   "metadata": {
    "tags": []
   },
   "outputs": [],
   "source": [
    "for i=1:n+1\n",
    "   Li = 1; % will use conv() to build the Lagrange polynomial\n",
    "   for k=1:n+1\n",
    "      if (k ~= i)\n",
    "         Li = conv(Li, [1,-x(k)])/(x(i)-x(k));\n",
    "      end\n",
    "   end\n",
    "   q(i) = PolyDefInt(Li,a,b);\n",
    "end\n",
    "disp(q) % output values of q\n"
   ]
  },
  {
   "cell_type": "markdown",
   "id": "bb1bf503-3945-48b7-a094-e82b757ad21d",
   "metadata": {
    "tags": []
   },
   "source": [
    "You should check that these are the same values as use above. Sometimes, it can be helpful to look at rational expressions for these numbers:"
   ]
  },
  {
   "cell_type": "code",
   "execution_count": null,
   "id": "fe657bff-6d9a-4cf9-8b71-46c7e6793640",
   "metadata": {
    "tags": []
   },
   "outputs": [],
   "source": [
    "rat(q)"
   ]
  },
  {
   "cell_type": "markdown",
   "id": "447331d9-adf0-4a67-9298-28ccb0e2c37d",
   "metadata": {},
   "source": [
    "***"
   ]
  },
  {
   "cell_type": "markdown",
   "id": "6a34e15d-ad38-4224-9bd0-94723135eda0",
   "metadata": {},
   "source": [
    "## Gaussian Quadrature\n",
    "\n",
    "The Gaussian Quadrature method, $G_n(\\cdot)$, is based on choosing the weights and the points to optimise the precision of the method. We've learned in class the that trick to computing these values involves working with sequences of orthogonal monic polynomials. "
   ]
  },
  {
   "cell_type": "markdown",
   "id": "b9239ea6-4c39-4601-abe2-68465f32621c",
   "metadata": {
    "tags": []
   },
   "source": [
    "### Sequences of monic orthogonal polynomials\n",
    "\n",
    "Review the notes from Section 3.5, and especially Theorem 5.11. See https://www.niallmadden.ie/2324-MA378/3-5-OrthogonalPolynomials.pdf.  Because we are using Octave, we have to change the notation: we'll represent $\\tilde p_k$  `p{k+1}`, since Octave indexes from zero.\n"
   ]
  },
  {
   "cell_type": "markdown",
   "id": "fbaf4ae5-6695-4f79-96f3-d32dbadc03e1",
   "metadata": {},
   "source": [
    "Start by setting $\\tilde p_1=1$."
   ]
  },
  {
   "cell_type": "code",
   "execution_count": null,
   "id": "e9d2ea7e-df9a-4068-aa5c-cd1ba1b348b9",
   "metadata": {
    "tags": []
   },
   "outputs": [],
   "source": [
    "p{1} = 1; % this is what we used call p0. But Octave indexes from 1, unfortunately."
   ]
  },
  {
   "cell_type": "markdown",
   "id": "71ad58fa-63c1-44b7-846f-719b85d5b9a4",
   "metadata": {
    "tags": []
   },
   "source": [
    "The we compute $\\tilde p_2=x-\\alpha$."
   ]
  },
  {
   "cell_type": "code",
   "execution_count": null,
   "id": "40070cb9-11d3-47f5-a882-666075d993f4",
   "metadata": {
    "tags": []
   },
   "outputs": [],
   "source": [
    "alpha = IP( conv([1,0], p{1}),p{1})/IP(p{1},p{1}); % Note [1,0] is the polynomial 'x'.\n",
    "p{2} = [1,-alpha];"
   ]
  },
  {
   "cell_type": "markdown",
   "id": "e0d4ccd1-2756-44c2-ba84-66bbb1a9ff70",
   "metadata": {},
   "source": [
    "After that, we use $\\tilde p_{n+1}(x) = (x-\\alpha)\\tilde p_n(x) - \\beta \\tilde p_{n-1}(x)$. Here is an example. Note that in the last line, we padded `p{n-1}` with 2 zeros, because we can only add vectors of the same degree/length."
   ]
  },
  {
   "cell_type": "code",
   "execution_count": null,
   "id": "045117f0-dbe5-42e3-96d3-4a5906cddc4f",
   "metadata": {
    "tags": []
   },
   "outputs": [],
   "source": [
    "n = 2;\n",
    "alpha = IP( conv([1,0], p{n}),p{n})/IP(p{n},p{n}); \n",
    "beta  = IP( conv([1,0], p{n}),p{n-1})/IP(p{n-1},p{n-1}); \n",
    "p{n+1} = conv([1,-alpha], p{n}) - beta*[0,0,p{n-1}]; "
   ]
  },
  {
   "cell_type": "markdown",
   "id": "57396370-6cd4-4092-93fe-ccd86c9b579e",
   "metadata": {},
   "source": [
    "From Example 5.13 of Section 3.5 (see https://www.niallmadden.ie/2324-MA378/3-4-GaussianQuadrature.pdf) we know that, with $a=-1$ and $b=1$, we should get the first three polynomials are $1$, $x$ and $x^2-1/3$. \n",
    "Furthermore, the roots of $x^2-1/3$ are the quadrature points for $G_1(x)$, i.e., \n",
    "$$x_0= -\\frac{1}{\\sqrt{3}} \\quad \\text{ and } x_1= \\frac{1}{\\sqrt{3}}.$$\n",
    "Let's check:"
   ]
  },
  {
   "cell_type": "code",
   "execution_count": null,
   "id": "bc0765da-78b3-49f2-9fb0-1411ca5ffd60",
   "metadata": {
    "tags": []
   },
   "outputs": [],
   "source": [
    "x2=roots(p{3})'  % transposed to row vector"
   ]
  },
  {
   "cell_type": "code",
   "execution_count": null,
   "id": "d255cf7b-1d2e-4a85-94f3-5119a31d992d",
   "metadata": {
    "tags": []
   },
   "outputs": [],
   "source": [
    "x2.^2"
   ]
  },
  {
   "cell_type": "markdown",
   "id": "e5ef789e-75cc-4a40-b359-0cb6448cd4cc",
   "metadata": {},
   "source": [
    "***"
   ]
  },
  {
   "cell_type": "markdown",
   "id": "28e2497b-16fa-43ce-8321-92896371a37b",
   "metadata": {
    "tags": []
   },
   "source": [
    "### Gaussian Quadrature Weights\n",
    "\n",
    "The weights are computed in the same was as for Newton-Cotes: given a set of points, compute the Lagrange polynomials for each of these. Their integrals on  $[a,b]$ are the weight."
   ]
  },
  {
   "cell_type": "code",
   "execution_count": null,
   "id": "1117f1d8-bf3b-4aac-9f6d-3aa1221b5a18",
   "metadata": {
    "tags": []
   },
   "outputs": [],
   "source": [
    "n = 2;\n",
    "x = roots(p{n+1})'; % make sure that p{n+1} has been computed above.\n",
    "w = zeros(1,n); % \n",
    "for i=1:n\n",
    "   w(i) = PolyDefInt(LagrangePoly(x, i),-1,1);\n",
    "end\n",
    "disp(w)"
   ]
  },
  {
   "cell_type": "markdown",
   "id": "792b290e-6c58-418b-abe5-984f97fd4f01",
   "metadata": {},
   "source": [
    "Now we can apply the method. The code is essentially the same as for Newton-Cotes."
   ]
  },
  {
   "cell_type": "code",
   "execution_count": null,
   "id": "4199a315-ba62-4187-a08c-133e2d5acd0c",
   "metadata": {
    "tags": []
   },
   "outputs": [],
   "source": [
    "G1 = sum(w.*f(x));\n",
    "G1Error = abs(TrueInt - G1);\n",
    "fprintf('G1: Estimate = %8.6f, Error = %8.3e\\n', G1, G1Error);"
   ]
  },
  {
   "cell_type": "markdown",
   "id": "75601c08-3912-45a7-a29c-20518c283c37",
   "metadata": {},
   "source": [
    "***"
   ]
  },
  {
   "cell_type": "markdown",
   "id": "f0d93831-8a5c-44b2-bedc-ffde699b18ac",
   "metadata": {},
   "source": [
    "##  Your Tasks\n",
    "\n",
    "1. Create a new (blank) Jupuyer Notebook, which uses the `Calysto Octave`. Add your name, ID number and email address in a `markdown` cell at the top. also name anyone you collaborated with. (If you prefer, you can delete ALL the unneeded stuff from this notebook, but it is probably easier to start a new notebook, and just copy over what is needed).\n",
    "\n",
    "2. Copy the test problem data (values of `a`, `b`, `f` and `TrueInt`) from the `TestProblemData` section above.\n",
    "\n",
    "3. Copy the functions from the `Useful Functions` section above to your notebook. \n",
    "\n",
    "4. Write a piece of code that derives and implements the 5-point **Newton-Cotes method**, and tests it when estimating \n",
    "$$\\int_a^b f(x)dx = \\int_{-1}^1 \\log(x+2) dx.$$ \n",
    "The tests should include reporting the error.\n",
    "\n",
    "5. Write a piece of code that derives and implements the 3-point and 4-point **Gaussian** methods, and tests them when estimating \n",
    "$\\int_{-1}^1 \\log(x+2) dx.$ \n",
    "The tests should include reporting the error.\n",
    "\n",
    "6. Export your notebook as a PDF document, and upload that to Canvas (2324-MA378 - Assignments - Lab 3). **Deadline: 5pm, Friday 22 March.**"
   ]
  }
 ],
 "metadata": {
  "kernelspec": {
   "display_name": "Octave [conda env:calysto-octave]",
   "language": "octave",
   "name": "conda-env-calysto-octave-octave"
  },
  "language_info": {
   "file_extension": ".m",
   "help_links": [
    {
     "text": "GNU Octave",
     "url": "https://www.gnu.org/software/octave/support.html"
    },
    {
     "text": "Octave Kernel",
     "url": "https://github.com/Calysto/octave_kernel"
    },
    {
     "text": "MetaKernel Magics",
     "url": "https://metakernel.readthedocs.io/en/latest/source/README.html"
    }
   ],
   "mimetype": "text/x-octave",
   "name": "octave",
   "version": "5.2.0"
  },
  "toc": {
   "base_numbering": 1,
   "nav_menu": {},
   "number_sections": true,
   "sideBar": true,
   "skip_h1_title": true,
   "title_cell": "Table of Contents",
   "title_sidebar": "Contents",
   "toc_cell": true,
   "toc_position": {},
   "toc_section_display": true,
   "toc_window_display": false
  },
  "varInspector": {
   "cols": {
    "lenName": 16,
    "lenType": 16,
    "lenVar": 40
   },
   "kernels_config": {
    "python": {
     "delete_cmd_postfix": "",
     "delete_cmd_prefix": "del ",
     "library": "var_list.py",
     "varRefreshCmd": "print(var_dic_list())"
    },
    "r": {
     "delete_cmd_postfix": ") ",
     "delete_cmd_prefix": "rm(",
     "library": "var_list.r",
     "varRefreshCmd": "cat(var_dic_list()) "
    }
   },
   "types_to_exclude": [
    "module",
    "function",
    "builtin_function_or_method",
    "instance",
    "_Feature"
   ],
   "window_display": false
  }
 },
 "nbformat": 4,
 "nbformat_minor": 5
}
