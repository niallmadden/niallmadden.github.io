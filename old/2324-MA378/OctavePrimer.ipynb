{
 "cells": [
  {
   "cell_type": "markdown",
   "id": "2746f749-0290-44b0-86eb-2dce98a07882",
   "metadata": {
    "tags": []
   },
   "source": [
    "# 2324-MA378 : Lab 1 - MATLAB Primer.\n",
    "This is a primer for Lab 1 of MA378 (Numerical Analysis II). \n",
    "You should read through this and experiement before you start the Exercises in Lab 1.\n",
    "For more, see [https://www.niallmadden.ie/2324-MA378](https://www.niallmadden.ie/2324-MA378)\n",
    "\n",
    "Please send any comments, corrections and suggestions  to Niall Madden at Niall.Madden@UniversityOfGalway.ie"
   ]
  },
  {
   "cell_type": "markdown",
   "id": "4b1fb6e7-ebb3-40d5-bbf2-eadd85130a4a",
   "metadata": {},
   "source": [
    "# What are MATLAB and Octave?\n",
    "\n",
    "MATLAB is a commercial computing system and programming language for scientific computing. It is especially good a working with matrices (MATLAB = \"Matrix Laboratory\") Octave is a free system that is largely consisitent with MATLAB. \n",
    "We are using Octave. \n",
    "\n",
    "Actually, we are using Jupyter connected to a Octave kernel. You can access it at https://cloudjupyter.universityofgalway.ie/. Select the `Calsto Octave` kernel.\n"
   ]
  },
  {
   "cell_type": "markdown",
   "id": "1aab1724-e4b3-4eaa-aa44-a78623856391",
   "metadata": {},
   "source": [
    "# Everything is a vector\n",
    "In Matlab, just about everything is a vector. In this lab, we are mainly interested in defining vectors the represent interpolation points. If, for example, we wanted to define a vector of points between 0 and 2, with gaps of 0.5, we could do in several ways.\n",
    "The first is to just list all the points, using `[` and `]` to mark the start and end of the vector:"
   ]
  },
  {
   "cell_type": "code",
   "execution_count": 1,
   "id": "19b75250-0ac4-4857-a54a-2b3149b88ca5",
   "metadata": {
    "tags": []
   },
   "outputs": [
    {
     "name": "stdout",
     "output_type": "stream",
     "text": [
      "warning: using the gnuplot graphics toolkit is discouraged\n",
      "\n",
      "The gnuplot graphics toolkit is not actively maintained and has a number\n",
      "of limitations that are unlikely to be fixed.  Communication with gnuplot\n",
      "uses a one-directional pipe and limited information is passed back to the\n",
      "Octave interpreter so most changes made interactively in the plot window\n",
      "will not be reflected in the graphics properties managed by Octave.  For\n",
      "example, if the plot window is closed with a mouse click, Octave will not\n",
      "be notified and will not update its internal list of open figure windows.\n",
      "The qt toolkit is recommended instead.\n",
      "\n",
      "x =\n",
      "\n",
      "        0   0.5000   1.0000   1.5000   2.0000\n",
      "\n"
     ]
    }
   ],
   "source": [
    "x = [0, .5, 1, 1.5, 2]"
   ]
  },
  {
   "cell_type": "markdown",
   "id": "58c5acdc-cddd-4a3d-98fd-09b6ce043922",
   "metadata": {},
   "source": [
    "The second is the use the colon notation, which is `start:step:end`."
   ]
  },
  {
   "cell_type": "code",
   "execution_count": 2,
   "id": "e8f7bc1e-5c4c-43a6-9b7a-572b18399aa8",
   "metadata": {
    "tags": []
   },
   "outputs": [
    {
     "name": "stdout",
     "output_type": "stream",
     "text": [
      "x =\n",
      "\n",
      "         0    0.5000    1.0000    1.5000    2.0000\n",
      "\n"
     ]
    }
   ],
   "source": [
    "x = 0:0.5:2"
   ]
  },
  {
   "cell_type": "markdown",
   "id": "32884ec1-74d9-4ef7-b43c-4bc9e697ea83",
   "metadata": {},
   "source": [
    "Finally, there is a function called `linspace()`, which uses the syntax `linspace(a, b, n)`, to creates a vector with $n$ equally spaced points between $a$ and $b$."
   ]
  },
  {
   "cell_type": "code",
   "execution_count": 3,
   "id": "78ba2f62-a5c6-452c-804e-df747dd175d0",
   "metadata": {
    "tags": []
   },
   "outputs": [
    {
     "name": "stdout",
     "output_type": "stream",
     "text": [
      "x =\n",
      "\n",
      "        0   0.5000   1.0000   1.5000   2.0000\n",
      "\n"
     ]
    }
   ],
   "source": [
    "x = linspace(0,2,5) % this one is more useful later"
   ]
  },
  {
   "cell_type": "markdown",
   "id": "351c4ae6-2767-4d8b-b19c-fbcafc446a66",
   "metadata": {},
   "source": [
    "MATLAB indexes vectors from 1. So the first, 2rd and 4th elements of the vector we just defined are"
   ]
  },
  {
   "cell_type": "code",
   "execution_count": 4,
   "id": "9c336700-d559-4bdd-915e-5969f61e5589",
   "metadata": {
    "tags": []
   },
   "outputs": [
    {
     "name": "stdout",
     "output_type": "stream",
     "text": [
      "ans = 0\n",
      "ans = 0.5000\n",
      "ans = 1.5000\n"
     ]
    }
   ],
   "source": [
    "x(1), x(2), x(4)"
   ]
  },
  {
   "cell_type": "markdown",
   "id": "95b96410-80d7-4159-981e-7430905e0f8c",
   "metadata": {},
   "source": [
    "So be careful: in lectures, we've denoted the interpolation points $\\{x_0, x_1, \\dots, x_N\\}$. But in MATLAB/Octave\n",
    "they are `[x(1), x(2), ..., x(N+1)]`."
   ]
  },
  {
   "cell_type": "markdown",
   "id": "05d242fd-55ad-4b7d-b1a9-c54209f8844a",
   "metadata": {},
   "source": [
    "***"
   ]
  },
  {
   "cell_type": "markdown",
   "id": "7cbb56c9-3d27-4c7e-98f7-3cf78fe281f0",
   "metadata": {},
   "source": [
    "## Vector arithmetic\n",
    "One of MATLAB's great strengths is that it is easy to compute new vectors from old ones. For example, we can set "
   ]
  },
  {
   "cell_type": "code",
   "execution_count": 5,
   "id": "cbf75748-ff5d-4a98-898e-876c1462e2ce",
   "metadata": {
    "tags": []
   },
   "outputs": [
    {
     "name": "stdout",
     "output_type": "stream",
     "text": [
      "y =\n",
      "\n",
      "   1.000000   0.877583   0.540302   0.070737  -0.416147\n",
      "\n"
     ]
    }
   ],
   "source": [
    "y = cos(x)"
   ]
  },
  {
   "cell_type": "markdown",
   "id": "247c9fd0-f2a8-4509-805a-6253dbe00f8d",
   "metadata": {},
   "source": [
    "This has the effect of setting `y(1)=cos(x(1))`, `y(2)=cos(x(2))`, etc.\n",
    "\n",
    "More generally, we can combine vectors using the standard standard arithmetic operators: `+`, `-`, `*` and `/`. For any vector, `x`, the expression "
   ]
  },
  {
   "cell_type": "code",
   "execution_count": 6,
   "id": "d151483a-444d-4349-bf09-c27c4b61002d",
   "metadata": {
    "tags": []
   },
   "outputs": [
    {
     "name": "stdout",
     "output_type": "stream",
     "text": [
      "y =\n",
      "\n",
      "   3   4   5   6   7\n",
      "\n"
     ]
    }
   ],
   "source": [
    "y = 2*x +3 "
   ]
  },
  {
   "cell_type": "markdown",
   "id": "d53d1216-86b9-46d8-a157-25b561fb6a15",
   "metadata": {},
   "source": [
    "sets `y(i) = 2*x(i) + 3`."
   ]
  },
  {
   "cell_type": "markdown",
   "id": "22abac0d-0f47-4b79-b6c8-69ffaec1d1c7",
   "metadata": {},
   "source": [
    "*** The `dot` operator\n",
    "When we apply operators to pairs of vectors, we need to take a little care. First, of course, to add and subtract a pair of vectors, they need to have the same length. \n",
    "\n",
    "Multiplication and devision are a little more tricky. For example, mathematically, the expression `z=x*y` would make no sense, because you can't multiply two (row) vectors). \n",
    "\n",
    "But we can use the \"dot\" operators: `.*` and `./` for \"*entrywise* multiplication and devision of vectors of the same length.\n",
    "\n",
    "That is `z = x.*y` sets `z(i) = x(i)*y(i)` for each `i`.\n",
    "\n",
    "The dot operator also works for exponents: "
   ]
  },
  {
   "cell_type": "code",
   "execution_count": 7,
   "id": "c5e85f58-f73b-4370-8318-00553e237ca0",
   "metadata": {
    "tags": []
   },
   "outputs": [
    {
     "name": "stdout",
     "output_type": "stream",
     "text": [
      "y =\n",
      "\n",
      "        0   0.2500   1.0000   2.2500   4.0000\n",
      "\n"
     ]
    }
   ],
   "source": [
    "y = x.^2"
   ]
  },
  {
   "cell_type": "markdown",
   "id": "2296d76c-dd14-453d-bc12-7ef966d23331",
   "metadata": {},
   "source": [
    "sets $y_i = x_i^2$.\n",
    "\n",
    "You can also apply standard mathematics functions, such as `log()`, `exp()`, `sin()`, `cos()`, `abs()`, etc. to vectors, and they will return vectors."
   ]
  },
  {
   "cell_type": "markdown",
   "id": "99fa6760-f16e-4505-9fa4-b72381d0a561",
   "metadata": {},
   "source": [
    "***"
   ]
  },
  {
   "cell_type": "markdown",
   "id": "59a31929-549d-427e-bc5f-d450dd1f52cc",
   "metadata": {},
   "source": [
    "## Getting output (or not)\n",
    "\n",
    "MATLAB and Octave are interpretive languages (like Python). You can run your code one line at a time. If a line ends with a semi-colon, then the result of the computation is not shown. If the vectors are very big, we usually end lines with a semi-colon.\n",
    "We can also check the value of the variable using the `disp()` function. "
   ]
  },
  {
   "cell_type": "code",
   "execution_count": 8,
   "id": "b5f6af8b-3c27-4895-9cf0-f8c06fd6cbfd",
   "metadata": {
    "tags": []
   },
   "outputs": [
    {
     "name": "stdout",
     "output_type": "stream",
     "text": [
      "        0   0.5000   1.0000   1.5000   2.0000\n"
     ]
    }
   ],
   "source": [
    "disp(x)"
   ]
  },
  {
   "cell_type": "markdown",
   "id": "a6635984-716b-4388-b913-e2e5c97d85db",
   "metadata": {},
   "source": [
    "***"
   ]
  },
  {
   "cell_type": "markdown",
   "id": "d2ed5424-f92b-41c3-bfed-8e53f9125eed",
   "metadata": {},
   "source": [
    "## Plotting vectors\n",
    "\n",
    "We can plot sets of points as follows. Assmung the vectors `x` and `y` are already defined, and are of the same length:"
   ]
  },
  {
   "cell_type": "code",
   "execution_count": 9,
   "id": "2db8848f-fdea-4887-9ca3-11cb20d8a311",
   "metadata": {
    "tags": []
   },
   "outputs": [
    {
     "data": {
      "image/png": "[encoded data removed]",
      "text/plain": [
       "<IPython.core.display.Image object>"
      ]
     },
     "metadata": {},
     "output_type": "display_data"
    }
   ],
   "source": [
    "plot(x,y)"
   ]
  },
  {
   "cell_type": "markdown",
   "id": "edeaf8d7-587e-4ef2-8f84-6dbc2e092615",
   "metadata": {
    "tags": []
   },
   "source": [
    "Often we want a little more control over:\n",
    "* colour of the line\n",
    "* line style (e.g., continuous, dashed)\n",
    "* how points are displated\n",
    "* line width.\n",
    "\n",
    "\n",
    "See if you can work out why this line of code gives the output it does:\n"
   ]
  },
  {
   "cell_type": "code",
   "execution_count": 10,
   "id": "1edfff6e-f78d-422f-9dab-267c9195e1b3",
   "metadata": {
    "tags": []
   },
   "outputs": [
    {
     "data": {
      "image/png": "[encoded data removed]",
      "text/plain": [
       "<IPython.core.display.Image object>"
      ]
     },
     "metadata": {},
     "output_type": "display_data"
    }
   ],
   "source": [
    "plot(x,x, 'r--o', x, x.^2-x+1, 'b-x', 'LineWidth',4)\n",
    "legend('x', 'x^2-x+1', 'location', 'northwest')"
   ]
  },
  {
   "cell_type": "markdown",
   "id": "fc26e6ae-fb87-4711-be08-632f7a72828f",
   "metadata": {},
   "source": [
    "***"
   ]
  },
  {
   "cell_type": "markdown",
   "id": "a4307c1a-49a6-4b4b-8c9b-3b36da05b6b5",
   "metadata": {},
   "source": [
    "## What Else?\n",
    "\n",
    "Is there something that you think you need to be able to do in MATLAB/Octave in order to complete these labs, or investigate some aspect of MA378? If so, let [Niall.Madden@UniversityOfGalway.ie](mailto:Niall.Madden@UniversityOfGalway.ie) know."
   ]
  }
 ],
 "metadata": {
  "kernelspec": {
   "display_name": "Calysto Octave",
   "language": "octave",
   "name": "octave_kernel"
  },
  "language_info": {
   "file_extension": ".m",
   "help_links": [
    {
     "text": "GNU Octave",
     "url": "https://www.gnu.org/software/octave/support.html"
    },
    {
     "text": "Octave Kernel",
     "url": "https://github.com/Calysto/octave_kernel"
    },
    {
     "text": "MetaKernel Magics",
     "url": "https://metakernel.readthedocs.io/en/latest/source/README.html"
    }
   ],
   "mimetype": "text/x-octave",
   "name": "octave",
   "version": "7.3.0"
  }
 },
 "nbformat": 4,
 "nbformat_minor": 5
}
