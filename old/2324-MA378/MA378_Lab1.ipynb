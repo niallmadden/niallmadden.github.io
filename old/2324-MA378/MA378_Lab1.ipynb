{
 "cells": [
  {
   "cell_type": "markdown",
   "id": "068bbdeb-6aef-45fb-b283-895b026c5373",
   "metadata": {},
   "source": [
    "# 2324-MA378 Lab 1 - Experiements with Polynomial Interpolation\n",
    "\n",
    "* **Name**: Niall Madden [Change this to your name before submitting!! Unless, of course, that is your name.]\n",
    "* **Collaborated with**: ???? [Name anyone you worked with on this]\n",
    "* **ID**: 01234567 [Change this to your ID. Unless, of course... ]\n",
    "* `Email`:  n.madden321@universityofgalway.ie [Change this to your email address]\n",
    "* **Date**: Feb 024\n",
    "\n",
    "Upload a notebook with solutions to Exercises 1, 2, 3 and 4 to Canvas ... 2324-MA378... Assignment... Lab 1) by 5pm, Friday 9th Feb. Ideally, export as a HTML or PDF file. Include your ID number at the start of the file name."
   ]
  },
  {
   "cell_type": "markdown",
   "id": "79672840-f31a-4218-8d07-2c1420d65a0c",
   "metadata": {
    "tags": []
   },
   "source": [
    "## Collaboration\n",
    "You are encouraged to work with class-mates on this lab. It is OK for people who've worked together to submit identical work, subject to the following conditions.\n",
    "1. You submit a copy of the notebook\n",
    "2. You give your name and ID at the top of the first makrdown cell. \n",
    "3. You list anyone you collaborated with."
   ]
  },
  {
   "cell_type": "markdown",
   "id": "f3c79cc7-adef-44bf-8d24-6eb8f9e838b4",
   "metadata": {
    "tags": []
   },
   "source": [
    "## Grading\n",
    "This part of the module is about encouraging engagment. It is not meant to be too demanding of your time, but to give you a framework to expieriment, which is what all numerical analysist do, all the time.\n",
    "\n",
    "* So, if you submit a notebook that shows a reasonable effort (and includes your name + ID), you'll score 3/3.\n",
    "* If you submit something that does not show any effort, you score 1/3.\n",
    "* If you submit nothing, you score nothing."
   ]
  },
  {
   "cell_type": "markdown",
   "id": "05c1970d-d297-42f3-9c8b-1516178de62d",
   "metadata": {},
   "source": [
    "## A MATLAB primer\n",
    "I recommend using the Jupyter Server at https://cloudjupyter.universityofgalway.ie/ with the `Calysto Octave` \n",
    "\n",
    "To get started with Octave/MATLAB, please work through the MATLAB primer at https://www.niallmadden.ie/2324-MA378/OctavePrimer.html (html version) or https://www.niallmadden.ie/2324-MA378/OctavePrimer.ipynb (Jupyter notebook)."
   ]
  },
  {
   "cell_type": "markdown",
   "id": "893fcb6a-596d-4c9e-8d37-32dba36ddf5b",
   "metadata": {},
   "source": [
    "***"
   ]
  },
  {
   "cell_type": "markdown",
   "id": "61e0545d-504a-4814-92a6-59799c5a4d7e",
   "metadata": {},
   "source": [
    "## Defining the function that we will interpolate\n",
    "\n",
    "In MATLAB/Octave, we can define functions using the `@` symbol. The syntax is:<br>\n",
    "`function_name = @(var)(expression involving var).`<br>\n",
    "Here the expession can be anything, but usually involves\n",
    "* the standard arithmetic operators: `+`, `-`, `*` and `/`. However, we will often write `.*` and `./` for multiplication and division so that these are done \"*entrywise*\" for vectors.\n",
    "* standard mathematics functions, such as `log()`, `exp()`, `sin()`, `cos()`, `abs()`, etc.\n",
    "\n",
    "\n",
    "In this first example, we will define $f(x)=e^{\\cos(x/2)}$.\n"
   ]
  },
  {
   "cell_type": "code",
   "execution_count": null,
   "id": "e92869d2-6bae-43ac-ad49-e28b256e8546",
   "metadata": {
    "tags": []
   },
   "outputs": [],
   "source": [
    "f = @(x)(exp(cos(x/2)));"
   ]
  },
  {
   "cell_type": "markdown",
   "id": "bee4933c-b714-427e-b390-b123b0a31fbd",
   "metadata": {},
   "source": [
    "Let's plot this on the interval $[-5,5]$."
   ]
  },
  {
   "cell_type": "code",
   "execution_count": null,
   "id": "349cdf29-929e-41b0-b33d-98f8198a9c4d",
   "metadata": {
    "tags": []
   },
   "outputs": [],
   "source": [
    "fplot(f,[-5,5]);\n",
    "title('Plot of exp(cos(x/2)');"
   ]
  },
  {
   "cell_type": "markdown",
   "id": "42a5261c-394b-43bc-89fc-95173f2f985f",
   "metadata": {},
   "source": [
    "***"
   ]
  },
  {
   "cell_type": "markdown",
   "id": "2868bd2b-ad9c-4608-8bf4-552fec8c1701",
   "metadata": {
    "tags": []
   },
   "source": [
    "## Computing the interpolant\n",
    "\n",
    "We could compute the interpolant to this function using Lagrange Interpolation. But MATLAB and Octave have built-in functions for this, which we want to use.\n",
    "The two main functions we use are:\n",
    "* `polyfit(x,y,n)` which returns the coefficients of the polynomial of degree `n` that inpterpolates the points `(x(1),y(1))`, `(x(2),y(2)`, .... . If we set `C = polyfit(x,y,n)` then `C` is a vector with `n+1` entries. `C(1)` is the coeficient of $x^n$, `C(2)` is the coefficient of $x^{n-1}$, etc. However, we usually just want to compute `C`, and don't really care what the actual coefficents are.\n",
    "\n",
    "* `polyval(C,X)` evaluates the polynomial represented by `C` at the points `X`. So `Y = polyval(C,X)` would set `Y(i)` to be the value of the polynomial, represented by `C`, at `X(i)`."
   ]
  },
  {
   "cell_type": "markdown",
   "id": "556cd373-9b79-483a-bff5-c05c498930bb",
   "metadata": {},
   "source": [
    "### Defining the problem\n",
    "For any interpolation problem, we eed to choose the end points `a` and `b`:"
   ]
  },
  {
   "cell_type": "code",
   "execution_count": null,
   "id": "89e5a006-49a2-4427-affa-c821e4d1e680",
   "metadata": {
    "tags": []
   },
   "outputs": [],
   "source": [
    "a = -5; b = 5; % Approximate f(x) in the interval [a,b]=[-5,5]."
   ]
  },
  {
   "cell_type": "markdown",
   "id": "a99a3bd9-2483-42c2-9f41-436fb2b4cdda",
   "metadata": {
    "tags": []
   },
   "source": [
    "Next, we choose $n$, the degree of the interpolating polynomial. Note that we'll have $n+1$ interpolation points."
   ]
  },
  {
   "cell_type": "code",
   "execution_count": null,
   "id": "fab91b68-5049-4693-96ce-df737580345c",
   "metadata": {
    "tags": []
   },
   "outputs": [],
   "source": [
    "n = 2; % degree of the interpolation polynomial."
   ]
  },
  {
   "cell_type": "markdown",
   "id": "dc880a81-07d3-40c6-a1a8-3dd78a61dc5e",
   "metadata": {},
   "source": [
    "Next define the interpolation points:"
   ]
  },
  {
   "cell_type": "code",
   "execution_count": null,
   "id": "b6953813-1d57-4757-8b43-0f9727d38563",
   "metadata": {
    "tags": []
   },
   "outputs": [],
   "source": [
    "x = linspace(a, b, n+1) % interpolation points x(1), x(2), ..., x(n+1)"
   ]
  },
  {
   "cell_type": "markdown",
   "id": "7e7196e1-0fd6-4494-aa04-bc155e4e627a",
   "metadata": {},
   "source": [
    "Finally, define the vector of values to be interpolated."
   ]
  },
  {
   "cell_type": "code",
   "execution_count": null,
   "id": "417be615-b3c1-49ab-9983-59fa041accd3",
   "metadata": {
    "tags": []
   },
   "outputs": [],
   "source": [
    "y = f(x);"
   ]
  },
  {
   "cell_type": "markdown",
   "id": "69c6f0ab-d22c-49c3-ac41-7fa6ccdc9963",
   "metadata": {},
   "source": [
    "Now that we have the data, we can actually do the interpolation."
   ]
  },
  {
   "cell_type": "code",
   "execution_count": null,
   "id": "d5cd61e6-7201-49fc-9f2b-682290468a5f",
   "metadata": {
    "tags": []
   },
   "outputs": [],
   "source": [
    "C = polyfit(x,y,n);"
   ]
  },
  {
   "cell_type": "markdown",
   "id": "4daf3611-9257-4b09-9bc4-01d0ef55de09",
   "metadata": {},
   "source": [
    "***"
   ]
  },
  {
   "cell_type": "markdown",
   "id": "57038be7-c808-4b52-a32b-0cfbf3c148a6",
   "metadata": {},
   "source": [
    "## Plotting the function and its interolant\n",
    "\n",
    "We'll define `X` to be a vector of 1000 points between $a$ and $b$. This is just to help with plotting."
   ]
  },
  {
   "cell_type": "code",
   "execution_count": null,
   "id": "9fd39951-a9a2-49b4-9f5d-c064c5e835a9",
   "metadata": {
    "tags": []
   },
   "outputs": [],
   "source": [
    "X = linspace(a, b, 1000);  % X is a list of 1000 points in [a,b]"
   ]
  },
  {
   "cell_type": "markdown",
   "id": "8358f841-9b5b-4521-9ac4-b30adc2cc8c3",
   "metadata": {},
   "source": [
    "To plot:"
   ]
  },
  {
   "cell_type": "code",
   "execution_count": null,
   "id": "24277fc1-fee6-423a-99ae-22790bba9a2a",
   "metadata": {
    "tags": []
   },
   "outputs": [],
   "source": [
    "plot(x,y, 'o', X, f(X), X, polyval(C,X), '--', ...\n",
    "    'LineWidth',3, 'MarkerSize', 10)\n",
    "legend('points', 'f', 'p_n');\n",
    "title('f(x) and p_n(x)');"
   ]
  },
  {
   "cell_type": "markdown",
   "id": "99ca83c9-eeff-4140-b80c-572b25f4c7d0",
   "metadata": {},
   "source": [
    "***"
   ]
  },
  {
   "cell_type": "markdown",
   "id": "5b124fd6-e155-43df-b19a-c5ff56ae4bfd",
   "metadata": {},
   "source": [
    "## Calculating and plotting the error\n",
    "\n",
    "The error at a given $x$ is $E(x)=|f(x)-p_n(x)|$. We'll define the vector of errors:"
   ]
  },
  {
   "cell_type": "code",
   "execution_count": null,
   "id": "75d4726c-575c-44b0-920a-475b7675e5d5",
   "metadata": {
    "tags": []
   },
   "outputs": [],
   "source": [
    "E = abs(f(X)-polyval(C,X));"
   ]
  },
  {
   "cell_type": "markdown",
   "id": "b9ce3124-2062-41a8-bdf8-493a124539a8",
   "metadata": {},
   "source": [
    "The maximum value is:"
   ]
  },
  {
   "cell_type": "code",
   "execution_count": null,
   "id": "091db49c-250d-4382-be32-7b0166a08de5",
   "metadata": {
    "tags": []
   },
   "outputs": [],
   "source": [
    "disp(max(E))"
   ]
  },
  {
   "cell_type": "markdown",
   "id": "02c00e6d-91a2-4fa9-895f-4925573c66cb",
   "metadata": {
    "tags": []
   },
   "source": [
    "We can also plot it:"
   ]
  },
  {
   "cell_type": "code",
   "execution_count": null,
   "id": "bcc6e519-0bd9-496a-89a9-a5b5fff86da0",
   "metadata": {
    "tags": []
   },
   "outputs": [],
   "source": [
    "plot( X, E, '--')\n",
    "title('Error: f(x)-p_n(x)');"
   ]
  },
  {
   "cell_type": "markdown",
   "id": "142a3eec-a95c-45fc-8442-7d2d1dbf2678",
   "metadata": {},
   "source": [
    "***\n",
    "***"
   ]
  },
  {
   "cell_type": "markdown",
   "id": "97ebd3bc-5e82-44bc-837e-9abb9a899dc9",
   "metadata": {},
   "source": [
    "# Exercise 1\n",
    "\n",
    "Change the data at the top of this sheet to your name, ID, and email address, and the names of any collaborators.\n",
    "    "
   ]
  },
  {
   "cell_type": "markdown",
   "id": "25d42bbe-048c-4ea8-a71e-681ecd2cea7d",
   "metadata": {},
   "source": [
    "# Exercise 2\n",
    "\n",
    "Copy into the cell below  the code for \n",
    "* defining $f$, $a$, $b$, $n$, 'x', 'y';\n",
    "* computing `C`, the interpolant to $f(x)=e^{\\cos(x/2)};\n",
    "* and for computing the maximum error; that is, compute `E` and display its maximum value.\n",
    "\n",
    "Then experiment to find the smallest value of `n` for which $E(x) \\leq 10^{-3}$, for all $x \\in [a,b]$.\n",
    "\n",
    "Ignore any warnings about the polynomial being \"*badly conditioned*\". Generally, you should note that, as $n$ increases, the maximum error decreases.  \n",
    "\n",
    "**Your solution goes here:**"
   ]
  },
  {
   "cell_type": "code",
   "execution_count": null,
   "id": "9566b580-79ea-44b1-bf01-750745a2cb86",
   "metadata": {},
   "outputs": [],
   "source": [
    "# Your solution to Exercise 2 goes in this cell."
   ]
  },
  {
   "cell_type": "markdown",
   "id": "b4258bf7-11e6-4e78-ae9b-1150a61c1f9c",
   "metadata": {},
   "source": [
    "***\n",
    "***"
   ]
  },
  {
   "cell_type": "markdown",
   "id": "f8f41ba4-b625-408b-a243-d6aa4d7717a6",
   "metadata": {},
   "source": [
    "# Exercise 3\n",
    "\n",
    "Exercise 2 (and the Weierstrass Interpolation theorem) might suggest that, for any $f$, we can make the error as small as we want by taking large enough $n$. However, that is not true, at least if equally spaced points are used. \n",
    "\n",
    "To see this, change the definition of the function to $f(x)=\\frac{1}{1+x^2}$. In MATLAB this is:"
   ]
  },
  {
   "cell_type": "raw",
   "id": "1541dfbf-52b9-49e3-b521-979dd986987e",
   "metadata": {},
   "source": [
    "f = @(x)(1./(1+.x.^2))   % Note use of dot operators ./ and .^"
   ]
  },
  {
   "cell_type": "markdown",
   "id": "04dba6e2-d819-4ee0-a037-8ea9b6f75879",
   "metadata": {},
   "source": [
    "Demonstrate that, as `n` increases, so too does the error. For example, determine the smallest value of `n` for which the error is **greater** than 1. How about greater than 10? Or 100? or 1,000?\n",
    "\n",
    "**Your solution to Exercise 3 goes in the next cell:**"
   ]
  },
  {
   "cell_type": "code",
   "execution_count": null,
   "id": "7ae3345d-8f03-4bf3-9c8b-eeb5c77bdc46",
   "metadata": {},
   "outputs": [],
   "source": [
    "# Your solution to Exercise 3 goes in this cell."
   ]
  },
  {
   "cell_type": "markdown",
   "id": "e50b0b59-876d-47ca-afe8-2501a2e0c322",
   "metadata": {},
   "source": [
    "***\n",
    "***"
   ]
  },
  {
   "cell_type": "markdown",
   "id": "dcca5725-1e06-4cf8-a2e5-468c97fff412",
   "metadata": {},
   "source": [
    "# Exercise 4\n",
    "\n",
    "Instead of using equally spaced points, try choosing the points by hand. Start with just three points: $x_0=-5$, $x_1=0$, and $x_2=5$. \n",
    "\n",
    "Next choose $x_3$ and $x_4$ in a way that you think will reduce the error. \n",
    "\n",
    "And then choose $x_5$ and $x_6$, and so on. Using about 20 points you should be able to get the error close to $10^{-2}$.\n",
    "\n",
    "*Tip*: Since the function is symmetric about $x=0$, just define, say, the points on  and then extend to  as follows:\n",
    "\n",
    "`x = [-5, -3, 0];`\n",
    "\n",
    "`x = union(x,-x);`\n",
    "\n",
    "*Another tip*: In previous exercises, we would choose `n`, and that would determine the values for `n`. In this Exercise, we are choosing the points in `x`, which determines the degree of the polynomial. So, after defining `x`, you need to set the value of `n`. That can be done as follows:\n",
    "\n",
    "`n = length(x)-1;`\n",
    "\n",
    "**Your solution goes here:**"
   ]
  },
  {
   "cell_type": "code",
   "execution_count": null,
   "id": "5fbc229e-da09-467f-a860-6832874b1442",
   "metadata": {},
   "outputs": [],
   "source": [
    "# Your solution to Exercise 4 goes in this cell."
   ]
  },
  {
   "cell_type": "markdown",
   "id": "28e103d9-fabd-4f25-a1b4-ffa4ee6a0bb5",
   "metadata": {},
   "source": [
    "***"
   ]
  },
  {
   "cell_type": "markdown",
   "id": "5cf1e3f0-4bdd-45e4-94b9-fb3b0631ab47",
   "metadata": {},
   "source": [
    "## Bonus Exercise\n",
    "You don't have to submit a solution to this part. But if you have time, please try it out.  \n",
    "\n",
    "Although we won't cover it in class, Chebyshev showed that, in general, one should choose points given by the formula: \n",
    "$x_i = \\frac{b-a}{2}\\cos\\bigg( \\frac{(i + \\frac{1}{2})\\pi}{n+1}\\bigg) + \\frac{b+a}{2}$, for $i=0, 1, \\dots, n$.\n",
    "\n",
    "Try this for various $n$ and test if it works: as $n$ increases, you should observe that the error decreases.\n",
    "\n",
    "If you are interested, see Sections 8.4 and 8.5 of Suli and Mayers' \"An Introduction to Numerical Analysis\". "
   ]
  },
  {
   "cell_type": "code",
   "execution_count": null,
   "id": "236842ed-9a6a-4f0e-8cfa-fb6bdc5cf8d1",
   "metadata": {},
   "outputs": [],
   "source": []
  }
 ],
 "metadata": {
  "kernelspec": {
   "display_name": "Calysto Octave",
   "language": "octave",
   "name": "octave_kernel"
  },
  "language_info": {
   "file_extension": ".m",
   "help_links": [
    {
     "text": "GNU Octave",
     "url": "https://www.gnu.org/software/octave/support.html"
    },
    {
     "text": "Octave Kernel",
     "url": "https://github.com/Calysto/octave_kernel"
    },
    {
     "text": "MetaKernel Magics",
     "url": "https://metakernel.readthedocs.io/en/latest/source/README.html"
    }
   ],
   "mimetype": "text/x-octave",
   "name": "octave",
   "version": "7.3.0"
  }
 },
 "nbformat": 4,
 "nbformat_minor": 5
}
