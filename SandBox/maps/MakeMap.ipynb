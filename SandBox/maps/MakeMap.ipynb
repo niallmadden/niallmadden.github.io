{
 "cells": [
  {
   "cell_type": "code",
   "execution_count": 1,
   "id": "59ce3872-5f9e-4731-82a5-53259872859d",
   "metadata": {},
   "outputs": [],
   "source": [
    "from geopy.geocoders import Nominatim\n",
    "import pandas as pd\n",
    "import folium\n",
    "from folium.plugins import MarkerCluster"
   ]
  },
  {
   "cell_type": "code",
   "execution_count": 3,
   "id": "7b8ef048-fbe0-418f-a083-fc0e72265256",
   "metadata": {},
   "outputs": [
    {
     "name": "stdout",
     "output_type": "stream",
     "text": [
      "                               Institution             City    CountryName  \\\n",
      "0                   University of Limerick         Limerick        Ireland   \n",
      "1      Memorial University of Newfoundland       St. John’s         Canada   \n",
      "2    Computational Science Research Center          Beijing          China   \n",
      "3                               IIT Trichy  Tiruchirappalli          India   \n",
      "4                 FernUniversitat in Hagen            Hagen        Germany   \n",
      "5                          Tufts Univerity          Medford  United States   \n",
      "6                   Holy Name’s University          Oakland  United States   \n",
      "7   Cooch Behar Panchanan Barma University      Cooch Behar          India   \n",
      "8                   University of Zaragoza         Zaragoza          Spain   \n",
      "9                     University of Cyprus          Nicosia         Cyprus   \n",
      "10                          DIT University         Dehradun          India   \n",
      "11                                 TU Wien           Vienna        Austria   \n",
      "12                 University College Cork             Cork        Ireland   \n",
      "13                    University of Regina           Regina        Canada    \n",
      "14                      Cardiff University          Cardiff          Wales   \n",
      "\n",
      "               Who  \n",
      "0     Niall Madden  \n",
      "1     Niall Madden  \n",
      "2     Niall Madden  \n",
      "3     Niall Madden  \n",
      "4     Niall Madden  \n",
      "5     Niall Madden  \n",
      "6     Niall Madden  \n",
      "7     Niall Madden  \n",
      "8     Niall Madden  \n",
      "9     Niall Madden  \n",
      "10    Niall Madden  \n",
      "11    Niall Madden  \n",
      "12    Niall Madden  \n",
      "13  Rachel Quinlan  \n",
      "14  Rachel Quinlan  \n"
     ]
    }
   ],
   "source": [
    "INFILE = 'Collaborators.xlsx'\n",
    "OUTFILE = 'CollabMap.html'\n",
    "\n",
    "Input_df = pd.read_excel(INFILE)\n",
    "print(Input_df)\n"
   ]
  },
  {
   "cell_type": "code",
   "execution_count": 4,
   "id": "dbd5341e",
   "metadata": {},
   "outputs": [
    {
     "name": "stdout",
     "output_type": "stream",
     "text": [
      "Starting from [-9.0490601, 53.2744122]\n"
     ]
    }
   ],
   "source": [
    "geolocator = Nominatim(user_agent=\"my-ap\")\n",
    "\n",
    "Home = geolocator.geocode(\"Galway, Ireland\")\n",
    "\n",
    "print(f\"Starting from {[Home.longitude, Home.latitude]}\")"
   ]
  },
  {
   "cell_type": "code",
   "execution_count": 5,
   "id": "b8d4000e",
   "metadata": {},
   "outputs": [],
   "source": [
    "Countries = Input_df['CountryName'].tolist()\n",
    "Institutes = Input_df['Institution'].tolist()\n",
    "Cities = Input_df['City'].tolist()"
   ]
  },
  {
   "cell_type": "code",
   "execution_count": 6,
   "id": "c378d309",
   "metadata": {},
   "outputs": [
    {
     "data": {
      "text/plain": [
       "<folium.vector_layers.CircleMarker at 0x7fd3cccbc220>"
      ]
     },
     "execution_count": 6,
     "metadata": {},
     "output_type": "execute_result"
    }
   ],
   "source": [
    "world_map= folium.Map(tiles=\"cartodbpositron\", location=[Home.latitude, Home.longitude])\n",
    "marker_cluster = MarkerCluster().add_to(world_map)\n",
    "popup_text = \"University of Galway\"\n",
    "folium.CircleMarker(location=[Home.latitude, Home.longitude],\n",
    "                    tooltip=popup_text,popup=popup_text,\n",
    "                    color=\"red\", fill =True).add_to(marker_cluster)"
   ]
  },
  {
   "cell_type": "code",
   "execution_count": 7,
   "id": "9d39baa8",
   "metadata": {},
   "outputs": [
    {
     "name": "stdout",
     "output_type": "stream",
     "text": [
      "0: Adding University of Limerick at (52.67325805,-8.569809653548548)\n",
      "*** Warning, could not find Memorial University of Newfoundland, St. John’s, Canada. Trying Memorial University of Newfoundland\n",
      "1: Adding Memorial University of Newfoundland at (47.5733341,-52.733306586080026)\n",
      "2: Adding Computational Science Research Center at (40.0459225,116.2780923)\n",
      "*** Warning, could not find IIT Trichy, Tiruchirappalli, India. Trying IIT Trichy\n",
      "*** Warning, could not find IIT Trichy. Trying Tiruchirappalli\n",
      "3: Adding IIT Trichy at (10.804973,78.6870296)\n",
      "4: Adding FernUniversitat in Hagen at (51.3771294,7.495154028855863)\n",
      "*** Warning, could not find Tufts Univerity, Medford, United States. Trying Tufts Univerity\n",
      "*** Warning, could not find Tufts Univerity. Trying Medford\n",
      "5: Adding Tufts Univerity at (42.4184296,-71.1061639)\n",
      "*** Warning, could not find Holy Name’s University, Oakland, United States. Trying Holy Name’s University\n",
      "*** Warning, could not find Holy Name’s University. Trying Oakland\n",
      "6: Adding Holy Name’s University at (37.8044557,-122.2713563)\n",
      "7: Adding Cooch Behar Panchanan Barma University at (26.3215381,89.4695667)\n",
      "8: Adding University of Zaragoza at (41.63455725,-0.8997979456424298)\n",
      "9: Adding University of Cyprus at (35.159894550000004,33.37752071249997)\n",
      "10: Adding DIT University at (30.3983396,78.0753455)\n",
      "11: Adding TU Wien at (48.19853965,16.369861676286614)\n",
      "12: Adding University College Cork at (51.8947384,-8.4903073)\n",
      "13: Adding University of Regina at (50.4152275,-104.58899996239825)\n",
      "14: Adding Cardiff University at (51.48402915,-3.1697633635952807)\n"
     ]
    }
   ],
   "source": [
    "for i in range(len(Cities)):\n",
    "    city = Cities[i]\n",
    "    inst = Institutes[i]\n",
    "    country = Countries[i]\n",
    "    place = inst+\", \"+city+\", \"+country\n",
    "    location =  geolocator.geocode(place)\n",
    "    if (location == None):\n",
    "        print(f\"*** Warning, could not find {place}. Trying {inst}\")\n",
    "        location =  geolocator.geocode(inst)\n",
    "    if (location == None):\n",
    "        print(f\"*** Warning, could not find {inst}. Trying {city}\")\n",
    "        location =  geolocator.geocode(city)\n",
    "    if (location == None):\n",
    "        print(f\"*** Warning, can't find {place} or {city} or {inst}\")\n",
    "        break\n",
    "    lat = location.latitude\n",
    "    lon = location.longitude\n",
    "    print(f'{i}: Adding {inst} at ({lat},{lon})')\n",
    "    popup_text = inst\n",
    "    folium.CircleMarker(location = [lat,lon],  tooltip=popup_text,popup= popup_text, fill =True).add_to(marker_cluster)"
   ]
  },
  {
   "cell_type": "code",
   "execution_count": 8,
   "id": "3b53d6b7",
   "metadata": {},
   "outputs": [],
   "source": [
    "world_map.fit_bounds(world_map.get_bounds(), padding=(30, 30))\n",
    "world_map.save(outfile=OUTFILE)"
   ]
  },
  {
   "cell_type": "code",
   "execution_count": null,
   "id": "e0a49de7",
   "metadata": {},
   "outputs": [],
   "source": []
  }
 ],
 "metadata": {
  "kernelspec": {
   "display_name": "Python 3 (ipykernel)",
   "language": "python",
   "name": "python3"
  },
  "language_info": {
   "codemirror_mode": {
    "name": "ipython",
    "version": 3
   },
   "file_extension": ".py",
   "mimetype": "text/x-python",
   "name": "python",
   "nbconvert_exporter": "python",
   "pygments_lexer": "ipython3",
   "version": "3.9.13"
  }
 },
 "nbformat": 4,
 "nbformat_minor": 5
}
