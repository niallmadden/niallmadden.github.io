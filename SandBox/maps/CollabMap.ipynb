{
 "cells": [
  {
   "cell_type": "markdown",
   "id": "2f298c93",
   "metadata": {
    "toc": true
   },
   "source": [
    "<h1>Table of Contents<span class=\"tocSkip\"></span></h1>\n",
    "<div class=\"toc\"><ul class=\"toc-item\"></ul></div>"
   ]
  },
  {
   "cell_type": "code",
   "execution_count": 1,
   "id": "c97d662d",
   "metadata": {},
   "outputs": [],
   "source": [
    "from geopy.geocoders import Nominatim\n"
   ]
  },
  {
   "cell_type": "code",
   "execution_count": 2,
   "id": "ff23d652",
   "metadata": {},
   "outputs": [],
   "source": [
    "geolocator = Nominatim(user_agent=\"my-ap\")"
   ]
  },
  {
   "cell_type": "code",
   "execution_count": 3,
   "id": "2f498584",
   "metadata": {},
   "outputs": [],
   "source": [
    "try: \n",
    "    geolocator.geocode(\"University of Rennes 2\")\n",
    "except:\n",
    "    print(\"Nope\")"
   ]
  },
  {
   "cell_type": "code",
   "execution_count": 4,
   "id": "5864cf2f",
   "metadata": {},
   "outputs": [],
   "source": [
    "l=geolocator.geocode(\"Université Rennes 2\")"
   ]
  },
  {
   "cell_type": "code",
   "execution_count": 5,
   "id": "c77ab72f",
   "metadata": {},
   "outputs": [
    {
     "name": "stdout",
     "output_type": "stream",
     "text": [
      "Université de Rennes 2 - Campus de Villejean, Avenue Gaston Berger, Kennedy, Villejean, Villejean - Beauregard, Quartiers Nord-Ouest, Rennes, Ille-et-Vilaine, Bretagne, France métropolitaine, 35043, France\n"
     ]
    }
   ],
   "source": [
    "print(l)"
   ]
  },
  {
   "cell_type": "code",
   "execution_count": 6,
   "id": "63ce7265",
   "metadata": {},
   "outputs": [
    {
     "data": {
      "text/plain": [
       "Location(Cathair na Gaillimhe, County Galway, Connacht, Éire / Ireland, (53.2744122, -9.0490601, 0.0))"
      ]
     },
     "execution_count": 6,
     "metadata": {},
     "output_type": "execute_result"
    }
   ],
   "source": [
    "geolocator.geocode(\"Galway\")"
   ]
  },
  {
   "cell_type": "code",
   "execution_count": 8,
   "id": "81863cf6",
   "metadata": {},
   "outputs": [
    {
     "data": {
      "text/plain": [
       "Location(Massey University, Coliseum Drive, Albany, Upper Harbour, Auckland, 0632, New Zealand / Aotearoa, (-36.73277025, 174.70289003576602, 0.0))"
      ]
     },
     "execution_count": 8,
     "metadata": {},
     "output_type": "execute_result"
    }
   ],
   "source": [
    "geolocator.geocode(\"Massey University, Auckland\")"
   ]
  },
  {
   "cell_type": "code",
   "execution_count": null,
   "id": "ffbdbc2e",
   "metadata": {},
   "outputs": [],
   "source": []
  }
 ],
 "metadata": {
  "kernelspec": {
   "display_name": "Python 3 (ipykernel)",
   "language": "python",
   "name": "python3"
  },
  "language_info": {
   "codemirror_mode": {
    "name": "ipython",
    "version": 3
   },
   "file_extension": ".py",
   "mimetype": "text/x-python",
   "name": "python",
   "nbconvert_exporter": "python",
   "pygments_lexer": "ipython3",
   "version": "3.9.13"
  },
  "toc": {
   "base_numbering": 1,
   "nav_menu": {},
   "number_sections": true,
   "sideBar": true,
   "skip_h1_title": true,
   "title_cell": "Table of Contents",
   "title_sidebar": "Contents",
   "toc_cell": true,
   "toc_position": {},
   "toc_section_display": true,
   "toc_window_display": false
  },
  "varInspector": {
   "cols": {
    "lenName": 16,
    "lenType": 16,
    "lenVar": 40
   },
   "kernels_config": {
    "python": {
     "delete_cmd_postfix": "",
     "delete_cmd_prefix": "del ",
     "library": "var_list.py",
     "varRefreshCmd": "print(var_dic_list())"
    },
    "r": {
     "delete_cmd_postfix": ") ",
     "delete_cmd_prefix": "rm(",
     "library": "var_list.r",
     "varRefreshCmd": "cat(var_dic_list()) "
    }
   },
   "types_to_exclude": [
    "module",
    "function",
    "builtin_function_or_method",
    "instance",
    "_Feature"
   ],
   "window_display": false
  }
 },
 "nbformat": 4,
 "nbformat_minor": 5
}
